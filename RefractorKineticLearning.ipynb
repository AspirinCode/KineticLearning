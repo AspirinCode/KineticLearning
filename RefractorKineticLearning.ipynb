{
 "cells": [
  {
   "cell_type": "markdown",
   "metadata": {},
   "source": [
    "# A Simplified Version of the Kinetic Learning Algorithm\n",
    "\n",
    "There was a bunch of kruft in the old kinetic learning source code.  I boiled it down into its key components and simplified the data structures.  Now the code is more managable, understandable, and extensible."
   ]
  },
  {
   "cell_type": "code",
   "execution_count": 1,
   "metadata": {},
   "outputs": [],
   "source": [
    "import pandas as pd\n",
    "from IPython.display import display\n",
    "from scipy.signal import savgol_filter\n",
    "import numpy as np\n",
    "from tpot import TPOTRegressor\n",
    "from scipy.interpolate import interp1d"
   ]
  },
  {
   "cell_type": "code",
   "execution_count": 2,
   "metadata": {
    "collapsed": true
   },
   "outputs": [],
   "source": [
    "#Decorators\n",
    "def evenly_space(fun,times):\n",
    "    '''Decorate Functions that require even spacing.'''\n",
    "    \n",
    "    pass"
   ]
  },
  {
   "cell_type": "code",
   "execution_count": 3,
   "metadata": {},
   "outputs": [],
   "source": [
    "def format_dataframe(raw_df,states,controls,impute=True,time='Hour',strain='Strain',augment=None):\n",
    "    '''Put DataFrame into the TSDF format.\n",
    "    \n",
    "    The input csv or dataframe should have a \n",
    "    column for time and ever state and control\n",
    "    variable input for that time. Optional Columns are\n",
    "    \"Replicate\" and \"Strain\".\n",
    "    \n",
    "    '''\n",
    "    \n",
    "    #Remove Unused Columns\n",
    "    raw_df = raw_df[[strain,time] + states+controls]\n",
    "    \n",
    "    #Impute NaN Values using Interpolation\n",
    "    if impute:\n",
    "        raw_df = raw_df.set_index([strain,time])\n",
    "        tsdf = raw_df.groupby(strain).apply(lambda group: group.interpolate())\n",
    "    \n",
    "    #Format Columns to Only Include States and Controls\n",
    "    columns = [('states',state) for state in states] + [('controls',control) for control in controls]\n",
    "    tsdf.columns = pd.MultiIndex.from_tuples(columns)    \n",
    "        \n",
    "    return tsdf\n",
    "\n",
    "def augment_data(tsdf,n=200,strain='Strain',time='Hour'):\n",
    "    '''Augment the time series data for improved fitting.\n",
    "    \n",
    "    The time series data points are interpolated to create\n",
    "    smooth curves for each time series and fill in blank \n",
    "    values.\n",
    "    '''\n",
    "    \n",
    "    def augment(df):\n",
    "        #Find New Times\n",
    "        times = df.index.get_level_values(1)\n",
    "        new_times = np.linspace(min(times),max(times),n)\n",
    "        \n",
    "        #Build New Indecies\n",
    "        strain_name = set(df.index.get_level_values(0))\n",
    "        new_indecies = pd.MultiIndex.from_product([strain_name,new_times])\n",
    "        \n",
    "        #Reindex the Data Frame & Interpolate New Values\n",
    "        df = df.reindex(df.index.union(new_indecies))\n",
    "        df.index.names = [strain,time]\n",
    "        df = df.interpolate()\n",
    "        \n",
    "        #Remove Old Indecies\n",
    "        df.index = df.index.droplevel(0)\n",
    "        times_to_remove = set(times) - (set(times) & set(new_times))\n",
    "        df = df.loc[~df.index.isin(times_to_remove)]\n",
    "        return df\n",
    "            \n",
    "    tsdf = tsdf.groupby(strain).apply(augment)\n",
    "    return tsdf\n",
    "\n",
    "\n",
    "def estimate_state_derivative(tsdf,time='Hour',strain='Strain'):\n",
    "    '''Estimate the Derivative of the State Variables'''\n",
    "    \n",
    "    #Check if a vector is evenly spaced\n",
    "    evenly_spaced = lambda x: max(set(np.diff(x))) - min(set(np.diff(x))) < 10**-5\n",
    "    \n",
    "    #Find the difference between elements of evenly spaced vectors\n",
    "    delta = lambda x: np.diff(x)[0]\n",
    "\n",
    "    #Find Derivative of evenly spaced data using the savgol filter\n",
    "    savgol = lambda x: savgol_filter(x,7,2,deriv=1, delta=delta(x))\n",
    "\n",
    "    def estimate_derivative(tsdf):\n",
    "        state_df = tsdf['states']\n",
    "        times = state_df.index.get_level_values(1)\n",
    "    \n",
    "        if evenly_spaced(times):\n",
    "            state_df = state_df.apply(savgol)      \n",
    "        else:     \n",
    "            state_df = state_df.apply(savgol_uneven)\n",
    "            \n",
    "        #Add Multicolumn\n",
    "        state_df.columns = pd.MultiIndex.from_product([['derivatives'],state_df.columns])\n",
    "\n",
    "        #Merge Derivatives Back\n",
    "        tsdf = pd.merge(tsdf, state_df,left_index=True, right_index=True,how='left')\n",
    "\n",
    "        return tsdf\n",
    "    \n",
    "        \n",
    "    tsdf = tsdf.groupby(strain).apply(estimate_derivative)\n",
    "    return tsdf"
   ]
  },
  {
   "cell_type": "code",
   "execution_count": 4,
   "metadata": {
    "collapsed": true
   },
   "outputs": [],
   "source": [
    "class dynamic_model(object):\n",
    "    '''A MultiOutput Dynamic Model created from TPOT'''\n",
    "    \n",
    "    def __init__(self,tsdf):\n",
    "        self.tsdf = tsdf\n",
    "\n",
    "    \n",
    "    def search(self):\n",
    "        '''Find the best model that fits the data with TPOT.'''\n",
    "        \n",
    "        X = self.tsdf[['states','controls']].values\n",
    "        \n",
    "        def fit_single_output(row):\n",
    "            tpot = TPOTRegressor(generations=2, population_size=5, verbosity=2,n_jobs=1)\n",
    "            fit_model = tpot.fit(X,row).fitted_pipeline_\n",
    "            return fit_model\n",
    "    \n",
    "        self.model_df = self.tsdf['derivatives'].apply(fit_single_output).to_frame()\n",
    "        display(self.model_df)\n",
    "\n",
    "    def fit(self,tsdf):\n",
    "        '''Fit the Dynamical System Model.\n",
    "        \n",
    "        Fit the dynamical system model and\n",
    "        return the map f.\n",
    "        '''\n",
    "        \n",
    "        #update the data frame\n",
    "        self.tsdf = tsdf\n",
    "        X = self.tsdf[['states','controls']].values\n",
    "        \n",
    "        #Fit the dataframe data to existing models\n",
    "        #self.model_df.apply(lambda model: print(model),axis=1)\n",
    "        self.model_df = self.model_df.apply(lambda model: model[0].fit(X,self.tsdf['derivatives'][model.name]),axis=1)\n",
    "    \n",
    "    \n",
    "    def predict(self,X):\n",
    "        '''Return a Prediction'''\n",
    "        y = self.model_df.apply(lambda model: model[0].predict(X),axis=1).values\n",
    "        \n",
    "        return y \n",
    "    \n",
    "    \n",
    "    def fit_report(self):\n",
    "        '''Report the Quality of the Fit in Plots'''\n",
    "        \n",
    "        pass"
   ]
  },
  {
   "cell_type": "code",
   "execution_count": 9,
   "metadata": {
    "collapsed": true
   },
   "outputs": [],
   "source": [
    "def learn_dynamics(df,states,controls,data_augmentation=None):\n",
    "    '''Find system dynamics Time Series Data.\n",
    "    \n",
    "    Take in a Data Frame containing time series data \n",
    "    and use that to find the dynamics x_dot = f(x,u).\n",
    "    '''\n",
    "    \n",
    "    #Clean the data and get dataframe into correct format\n",
    "    tsdf = format_dataframe(df,states,controls)\n",
    "    \n",
    "    #Augment the data using an interpolation scheme\n",
    "    if data_augmentation is not None:\n",
    "        tsdf = augment_data(tsdf,n=data_augmentation)\n",
    "    \n",
    "    #Estimate the Derivative\n",
    "    tsdf = estimate_state_derivative(tsdf)\n",
    "    \n",
    "    #Fit Model\n",
    "    model = dynamic_model(tsdf)\n",
    "    model.search()\n",
    "    \n",
    "    return model\n",
    "\n",
    "\n",
    "def simulate_dynamics(model,strain_df,time_points=None):\n",
    "    '''Use Learned Dynamics to Generate a Simulated Trajectory in the State Space'''\n",
    "    \n",
    "    times = strain_df.index.get_level_values(1)\n",
    "    \n",
    "    #Get Controls as a Function of Time Using Interpolations\n",
    "    u_df = strain_df['controls'].apply(lambda y: interp1d(times,y))\n",
    "    display(u_df)\n",
    "    #Get Initial Conditions from the Strain Data Frame\n",
    "    \n",
    "    \n",
    "    #Solve Differential Equation For Same Time Points\n",
    "    \n",
    "    \n",
    "    #Return DataFrame with Predicted Trajectories\n",
    "    \n",
    "    \n",
    "    return trajectory_df"
   ]
  },
  {
   "cell_type": "code",
   "execution_count": null,
   "metadata": {
    "scrolled": true
   },
   "outputs": [
    {
     "name": "stdout",
     "output_type": "stream",
     "text": [
      "Version 0.9.0 of tpot is outdated. Version 0.9.2 was released Wednesday January 17, 2018.\n",
      "Warning: xgboost.XGBRegressor is not available and will not be used by TPOT.\n"
     ]
    },
    {
     "name": "stderr",
     "output_type": "stream",
     "text": [
      "Optimization Progress:   7%|▋         | 1/15 [00:00<00:05,  2.59pipeline/s]"
     ]
    }
   ],
   "source": [
    "#Import Limonene Data and Format Data Frame\n",
    "limonene_df = pd.read_csv('data/limonene_data.csv')\n",
    "#display(limonene_df)\n",
    "\n",
    "controls = ['AtoB', 'GPPS', 'HMGR', 'HMGS', 'Idi','Limonene Synthase', 'MK', 'PMD', 'PMK']\n",
    "states = ['Acetyl-CoA','HMG-CoA', 'Mevalonate', 'Mev-P', 'IPP/DMAPP', 'Limonene']\n",
    "\n",
    "\n",
    "model = learn_dynamics(limonene_df,states,controls,data_augmentation=200)\n",
    "\n",
    "tsdf = format_dataframe(limonene_df,states,controls)\n",
    "tsdf = augment_data(tsdf)\n",
    "tsdf = estimate_state_derivative(tsdf)\n"
   ]
  },
  {
   "cell_type": "code",
   "execution_count": null,
   "metadata": {},
   "outputs": [],
   "source": [
    "model.predict(tsdf.sample()[['states','controls']].values)"
   ]
  },
  {
   "cell_type": "code",
   "execution_count": null,
   "metadata": {},
   "outputs": [],
   "source": [
    "strain_df = tsdf.loc[tsdf.index.get_level_values(0)=='L1']\n",
    "simulate_dynamics(model,strain_df)"
   ]
  }
 ],
 "metadata": {
  "kernelspec": {
   "display_name": "Python 3",
   "language": "python",
   "name": "python3"
  },
  "language_info": {
   "codemirror_mode": {
    "name": "ipython",
    "version": 3
   },
   "file_extension": ".py",
   "mimetype": "text/x-python",
   "name": "python",
   "nbconvert_exporter": "python",
   "pygments_lexer": "ipython3",
   "version": "3.6.1"
  }
 },
 "nbformat": 4,
 "nbformat_minor": 2
}
