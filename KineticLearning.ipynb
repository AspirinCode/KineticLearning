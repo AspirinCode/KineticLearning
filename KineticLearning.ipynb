{
 "cells": [
  {
   "cell_type": "markdown",
   "metadata": {},
   "source": [
    "# Learning Kinetics from Time Series Data\n",
    "\n",
    "This notebook is an implementation of Kinetic Learning created by Zak Costello."
   ]
  },
  {
   "cell_type": "markdown",
   "metadata": {},
   "source": [
    "## TODO for Publication\n",
    "\n",
    "### Code Functionality:\n",
    "1. Develop a Data Set to simulate the method for testing.\n",
    "    * [X] Trouble Shoot Data Generation Function to figure out why Integration is failing...\n",
    "2. [X] Implement Kinetic Model Prediction + Plot Prediction on Experimental Prediction Plots\n",
    "3. [X] Add RMSE Metrics For Kinetic Model and report\n",
    "\n",
    "### Code Quality:\n",
    "1. [X] Rewrite and Simplify Code.\n",
    "2. [X] Add to Version control.\n",
    "\n",
    "### Paper Writing:\n",
    "\n",
    "1. [X] Normalize Axes On Big Simulated Data Plot\n",
    "\n",
    "3. Update Figures for Each Simulation to Mirror Most Up to Date Version\n",
    "    * [X] Improve Simulated Figures (Add Legend + Make Target more noticable)\n",
    "    * [X] Simulated / Simple\n",
    "    * [X] Simulated / Limonene\n",
    "    * [X] Experimental / Limonene\n",
    "    * [X] Experimental / Isopentenol\n",
    "6. [X] Incorporate Kinetic Model Comparisons into Existing Experimental data set plots (if they are even at all close)\n",
    "\n",
    "7. [X] Make All plots write out files and save all data generated!"
   ]
  },
  {
   "cell_type": "markdown",
   "metadata": {},
   "source": [
    "## Ideas for Future:\n",
    "1. Implement Code in tensor flow (with a better machine learning model...)\n",
    "2. Expand number of pathway models -- show i can learn simulated data for many pathways\n",
    "3. Optimize titer using this method directly inferred from data!"
   ]
  },
  {
   "cell_type": "markdown",
   "metadata": {},
   "source": [
    "# 1. Set Flags For Running Code\n",
    "Four data sets are supported in this code.  Two are simulated, and two are from experimental data. Change the set_num variable below to choose which data set to fit."
   ]
  },
  {
   "cell_type": "code",
   "execution_count": 1,
   "metadata": {
    "collapsed": true
   },
   "outputs": [],
   "source": [
    "#Choose the data set to run\n",
    "data_sets = [('simulated','small'),          #Small Canonical Pathway Model with Feedback Inhibition \n",
    "             ('simulated','limonene'),        #Large Limonene Model Developed Based on the Literature\n",
    "             ('experimental','isopentenol'),  #Experimental Isopentenol Pathway Time Series Data\n",
    "             ('experimental','limonene')]     #Experimental Limonene Pathway Time Series Data\n",
    "\n",
    "set_num = 2"
   ]
  },
  {
   "cell_type": "markdown",
   "metadata": {},
   "source": [
    "The Machine Learning Model is determined by these flags.  The features to use can be automatic or manual and the machine learning model can be chosen. Additionally, the random seed can be set."
   ]
  },
  {
   "cell_type": "code",
   "execution_count": 2,
   "metadata": {
    "collapsed": true
   },
   "outputs": [],
   "source": [
    "feature_selection = 'Automatic'   #Manual or Automatic: Manual has hand selected features, Autmatic uses an algorithm\n",
    "machine_learning_model = 'tpot'   #neural,random_forest(RF)\n",
    "\n",
    "#Set Random Seed for deterministic Execution\n",
    "seed = None #If seed is set then output will be deterministic (And results can be cached for faster execution)\n",
    "\n",
    "#Time Consuming, will be cached for each unique case. (Only Relevant for experimental Limonene Pathway)\n",
    "run_kinetic_model = True #Allows for comparison between ml model and kinetic model performance"
   ]
  },
  {
   "cell_type": "markdown",
   "metadata": {},
   "source": [
    "Variables to Set For Simulated Data Sets (How Many Strains and how many training sets needed"
   ]
  },
  {
   "cell_type": "code",
   "execution_count": 3,
   "metadata": {},
   "outputs": [],
   "source": [
    "#Relevant if Simulated\n",
    "data_type,pathway = data_sets[set_num]\n",
    "if data_sets[set_num][0] == 'simulated':\n",
    "    strain_numbers = [2,10,100]\n",
    "    training_sets = 20 #Change to support a variable number here (I want to shoot for 10...)\n",
    "    \n",
    "    #Strains Needed Calculation\n",
    "    strains_needed = (max(strain_numbers) + 1)*training_sets + 1\n",
    "    print(strains_needed)\n",
    "    \n",
    "    #Calculation of training_size values\n",
    "    train_sizes = []\n",
    "    for strain_number in strain_numbers:\n",
    "        train_size = (strain_number + 1) * training_sets / (strains_needed - 1)\n",
    "        train_sizes.append(train_size)\n",
    "    print(train_sizes)\n",
    "    \n",
    "    print([int((strains_needed-1)*size/training_sets)-1 for size in train_sizes])\n",
    "    #Strains Required\n",
    "\n",
    "    training_strains = strains_needed\n",
    "    test_strains = 200\n",
    "\n",
    "elif data_type == 'experimental':\n",
    "    pass\n",
    "\n",
    "\n",
    "#Plotting Options (If set true more extensive plots are created for troubleshooting purposes)\n",
    "Plot_Data = False"
   ]
  },
  {
   "cell_type": "markdown",
   "metadata": {},
   "source": [
    "# 2. Import Modules & Setup\n",
    "Importing all required modules and helper functions"
   ]
  },
  {
   "cell_type": "code",
   "execution_count": 4,
   "metadata": {
    "collapsed": true
   },
   "outputs": [],
   "source": [
    "%matplotlib inline\n",
    "from plot import *\n",
    "from helper import *\n",
    "from IPython.display import display\n",
    "from sklearn.base import clone\n",
    "import seaborn as sns\n",
    "import matplotlib.pyplot as plt\n",
    "from scipy.integrate import quad\n",
    "from scipy.optimize import differential_evolution\n",
    "import math\n",
    "import sys\n",
    "sys.path.append('/usr/local/lib/python3.5/site-packages')"
   ]
  },
  {
   "cell_type": "markdown",
   "metadata": {},
   "source": [
    "# 3. Load & Format Data into DataFrame"
   ]
  },
  {
   "cell_type": "code",
   "execution_count": 5,
   "metadata": {},
   "outputs": [
    {
     "name": "stderr",
     "output_type": "stream",
     "text": [
      "/Users/zakcostello/anaconda/lib/python3.6/site-packages/ipykernel_launcher.py:109: FutureWarning: convert_objects is deprecated.  Use the data-type specific converters pd.to_datetime, pd.to_timedelta and pd.to_numeric.\n"
     ]
    },
    {
     "data": {
      "text/html": [
       "<div>\n",
       "<style>\n",
       "    .dataframe thead tr:only-child th {\n",
       "        text-align: right;\n",
       "    }\n",
       "\n",
       "    .dataframe thead th {\n",
       "        text-align: left;\n",
       "    }\n",
       "\n",
       "    .dataframe tbody tr th {\n",
       "        vertical-align: top;\n",
       "    }\n",
       "</style>\n",
       "<table border=\"1\" class=\"dataframe\">\n",
       "  <thead>\n",
       "    <tr style=\"text-align: right;\">\n",
       "      <th></th>\n",
       "      <th>Sample Name</th>\n",
       "      <th>Time</th>\n",
       "      <th>Organism</th>\n",
       "      <th>Strain</th>\n",
       "      <th>Replicate</th>\n",
       "      <th>Protein</th>\n",
       "      <th>Protein name</th>\n",
       "      <th>Pathway</th>\n",
       "      <th>Peptide</th>\n",
       "      <th>PeptideArea</th>\n",
       "      <th>...</th>\n",
       "      <th>PeptideCorrectedArea Normalized to BSA</th>\n",
       "      <th>ProteinArea</th>\n",
       "      <th>ProteinArea Normalized to AmpR</th>\n",
       "      <th>ProteinArea Normalized to Cam</th>\n",
       "      <th>ProteinArea Normalized to BSA</th>\n",
       "      <th>PrecursorMz</th>\n",
       "      <th>PrecursorCharge</th>\n",
       "      <th>RetentionTime</th>\n",
       "      <th>Background</th>\n",
       "      <th>PeakRank</th>\n",
       "    </tr>\n",
       "  </thead>\n",
       "  <tbody>\n",
       "    <tr>\n",
       "      <th>0</th>\n",
       "      <td>1</td>\n",
       "      <td>0</td>\n",
       "      <td>Escherichia coli</td>\n",
       "      <td>I1</td>\n",
       "      <td>1</td>\n",
       "      <td>AtoB</td>\n",
       "      <td>NaN</td>\n",
       "      <td>Mevalonate Pathway</td>\n",
       "      <td>LGDGQVYDVILR</td>\n",
       "      <td>4193.0</td>\n",
       "      <td>...</td>\n",
       "      <td>0.013469</td>\n",
       "      <td>3709.5</td>\n",
       "      <td>0.0268</td>\n",
       "      <td>0.0096</td>\n",
       "      <td>0.0119</td>\n",
       "      <td>0</td>\n",
       "      <td>0</td>\n",
       "      <td>0</td>\n",
       "      <td>0</td>\n",
       "      <td>0</td>\n",
       "    </tr>\n",
       "    <tr>\n",
       "      <th>1</th>\n",
       "      <td>1</td>\n",
       "      <td>0</td>\n",
       "      <td>Escherichia coli</td>\n",
       "      <td>I1</td>\n",
       "      <td>1</td>\n",
       "      <td>AtoB</td>\n",
       "      <td>NaN</td>\n",
       "      <td>Mevalonate Pathway</td>\n",
       "      <td>TFVFSQDEFPK</td>\n",
       "      <td>3226.0</td>\n",
       "      <td>...</td>\n",
       "      <td>0.010363</td>\n",
       "      <td>3709.5</td>\n",
       "      <td>0.0268</td>\n",
       "      <td>0.0096</td>\n",
       "      <td>0.0119</td>\n",
       "      <td>0</td>\n",
       "      <td>0</td>\n",
       "      <td>0</td>\n",
       "      <td>0</td>\n",
       "      <td>0</td>\n",
       "    </tr>\n",
       "    <tr>\n",
       "      <th>2</th>\n",
       "      <td>1</td>\n",
       "      <td>0</td>\n",
       "      <td>NaN</td>\n",
       "      <td>I1</td>\n",
       "      <td>1</td>\n",
       "      <td>Bisabolene</td>\n",
       "      <td>NaN</td>\n",
       "      <td>Mevalonate Pathway</td>\n",
       "      <td>ASQLAFPGENILDEAK</td>\n",
       "      <td>2350.0</td>\n",
       "      <td>...</td>\n",
       "      <td>0.007549</td>\n",
       "      <td>2123.0</td>\n",
       "      <td>0.0153</td>\n",
       "      <td>0.0055</td>\n",
       "      <td>0.0068</td>\n",
       "      <td>0</td>\n",
       "      <td>0</td>\n",
       "      <td>0</td>\n",
       "      <td>0</td>\n",
       "      <td>0</td>\n",
       "    </tr>\n",
       "    <tr>\n",
       "      <th>3</th>\n",
       "      <td>1</td>\n",
       "      <td>0</td>\n",
       "      <td>NaN</td>\n",
       "      <td>I1</td>\n",
       "      <td>1</td>\n",
       "      <td>Bisabolene</td>\n",
       "      <td>NaN</td>\n",
       "      <td>Mevalonate Pathway</td>\n",
       "      <td>YNVSPAIFDNFK</td>\n",
       "      <td>1896.0</td>\n",
       "      <td>...</td>\n",
       "      <td>0.006090</td>\n",
       "      <td>2123.0</td>\n",
       "      <td>0.0153</td>\n",
       "      <td>0.0055</td>\n",
       "      <td>0.0068</td>\n",
       "      <td>0</td>\n",
       "      <td>0</td>\n",
       "      <td>0</td>\n",
       "      <td>0</td>\n",
       "      <td>0</td>\n",
       "    </tr>\n",
       "    <tr>\n",
       "      <th>4</th>\n",
       "      <td>1</td>\n",
       "      <td>0</td>\n",
       "      <td>Saccharomyces cerevisiae</td>\n",
       "      <td>I1</td>\n",
       "      <td>1</td>\n",
       "      <td>HMGR</td>\n",
       "      <td>NaN</td>\n",
       "      <td>Mevalonate Pathway</td>\n",
       "      <td>SDVSALVELNIAK</td>\n",
       "      <td>20573.0</td>\n",
       "      <td>...</td>\n",
       "      <td>0.061765</td>\n",
       "      <td>67829.0</td>\n",
       "      <td>0.4895</td>\n",
       "      <td>0.1761</td>\n",
       "      <td>0.2179</td>\n",
       "      <td>0</td>\n",
       "      <td>0</td>\n",
       "      <td>0</td>\n",
       "      <td>1345</td>\n",
       "      <td>0</td>\n",
       "    </tr>\n",
       "    <tr>\n",
       "      <th>5</th>\n",
       "      <td>1</td>\n",
       "      <td>0</td>\n",
       "      <td>Saccharomyces cerevisiae</td>\n",
       "      <td>I1</td>\n",
       "      <td>1</td>\n",
       "      <td>HMGR</td>\n",
       "      <td>NaN</td>\n",
       "      <td>Mevalonate Pathway</td>\n",
       "      <td>SVVAEATIPGDVVR</td>\n",
       "      <td>116430.0</td>\n",
       "      <td>...</td>\n",
       "      <td>0.374001</td>\n",
       "      <td>67829.0</td>\n",
       "      <td>0.4895</td>\n",
       "      <td>0.1761</td>\n",
       "      <td>0.2179</td>\n",
       "      <td>0</td>\n",
       "      <td>0</td>\n",
       "      <td>0</td>\n",
       "      <td>0</td>\n",
       "      <td>0</td>\n",
       "    </tr>\n",
       "    <tr>\n",
       "      <th>6</th>\n",
       "      <td>1</td>\n",
       "      <td>0</td>\n",
       "      <td>Saccharomyces cerevisiae</td>\n",
       "      <td>I1</td>\n",
       "      <td>1</td>\n",
       "      <td>HMGS</td>\n",
       "      <td>NaN</td>\n",
       "      <td>Mevalonate Pathway</td>\n",
       "      <td>GLVSDPAGSDALNVLK</td>\n",
       "      <td>7290.0</td>\n",
       "      <td>...</td>\n",
       "      <td>0.023417</td>\n",
       "      <td>7775.0</td>\n",
       "      <td>0.0561</td>\n",
       "      <td>0.0202</td>\n",
       "      <td>0.0250</td>\n",
       "      <td>0</td>\n",
       "      <td>0</td>\n",
       "      <td>0</td>\n",
       "      <td>0</td>\n",
       "      <td>0</td>\n",
       "    </tr>\n",
       "    <tr>\n",
       "      <th>7</th>\n",
       "      <td>1</td>\n",
       "      <td>0</td>\n",
       "      <td>Saccharomyces cerevisiae</td>\n",
       "      <td>I1</td>\n",
       "      <td>1</td>\n",
       "      <td>HMGS</td>\n",
       "      <td>NaN</td>\n",
       "      <td>Mevalonate Pathway</td>\n",
       "      <td>LEVGTETLIDK</td>\n",
       "      <td>8260.0</td>\n",
       "      <td>...</td>\n",
       "      <td>0.026533</td>\n",
       "      <td>7775.0</td>\n",
       "      <td>0.0561</td>\n",
       "      <td>0.0202</td>\n",
       "      <td>0.0250</td>\n",
       "      <td>0</td>\n",
       "      <td>0</td>\n",
       "      <td>0</td>\n",
       "      <td>0</td>\n",
       "      <td>0</td>\n",
       "    </tr>\n",
       "    <tr>\n",
       "      <th>8</th>\n",
       "      <td>1</td>\n",
       "      <td>0</td>\n",
       "      <td>Escherichia coli</td>\n",
       "      <td>I1</td>\n",
       "      <td>1</td>\n",
       "      <td>Idi</td>\n",
       "      <td>NaN</td>\n",
       "      <td>Mevalonate Pathway</td>\n",
       "      <td>LSAFTQLK</td>\n",
       "      <td>2204.0</td>\n",
       "      <td>...</td>\n",
       "      <td>0.007080</td>\n",
       "      <td>1363.0</td>\n",
       "      <td>0.0098</td>\n",
       "      <td>0.0035</td>\n",
       "      <td>0.0044</td>\n",
       "      <td>0</td>\n",
       "      <td>0</td>\n",
       "      <td>0</td>\n",
       "      <td>0</td>\n",
       "      <td>0</td>\n",
       "    </tr>\n",
       "    <tr>\n",
       "      <th>9</th>\n",
       "      <td>1</td>\n",
       "      <td>0</td>\n",
       "      <td>Escherichia coli</td>\n",
       "      <td>I1</td>\n",
       "      <td>1</td>\n",
       "      <td>Idi</td>\n",
       "      <td>NaN</td>\n",
       "      <td>Mevalonate Pathway</td>\n",
       "      <td>YELGVEITPPESIYPDFR</td>\n",
       "      <td>522.0</td>\n",
       "      <td>...</td>\n",
       "      <td>0.001677</td>\n",
       "      <td>1363.0</td>\n",
       "      <td>0.0098</td>\n",
       "      <td>0.0035</td>\n",
       "      <td>0.0044</td>\n",
       "      <td>0</td>\n",
       "      <td>0</td>\n",
       "      <td>0</td>\n",
       "      <td>0</td>\n",
       "      <td>0</td>\n",
       "    </tr>\n",
       "    <tr>\n",
       "      <th>10</th>\n",
       "      <td>1</td>\n",
       "      <td>0</td>\n",
       "      <td>Escherichia coli</td>\n",
       "      <td>I1</td>\n",
       "      <td>1</td>\n",
       "      <td>IspA</td>\n",
       "      <td>NaN</td>\n",
       "      <td>Mevalonate Pathway</td>\n",
       "      <td>HVPLDALER</td>\n",
       "      <td>12661.0</td>\n",
       "      <td>...</td>\n",
       "      <td>0.040670</td>\n",
       "      <td>10487.0</td>\n",
       "      <td>0.0757</td>\n",
       "      <td>0.0272</td>\n",
       "      <td>0.0337</td>\n",
       "      <td>0</td>\n",
       "      <td>0</td>\n",
       "      <td>0</td>\n",
       "      <td>0</td>\n",
       "      <td>0</td>\n",
       "    </tr>\n",
       "    <tr>\n",
       "      <th>11</th>\n",
       "      <td>1</td>\n",
       "      <td>0</td>\n",
       "      <td>Escherichia coli</td>\n",
       "      <td>I1</td>\n",
       "      <td>1</td>\n",
       "      <td>IspA</td>\n",
       "      <td>NaN</td>\n",
       "      <td>Mevalonate Pathway</td>\n",
       "      <td>STYPALLGLEQAR</td>\n",
       "      <td>8313.0</td>\n",
       "      <td>...</td>\n",
       "      <td>0.026703</td>\n",
       "      <td>10487.0</td>\n",
       "      <td>0.0757</td>\n",
       "      <td>0.0272</td>\n",
       "      <td>0.0337</td>\n",
       "      <td>0</td>\n",
       "      <td>0</td>\n",
       "      <td>0</td>\n",
       "      <td>0</td>\n",
       "      <td>0</td>\n",
       "    </tr>\n",
       "    <tr>\n",
       "      <th>12</th>\n",
       "      <td>1</td>\n",
       "      <td>0</td>\n",
       "      <td>NaN</td>\n",
       "      <td>I1</td>\n",
       "      <td>1</td>\n",
       "      <td>Limonene Synthase</td>\n",
       "      <td>NaN</td>\n",
       "      <td>Mevalonate Pathway</td>\n",
       "      <td>GVNVIPYLR</td>\n",
       "      <td>1194.0</td>\n",
       "      <td>...</td>\n",
       "      <td>0.003835</td>\n",
       "      <td>978.0</td>\n",
       "      <td>0.0071</td>\n",
       "      <td>0.0025</td>\n",
       "      <td>0.0031</td>\n",
       "      <td>0</td>\n",
       "      <td>0</td>\n",
       "      <td>0</td>\n",
       "      <td>0</td>\n",
       "      <td>0</td>\n",
       "    </tr>\n",
       "    <tr>\n",
       "      <th>13</th>\n",
       "      <td>1</td>\n",
       "      <td>0</td>\n",
       "      <td>NaN</td>\n",
       "      <td>I1</td>\n",
       "      <td>1</td>\n",
       "      <td>Limonene Synthase</td>\n",
       "      <td>NaN</td>\n",
       "      <td>Mevalonate Pathway</td>\n",
       "      <td>LADDLGTSVEEVSR</td>\n",
       "      <td>762.0</td>\n",
       "      <td>...</td>\n",
       "      <td>0.002448</td>\n",
       "      <td>978.0</td>\n",
       "      <td>0.0071</td>\n",
       "      <td>0.0025</td>\n",
       "      <td>0.0031</td>\n",
       "      <td>0</td>\n",
       "      <td>0</td>\n",
       "      <td>0</td>\n",
       "      <td>0</td>\n",
       "      <td>0</td>\n",
       "    </tr>\n",
       "    <tr>\n",
       "      <th>14</th>\n",
       "      <td>1</td>\n",
       "      <td>0</td>\n",
       "      <td>Saccharomyces cerevisiae</td>\n",
       "      <td>I1</td>\n",
       "      <td>1</td>\n",
       "      <td>MK</td>\n",
       "      <td>NaN</td>\n",
       "      <td>Mevalonate Pathway</td>\n",
       "      <td>QQIDDLLLPGNTNLPWTS</td>\n",
       "      <td>17328.0</td>\n",
       "      <td>...</td>\n",
       "      <td>0.055662</td>\n",
       "      <td>37907.5</td>\n",
       "      <td>0.2736</td>\n",
       "      <td>0.0984</td>\n",
       "      <td>0.1218</td>\n",
       "      <td>0</td>\n",
       "      <td>0</td>\n",
       "      <td>0</td>\n",
       "      <td>0</td>\n",
       "      <td>0</td>\n",
       "    </tr>\n",
       "    <tr>\n",
       "      <th>15</th>\n",
       "      <td>1</td>\n",
       "      <td>0</td>\n",
       "      <td>Saccharomyces cerevisiae</td>\n",
       "      <td>I1</td>\n",
       "      <td>1</td>\n",
       "      <td>MK</td>\n",
       "      <td>NaN</td>\n",
       "      <td>Mevalonate Pathway</td>\n",
       "      <td>SLVFQLFENK</td>\n",
       "      <td>58487.0</td>\n",
       "      <td>...</td>\n",
       "      <td>0.187874</td>\n",
       "      <td>37907.5</td>\n",
       "      <td>0.2736</td>\n",
       "      <td>0.0984</td>\n",
       "      <td>0.1218</td>\n",
       "      <td>0</td>\n",
       "      <td>0</td>\n",
       "      <td>0</td>\n",
       "      <td>0</td>\n",
       "      <td>0</td>\n",
       "    </tr>\n",
       "    <tr>\n",
       "      <th>16</th>\n",
       "      <td>1</td>\n",
       "      <td>0</td>\n",
       "      <td>Escherichia coli</td>\n",
       "      <td>I1</td>\n",
       "      <td>1</td>\n",
       "      <td>NudB</td>\n",
       "      <td>NaN</td>\n",
       "      <td>Mevalonate Pathway</td>\n",
       "      <td>VLMLQR</td>\n",
       "      <td>51595.0</td>\n",
       "      <td>...</td>\n",
       "      <td>0.165302</td>\n",
       "      <td>45592.5</td>\n",
       "      <td>0.3291</td>\n",
       "      <td>0.1184</td>\n",
       "      <td>0.1465</td>\n",
       "      <td>0</td>\n",
       "      <td>0</td>\n",
       "      <td>0</td>\n",
       "      <td>135</td>\n",
       "      <td>0</td>\n",
       "    </tr>\n",
       "    <tr>\n",
       "      <th>17</th>\n",
       "      <td>1</td>\n",
       "      <td>0</td>\n",
       "      <td>Escherichia coli</td>\n",
       "      <td>I1</td>\n",
       "      <td>1</td>\n",
       "      <td>NudB</td>\n",
       "      <td>NaN</td>\n",
       "      <td>Mevalonate Pathway</td>\n",
       "      <td>WLDAPAAAALTK</td>\n",
       "      <td>39725.0</td>\n",
       "      <td>...</td>\n",
       "      <td>0.127606</td>\n",
       "      <td>45592.5</td>\n",
       "      <td>0.3291</td>\n",
       "      <td>0.1184</td>\n",
       "      <td>0.1465</td>\n",
       "      <td>0</td>\n",
       "      <td>0</td>\n",
       "      <td>0</td>\n",
       "      <td>0</td>\n",
       "      <td>0</td>\n",
       "    </tr>\n",
       "    <tr>\n",
       "      <th>18</th>\n",
       "      <td>1</td>\n",
       "      <td>0</td>\n",
       "      <td>Saccharomyces cerevisiae</td>\n",
       "      <td>I1</td>\n",
       "      <td>1</td>\n",
       "      <td>PMD</td>\n",
       "      <td>NaN</td>\n",
       "      <td>Mevalonate Pathway</td>\n",
       "      <td>DASLPTLSQWK</td>\n",
       "      <td>205098.0</td>\n",
       "      <td>...</td>\n",
       "      <td>0.655808</td>\n",
       "      <td>194542.5</td>\n",
       "      <td>1.4041</td>\n",
       "      <td>0.5050</td>\n",
       "      <td>0.6249</td>\n",
       "      <td>0</td>\n",
       "      <td>0</td>\n",
       "      <td>0</td>\n",
       "      <td>939</td>\n",
       "      <td>0</td>\n",
       "    </tr>\n",
       "    <tr>\n",
       "      <th>19</th>\n",
       "      <td>1</td>\n",
       "      <td>0</td>\n",
       "      <td>Saccharomyces cerevisiae</td>\n",
       "      <td>I1</td>\n",
       "      <td>1</td>\n",
       "      <td>PMD</td>\n",
       "      <td>NaN</td>\n",
       "      <td>Mevalonate Pathway</td>\n",
       "      <td>LYQLPQSTSEISR</td>\n",
       "      <td>184926.0</td>\n",
       "      <td>...</td>\n",
       "      <td>0.594027</td>\n",
       "      <td>194542.5</td>\n",
       "      <td>1.4041</td>\n",
       "      <td>0.5050</td>\n",
       "      <td>0.6249</td>\n",
       "      <td>0</td>\n",
       "      <td>0</td>\n",
       "      <td>0</td>\n",
       "      <td>0</td>\n",
       "      <td>0</td>\n",
       "    </tr>\n",
       "    <tr>\n",
       "      <th>20</th>\n",
       "      <td>1</td>\n",
       "      <td>0</td>\n",
       "      <td>Saccharomyces cerevisiae</td>\n",
       "      <td>I1</td>\n",
       "      <td>1</td>\n",
       "      <td>PMK</td>\n",
       "      <td>NaN</td>\n",
       "      <td>Mevalonate Pathway</td>\n",
       "      <td>VQWLDVTQADWGVR</td>\n",
       "      <td>25239.0</td>\n",
       "      <td>...</td>\n",
       "      <td>0.081074</td>\n",
       "      <td>35904.0</td>\n",
       "      <td>0.2591</td>\n",
       "      <td>0.0932</td>\n",
       "      <td>0.1153</td>\n",
       "      <td>0</td>\n",
       "      <td>0</td>\n",
       "      <td>0</td>\n",
       "      <td>0</td>\n",
       "      <td>0</td>\n",
       "    </tr>\n",
       "    <tr>\n",
       "      <th>21</th>\n",
       "      <td>1</td>\n",
       "      <td>0</td>\n",
       "      <td>Saccharomyces cerevisiae</td>\n",
       "      <td>I1</td>\n",
       "      <td>1</td>\n",
       "      <td>PMK</td>\n",
       "      <td>NaN</td>\n",
       "      <td>Mevalonate Pathway</td>\n",
       "      <td>YEAFVVGLSAR</td>\n",
       "      <td>46569.0</td>\n",
       "      <td>...</td>\n",
       "      <td>0.149591</td>\n",
       "      <td>35904.0</td>\n",
       "      <td>0.2591</td>\n",
       "      <td>0.0932</td>\n",
       "      <td>0.1153</td>\n",
       "      <td>0</td>\n",
       "      <td>0</td>\n",
       "      <td>0</td>\n",
       "      <td>0</td>\n",
       "      <td>0</td>\n",
       "    </tr>\n",
       "    <tr>\n",
       "      <th>22</th>\n",
       "      <td>1</td>\n",
       "      <td>0</td>\n",
       "      <td>Staphylococcus aureus</td>\n",
       "      <td>I1</td>\n",
       "      <td>1</td>\n",
       "      <td>HMGR</td>\n",
       "      <td>NaN</td>\n",
       "      <td>Mevalonate Pathway</td>\n",
       "      <td>IADEAYPSIK</td>\n",
       "      <td>4460.0</td>\n",
       "      <td>...</td>\n",
       "      <td>0.014327</td>\n",
       "      <td>2840.0</td>\n",
       "      <td>0.0205</td>\n",
       "      <td>0.0074</td>\n",
       "      <td>0.0091</td>\n",
       "      <td>0</td>\n",
       "      <td>0</td>\n",
       "      <td>0</td>\n",
       "      <td>0</td>\n",
       "      <td>0</td>\n",
       "    </tr>\n",
       "    <tr>\n",
       "      <th>23</th>\n",
       "      <td>1</td>\n",
       "      <td>0</td>\n",
       "      <td>Staphylococcus aureus</td>\n",
       "      <td>I1</td>\n",
       "      <td>1</td>\n",
       "      <td>HMGR</td>\n",
       "      <td>NaN</td>\n",
       "      <td>Mevalonate Pathway</td>\n",
       "      <td>LIGTIEVPMTLAIVGGGTK</td>\n",
       "      <td>1220.0</td>\n",
       "      <td>...</td>\n",
       "      <td>0.003919</td>\n",
       "      <td>2840.0</td>\n",
       "      <td>0.0205</td>\n",
       "      <td>0.0074</td>\n",
       "      <td>0.0091</td>\n",
       "      <td>0</td>\n",
       "      <td>0</td>\n",
       "      <td>0</td>\n",
       "      <td>0</td>\n",
       "      <td>0</td>\n",
       "    </tr>\n",
       "    <tr>\n",
       "      <th>24</th>\n",
       "      <td>1</td>\n",
       "      <td>0</td>\n",
       "      <td>Staphylococcus aureus</td>\n",
       "      <td>I1</td>\n",
       "      <td>1</td>\n",
       "      <td>HMGS</td>\n",
       "      <td>NaN</td>\n",
       "      <td>Mevalonate Pathway</td>\n",
       "      <td>SGYEDAVDYNR</td>\n",
       "      <td>1209.0</td>\n",
       "      <td>...</td>\n",
       "      <td>0.003884</td>\n",
       "      <td>1046.5</td>\n",
       "      <td>0.0076</td>\n",
       "      <td>0.0027</td>\n",
       "      <td>0.0034</td>\n",
       "      <td>0</td>\n",
       "      <td>0</td>\n",
       "      <td>0</td>\n",
       "      <td>0</td>\n",
       "      <td>0</td>\n",
       "    </tr>\n",
       "    <tr>\n",
       "      <th>25</th>\n",
       "      <td>1</td>\n",
       "      <td>0</td>\n",
       "      <td>Staphylococcus aureus</td>\n",
       "      <td>I1</td>\n",
       "      <td>1</td>\n",
       "      <td>HMGS</td>\n",
       "      <td>NaN</td>\n",
       "      <td>Mevalonate Pathway</td>\n",
       "      <td>VLVIATDTAR</td>\n",
       "      <td>884.0</td>\n",
       "      <td>...</td>\n",
       "      <td>0.002840</td>\n",
       "      <td>1046.5</td>\n",
       "      <td>0.0076</td>\n",
       "      <td>0.0027</td>\n",
       "      <td>0.0034</td>\n",
       "      <td>0</td>\n",
       "      <td>0</td>\n",
       "      <td>0</td>\n",
       "      <td>0</td>\n",
       "      <td>0</td>\n",
       "    </tr>\n",
       "    <tr>\n",
       "      <th>26</th>\n",
       "      <td>1</td>\n",
       "      <td>0</td>\n",
       "      <td>Escherichia coli</td>\n",
       "      <td>I1</td>\n",
       "      <td>1</td>\n",
       "      <td>6PGD</td>\n",
       "      <td>NaN</td>\n",
       "      <td>Pentose Phosphate Pathway</td>\n",
       "      <td>EAYELVAPILTK</td>\n",
       "      <td>358210.0</td>\n",
       "      <td>...</td>\n",
       "      <td>1.149752</td>\n",
       "      <td>308630.0</td>\n",
       "      <td>2.2275</td>\n",
       "      <td>0.8012</td>\n",
       "      <td>0.9914</td>\n",
       "      <td>0</td>\n",
       "      <td>0</td>\n",
       "      <td>0</td>\n",
       "      <td>282</td>\n",
       "      <td>0</td>\n",
       "    </tr>\n",
       "    <tr>\n",
       "      <th>27</th>\n",
       "      <td>1</td>\n",
       "      <td>0</td>\n",
       "      <td>Escherichia coli</td>\n",
       "      <td>I1</td>\n",
       "      <td>1</td>\n",
       "      <td>6PGD</td>\n",
       "      <td>NaN</td>\n",
       "      <td>Pentose Phosphate Pathway</td>\n",
       "      <td>NLALNIESR</td>\n",
       "      <td>259775.0</td>\n",
       "      <td>...</td>\n",
       "      <td>0.833037</td>\n",
       "      <td>308630.0</td>\n",
       "      <td>2.2275</td>\n",
       "      <td>0.8012</td>\n",
       "      <td>0.9914</td>\n",
       "      <td>0</td>\n",
       "      <td>0</td>\n",
       "      <td>0</td>\n",
       "      <td>443</td>\n",
       "      <td>0</td>\n",
       "    </tr>\n",
       "    <tr>\n",
       "      <th>28</th>\n",
       "      <td>1</td>\n",
       "      <td>0</td>\n",
       "      <td>Escherichia coli</td>\n",
       "      <td>I1</td>\n",
       "      <td>1</td>\n",
       "      <td>FRDA</td>\n",
       "      <td>NaN</td>\n",
       "      <td>Mixed Acid</td>\n",
       "      <td>LGSNSLAELVVFGR</td>\n",
       "      <td>24861.0</td>\n",
       "      <td>...</td>\n",
       "      <td>0.079860</td>\n",
       "      <td>24861.0</td>\n",
       "      <td>0.1794</td>\n",
       "      <td>0.0645</td>\n",
       "      <td>0.0799</td>\n",
       "      <td>0</td>\n",
       "      <td>0</td>\n",
       "      <td>0</td>\n",
       "      <td>0</td>\n",
       "      <td>0</td>\n",
       "    </tr>\n",
       "    <tr>\n",
       "      <th>29</th>\n",
       "      <td>1</td>\n",
       "      <td>0</td>\n",
       "      <td>Escherichia coli</td>\n",
       "      <td>I1</td>\n",
       "      <td>1</td>\n",
       "      <td>CAPP</td>\n",
       "      <td>NaN</td>\n",
       "      <td>Mixed Acid</td>\n",
       "      <td>ADLWLAEYYDQR</td>\n",
       "      <td>24722.0</td>\n",
       "      <td>...</td>\n",
       "      <td>0.078083</td>\n",
       "      <td>45400.0</td>\n",
       "      <td>0.3277</td>\n",
       "      <td>0.1179</td>\n",
       "      <td>0.1458</td>\n",
       "      <td>0</td>\n",
       "      <td>0</td>\n",
       "      <td>0</td>\n",
       "      <td>414</td>\n",
       "      <td>0</td>\n",
       "    </tr>\n",
       "    <tr>\n",
       "      <th>...</th>\n",
       "      <td>...</td>\n",
       "      <td>...</td>\n",
       "      <td>...</td>\n",
       "      <td>...</td>\n",
       "      <td>...</td>\n",
       "      <td>...</td>\n",
       "      <td>...</td>\n",
       "      <td>...</td>\n",
       "      <td>...</td>\n",
       "      <td>...</td>\n",
       "      <td>...</td>\n",
       "      <td>...</td>\n",
       "      <td>...</td>\n",
       "      <td>...</td>\n",
       "      <td>...</td>\n",
       "      <td>...</td>\n",
       "      <td>...</td>\n",
       "      <td>...</td>\n",
       "      <td>...</td>\n",
       "      <td>...</td>\n",
       "      <td>...</td>\n",
       "    </tr>\n",
       "    <tr>\n",
       "      <th>4349</th>\n",
       "      <td>29</td>\n",
       "      <td>72</td>\n",
       "      <td>Escherichia coli</td>\n",
       "      <td>I3</td>\n",
       "      <td>29</td>\n",
       "      <td>ACON1</td>\n",
       "      <td>NaN</td>\n",
       "      <td>Tricarboxylic Acid Cycle</td>\n",
       "      <td>VVIAESFER</td>\n",
       "      <td>40979.0</td>\n",
       "      <td>...</td>\n",
       "      <td>0.152840</td>\n",
       "      <td>43951.0</td>\n",
       "      <td>0.3383</td>\n",
       "      <td>0.1276</td>\n",
       "      <td>0.1643</td>\n",
       "      <td>0</td>\n",
       "      <td>0</td>\n",
       "      <td>0</td>\n",
       "      <td>95</td>\n",
       "      <td>0</td>\n",
       "    </tr>\n",
       "    <tr>\n",
       "      <th>4350</th>\n",
       "      <td>29</td>\n",
       "      <td>72</td>\n",
       "      <td>Escherichia coli</td>\n",
       "      <td>I3</td>\n",
       "      <td>29</td>\n",
       "      <td>MAO1</td>\n",
       "      <td>NaN</td>\n",
       "      <td>Misc</td>\n",
       "      <td>AWIQYQGFK</td>\n",
       "      <td>16038.0</td>\n",
       "      <td>...</td>\n",
       "      <td>0.059956</td>\n",
       "      <td>11200.0</td>\n",
       "      <td>0.0862</td>\n",
       "      <td>0.0325</td>\n",
       "      <td>0.0419</td>\n",
       "      <td>0</td>\n",
       "      <td>0</td>\n",
       "      <td>0</td>\n",
       "      <td>0</td>\n",
       "      <td>0</td>\n",
       "    </tr>\n",
       "    <tr>\n",
       "      <th>4351</th>\n",
       "      <td>29</td>\n",
       "      <td>72</td>\n",
       "      <td>Escherichia coli</td>\n",
       "      <td>I3</td>\n",
       "      <td>29</td>\n",
       "      <td>MAO1</td>\n",
       "      <td>NaN</td>\n",
       "      <td>Misc</td>\n",
       "      <td>TSAEALQQAIDDNFWQAEYR</td>\n",
       "      <td>6697.0</td>\n",
       "      <td>...</td>\n",
       "      <td>0.023784</td>\n",
       "      <td>11200.0</td>\n",
       "      <td>0.0862</td>\n",
       "      <td>0.0325</td>\n",
       "      <td>0.0419</td>\n",
       "      <td>0</td>\n",
       "      <td>0</td>\n",
       "      <td>0</td>\n",
       "      <td>335</td>\n",
       "      <td>0</td>\n",
       "    </tr>\n",
       "    <tr>\n",
       "      <th>4352</th>\n",
       "      <td>29</td>\n",
       "      <td>72</td>\n",
       "      <td>Escherichia coli</td>\n",
       "      <td>I3</td>\n",
       "      <td>29</td>\n",
       "      <td>TKT1</td>\n",
       "      <td>NaN</td>\n",
       "      <td>Pentose Phosphate Pathway</td>\n",
       "      <td>ALSMDAVQK</td>\n",
       "      <td>44077.0</td>\n",
       "      <td>...</td>\n",
       "      <td>0.164777</td>\n",
       "      <td>48013.0</td>\n",
       "      <td>0.3695</td>\n",
       "      <td>0.1393</td>\n",
       "      <td>0.1795</td>\n",
       "      <td>0</td>\n",
       "      <td>0</td>\n",
       "      <td>0</td>\n",
       "      <td>0</td>\n",
       "      <td>0</td>\n",
       "    </tr>\n",
       "    <tr>\n",
       "      <th>4353</th>\n",
       "      <td>29</td>\n",
       "      <td>72</td>\n",
       "      <td>Escherichia coli</td>\n",
       "      <td>I3</td>\n",
       "      <td>29</td>\n",
       "      <td>TKT1</td>\n",
       "      <td>NaN</td>\n",
       "      <td>Pentose Phosphate Pathway</td>\n",
       "      <td>TEEQLANIAR</td>\n",
       "      <td>51949.0</td>\n",
       "      <td>...</td>\n",
       "      <td>0.194205</td>\n",
       "      <td>48013.0</td>\n",
       "      <td>0.3695</td>\n",
       "      <td>0.1393</td>\n",
       "      <td>0.1795</td>\n",
       "      <td>0</td>\n",
       "      <td>0</td>\n",
       "      <td>0</td>\n",
       "      <td>0</td>\n",
       "      <td>0</td>\n",
       "    </tr>\n",
       "    <tr>\n",
       "      <th>4354</th>\n",
       "      <td>29</td>\n",
       "      <td>72</td>\n",
       "      <td>Escherichia coli</td>\n",
       "      <td>I3</td>\n",
       "      <td>29</td>\n",
       "      <td>ACSA</td>\n",
       "      <td>NaN</td>\n",
       "      <td>Acetate Cycle</td>\n",
       "      <td>LVITSDEGVR</td>\n",
       "      <td>7927.0</td>\n",
       "      <td>...</td>\n",
       "      <td>0.029634</td>\n",
       "      <td>7927.0</td>\n",
       "      <td>0.0610</td>\n",
       "      <td>0.0230</td>\n",
       "      <td>0.0296</td>\n",
       "      <td>0</td>\n",
       "      <td>0</td>\n",
       "      <td>0</td>\n",
       "      <td>0</td>\n",
       "      <td>0</td>\n",
       "    </tr>\n",
       "    <tr>\n",
       "      <th>4355</th>\n",
       "      <td>29</td>\n",
       "      <td>72</td>\n",
       "      <td>Escherichia coli</td>\n",
       "      <td>I3</td>\n",
       "      <td>29</td>\n",
       "      <td>TKT2</td>\n",
       "      <td>NaN</td>\n",
       "      <td>Pentose Phosphate Pathway</td>\n",
       "      <td>EAILEAQSVK</td>\n",
       "      <td>47808.0</td>\n",
       "      <td>...</td>\n",
       "      <td>0.177469</td>\n",
       "      <td>43674.5</td>\n",
       "      <td>0.3361</td>\n",
       "      <td>0.1268</td>\n",
       "      <td>0.1633</td>\n",
       "      <td>0</td>\n",
       "      <td>0</td>\n",
       "      <td>0</td>\n",
       "      <td>336</td>\n",
       "      <td>0</td>\n",
       "    </tr>\n",
       "    <tr>\n",
       "      <th>4356</th>\n",
       "      <td>29</td>\n",
       "      <td>72</td>\n",
       "      <td>Escherichia coli</td>\n",
       "      <td>I3</td>\n",
       "      <td>29</td>\n",
       "      <td>TKT2</td>\n",
       "      <td>NaN</td>\n",
       "      <td>Pentose Phosphate Pathway</td>\n",
       "      <td>TVIGFGSPNK</td>\n",
       "      <td>39877.0</td>\n",
       "      <td>...</td>\n",
       "      <td>0.149076</td>\n",
       "      <td>43674.5</td>\n",
       "      <td>0.3361</td>\n",
       "      <td>0.1268</td>\n",
       "      <td>0.1633</td>\n",
       "      <td>0</td>\n",
       "      <td>0</td>\n",
       "      <td>0</td>\n",
       "      <td>0</td>\n",
       "      <td>0</td>\n",
       "    </tr>\n",
       "    <tr>\n",
       "      <th>4357</th>\n",
       "      <td>29</td>\n",
       "      <td>72</td>\n",
       "      <td>Escherichia coli</td>\n",
       "      <td>I3</td>\n",
       "      <td>29</td>\n",
       "      <td>MQO</td>\n",
       "      <td>NaN</td>\n",
       "      <td>Tricarboxylic Acid Cycle</td>\n",
       "      <td>FVFIGAGGAALK</td>\n",
       "      <td>7871.0</td>\n",
       "      <td>...</td>\n",
       "      <td>0.029425</td>\n",
       "      <td>542640.0</td>\n",
       "      <td>4.1763</td>\n",
       "      <td>1.5749</td>\n",
       "      <td>2.0286</td>\n",
       "      <td>0</td>\n",
       "      <td>0</td>\n",
       "      <td>0</td>\n",
       "      <td>0</td>\n",
       "      <td>0</td>\n",
       "    </tr>\n",
       "    <tr>\n",
       "      <th>4358</th>\n",
       "      <td>29</td>\n",
       "      <td>72</td>\n",
       "      <td>Escherichia coli</td>\n",
       "      <td>I3</td>\n",
       "      <td>29</td>\n",
       "      <td>MQO</td>\n",
       "      <td>NaN</td>\n",
       "      <td>Tricarboxylic Acid Cycle</td>\n",
       "      <td>LLQESGIPEAK</td>\n",
       "      <td>1077409.0</td>\n",
       "      <td>...</td>\n",
       "      <td>4.027772</td>\n",
       "      <td>542640.0</td>\n",
       "      <td>4.1763</td>\n",
       "      <td>1.5749</td>\n",
       "      <td>2.0286</td>\n",
       "      <td>0</td>\n",
       "      <td>0</td>\n",
       "      <td>0</td>\n",
       "      <td>0</td>\n",
       "      <td>0</td>\n",
       "    </tr>\n",
       "    <tr>\n",
       "      <th>4359</th>\n",
       "      <td>29</td>\n",
       "      <td>72</td>\n",
       "      <td>Escherichia coli</td>\n",
       "      <td>I3</td>\n",
       "      <td>29</td>\n",
       "      <td>ACON2</td>\n",
       "      <td>NaN</td>\n",
       "      <td>Tricarboxylic Acid Cycle</td>\n",
       "      <td>IPLIIGR</td>\n",
       "      <td>249167.0</td>\n",
       "      <td>...</td>\n",
       "      <td>0.924746</td>\n",
       "      <td>199751.0</td>\n",
       "      <td>1.5373</td>\n",
       "      <td>0.5797</td>\n",
       "      <td>0.7467</td>\n",
       "      <td>0</td>\n",
       "      <td>0</td>\n",
       "      <td>0</td>\n",
       "      <td>1802</td>\n",
       "      <td>0</td>\n",
       "    </tr>\n",
       "    <tr>\n",
       "      <th>4360</th>\n",
       "      <td>29</td>\n",
       "      <td>72</td>\n",
       "      <td>Escherichia coli</td>\n",
       "      <td>I3</td>\n",
       "      <td>29</td>\n",
       "      <td>ACON2</td>\n",
       "      <td>NaN</td>\n",
       "      <td>Tricarboxylic Acid Cycle</td>\n",
       "      <td>TDVLIDEVR</td>\n",
       "      <td>153200.0</td>\n",
       "      <td>...</td>\n",
       "      <td>0.568747</td>\n",
       "      <td>199751.0</td>\n",
       "      <td>1.5373</td>\n",
       "      <td>0.5797</td>\n",
       "      <td>0.7467</td>\n",
       "      <td>0</td>\n",
       "      <td>0</td>\n",
       "      <td>0</td>\n",
       "      <td>1063</td>\n",
       "      <td>0</td>\n",
       "    </tr>\n",
       "    <tr>\n",
       "      <th>4361</th>\n",
       "      <td>29</td>\n",
       "      <td>72</td>\n",
       "      <td>Escherichia coli</td>\n",
       "      <td>I3</td>\n",
       "      <td>29</td>\n",
       "      <td>RPIB</td>\n",
       "      <td>NaN</td>\n",
       "      <td>Pentose Phosphate Pathway</td>\n",
       "      <td>VVGLELAK</td>\n",
       "      <td>1991.0</td>\n",
       "      <td>...</td>\n",
       "      <td>0.007443</td>\n",
       "      <td>1991.0</td>\n",
       "      <td>0.0153</td>\n",
       "      <td>0.0058</td>\n",
       "      <td>0.0074</td>\n",
       "      <td>0</td>\n",
       "      <td>0</td>\n",
       "      <td>0</td>\n",
       "      <td>0</td>\n",
       "      <td>0</td>\n",
       "    </tr>\n",
       "    <tr>\n",
       "      <th>4362</th>\n",
       "      <td>29</td>\n",
       "      <td>72</td>\n",
       "      <td>Escherichia coli</td>\n",
       "      <td>I3</td>\n",
       "      <td>29</td>\n",
       "      <td>GPMI</td>\n",
       "      <td>NaN</td>\n",
       "      <td>Glycolysis</td>\n",
       "      <td>AFFANPVLTGAVDK</td>\n",
       "      <td>58976.0</td>\n",
       "      <td>...</td>\n",
       "      <td>0.218617</td>\n",
       "      <td>70911.0</td>\n",
       "      <td>0.5458</td>\n",
       "      <td>0.2058</td>\n",
       "      <td>0.2651</td>\n",
       "      <td>0</td>\n",
       "      <td>0</td>\n",
       "      <td>0</td>\n",
       "      <td>497</td>\n",
       "      <td>0</td>\n",
       "    </tr>\n",
       "    <tr>\n",
       "      <th>4363</th>\n",
       "      <td>29</td>\n",
       "      <td>72</td>\n",
       "      <td>Escherichia coli</td>\n",
       "      <td>I3</td>\n",
       "      <td>29</td>\n",
       "      <td>GPMI</td>\n",
       "      <td>NaN</td>\n",
       "      <td>Glycolysis</td>\n",
       "      <td>ILINSPK</td>\n",
       "      <td>83343.0</td>\n",
       "      <td>...</td>\n",
       "      <td>0.311568</td>\n",
       "      <td>70911.0</td>\n",
       "      <td>0.5458</td>\n",
       "      <td>0.2058</td>\n",
       "      <td>0.2651</td>\n",
       "      <td>0</td>\n",
       "      <td>0</td>\n",
       "      <td>0</td>\n",
       "      <td>0</td>\n",
       "      <td>0</td>\n",
       "    </tr>\n",
       "    <tr>\n",
       "      <th>4364</th>\n",
       "      <td>29</td>\n",
       "      <td>72</td>\n",
       "      <td>Escherichia coli</td>\n",
       "      <td>I3</td>\n",
       "      <td>29</td>\n",
       "      <td>MDH</td>\n",
       "      <td>NaN</td>\n",
       "      <td>Tricarboxylic Acid Cycle</td>\n",
       "      <td>FGLSLVR</td>\n",
       "      <td>363656.0</td>\n",
       "      <td>...</td>\n",
       "      <td>1.352093</td>\n",
       "      <td>382192.5</td>\n",
       "      <td>2.9415</td>\n",
       "      <td>1.1092</td>\n",
       "      <td>1.4288</td>\n",
       "      <td>0</td>\n",
       "      <td>0</td>\n",
       "      <td>0</td>\n",
       "      <td>1978</td>\n",
       "      <td>0</td>\n",
       "    </tr>\n",
       "    <tr>\n",
       "      <th>4365</th>\n",
       "      <td>29</td>\n",
       "      <td>72</td>\n",
       "      <td>Escherichia coli</td>\n",
       "      <td>I3</td>\n",
       "      <td>29</td>\n",
       "      <td>MDH</td>\n",
       "      <td>NaN</td>\n",
       "      <td>Tricarboxylic Acid Cycle</td>\n",
       "      <td>LFGVTTLDIIR</td>\n",
       "      <td>403511.0</td>\n",
       "      <td>...</td>\n",
       "      <td>1.505475</td>\n",
       "      <td>382192.5</td>\n",
       "      <td>2.9415</td>\n",
       "      <td>1.1092</td>\n",
       "      <td>1.4288</td>\n",
       "      <td>0</td>\n",
       "      <td>0</td>\n",
       "      <td>0</td>\n",
       "      <td>804</td>\n",
       "      <td>0</td>\n",
       "    </tr>\n",
       "    <tr>\n",
       "      <th>4366</th>\n",
       "      <td>29</td>\n",
       "      <td>72</td>\n",
       "      <td>Escherichia coli</td>\n",
       "      <td>I3</td>\n",
       "      <td>29</td>\n",
       "      <td>GPMA</td>\n",
       "      <td>NaN</td>\n",
       "      <td>Glycolysis</td>\n",
       "      <td>ELPLTESLALTIDR</td>\n",
       "      <td>223421.0</td>\n",
       "      <td>...</td>\n",
       "      <td>0.835234</td>\n",
       "      <td>185286.5</td>\n",
       "      <td>1.4260</td>\n",
       "      <td>0.5378</td>\n",
       "      <td>0.6927</td>\n",
       "      <td>0</td>\n",
       "      <td>0</td>\n",
       "      <td>0</td>\n",
       "      <td>0</td>\n",
       "      <td>0</td>\n",
       "    </tr>\n",
       "    <tr>\n",
       "      <th>4367</th>\n",
       "      <td>29</td>\n",
       "      <td>72</td>\n",
       "      <td>Escherichia coli</td>\n",
       "      <td>I3</td>\n",
       "      <td>29</td>\n",
       "      <td>GPMA</td>\n",
       "      <td>NaN</td>\n",
       "      <td>Glycolysis</td>\n",
       "      <td>FTGWYDVDLSEK</td>\n",
       "      <td>147815.0</td>\n",
       "      <td>...</td>\n",
       "      <td>0.550111</td>\n",
       "      <td>185286.5</td>\n",
       "      <td>1.4260</td>\n",
       "      <td>0.5378</td>\n",
       "      <td>0.6927</td>\n",
       "      <td>0</td>\n",
       "      <td>0</td>\n",
       "      <td>0</td>\n",
       "      <td>663</td>\n",
       "      <td>0</td>\n",
       "    </tr>\n",
       "    <tr>\n",
       "      <th>4368</th>\n",
       "      <td>29</td>\n",
       "      <td>72</td>\n",
       "      <td>Escherichia coli</td>\n",
       "      <td>I3</td>\n",
       "      <td>29</td>\n",
       "      <td>DHSC</td>\n",
       "      <td>NaN</td>\n",
       "      <td>Tricarboxylic Acid Cycle</td>\n",
       "      <td>ISFVITVVLSLLAGVLVW</td>\n",
       "      <td>1063.0</td>\n",
       "      <td>...</td>\n",
       "      <td>0.003465</td>\n",
       "      <td>927.0</td>\n",
       "      <td>0.0071</td>\n",
       "      <td>0.0027</td>\n",
       "      <td>0.0035</td>\n",
       "      <td>0</td>\n",
       "      <td>0</td>\n",
       "      <td>0</td>\n",
       "      <td>136</td>\n",
       "      <td>0</td>\n",
       "    </tr>\n",
       "    <tr>\n",
       "      <th>4369</th>\n",
       "      <td>29</td>\n",
       "      <td>72</td>\n",
       "      <td>Escherichia coli</td>\n",
       "      <td>I3</td>\n",
       "      <td>29</td>\n",
       "      <td>MAO2</td>\n",
       "      <td>NaN</td>\n",
       "      <td>Misc</td>\n",
       "      <td>GVIYQGR</td>\n",
       "      <td>16609.0</td>\n",
       "      <td>...</td>\n",
       "      <td>0.058659</td>\n",
       "      <td>15509.5</td>\n",
       "      <td>0.1194</td>\n",
       "      <td>0.0450</td>\n",
       "      <td>0.0580</td>\n",
       "      <td>0</td>\n",
       "      <td>0</td>\n",
       "      <td>0</td>\n",
       "      <td>918</td>\n",
       "      <td>0</td>\n",
       "    </tr>\n",
       "    <tr>\n",
       "      <th>4370</th>\n",
       "      <td>29</td>\n",
       "      <td>72</td>\n",
       "      <td>Escherichia coli</td>\n",
       "      <td>I3</td>\n",
       "      <td>29</td>\n",
       "      <td>MAO2</td>\n",
       "      <td>NaN</td>\n",
       "      <td>Misc</td>\n",
       "      <td>NVFGYR</td>\n",
       "      <td>15328.0</td>\n",
       "      <td>...</td>\n",
       "      <td>0.057302</td>\n",
       "      <td>15509.5</td>\n",
       "      <td>0.1194</td>\n",
       "      <td>0.0450</td>\n",
       "      <td>0.0580</td>\n",
       "      <td>0</td>\n",
       "      <td>0</td>\n",
       "      <td>0</td>\n",
       "      <td>0</td>\n",
       "      <td>0</td>\n",
       "    </tr>\n",
       "    <tr>\n",
       "      <th>4371</th>\n",
       "      <td>29</td>\n",
       "      <td>72</td>\n",
       "      <td>Escherichia coli</td>\n",
       "      <td>I3</td>\n",
       "      <td>29</td>\n",
       "      <td>EUTD</td>\n",
       "      <td>NaN</td>\n",
       "      <td>Acetate Cycle</td>\n",
       "      <td>TPPDALEK</td>\n",
       "      <td>5067.0</td>\n",
       "      <td>...</td>\n",
       "      <td>0.018942</td>\n",
       "      <td>5067.0</td>\n",
       "      <td>0.0390</td>\n",
       "      <td>0.0147</td>\n",
       "      <td>0.0189</td>\n",
       "      <td>0</td>\n",
       "      <td>0</td>\n",
       "      <td>0</td>\n",
       "      <td>0</td>\n",
       "      <td>0</td>\n",
       "    </tr>\n",
       "    <tr>\n",
       "      <th>4372</th>\n",
       "      <td>29</td>\n",
       "      <td>72</td>\n",
       "      <td>NaN</td>\n",
       "      <td>I3</td>\n",
       "      <td>29</td>\n",
       "      <td>GPPS</td>\n",
       "      <td>NaN</td>\n",
       "      <td>Mevalonate Pathway</td>\n",
       "      <td>AAPLLGLADYVAFR</td>\n",
       "      <td>860.0</td>\n",
       "      <td>...</td>\n",
       "      <td>0.002355</td>\n",
       "      <td>1659.0</td>\n",
       "      <td>0.0128</td>\n",
       "      <td>0.0048</td>\n",
       "      <td>0.0062</td>\n",
       "      <td>0</td>\n",
       "      <td>0</td>\n",
       "      <td>0</td>\n",
       "      <td>230</td>\n",
       "      <td>0</td>\n",
       "    </tr>\n",
       "    <tr>\n",
       "      <th>4373</th>\n",
       "      <td>29</td>\n",
       "      <td>72</td>\n",
       "      <td>NaN</td>\n",
       "      <td>I3</td>\n",
       "      <td>29</td>\n",
       "      <td>GPPS</td>\n",
       "      <td>NaN</td>\n",
       "      <td>Mevalonate Pathway</td>\n",
       "      <td>EFSDELLNR</td>\n",
       "      <td>2688.0</td>\n",
       "      <td>...</td>\n",
       "      <td>0.010049</td>\n",
       "      <td>1659.0</td>\n",
       "      <td>0.0128</td>\n",
       "      <td>0.0048</td>\n",
       "      <td>0.0062</td>\n",
       "      <td>0</td>\n",
       "      <td>0</td>\n",
       "      <td>0</td>\n",
       "      <td>0</td>\n",
       "      <td>0</td>\n",
       "    </tr>\n",
       "    <tr>\n",
       "      <th>4374</th>\n",
       "      <td>29</td>\n",
       "      <td>72</td>\n",
       "      <td>NaN</td>\n",
       "      <td>I3</td>\n",
       "      <td>29</td>\n",
       "      <td>AMPR</td>\n",
       "      <td>NaN</td>\n",
       "      <td>Antibiotic Marker</td>\n",
       "      <td>SALPAGWFIADK</td>\n",
       "      <td>141096.0</td>\n",
       "      <td>...</td>\n",
       "      <td>0.524380</td>\n",
       "      <td>129933.0</td>\n",
       "      <td>1.0000</td>\n",
       "      <td>0.3771</td>\n",
       "      <td>0.4857</td>\n",
       "      <td>0</td>\n",
       "      <td>0</td>\n",
       "      <td>0</td>\n",
       "      <td>827</td>\n",
       "      <td>0</td>\n",
       "    </tr>\n",
       "    <tr>\n",
       "      <th>4375</th>\n",
       "      <td>29</td>\n",
       "      <td>72</td>\n",
       "      <td>NaN</td>\n",
       "      <td>I3</td>\n",
       "      <td>29</td>\n",
       "      <td>AMPR</td>\n",
       "      <td>NaN</td>\n",
       "      <td>Antibiotic Marker</td>\n",
       "      <td>VGYIELDLNSGK</td>\n",
       "      <td>120160.0</td>\n",
       "      <td>...</td>\n",
       "      <td>0.447100</td>\n",
       "      <td>129933.0</td>\n",
       "      <td>1.0000</td>\n",
       "      <td>0.3771</td>\n",
       "      <td>0.4857</td>\n",
       "      <td>0</td>\n",
       "      <td>0</td>\n",
       "      <td>0</td>\n",
       "      <td>563</td>\n",
       "      <td>0</td>\n",
       "    </tr>\n",
       "    <tr>\n",
       "      <th>4376</th>\n",
       "      <td>29</td>\n",
       "      <td>72</td>\n",
       "      <td>NaN</td>\n",
       "      <td>I3</td>\n",
       "      <td>29</td>\n",
       "      <td>Cam</td>\n",
       "      <td>NaN</td>\n",
       "      <td>Antibiotic Marker</td>\n",
       "      <td>FYPAFIHILAR</td>\n",
       "      <td>409141.0</td>\n",
       "      <td>...</td>\n",
       "      <td>1.528817</td>\n",
       "      <td>344555.5</td>\n",
       "      <td>2.6518</td>\n",
       "      <td>1.0000</td>\n",
       "      <td>1.2881</td>\n",
       "      <td>0</td>\n",
       "      <td>0</td>\n",
       "      <td>0</td>\n",
       "      <td>190</td>\n",
       "      <td>0</td>\n",
       "    </tr>\n",
       "    <tr>\n",
       "      <th>4377</th>\n",
       "      <td>29</td>\n",
       "      <td>72</td>\n",
       "      <td>NaN</td>\n",
       "      <td>I3</td>\n",
       "      <td>29</td>\n",
       "      <td>Cam</td>\n",
       "      <td>NaN</td>\n",
       "      <td>Antibiotic Marker</td>\n",
       "      <td>ITGYTTVDISQWHR</td>\n",
       "      <td>282875.0</td>\n",
       "      <td>...</td>\n",
       "      <td>1.047347</td>\n",
       "      <td>344555.5</td>\n",
       "      <td>2.6518</td>\n",
       "      <td>1.0000</td>\n",
       "      <td>1.2881</td>\n",
       "      <td>0</td>\n",
       "      <td>0</td>\n",
       "      <td>0</td>\n",
       "      <td>2715</td>\n",
       "      <td>0</td>\n",
       "    </tr>\n",
       "    <tr>\n",
       "      <th>4378</th>\n",
       "      <td>29</td>\n",
       "      <td>72</td>\n",
       "      <td>NaN</td>\n",
       "      <td>I3</td>\n",
       "      <td>29</td>\n",
       "      <td>BSA</td>\n",
       "      <td>NaN</td>\n",
       "      <td>Normalization Std.</td>\n",
       "      <td>HLVDEPQNLIK</td>\n",
       "      <td>269303.0</td>\n",
       "      <td>...</td>\n",
       "      <td>1.000000</td>\n",
       "      <td>267495.0</td>\n",
       "      <td>2.0587</td>\n",
       "      <td>0.7763</td>\n",
       "      <td>1.0000</td>\n",
       "      <td>0</td>\n",
       "      <td>0</td>\n",
       "      <td>0</td>\n",
       "      <td>1808</td>\n",
       "      <td>0</td>\n",
       "    </tr>\n",
       "  </tbody>\n",
       "</table>\n",
       "<p>4077 rows × 23 columns</p>\n",
       "</div>"
      ],
      "text/plain": [
       "      Sample Name  Time                  Organism Strain  Replicate  \\\n",
       "0               1     0          Escherichia coli     I1          1   \n",
       "1               1     0          Escherichia coli     I1          1   \n",
       "2               1     0                       NaN     I1          1   \n",
       "3               1     0                       NaN     I1          1   \n",
       "4               1     0  Saccharomyces cerevisiae     I1          1   \n",
       "5               1     0  Saccharomyces cerevisiae     I1          1   \n",
       "6               1     0  Saccharomyces cerevisiae     I1          1   \n",
       "7               1     0  Saccharomyces cerevisiae     I1          1   \n",
       "8               1     0          Escherichia coli     I1          1   \n",
       "9               1     0          Escherichia coli     I1          1   \n",
       "10              1     0          Escherichia coli     I1          1   \n",
       "11              1     0          Escherichia coli     I1          1   \n",
       "12              1     0                       NaN     I1          1   \n",
       "13              1     0                       NaN     I1          1   \n",
       "14              1     0  Saccharomyces cerevisiae     I1          1   \n",
       "15              1     0  Saccharomyces cerevisiae     I1          1   \n",
       "16              1     0          Escherichia coli     I1          1   \n",
       "17              1     0          Escherichia coli     I1          1   \n",
       "18              1     0  Saccharomyces cerevisiae     I1          1   \n",
       "19              1     0  Saccharomyces cerevisiae     I1          1   \n",
       "20              1     0  Saccharomyces cerevisiae     I1          1   \n",
       "21              1     0  Saccharomyces cerevisiae     I1          1   \n",
       "22              1     0     Staphylococcus aureus     I1          1   \n",
       "23              1     0     Staphylococcus aureus     I1          1   \n",
       "24              1     0     Staphylococcus aureus     I1          1   \n",
       "25              1     0     Staphylococcus aureus     I1          1   \n",
       "26              1     0          Escherichia coli     I1          1   \n",
       "27              1     0          Escherichia coli     I1          1   \n",
       "28              1     0          Escherichia coli     I1          1   \n",
       "29              1     0          Escherichia coli     I1          1   \n",
       "...           ...   ...                       ...    ...        ...   \n",
       "4349           29    72          Escherichia coli     I3         29   \n",
       "4350           29    72          Escherichia coli     I3         29   \n",
       "4351           29    72          Escherichia coli     I3         29   \n",
       "4352           29    72          Escherichia coli     I3         29   \n",
       "4353           29    72          Escherichia coli     I3         29   \n",
       "4354           29    72          Escherichia coli     I3         29   \n",
       "4355           29    72          Escherichia coli     I3         29   \n",
       "4356           29    72          Escherichia coli     I3         29   \n",
       "4357           29    72          Escherichia coli     I3         29   \n",
       "4358           29    72          Escherichia coli     I3         29   \n",
       "4359           29    72          Escherichia coli     I3         29   \n",
       "4360           29    72          Escherichia coli     I3         29   \n",
       "4361           29    72          Escherichia coli     I3         29   \n",
       "4362           29    72          Escherichia coli     I3         29   \n",
       "4363           29    72          Escherichia coli     I3         29   \n",
       "4364           29    72          Escherichia coli     I3         29   \n",
       "4365           29    72          Escherichia coli     I3         29   \n",
       "4366           29    72          Escherichia coli     I3         29   \n",
       "4367           29    72          Escherichia coli     I3         29   \n",
       "4368           29    72          Escherichia coli     I3         29   \n",
       "4369           29    72          Escherichia coli     I3         29   \n",
       "4370           29    72          Escherichia coli     I3         29   \n",
       "4371           29    72          Escherichia coli     I3         29   \n",
       "4372           29    72                       NaN     I3         29   \n",
       "4373           29    72                       NaN     I3         29   \n",
       "4374           29    72                       NaN     I3         29   \n",
       "4375           29    72                       NaN     I3         29   \n",
       "4376           29    72                       NaN     I3         29   \n",
       "4377           29    72                       NaN     I3         29   \n",
       "4378           29    72                       NaN     I3         29   \n",
       "\n",
       "                Protein  Protein name                    Pathway  \\\n",
       "0                  AtoB           NaN         Mevalonate Pathway   \n",
       "1                  AtoB           NaN         Mevalonate Pathway   \n",
       "2            Bisabolene           NaN         Mevalonate Pathway   \n",
       "3            Bisabolene           NaN         Mevalonate Pathway   \n",
       "4                  HMGR           NaN         Mevalonate Pathway   \n",
       "5                  HMGR           NaN         Mevalonate Pathway   \n",
       "6                  HMGS           NaN         Mevalonate Pathway   \n",
       "7                  HMGS           NaN         Mevalonate Pathway   \n",
       "8                   Idi           NaN         Mevalonate Pathway   \n",
       "9                   Idi           NaN         Mevalonate Pathway   \n",
       "10                 IspA           NaN         Mevalonate Pathway   \n",
       "11                 IspA           NaN         Mevalonate Pathway   \n",
       "12    Limonene Synthase           NaN         Mevalonate Pathway   \n",
       "13    Limonene Synthase           NaN         Mevalonate Pathway   \n",
       "14                   MK           NaN         Mevalonate Pathway   \n",
       "15                   MK           NaN         Mevalonate Pathway   \n",
       "16                 NudB           NaN         Mevalonate Pathway   \n",
       "17                 NudB           NaN         Mevalonate Pathway   \n",
       "18                  PMD           NaN         Mevalonate Pathway   \n",
       "19                  PMD           NaN         Mevalonate Pathway   \n",
       "20                  PMK           NaN         Mevalonate Pathway   \n",
       "21                  PMK           NaN         Mevalonate Pathway   \n",
       "22                 HMGR           NaN         Mevalonate Pathway   \n",
       "23                 HMGR           NaN         Mevalonate Pathway   \n",
       "24                 HMGS           NaN         Mevalonate Pathway   \n",
       "25                 HMGS           NaN         Mevalonate Pathway   \n",
       "26                 6PGD           NaN  Pentose Phosphate Pathway   \n",
       "27                 6PGD           NaN  Pentose Phosphate Pathway   \n",
       "28                 FRDA           NaN                 Mixed Acid   \n",
       "29                 CAPP           NaN                 Mixed Acid   \n",
       "...                 ...           ...                        ...   \n",
       "4349              ACON1           NaN   Tricarboxylic Acid Cycle   \n",
       "4350               MAO1           NaN                       Misc   \n",
       "4351               MAO1           NaN                       Misc   \n",
       "4352               TKT1           NaN  Pentose Phosphate Pathway   \n",
       "4353               TKT1           NaN  Pentose Phosphate Pathway   \n",
       "4354               ACSA           NaN              Acetate Cycle   \n",
       "4355               TKT2           NaN  Pentose Phosphate Pathway   \n",
       "4356               TKT2           NaN  Pentose Phosphate Pathway   \n",
       "4357                MQO           NaN   Tricarboxylic Acid Cycle   \n",
       "4358                MQO           NaN   Tricarboxylic Acid Cycle   \n",
       "4359              ACON2           NaN   Tricarboxylic Acid Cycle   \n",
       "4360              ACON2           NaN   Tricarboxylic Acid Cycle   \n",
       "4361               RPIB           NaN  Pentose Phosphate Pathway   \n",
       "4362               GPMI           NaN                 Glycolysis   \n",
       "4363               GPMI           NaN                 Glycolysis   \n",
       "4364                MDH           NaN   Tricarboxylic Acid Cycle   \n",
       "4365                MDH           NaN   Tricarboxylic Acid Cycle   \n",
       "4366               GPMA           NaN                 Glycolysis   \n",
       "4367               GPMA           NaN                 Glycolysis   \n",
       "4368               DHSC           NaN   Tricarboxylic Acid Cycle   \n",
       "4369               MAO2           NaN                       Misc   \n",
       "4370               MAO2           NaN                       Misc   \n",
       "4371               EUTD           NaN              Acetate Cycle   \n",
       "4372               GPPS           NaN         Mevalonate Pathway   \n",
       "4373               GPPS           NaN         Mevalonate Pathway   \n",
       "4374               AMPR           NaN          Antibiotic Marker   \n",
       "4375               AMPR           NaN          Antibiotic Marker   \n",
       "4376                Cam           NaN          Antibiotic Marker   \n",
       "4377                Cam           NaN          Antibiotic Marker   \n",
       "4378                BSA           NaN         Normalization Std.   \n",
       "\n",
       "                   Peptide  PeptideArea    ...     \\\n",
       "0             LGDGQVYDVILR       4193.0    ...      \n",
       "1              TFVFSQDEFPK       3226.0    ...      \n",
       "2         ASQLAFPGENILDEAK       2350.0    ...      \n",
       "3             YNVSPAIFDNFK       1896.0    ...      \n",
       "4            SDVSALVELNIAK      20573.0    ...      \n",
       "5           SVVAEATIPGDVVR     116430.0    ...      \n",
       "6         GLVSDPAGSDALNVLK       7290.0    ...      \n",
       "7              LEVGTETLIDK       8260.0    ...      \n",
       "8                 LSAFTQLK       2204.0    ...      \n",
       "9       YELGVEITPPESIYPDFR        522.0    ...      \n",
       "10               HVPLDALER      12661.0    ...      \n",
       "11           STYPALLGLEQAR       8313.0    ...      \n",
       "12               GVNVIPYLR       1194.0    ...      \n",
       "13          LADDLGTSVEEVSR        762.0    ...      \n",
       "14      QQIDDLLLPGNTNLPWTS      17328.0    ...      \n",
       "15              SLVFQLFENK      58487.0    ...      \n",
       "16                  VLMLQR      51595.0    ...      \n",
       "17            WLDAPAAAALTK      39725.0    ...      \n",
       "18             DASLPTLSQWK     205098.0    ...      \n",
       "19           LYQLPQSTSEISR     184926.0    ...      \n",
       "20          VQWLDVTQADWGVR      25239.0    ...      \n",
       "21             YEAFVVGLSAR      46569.0    ...      \n",
       "22              IADEAYPSIK       4460.0    ...      \n",
       "23     LIGTIEVPMTLAIVGGGTK       1220.0    ...      \n",
       "24             SGYEDAVDYNR       1209.0    ...      \n",
       "25              VLVIATDTAR        884.0    ...      \n",
       "26            EAYELVAPILTK     358210.0    ...      \n",
       "27               NLALNIESR     259775.0    ...      \n",
       "28          LGSNSLAELVVFGR      24861.0    ...      \n",
       "29            ADLWLAEYYDQR      24722.0    ...      \n",
       "...                    ...          ...    ...      \n",
       "4349             VVIAESFER      40979.0    ...      \n",
       "4350             AWIQYQGFK      16038.0    ...      \n",
       "4351  TSAEALQQAIDDNFWQAEYR       6697.0    ...      \n",
       "4352             ALSMDAVQK      44077.0    ...      \n",
       "4353            TEEQLANIAR      51949.0    ...      \n",
       "4354            LVITSDEGVR       7927.0    ...      \n",
       "4355            EAILEAQSVK      47808.0    ...      \n",
       "4356            TVIGFGSPNK      39877.0    ...      \n",
       "4357          FVFIGAGGAALK       7871.0    ...      \n",
       "4358           LLQESGIPEAK    1077409.0    ...      \n",
       "4359               IPLIIGR     249167.0    ...      \n",
       "4360             TDVLIDEVR     153200.0    ...      \n",
       "4361              VVGLELAK       1991.0    ...      \n",
       "4362        AFFANPVLTGAVDK      58976.0    ...      \n",
       "4363               ILINSPK      83343.0    ...      \n",
       "4364               FGLSLVR     363656.0    ...      \n",
       "4365           LFGVTTLDIIR     403511.0    ...      \n",
       "4366        ELPLTESLALTIDR     223421.0    ...      \n",
       "4367          FTGWYDVDLSEK     147815.0    ...      \n",
       "4368    ISFVITVVLSLLAGVLVW       1063.0    ...      \n",
       "4369               GVIYQGR      16609.0    ...      \n",
       "4370                NVFGYR      15328.0    ...      \n",
       "4371              TPPDALEK       5067.0    ...      \n",
       "4372        AAPLLGLADYVAFR        860.0    ...      \n",
       "4373             EFSDELLNR       2688.0    ...      \n",
       "4374          SALPAGWFIADK     141096.0    ...      \n",
       "4375          VGYIELDLNSGK     120160.0    ...      \n",
       "4376           FYPAFIHILAR     409141.0    ...      \n",
       "4377        ITGYTTVDISQWHR     282875.0    ...      \n",
       "4378           HLVDEPQNLIK     269303.0    ...      \n",
       "\n",
       "      PeptideCorrectedArea Normalized to BSA  ProteinArea  \\\n",
       "0                                   0.013469       3709.5   \n",
       "1                                   0.010363       3709.5   \n",
       "2                                   0.007549       2123.0   \n",
       "3                                   0.006090       2123.0   \n",
       "4                                   0.061765      67829.0   \n",
       "5                                   0.374001      67829.0   \n",
       "6                                   0.023417       7775.0   \n",
       "7                                   0.026533       7775.0   \n",
       "8                                   0.007080       1363.0   \n",
       "9                                   0.001677       1363.0   \n",
       "10                                  0.040670      10487.0   \n",
       "11                                  0.026703      10487.0   \n",
       "12                                  0.003835        978.0   \n",
       "13                                  0.002448        978.0   \n",
       "14                                  0.055662      37907.5   \n",
       "15                                  0.187874      37907.5   \n",
       "16                                  0.165302      45592.5   \n",
       "17                                  0.127606      45592.5   \n",
       "18                                  0.655808     194542.5   \n",
       "19                                  0.594027     194542.5   \n",
       "20                                  0.081074      35904.0   \n",
       "21                                  0.149591      35904.0   \n",
       "22                                  0.014327       2840.0   \n",
       "23                                  0.003919       2840.0   \n",
       "24                                  0.003884       1046.5   \n",
       "25                                  0.002840       1046.5   \n",
       "26                                  1.149752     308630.0   \n",
       "27                                  0.833037     308630.0   \n",
       "28                                  0.079860      24861.0   \n",
       "29                                  0.078083      45400.0   \n",
       "...                                      ...          ...   \n",
       "4349                                0.152840      43951.0   \n",
       "4350                                0.059956      11200.0   \n",
       "4351                                0.023784      11200.0   \n",
       "4352                                0.164777      48013.0   \n",
       "4353                                0.194205      48013.0   \n",
       "4354                                0.029634       7927.0   \n",
       "4355                                0.177469      43674.5   \n",
       "4356                                0.149076      43674.5   \n",
       "4357                                0.029425     542640.0   \n",
       "4358                                4.027772     542640.0   \n",
       "4359                                0.924746     199751.0   \n",
       "4360                                0.568747     199751.0   \n",
       "4361                                0.007443       1991.0   \n",
       "4362                                0.218617      70911.0   \n",
       "4363                                0.311568      70911.0   \n",
       "4364                                1.352093     382192.5   \n",
       "4365                                1.505475     382192.5   \n",
       "4366                                0.835234     185286.5   \n",
       "4367                                0.550111     185286.5   \n",
       "4368                                0.003465        927.0   \n",
       "4369                                0.058659      15509.5   \n",
       "4370                                0.057302      15509.5   \n",
       "4371                                0.018942       5067.0   \n",
       "4372                                0.002355       1659.0   \n",
       "4373                                0.010049       1659.0   \n",
       "4374                                0.524380     129933.0   \n",
       "4375                                0.447100     129933.0   \n",
       "4376                                1.528817     344555.5   \n",
       "4377                                1.047347     344555.5   \n",
       "4378                                1.000000     267495.0   \n",
       "\n",
       "      ProteinArea Normalized to AmpR  ProteinArea Normalized to Cam  \\\n",
       "0                             0.0268                         0.0096   \n",
       "1                             0.0268                         0.0096   \n",
       "2                             0.0153                         0.0055   \n",
       "3                             0.0153                         0.0055   \n",
       "4                             0.4895                         0.1761   \n",
       "5                             0.4895                         0.1761   \n",
       "6                             0.0561                         0.0202   \n",
       "7                             0.0561                         0.0202   \n",
       "8                             0.0098                         0.0035   \n",
       "9                             0.0098                         0.0035   \n",
       "10                            0.0757                         0.0272   \n",
       "11                            0.0757                         0.0272   \n",
       "12                            0.0071                         0.0025   \n",
       "13                            0.0071                         0.0025   \n",
       "14                            0.2736                         0.0984   \n",
       "15                            0.2736                         0.0984   \n",
       "16                            0.3291                         0.1184   \n",
       "17                            0.3291                         0.1184   \n",
       "18                            1.4041                         0.5050   \n",
       "19                            1.4041                         0.5050   \n",
       "20                            0.2591                         0.0932   \n",
       "21                            0.2591                         0.0932   \n",
       "22                            0.0205                         0.0074   \n",
       "23                            0.0205                         0.0074   \n",
       "24                            0.0076                         0.0027   \n",
       "25                            0.0076                         0.0027   \n",
       "26                            2.2275                         0.8012   \n",
       "27                            2.2275                         0.8012   \n",
       "28                            0.1794                         0.0645   \n",
       "29                            0.3277                         0.1179   \n",
       "...                              ...                            ...   \n",
       "4349                          0.3383                         0.1276   \n",
       "4350                          0.0862                         0.0325   \n",
       "4351                          0.0862                         0.0325   \n",
       "4352                          0.3695                         0.1393   \n",
       "4353                          0.3695                         0.1393   \n",
       "4354                          0.0610                         0.0230   \n",
       "4355                          0.3361                         0.1268   \n",
       "4356                          0.3361                         0.1268   \n",
       "4357                          4.1763                         1.5749   \n",
       "4358                          4.1763                         1.5749   \n",
       "4359                          1.5373                         0.5797   \n",
       "4360                          1.5373                         0.5797   \n",
       "4361                          0.0153                         0.0058   \n",
       "4362                          0.5458                         0.2058   \n",
       "4363                          0.5458                         0.2058   \n",
       "4364                          2.9415                         1.1092   \n",
       "4365                          2.9415                         1.1092   \n",
       "4366                          1.4260                         0.5378   \n",
       "4367                          1.4260                         0.5378   \n",
       "4368                          0.0071                         0.0027   \n",
       "4369                          0.1194                         0.0450   \n",
       "4370                          0.1194                         0.0450   \n",
       "4371                          0.0390                         0.0147   \n",
       "4372                          0.0128                         0.0048   \n",
       "4373                          0.0128                         0.0048   \n",
       "4374                          1.0000                         0.3771   \n",
       "4375                          1.0000                         0.3771   \n",
       "4376                          2.6518                         1.0000   \n",
       "4377                          2.6518                         1.0000   \n",
       "4378                          2.0587                         0.7763   \n",
       "\n",
       "      ProteinArea Normalized to BSA  PrecursorMz  PrecursorCharge  \\\n",
       "0                            0.0119            0                0   \n",
       "1                            0.0119            0                0   \n",
       "2                            0.0068            0                0   \n",
       "3                            0.0068            0                0   \n",
       "4                            0.2179            0                0   \n",
       "5                            0.2179            0                0   \n",
       "6                            0.0250            0                0   \n",
       "7                            0.0250            0                0   \n",
       "8                            0.0044            0                0   \n",
       "9                            0.0044            0                0   \n",
       "10                           0.0337            0                0   \n",
       "11                           0.0337            0                0   \n",
       "12                           0.0031            0                0   \n",
       "13                           0.0031            0                0   \n",
       "14                           0.1218            0                0   \n",
       "15                           0.1218            0                0   \n",
       "16                           0.1465            0                0   \n",
       "17                           0.1465            0                0   \n",
       "18                           0.6249            0                0   \n",
       "19                           0.6249            0                0   \n",
       "20                           0.1153            0                0   \n",
       "21                           0.1153            0                0   \n",
       "22                           0.0091            0                0   \n",
       "23                           0.0091            0                0   \n",
       "24                           0.0034            0                0   \n",
       "25                           0.0034            0                0   \n",
       "26                           0.9914            0                0   \n",
       "27                           0.9914            0                0   \n",
       "28                           0.0799            0                0   \n",
       "29                           0.1458            0                0   \n",
       "...                             ...          ...              ...   \n",
       "4349                         0.1643            0                0   \n",
       "4350                         0.0419            0                0   \n",
       "4351                         0.0419            0                0   \n",
       "4352                         0.1795            0                0   \n",
       "4353                         0.1795            0                0   \n",
       "4354                         0.0296            0                0   \n",
       "4355                         0.1633            0                0   \n",
       "4356                         0.1633            0                0   \n",
       "4357                         2.0286            0                0   \n",
       "4358                         2.0286            0                0   \n",
       "4359                         0.7467            0                0   \n",
       "4360                         0.7467            0                0   \n",
       "4361                         0.0074            0                0   \n",
       "4362                         0.2651            0                0   \n",
       "4363                         0.2651            0                0   \n",
       "4364                         1.4288            0                0   \n",
       "4365                         1.4288            0                0   \n",
       "4366                         0.6927            0                0   \n",
       "4367                         0.6927            0                0   \n",
       "4368                         0.0035            0                0   \n",
       "4369                         0.0580            0                0   \n",
       "4370                         0.0580            0                0   \n",
       "4371                         0.0189            0                0   \n",
       "4372                         0.0062            0                0   \n",
       "4373                         0.0062            0                0   \n",
       "4374                         0.4857            0                0   \n",
       "4375                         0.4857            0                0   \n",
       "4376                         1.2881            0                0   \n",
       "4377                         1.2881            0                0   \n",
       "4378                         1.0000            0                0   \n",
       "\n",
       "      RetentionTime  Background  PeakRank  \n",
       "0                 0           0         0  \n",
       "1                 0           0         0  \n",
       "2                 0           0         0  \n",
       "3                 0           0         0  \n",
       "4                 0        1345         0  \n",
       "5                 0           0         0  \n",
       "6                 0           0         0  \n",
       "7                 0           0         0  \n",
       "8                 0           0         0  \n",
       "9                 0           0         0  \n",
       "10                0           0         0  \n",
       "11                0           0         0  \n",
       "12                0           0         0  \n",
       "13                0           0         0  \n",
       "14                0           0         0  \n",
       "15                0           0         0  \n",
       "16                0         135         0  \n",
       "17                0           0         0  \n",
       "18                0         939         0  \n",
       "19                0           0         0  \n",
       "20                0           0         0  \n",
       "21                0           0         0  \n",
       "22                0           0         0  \n",
       "23                0           0         0  \n",
       "24                0           0         0  \n",
       "25                0           0         0  \n",
       "26                0         282         0  \n",
       "27                0         443         0  \n",
       "28                0           0         0  \n",
       "29                0         414         0  \n",
       "...             ...         ...       ...  \n",
       "4349              0          95         0  \n",
       "4350              0           0         0  \n",
       "4351              0         335         0  \n",
       "4352              0           0         0  \n",
       "4353              0           0         0  \n",
       "4354              0           0         0  \n",
       "4355              0         336         0  \n",
       "4356              0           0         0  \n",
       "4357              0           0         0  \n",
       "4358              0           0         0  \n",
       "4359              0        1802         0  \n",
       "4360              0        1063         0  \n",
       "4361              0           0         0  \n",
       "4362              0         497         0  \n",
       "4363              0           0         0  \n",
       "4364              0        1978         0  \n",
       "4365              0         804         0  \n",
       "4366              0           0         0  \n",
       "4367              0         663         0  \n",
       "4368              0         136         0  \n",
       "4369              0         918         0  \n",
       "4370              0           0         0  \n",
       "4371              0           0         0  \n",
       "4372              0         230         0  \n",
       "4373              0           0         0  \n",
       "4374              0         827         0  \n",
       "4375              0         563         0  \n",
       "4376              0         190         0  \n",
       "4377              0        2715         0  \n",
       "4378              0        1808         0  \n",
       "\n",
       "[4077 rows x 23 columns]"
      ]
     },
     "metadata": {},
     "output_type": "display_data"
    },
    {
     "name": "stdout",
     "output_type": "stream",
     "text": [
      "['Strain', 'Time', 'Protein', 'ProteinArea']\n"
     ]
    },
    {
     "data": {
      "text/html": [
       "<div>\n",
       "<style>\n",
       "    .dataframe thead tr:only-child th {\n",
       "        text-align: right;\n",
       "    }\n",
       "\n",
       "    .dataframe thead th {\n",
       "        text-align: left;\n",
       "    }\n",
       "\n",
       "    .dataframe tbody tr th {\n",
       "        vertical-align: top;\n",
       "    }\n",
       "</style>\n",
       "<table border=\"1\" class=\"dataframe\">\n",
       "  <thead>\n",
       "    <tr style=\"text-align: right;\">\n",
       "      <th></th>\n",
       "      <th></th>\n",
       "      <th>AtoB</th>\n",
       "      <th>HMGR</th>\n",
       "      <th>HMGS</th>\n",
       "      <th>MK</th>\n",
       "      <th>PMD</th>\n",
       "      <th>PMK</th>\n",
       "      <th>Idi</th>\n",
       "      <th>GPPS</th>\n",
       "      <th>Limonene Synthase</th>\n",
       "      <th>NudB</th>\n",
       "      <th>...</th>\n",
       "      <th>Intracellular Mevalonate (uM)</th>\n",
       "      <th>Isopentenol g/L</th>\n",
       "      <th>MEV-P extracellular (uM)</th>\n",
       "      <th>MEVALONATE extracellular (uM)</th>\n",
       "      <th>Mev-P (uM)</th>\n",
       "      <th>NAD (uM)</th>\n",
       "      <th>NADP (uM)</th>\n",
       "      <th>OD600</th>\n",
       "      <th>Pyruvate g/L</th>\n",
       "      <th>citrate (uM)</th>\n",
       "    </tr>\n",
       "    <tr>\n",
       "      <th>Strain</th>\n",
       "      <th>Time</th>\n",
       "      <th></th>\n",
       "      <th></th>\n",
       "      <th></th>\n",
       "      <th></th>\n",
       "      <th></th>\n",
       "      <th></th>\n",
       "      <th></th>\n",
       "      <th></th>\n",
       "      <th></th>\n",
       "      <th></th>\n",
       "      <th></th>\n",
       "      <th></th>\n",
       "      <th></th>\n",
       "      <th></th>\n",
       "      <th></th>\n",
       "      <th></th>\n",
       "      <th></th>\n",
       "      <th></th>\n",
       "      <th></th>\n",
       "      <th></th>\n",
       "      <th></th>\n",
       "    </tr>\n",
       "  </thead>\n",
       "  <tbody>\n",
       "    <tr>\n",
       "      <th rowspan=\"14\" valign=\"top\">I2</th>\n",
       "      <th>0</th>\n",
       "      <td>27275.0</td>\n",
       "      <td>57676.0</td>\n",
       "      <td>52787.0</td>\n",
       "      <td>36011.0</td>\n",
       "      <td>678408.0</td>\n",
       "      <td>23841.0</td>\n",
       "      <td>5489.0</td>\n",
       "      <td>5198.0</td>\n",
       "      <td>2509.0</td>\n",
       "      <td>127761.0</td>\n",
       "      <td>...</td>\n",
       "      <td>0.012539</td>\n",
       "      <td>0.000000</td>\n",
       "      <td>0.000000</td>\n",
       "      <td>0.551610</td>\n",
       "      <td>0.307744</td>\n",
       "      <td>0.295064</td>\n",
       "      <td>0.052145</td>\n",
       "      <td>0.612</td>\n",
       "      <td>0.109700</td>\n",
       "      <td>0.054741</td>\n",
       "    </tr>\n",
       "    <tr>\n",
       "      <th>2</th>\n",
       "      <td>NaN</td>\n",
       "      <td>NaN</td>\n",
       "      <td>NaN</td>\n",
       "      <td>NaN</td>\n",
       "      <td>NaN</td>\n",
       "      <td>NaN</td>\n",
       "      <td>NaN</td>\n",
       "      <td>NaN</td>\n",
       "      <td>NaN</td>\n",
       "      <td>NaN</td>\n",
       "      <td>...</td>\n",
       "      <td>NaN</td>\n",
       "      <td>NaN</td>\n",
       "      <td>NaN</td>\n",
       "      <td>NaN</td>\n",
       "      <td>NaN</td>\n",
       "      <td>NaN</td>\n",
       "      <td>NaN</td>\n",
       "      <td>NaN</td>\n",
       "      <td>0.180035</td>\n",
       "      <td>NaN</td>\n",
       "    </tr>\n",
       "    <tr>\n",
       "      <th>4</th>\n",
       "      <td>6356472.0</td>\n",
       "      <td>425947.0</td>\n",
       "      <td>2656860.0</td>\n",
       "      <td>94519.0</td>\n",
       "      <td>17942304.0</td>\n",
       "      <td>113870.0</td>\n",
       "      <td>3328.0</td>\n",
       "      <td>3315.0</td>\n",
       "      <td>2141.0</td>\n",
       "      <td>7400487.0</td>\n",
       "      <td>...</td>\n",
       "      <td>1.252410</td>\n",
       "      <td>0.031285</td>\n",
       "      <td>0.000000</td>\n",
       "      <td>30.542078</td>\n",
       "      <td>0.623555</td>\n",
       "      <td>1.210413</td>\n",
       "      <td>0.159130</td>\n",
       "      <td>2.212</td>\n",
       "      <td>0.002888</td>\n",
       "      <td>0.068927</td>\n",
       "    </tr>\n",
       "    <tr>\n",
       "      <th>6</th>\n",
       "      <td>NaN</td>\n",
       "      <td>NaN</td>\n",
       "      <td>NaN</td>\n",
       "      <td>NaN</td>\n",
       "      <td>NaN</td>\n",
       "      <td>NaN</td>\n",
       "      <td>NaN</td>\n",
       "      <td>NaN</td>\n",
       "      <td>NaN</td>\n",
       "      <td>NaN</td>\n",
       "      <td>...</td>\n",
       "      <td>NaN</td>\n",
       "      <td>NaN</td>\n",
       "      <td>0.784432</td>\n",
       "      <td>55.246449</td>\n",
       "      <td>NaN</td>\n",
       "      <td>NaN</td>\n",
       "      <td>NaN</td>\n",
       "      <td>NaN</td>\n",
       "      <td>0.002659</td>\n",
       "      <td>NaN</td>\n",
       "    </tr>\n",
       "    <tr>\n",
       "      <th>8</th>\n",
       "      <td>7570699.0</td>\n",
       "      <td>556435.0</td>\n",
       "      <td>3188444.0</td>\n",
       "      <td>117660.0</td>\n",
       "      <td>21800000.0</td>\n",
       "      <td>146750.0</td>\n",
       "      <td>4686.0</td>\n",
       "      <td>4067.0</td>\n",
       "      <td>3479.0</td>\n",
       "      <td>10848951.0</td>\n",
       "      <td>...</td>\n",
       "      <td>2.758794</td>\n",
       "      <td>0.101174</td>\n",
       "      <td>0.830173</td>\n",
       "      <td>108.555263</td>\n",
       "      <td>0.869716</td>\n",
       "      <td>NaN</td>\n",
       "      <td>NaN</td>\n",
       "      <td>2.932</td>\n",
       "      <td>0.001775</td>\n",
       "      <td>0.109409</td>\n",
       "    </tr>\n",
       "    <tr>\n",
       "      <th>10</th>\n",
       "      <td>NaN</td>\n",
       "      <td>NaN</td>\n",
       "      <td>NaN</td>\n",
       "      <td>NaN</td>\n",
       "      <td>NaN</td>\n",
       "      <td>NaN</td>\n",
       "      <td>NaN</td>\n",
       "      <td>NaN</td>\n",
       "      <td>NaN</td>\n",
       "      <td>NaN</td>\n",
       "      <td>...</td>\n",
       "      <td>NaN</td>\n",
       "      <td>NaN</td>\n",
       "      <td>0.980867</td>\n",
       "      <td>152.478577</td>\n",
       "      <td>NaN</td>\n",
       "      <td>NaN</td>\n",
       "      <td>NaN</td>\n",
       "      <td>NaN</td>\n",
       "      <td>0.001488</td>\n",
       "      <td>NaN</td>\n",
       "    </tr>\n",
       "    <tr>\n",
       "      <th>12</th>\n",
       "      <td>8125184.0</td>\n",
       "      <td>533713.0</td>\n",
       "      <td>3566712.0</td>\n",
       "      <td>163812.0</td>\n",
       "      <td>22200000.0</td>\n",
       "      <td>164444.0</td>\n",
       "      <td>6335.0</td>\n",
       "      <td>4265.0</td>\n",
       "      <td>1748.0</td>\n",
       "      <td>13427844.0</td>\n",
       "      <td>...</td>\n",
       "      <td>3.675134</td>\n",
       "      <td>0.184602</td>\n",
       "      <td>1.527914</td>\n",
       "      <td>194.827932</td>\n",
       "      <td>1.283674</td>\n",
       "      <td>1.871281</td>\n",
       "      <td>0.247255</td>\n",
       "      <td>3.492</td>\n",
       "      <td>0.000317</td>\n",
       "      <td>0.143540</td>\n",
       "    </tr>\n",
       "    <tr>\n",
       "      <th>16</th>\n",
       "      <td>NaN</td>\n",
       "      <td>NaN</td>\n",
       "      <td>NaN</td>\n",
       "      <td>NaN</td>\n",
       "      <td>NaN</td>\n",
       "      <td>NaN</td>\n",
       "      <td>NaN</td>\n",
       "      <td>NaN</td>\n",
       "      <td>NaN</td>\n",
       "      <td>NaN</td>\n",
       "      <td>...</td>\n",
       "      <td>NaN</td>\n",
       "      <td>NaN</td>\n",
       "      <td>2.194438</td>\n",
       "      <td>234.369999</td>\n",
       "      <td>NaN</td>\n",
       "      <td>NaN</td>\n",
       "      <td>NaN</td>\n",
       "      <td>NaN</td>\n",
       "      <td>0.000000</td>\n",
       "      <td>NaN</td>\n",
       "    </tr>\n",
       "    <tr>\n",
       "      <th>18</th>\n",
       "      <td>7235323.0</td>\n",
       "      <td>303509.0</td>\n",
       "      <td>3435902.0</td>\n",
       "      <td>178212.0</td>\n",
       "      <td>20000000.0</td>\n",
       "      <td>187277.0</td>\n",
       "      <td>6268.0</td>\n",
       "      <td>4169.0</td>\n",
       "      <td>2228.0</td>\n",
       "      <td>12142854.0</td>\n",
       "      <td>...</td>\n",
       "      <td>4.221687</td>\n",
       "      <td>0.473839</td>\n",
       "      <td>2.548599</td>\n",
       "      <td>239.758025</td>\n",
       "      <td>1.908672</td>\n",
       "      <td>2.012239</td>\n",
       "      <td>0.308033</td>\n",
       "      <td>3.643</td>\n",
       "      <td>0.000000</td>\n",
       "      <td>0.271480</td>\n",
       "    </tr>\n",
       "    <tr>\n",
       "      <th>20</th>\n",
       "      <td>NaN</td>\n",
       "      <td>NaN</td>\n",
       "      <td>NaN</td>\n",
       "      <td>NaN</td>\n",
       "      <td>NaN</td>\n",
       "      <td>NaN</td>\n",
       "      <td>NaN</td>\n",
       "      <td>NaN</td>\n",
       "      <td>NaN</td>\n",
       "      <td>NaN</td>\n",
       "      <td>...</td>\n",
       "      <td>NaN</td>\n",
       "      <td>NaN</td>\n",
       "      <td>2.837504</td>\n",
       "      <td>253.626738</td>\n",
       "      <td>NaN</td>\n",
       "      <td>NaN</td>\n",
       "      <td>NaN</td>\n",
       "      <td>NaN</td>\n",
       "      <td>0.000000</td>\n",
       "      <td>NaN</td>\n",
       "    </tr>\n",
       "    <tr>\n",
       "      <th>24</th>\n",
       "      <td>9222170.0</td>\n",
       "      <td>285957.0</td>\n",
       "      <td>4248609.0</td>\n",
       "      <td>235162.0</td>\n",
       "      <td>22000000.0</td>\n",
       "      <td>197678.0</td>\n",
       "      <td>6271.0</td>\n",
       "      <td>3561.0</td>\n",
       "      <td>2869.0</td>\n",
       "      <td>14627487.0</td>\n",
       "      <td>...</td>\n",
       "      <td>4.182627</td>\n",
       "      <td>0.728283</td>\n",
       "      <td>3.096032</td>\n",
       "      <td>278.882087</td>\n",
       "      <td>1.601773</td>\n",
       "      <td>2.223868</td>\n",
       "      <td>0.302359</td>\n",
       "      <td>3.838</td>\n",
       "      <td>0.000000</td>\n",
       "      <td>0.326388</td>\n",
       "    </tr>\n",
       "    <tr>\n",
       "      <th>36</th>\n",
       "      <td>8506980.0</td>\n",
       "      <td>249896.0</td>\n",
       "      <td>4049213.0</td>\n",
       "      <td>236821.0</td>\n",
       "      <td>20600000.0</td>\n",
       "      <td>190427.0</td>\n",
       "      <td>6969.0</td>\n",
       "      <td>1844.0</td>\n",
       "      <td>1487.0</td>\n",
       "      <td>14219619.0</td>\n",
       "      <td>...</td>\n",
       "      <td>4.169874</td>\n",
       "      <td>1.036198</td>\n",
       "      <td>4.733957</td>\n",
       "      <td>291.481146</td>\n",
       "      <td>0.648013</td>\n",
       "      <td>NaN</td>\n",
       "      <td>NaN</td>\n",
       "      <td>3.365</td>\n",
       "      <td>0.000000</td>\n",
       "      <td>NaN</td>\n",
       "    </tr>\n",
       "    <tr>\n",
       "      <th>48</th>\n",
       "      <td>9743705.0</td>\n",
       "      <td>291195.0</td>\n",
       "      <td>5003631.0</td>\n",
       "      <td>325334.0</td>\n",
       "      <td>25200000.0</td>\n",
       "      <td>201404.0</td>\n",
       "      <td>7431.0</td>\n",
       "      <td>6425.0</td>\n",
       "      <td>3728.0</td>\n",
       "      <td>17458768.0</td>\n",
       "      <td>...</td>\n",
       "      <td>3.914136</td>\n",
       "      <td>1.116718</td>\n",
       "      <td>4.893260</td>\n",
       "      <td>269.790763</td>\n",
       "      <td>0.763137</td>\n",
       "      <td>2.078671</td>\n",
       "      <td>0.253961</td>\n",
       "      <td>3.365</td>\n",
       "      <td>0.000000</td>\n",
       "      <td>0.576725</td>\n",
       "    </tr>\n",
       "    <tr>\n",
       "      <th>72</th>\n",
       "      <td>10122404.0</td>\n",
       "      <td>304540.0</td>\n",
       "      <td>5580503.0</td>\n",
       "      <td>307217.0</td>\n",
       "      <td>26200000.0</td>\n",
       "      <td>196181.0</td>\n",
       "      <td>7587.0</td>\n",
       "      <td>2654.0</td>\n",
       "      <td>1082.0</td>\n",
       "      <td>18159070.0</td>\n",
       "      <td>...</td>\n",
       "      <td>4.226167</td>\n",
       "      <td>1.136421</td>\n",
       "      <td>4.956483</td>\n",
       "      <td>260.915082</td>\n",
       "      <td>1.105772</td>\n",
       "      <td>NaN</td>\n",
       "      <td>NaN</td>\n",
       "      <td>3.160</td>\n",
       "      <td>0.000000</td>\n",
       "      <td>NaN</td>\n",
       "    </tr>\n",
       "  </tbody>\n",
       "</table>\n",
       "<p>14 rows × 32 columns</p>\n",
       "</div>"
      ],
      "text/plain": [
       "                   AtoB      HMGR       HMGS        MK         PMD       PMK  \\\n",
       "Strain Time                                                                    \n",
       "I2     0        27275.0   57676.0    52787.0   36011.0    678408.0   23841.0   \n",
       "       2            NaN       NaN        NaN       NaN         NaN       NaN   \n",
       "       4      6356472.0  425947.0  2656860.0   94519.0  17942304.0  113870.0   \n",
       "       6            NaN       NaN        NaN       NaN         NaN       NaN   \n",
       "       8      7570699.0  556435.0  3188444.0  117660.0  21800000.0  146750.0   \n",
       "       10           NaN       NaN        NaN       NaN         NaN       NaN   \n",
       "       12     8125184.0  533713.0  3566712.0  163812.0  22200000.0  164444.0   \n",
       "       16           NaN       NaN        NaN       NaN         NaN       NaN   \n",
       "       18     7235323.0  303509.0  3435902.0  178212.0  20000000.0  187277.0   \n",
       "       20           NaN       NaN        NaN       NaN         NaN       NaN   \n",
       "       24     9222170.0  285957.0  4248609.0  235162.0  22000000.0  197678.0   \n",
       "       36     8506980.0  249896.0  4049213.0  236821.0  20600000.0  190427.0   \n",
       "       48     9743705.0  291195.0  5003631.0  325334.0  25200000.0  201404.0   \n",
       "       72    10122404.0  304540.0  5580503.0  307217.0  26200000.0  196181.0   \n",
       "\n",
       "                Idi    GPPS  Limonene Synthase        NudB      ...       \\\n",
       "Strain Time                                                     ...        \n",
       "I2     0     5489.0  5198.0             2509.0    127761.0      ...        \n",
       "       2        NaN     NaN                NaN         NaN      ...        \n",
       "       4     3328.0  3315.0             2141.0   7400487.0      ...        \n",
       "       6        NaN     NaN                NaN         NaN      ...        \n",
       "       8     4686.0  4067.0             3479.0  10848951.0      ...        \n",
       "       10       NaN     NaN                NaN         NaN      ...        \n",
       "       12    6335.0  4265.0             1748.0  13427844.0      ...        \n",
       "       16       NaN     NaN                NaN         NaN      ...        \n",
       "       18    6268.0  4169.0             2228.0  12142854.0      ...        \n",
       "       20       NaN     NaN                NaN         NaN      ...        \n",
       "       24    6271.0  3561.0             2869.0  14627487.0      ...        \n",
       "       36    6969.0  1844.0             1487.0  14219619.0      ...        \n",
       "       48    7431.0  6425.0             3728.0  17458768.0      ...        \n",
       "       72    7587.0  2654.0             1082.0  18159070.0      ...        \n",
       "\n",
       "             Intracellular Mevalonate (uM)  Isopentenol g/L  \\\n",
       "Strain Time                                                   \n",
       "I2     0                          0.012539         0.000000   \n",
       "       2                               NaN              NaN   \n",
       "       4                          1.252410         0.031285   \n",
       "       6                               NaN              NaN   \n",
       "       8                          2.758794         0.101174   \n",
       "       10                              NaN              NaN   \n",
       "       12                         3.675134         0.184602   \n",
       "       16                              NaN              NaN   \n",
       "       18                         4.221687         0.473839   \n",
       "       20                              NaN              NaN   \n",
       "       24                         4.182627         0.728283   \n",
       "       36                         4.169874         1.036198   \n",
       "       48                         3.914136         1.116718   \n",
       "       72                         4.226167         1.136421   \n",
       "\n",
       "             MEV-P extracellular (uM)  MEVALONATE extracellular (uM)  \\\n",
       "Strain Time                                                            \n",
       "I2     0                     0.000000                       0.551610   \n",
       "       2                          NaN                            NaN   \n",
       "       4                     0.000000                      30.542078   \n",
       "       6                     0.784432                      55.246449   \n",
       "       8                     0.830173                     108.555263   \n",
       "       10                    0.980867                     152.478577   \n",
       "       12                    1.527914                     194.827932   \n",
       "       16                    2.194438                     234.369999   \n",
       "       18                    2.548599                     239.758025   \n",
       "       20                    2.837504                     253.626738   \n",
       "       24                    3.096032                     278.882087   \n",
       "       36                    4.733957                     291.481146   \n",
       "       48                    4.893260                     269.790763   \n",
       "       72                    4.956483                     260.915082   \n",
       "\n",
       "             Mev-P (uM)  NAD (uM)  NADP (uM)  OD600  Pyruvate g/L  \\\n",
       "Strain Time                                                         \n",
       "I2     0       0.307744  0.295064   0.052145  0.612      0.109700   \n",
       "       2            NaN       NaN        NaN    NaN      0.180035   \n",
       "       4       0.623555  1.210413   0.159130  2.212      0.002888   \n",
       "       6            NaN       NaN        NaN    NaN      0.002659   \n",
       "       8       0.869716       NaN        NaN  2.932      0.001775   \n",
       "       10           NaN       NaN        NaN    NaN      0.001488   \n",
       "       12      1.283674  1.871281   0.247255  3.492      0.000317   \n",
       "       16           NaN       NaN        NaN    NaN      0.000000   \n",
       "       18      1.908672  2.012239   0.308033  3.643      0.000000   \n",
       "       20           NaN       NaN        NaN    NaN      0.000000   \n",
       "       24      1.601773  2.223868   0.302359  3.838      0.000000   \n",
       "       36      0.648013       NaN        NaN  3.365      0.000000   \n",
       "       48      0.763137  2.078671   0.253961  3.365      0.000000   \n",
       "       72      1.105772       NaN        NaN  3.160      0.000000   \n",
       "\n",
       "             citrate (uM)  \n",
       "Strain Time                \n",
       "I2     0         0.054741  \n",
       "       2              NaN  \n",
       "       4         0.068927  \n",
       "       6              NaN  \n",
       "       8         0.109409  \n",
       "       10             NaN  \n",
       "       12        0.143540  \n",
       "       16             NaN  \n",
       "       18        0.271480  \n",
       "       20             NaN  \n",
       "       24        0.326388  \n",
       "       36             NaN  \n",
       "       48        0.576725  \n",
       "       72             NaN  \n",
       "\n",
       "[14 rows x 32 columns]"
      ]
     },
     "metadata": {},
     "output_type": "display_data"
    },
    {
     "name": "stderr",
     "output_type": "stream",
     "text": [
      "/Users/zakcostello/anaconda/lib/python3.6/site-packages/scipy/linalg/basic.py:1018: RuntimeWarning: internal gelsd driver lwork query error, required iwork dimension not returned. This is likely the result of LAPACK bug 0038, fixed in LAPACK 3.2.2 (released July 21, 2010). Falling back to 'gelss' driver.\n",
      "  warnings.warn(mesg, RuntimeWarning)\n"
     ]
    },
    {
     "name": "stdout",
     "output_type": "stream",
     "text": [
      "Total Time Series in Data Set:  2\n"
     ]
    }
   ],
   "source": [
    "if data_type == 'simulated':\n",
    "    if pathway == 'limonene':\n",
    "        file_name = 'data/Fulld10000n0.csv'\n",
    "        y0 = [1e-5]*10\n",
    "        timeKey = 'Time'\n",
    "        df = pd.read_csv(file_name)\n",
    "        df = df.pivot_table(df,index=['Strain','Time'],aggfunc=np.sum)\n",
    "\n",
    "        strains = df.index.get_level_values(0).unique()\n",
    "        sample = random.sample(list(strains),training_strains+test_strains)\n",
    "\n",
    "        #create test df\n",
    "        test_df = df.loc[(sample[0:test_strains],slice(None))]\n",
    "\n",
    "        #create the training df\n",
    "        df = df.loc[(sample[test_strains:],slice(None))]\n",
    "\n",
    "        features = ['AtoB','HMGR','HMGS','MK','PMK','PMD','Idi','GPPS','LS']\n",
    "        targets=['Acetyl-CoA','Acetoacetyl-CoA','HMG-CoA','Mev','MevP','MevPP','IPP','DMAPP','GPP','Limonene']\n",
    "        specific_features = {'Acetyl-CoA':      ['AtoB','Acetyl-CoA','Acetoacetyl-CoA','HMGR'],\n",
    "                             'Acetoacetyl-CoA': ['AtoB','Acetyl-CoA','Acetoacetyl-CoA','HMGR','HMG-CoA'],\n",
    "                             'HMG-CoA':         ['Acetyl-CoA','Acetoacetyl-CoA','HMGR','HMGS','HMG-CoA'],\n",
    "                             'Mev':             ['Acetyl-CoA','Acetoacetyl-CoA','HMGS','HMG-CoA','MK','Mev','GPP','MevP'],\n",
    "                             'MevP':            ['MK','Mev','GPP','MevP','PMK'],\n",
    "                             'MevPP':           ['PMK','MevP','PMD','MevPP','Mev'],\n",
    "                             'IPP':             ['PMD','MevPP','MevP','Mev','Idi','IPP','GPPS','DMAPP'],\n",
    "                             'DMAPP':           ['Idi','IPP','GPPS','DMAPP'],\n",
    "                             'GPP':             ['GPPS','IPP','DMAPP','GPP','LS'],\n",
    "                             'Limonene':        ['LS','GPP']}\n",
    "\n",
    "        tsdf = generateTSDataSet(df,features,targets)\n",
    "\n",
    "    elif pathway=='small':\n",
    "        file_name = 'data/SmallKineticsd30000n0.csv'\n",
    "        y0 = [0.2]*3\n",
    "        timeKey = 'Time'\n",
    "        df = pd.read_csv(file_name)\n",
    "        df = df.pivot_table(df,index=['Strain','Time'],aggfunc=np.sum)\n",
    "\n",
    "        strains = df.index.get_level_values(0).unique()\n",
    "        sample = random.sample(list(strains),training_strains+test_strains)\n",
    "\n",
    "        #create test df\n",
    "        test_df = df.loc[(sample[0:test_strains],slice(None))]\n",
    "\n",
    "        #create the training df\n",
    "        df = df.loc[(sample[test_strains:],slice(None))]\n",
    "\n",
    "        features = ['e0','e1']\n",
    "        targets=['s0','s1','s2']\n",
    "        specific_features = {'s0': ['e0','e1','s0','s1','s2'],\n",
    "                             's1': ['e0','e1','s0','s1','s2'],\n",
    "                             's2': ['e0','e1','s0','s1','s2']}\n",
    "\n",
    "        tsdf = generateTSDataSet(df,features,targets)        \n",
    "    \n",
    "elif data_type == 'experimental':\n",
    "    if pathway == 'limonene':\n",
    "        #Parameters that Can Be Set:\n",
    "        strains = ['L1','L2','L3']\n",
    "        training_strains = ['L1','L3']\n",
    "        test_strains = ['L2']\n",
    "\n",
    "        #Define Machine Learning Targets & Features To Use\n",
    "\n",
    "        targets = ['Acetyl-CoA (uM)','HMG-CoA (uM)','Intracellular Mevalonate (uM)','Mev-P (uM)','IPP/DMAPP (uM)','Limonene g/L']\n",
    "        features = ['OD600','ATP (uM)','AtoB','Limonene Synthase','HMGR','HMGS','MK','PMK','PMD','GPP (uM)',\n",
    "                    'NAD (uM)','NADP (uM)','Acetate g/L','Pyruvate g/L','citrate (uM)']\n",
    "\n",
    "        specific_features = {'Acetyl-CoA (uM)':['OD600','ATP (uM)','AtoB','HMGR','HMGS', 'Acetyl-CoA (uM)', 'HMG-CoA (uM)','Pyruvate g/L','citrate (uM)'],\n",
    "                             'HMG-CoA (uM)':['OD600','HMG-CoA (uM)','HMGR','MK','Mev-P (uM)','Intracellular Mevalonate (uM)','NAD (uM)','NADP (uM)'],\n",
    "                             'Intracellular Mevalonate (uM)':['OD600','ATP (uM)','Intracellular Mevalonate (uM)','MK','PMK','Mev-P (uM)'],\n",
    "                             'Mev-P (uM)':['OD600','ATP (uM)','PMD','Mev-P (uM)','Intracellular Mevalonate (uM)','IPP/DMAPP (uM)'],\n",
    "                             'IPP/DMAPP (uM)':['OD600','ATP (uM)','IPP/DMAPP (uM)','Limonene Synthase','Limonene g/L'],\n",
    "                             'Limonene g/L':['OD600','ATP (uM)','Limonene Synthase','Limonene g/L','GPP (uM)']}\n",
    "\n",
    "    elif pathway == 'isopentenol':\n",
    "        #Parameters that Can Be Set:\n",
    "        strains = ['I1','I2','I3']\n",
    "        training_strains = ['I1','I3']\n",
    "        test_strains = ['I2']\n",
    "        \n",
    "        targets = ['Acetyl-CoA (uM)','HMG-CoA (uM)','Intracellular Mevalonate (uM)','Mev-P (uM)','IPP/DMAPP (uM)','Isopentenol g/L']\n",
    "        features = ['OD600','ATP (uM)','AtoB','NudB','HMGR','HMGS','MK','PMK','PMD',\n",
    "                    'NAD (uM)','NADP (uM)','Acetate g/L','Pyruvate g/L','citrate (uM)']\n",
    "\n",
    "        specific_features = {'Acetyl-CoA (uM)':['OD600','ATP (uM)','AtoB','HMGR','HMGS', 'Acetyl-CoA (uM)', 'HMG-CoA (uM)','Pyruvate g/L','citrate (uM)'],\n",
    "                             'HMG-CoA (uM)':['OD600','HMG-CoA (uM)','HMGR','MK','Mev-P (uM)','Intracellular Mevalonate (uM)','NAD (uM)','NADP (uM)'],\n",
    "                             'Intracellular Mevalonate (uM)':['OD600','ATP (uM)','Intracellular Mevalonate (uM)','MK','PMK','Mev-P (uM)'],\n",
    "                             'Mev-P (uM)':['OD600','ATP (uM)','PMD','Mev-P (uM)','Intracellular Mevalonate (uM)','IPP/DMAPP (uM)'],\n",
    "                             'IPP/DMAPP (uM)':['OD600','ATP (uM)','IPP/DMAPP (uM)','NudB','Isopentenol g/L'],\n",
    "                             'Isopentenol g/L':['OD600','ATP (uM)','NudB','Isopentenol g/L','IPP/DMAPP (uM)']}\n",
    "\n",
    "    \n",
    "    #Processing Data Files and Creating a Shared Dataframe\n",
    "    metabolite_file_name = 'data/time_series_metabolomics.csv'\n",
    "    protein_file_name = 'data/time_series_proteomics.csv'\n",
    "\n",
    "    mdf = pd.read_csv(metabolite_file_name)\n",
    "    pdf = pd.read_csv(protein_file_name)\n",
    "\n",
    "    #Format protein tables\n",
    "    proteins = ['AtoB','HMGR','HMGS','MK','PMD','PMK','Idi','GPPS','Limonene Synthase','NudB']\n",
    "    proteins = [('ProteinArea',protein) for protein in proteins]\n",
    "    columns = ['Strain','Time','Protein','ProteinArea']\n",
    "\n",
    "    pdf = pdf.loc[pdf['Strain'].isin(strains)]\n",
    "    pdf = pdf.loc[~pdf['Hour'].isin(['72C'])]\n",
    "    pdf['Hour'] = pdf['Hour'].convert_objects(convert_numeric=True)\n",
    "\n",
    "    pdf.rename(columns={'Hour': 'Time'}, inplace=True)    \n",
    "    display(pdf)\n",
    "    print(columns)\n",
    "\n",
    "    pdf = pdf[columns].pivot_table(pdf[columns],index=['Strain','Time'],columns='Protein',aggfunc=np.sum)\n",
    "    pdf = pdf[proteins]\n",
    "    pdf.columns = pdf.columns.get_level_values(1)\n",
    "    \n",
    "    #Format metabolite tables\n",
    "    metabolites = ['Acetyl-CoA (uM)','Acetyl-CoA extracellular (uM)',\n",
    "                   'Acetoacetyl-coA (uM)','Acetoacetyl-CoA extracellular (uM)',\n",
    "                   'HMG-CoA (uM)','HMG-CoA extracellular (uM)',\n",
    "                   'Intracellular Mevalonate (uM)','MEVALONATE extracellular (uM)',\n",
    "                   'Mev-P (uM)','MEV-P extracellular (uM)',\n",
    "                   'IPP/DMAPP (uM)','IPP/DMAPP extracellular (uM)',\n",
    "                   'GPP (uM)','GPP extracellular (uM)',\n",
    "                   'Limonene g/L','ATP (uM)','OD600','NAD (uM)','NADP (uM)',\n",
    "                   'Acetate g/L','Pyruvate g/L','citrate (uM)','Isopentenol g/L']\n",
    "\n",
    "    mdf = mdf.loc[mdf['Strain'].isin(strains)]\n",
    "    \n",
    "    mdf.rename(columns={'Hour': 'Time'}, inplace=True)\n",
    "    mdf = mdf[['Strain','Time'] + metabolites].pivot_table(mdf[['Strain','Time'] + metabolites],index=['Strain','Time'],aggfunc=np.sum)\n",
    "    \n",
    "    #Extracellular Metabolites (mg/L) | Intracelluar Metabolites (mg/L) |Combined Metabolites (mg/L)\n",
    "\n",
    "    #Join metabolite and protein tables\n",
    "    df = pd.concat([pdf, mdf], axis=1)\n",
    "    test_df = df.loc[(test_strains,slice(None))]\n",
    "    display(test_df)\n",
    "    df = df.loc[(training_strains,slice(None))]\n",
    "    tsdf = generateTSDataSet(df,features,targets,n_points=100)"
   ]
  },
  {
   "cell_type": "code",
   "execution_count": 6,
   "metadata": {
    "scrolled": false
   },
   "outputs": [
    {
     "data": {
      "text/html": [
       "<div>\n",
       "<style>\n",
       "    .dataframe thead tr:only-child th {\n",
       "        text-align: right;\n",
       "    }\n",
       "\n",
       "    .dataframe thead th {\n",
       "        text-align: left;\n",
       "    }\n",
       "\n",
       "    .dataframe tbody tr th {\n",
       "        vertical-align: top;\n",
       "    }\n",
       "</style>\n",
       "<table border=\"1\" class=\"dataframe\">\n",
       "  <thead>\n",
       "    <tr style=\"text-align: right;\">\n",
       "      <th></th>\n",
       "      <th></th>\n",
       "      <th>AtoB</th>\n",
       "      <th>HMGR</th>\n",
       "      <th>HMGS</th>\n",
       "      <th>MK</th>\n",
       "      <th>PMD</th>\n",
       "      <th>PMK</th>\n",
       "      <th>Idi</th>\n",
       "      <th>GPPS</th>\n",
       "      <th>Limonene Synthase</th>\n",
       "      <th>NudB</th>\n",
       "      <th>...</th>\n",
       "      <th>Intracellular Mevalonate (uM)</th>\n",
       "      <th>Isopentenol g/L</th>\n",
       "      <th>MEV-P extracellular (uM)</th>\n",
       "      <th>MEVALONATE extracellular (uM)</th>\n",
       "      <th>Mev-P (uM)</th>\n",
       "      <th>NAD (uM)</th>\n",
       "      <th>NADP (uM)</th>\n",
       "      <th>OD600</th>\n",
       "      <th>Pyruvate g/L</th>\n",
       "      <th>citrate (uM)</th>\n",
       "    </tr>\n",
       "    <tr>\n",
       "      <th>Strain</th>\n",
       "      <th>Time</th>\n",
       "      <th></th>\n",
       "      <th></th>\n",
       "      <th></th>\n",
       "      <th></th>\n",
       "      <th></th>\n",
       "      <th></th>\n",
       "      <th></th>\n",
       "      <th></th>\n",
       "      <th></th>\n",
       "      <th></th>\n",
       "      <th></th>\n",
       "      <th></th>\n",
       "      <th></th>\n",
       "      <th></th>\n",
       "      <th></th>\n",
       "      <th></th>\n",
       "      <th></th>\n",
       "      <th></th>\n",
       "      <th></th>\n",
       "      <th></th>\n",
       "      <th></th>\n",
       "    </tr>\n",
       "  </thead>\n",
       "  <tbody>\n",
       "    <tr>\n",
       "      <th rowspan=\"14\" valign=\"top\">I1</th>\n",
       "      <th>0</th>\n",
       "      <td>7419.0</td>\n",
       "      <td>141338.0</td>\n",
       "      <td>17643.0</td>\n",
       "      <td>75815.0</td>\n",
       "      <td>389085.0</td>\n",
       "      <td>71808.0</td>\n",
       "      <td>2726.0</td>\n",
       "      <td>3678.0</td>\n",
       "      <td>1956.0</td>\n",
       "      <td>91185.0</td>\n",
       "      <td>...</td>\n",
       "      <td>0.003485</td>\n",
       "      <td>0.000000</td>\n",
       "      <td>0.000000</td>\n",
       "      <td>0.000000</td>\n",
       "      <td>0.016535</td>\n",
       "      <td>0.479329</td>\n",
       "      <td>0.060779</td>\n",
       "      <td>1.659609</td>\n",
       "      <td>0.049284</td>\n",
       "      <td>0.051545</td>\n",
       "    </tr>\n",
       "    <tr>\n",
       "      <th>2</th>\n",
       "      <td>NaN</td>\n",
       "      <td>NaN</td>\n",
       "      <td>NaN</td>\n",
       "      <td>NaN</td>\n",
       "      <td>NaN</td>\n",
       "      <td>NaN</td>\n",
       "      <td>NaN</td>\n",
       "      <td>NaN</td>\n",
       "      <td>NaN</td>\n",
       "      <td>NaN</td>\n",
       "      <td>...</td>\n",
       "      <td>NaN</td>\n",
       "      <td>NaN</td>\n",
       "      <td>NaN</td>\n",
       "      <td>NaN</td>\n",
       "      <td>NaN</td>\n",
       "      <td>NaN</td>\n",
       "      <td>NaN</td>\n",
       "      <td>NaN</td>\n",
       "      <td>0.005116</td>\n",
       "      <td>NaN</td>\n",
       "    </tr>\n",
       "    <tr>\n",
       "      <th>4</th>\n",
       "      <td>2274423.0</td>\n",
       "      <td>141742.0</td>\n",
       "      <td>354612.0</td>\n",
       "      <td>114635.0</td>\n",
       "      <td>16988996.0</td>\n",
       "      <td>121497.0</td>\n",
       "      <td>3246.0</td>\n",
       "      <td>3762.0</td>\n",
       "      <td>1611.0</td>\n",
       "      <td>6959635.0</td>\n",
       "      <td>...</td>\n",
       "      <td>0.275343</td>\n",
       "      <td>0.059590</td>\n",
       "      <td>0.000000</td>\n",
       "      <td>7.932096</td>\n",
       "      <td>0.938668</td>\n",
       "      <td>1.829253</td>\n",
       "      <td>0.221246</td>\n",
       "      <td>2.240000</td>\n",
       "      <td>0.003931</td>\n",
       "      <td>0.076328</td>\n",
       "    </tr>\n",
       "    <tr>\n",
       "      <th>6</th>\n",
       "      <td>NaN</td>\n",
       "      <td>NaN</td>\n",
       "      <td>NaN</td>\n",
       "      <td>NaN</td>\n",
       "      <td>NaN</td>\n",
       "      <td>NaN</td>\n",
       "      <td>NaN</td>\n",
       "      <td>NaN</td>\n",
       "      <td>NaN</td>\n",
       "      <td>NaN</td>\n",
       "      <td>...</td>\n",
       "      <td>NaN</td>\n",
       "      <td>NaN</td>\n",
       "      <td>0.000000</td>\n",
       "      <td>11.936629</td>\n",
       "      <td>NaN</td>\n",
       "      <td>NaN</td>\n",
       "      <td>NaN</td>\n",
       "      <td>NaN</td>\n",
       "      <td>0.009759</td>\n",
       "      <td>NaN</td>\n",
       "    </tr>\n",
       "    <tr>\n",
       "      <th>8</th>\n",
       "      <td>2569281.0</td>\n",
       "      <td>93624.0</td>\n",
       "      <td>400406.0</td>\n",
       "      <td>130112.0</td>\n",
       "      <td>18636906.0</td>\n",
       "      <td>127708.0</td>\n",
       "      <td>4406.0</td>\n",
       "      <td>3065.0</td>\n",
       "      <td>1620.0</td>\n",
       "      <td>7959617.0</td>\n",
       "      <td>...</td>\n",
       "      <td>0.595143</td>\n",
       "      <td>0.109851</td>\n",
       "      <td>0.395195</td>\n",
       "      <td>21.641651</td>\n",
       "      <td>1.215891</td>\n",
       "      <td>NaN</td>\n",
       "      <td>NaN</td>\n",
       "      <td>2.690000</td>\n",
       "      <td>0.063345</td>\n",
       "      <td>0.075237</td>\n",
       "    </tr>\n",
       "    <tr>\n",
       "      <th>10</th>\n",
       "      <td>NaN</td>\n",
       "      <td>NaN</td>\n",
       "      <td>NaN</td>\n",
       "      <td>NaN</td>\n",
       "      <td>NaN</td>\n",
       "      <td>NaN</td>\n",
       "      <td>NaN</td>\n",
       "      <td>NaN</td>\n",
       "      <td>NaN</td>\n",
       "      <td>NaN</td>\n",
       "      <td>...</td>\n",
       "      <td>NaN</td>\n",
       "      <td>NaN</td>\n",
       "      <td>0.772059</td>\n",
       "      <td>27.004182</td>\n",
       "      <td>NaN</td>\n",
       "      <td>NaN</td>\n",
       "      <td>NaN</td>\n",
       "      <td>NaN</td>\n",
       "      <td>0.076934</td>\n",
       "      <td>NaN</td>\n",
       "    </tr>\n",
       "    <tr>\n",
       "      <th>12</th>\n",
       "      <td>2924101.0</td>\n",
       "      <td>126483.0</td>\n",
       "      <td>465989.0</td>\n",
       "      <td>152303.0</td>\n",
       "      <td>22200000.0</td>\n",
       "      <td>134870.0</td>\n",
       "      <td>7202.0</td>\n",
       "      <td>3403.0</td>\n",
       "      <td>3956.0</td>\n",
       "      <td>8935320.0</td>\n",
       "      <td>...</td>\n",
       "      <td>0.523027</td>\n",
       "      <td>0.114827</td>\n",
       "      <td>0.842228</td>\n",
       "      <td>31.462418</td>\n",
       "      <td>2.646922</td>\n",
       "      <td>1.931034</td>\n",
       "      <td>0.264772</td>\n",
       "      <td>2.816000</td>\n",
       "      <td>0.076668</td>\n",
       "      <td>0.047336</td>\n",
       "    </tr>\n",
       "    <tr>\n",
       "      <th>16</th>\n",
       "      <td>NaN</td>\n",
       "      <td>NaN</td>\n",
       "      <td>NaN</td>\n",
       "      <td>NaN</td>\n",
       "      <td>NaN</td>\n",
       "      <td>NaN</td>\n",
       "      <td>NaN</td>\n",
       "      <td>NaN</td>\n",
       "      <td>NaN</td>\n",
       "      <td>NaN</td>\n",
       "      <td>...</td>\n",
       "      <td>NaN</td>\n",
       "      <td>NaN</td>\n",
       "      <td>0.893020</td>\n",
       "      <td>34.659123</td>\n",
       "      <td>NaN</td>\n",
       "      <td>NaN</td>\n",
       "      <td>NaN</td>\n",
       "      <td>NaN</td>\n",
       "      <td>0.073498</td>\n",
       "      <td>NaN</td>\n",
       "    </tr>\n",
       "    <tr>\n",
       "      <th>18</th>\n",
       "      <td>2648967.0</td>\n",
       "      <td>111784.0</td>\n",
       "      <td>387501.0</td>\n",
       "      <td>122471.0</td>\n",
       "      <td>18586524.0</td>\n",
       "      <td>131392.0</td>\n",
       "      <td>3170.0</td>\n",
       "      <td>4371.0</td>\n",
       "      <td>1618.0</td>\n",
       "      <td>8294957.0</td>\n",
       "      <td>...</td>\n",
       "      <td>0.673320</td>\n",
       "      <td>0.123507</td>\n",
       "      <td>1.317083</td>\n",
       "      <td>33.794735</td>\n",
       "      <td>1.759246</td>\n",
       "      <td>1.697476</td>\n",
       "      <td>0.182356</td>\n",
       "      <td>2.865000</td>\n",
       "      <td>0.068048</td>\n",
       "      <td>0.050818</td>\n",
       "    </tr>\n",
       "    <tr>\n",
       "      <th>20</th>\n",
       "      <td>NaN</td>\n",
       "      <td>NaN</td>\n",
       "      <td>NaN</td>\n",
       "      <td>NaN</td>\n",
       "      <td>NaN</td>\n",
       "      <td>NaN</td>\n",
       "      <td>NaN</td>\n",
       "      <td>NaN</td>\n",
       "      <td>NaN</td>\n",
       "      <td>NaN</td>\n",
       "      <td>...</td>\n",
       "      <td>NaN</td>\n",
       "      <td>NaN</td>\n",
       "      <td>1.732495</td>\n",
       "      <td>35.217347</td>\n",
       "      <td>NaN</td>\n",
       "      <td>NaN</td>\n",
       "      <td>NaN</td>\n",
       "      <td>NaN</td>\n",
       "      <td>0.056594</td>\n",
       "      <td>NaN</td>\n",
       "    </tr>\n",
       "    <tr>\n",
       "      <th>24</th>\n",
       "      <td>2801056.0</td>\n",
       "      <td>108034.0</td>\n",
       "      <td>434153.0</td>\n",
       "      <td>123257.0</td>\n",
       "      <td>19867674.0</td>\n",
       "      <td>139603.0</td>\n",
       "      <td>5511.0</td>\n",
       "      <td>3142.0</td>\n",
       "      <td>2560.0</td>\n",
       "      <td>8409057.0</td>\n",
       "      <td>...</td>\n",
       "      <td>0.707041</td>\n",
       "      <td>0.134870</td>\n",
       "      <td>2.180754</td>\n",
       "      <td>35.602554</td>\n",
       "      <td>1.240130</td>\n",
       "      <td>1.526813</td>\n",
       "      <td>0.160629</td>\n",
       "      <td>2.763000</td>\n",
       "      <td>0.051310</td>\n",
       "      <td>0.049992</td>\n",
       "    </tr>\n",
       "    <tr>\n",
       "      <th>36</th>\n",
       "      <td>2986061.0</td>\n",
       "      <td>106361.0</td>\n",
       "      <td>457308.0</td>\n",
       "      <td>139122.0</td>\n",
       "      <td>22400000.0</td>\n",
       "      <td>139199.0</td>\n",
       "      <td>5939.0</td>\n",
       "      <td>4699.0</td>\n",
       "      <td>821.0</td>\n",
       "      <td>8703974.0</td>\n",
       "      <td>...</td>\n",
       "      <td>0.635780</td>\n",
       "      <td>0.140889</td>\n",
       "      <td>2.707035</td>\n",
       "      <td>37.314215</td>\n",
       "      <td>0.722272</td>\n",
       "      <td>NaN</td>\n",
       "      <td>NaN</td>\n",
       "      <td>3.000000</td>\n",
       "      <td>0.040607</td>\n",
       "      <td>NaN</td>\n",
       "    </tr>\n",
       "    <tr>\n",
       "      <th>48</th>\n",
       "      <td>2993954.0</td>\n",
       "      <td>121696.0</td>\n",
       "      <td>475405.0</td>\n",
       "      <td>136302.0</td>\n",
       "      <td>21800000.0</td>\n",
       "      <td>151537.0</td>\n",
       "      <td>6051.0</td>\n",
       "      <td>3998.0</td>\n",
       "      <td>2150.0</td>\n",
       "      <td>9535746.0</td>\n",
       "      <td>...</td>\n",
       "      <td>0.645384</td>\n",
       "      <td>0.153882</td>\n",
       "      <td>2.803551</td>\n",
       "      <td>37.239523</td>\n",
       "      <td>0.743093</td>\n",
       "      <td>1.079693</td>\n",
       "      <td>0.095281</td>\n",
       "      <td>3.000000</td>\n",
       "      <td>0.038859</td>\n",
       "      <td>0.037400</td>\n",
       "    </tr>\n",
       "    <tr>\n",
       "      <th>72</th>\n",
       "      <td>2764457.0</td>\n",
       "      <td>108521.0</td>\n",
       "      <td>462373.0</td>\n",
       "      <td>120807.0</td>\n",
       "      <td>22400000.0</td>\n",
       "      <td>135908.0</td>\n",
       "      <td>5752.0</td>\n",
       "      <td>5793.0</td>\n",
       "      <td>2290.0</td>\n",
       "      <td>8654013.0</td>\n",
       "      <td>...</td>\n",
       "      <td>0.536147</td>\n",
       "      <td>0.173506</td>\n",
       "      <td>2.754312</td>\n",
       "      <td>34.849259</td>\n",
       "      <td>0.528405</td>\n",
       "      <td>NaN</td>\n",
       "      <td>NaN</td>\n",
       "      <td>3.070000</td>\n",
       "      <td>0.021505</td>\n",
       "      <td>NaN</td>\n",
       "    </tr>\n",
       "    <tr>\n",
       "      <th rowspan=\"14\" valign=\"top\">I3</th>\n",
       "      <th>0</th>\n",
       "      <td>17795.0</td>\n",
       "      <td>21408.0</td>\n",
       "      <td>44671.0</td>\n",
       "      <td>99246.0</td>\n",
       "      <td>374799.0</td>\n",
       "      <td>77713.0</td>\n",
       "      <td>3974.0</td>\n",
       "      <td>4248.0</td>\n",
       "      <td>1393.0</td>\n",
       "      <td>91047.0</td>\n",
       "      <td>...</td>\n",
       "      <td>0.014375</td>\n",
       "      <td>0.000000</td>\n",
       "      <td>0.000000</td>\n",
       "      <td>0.460018</td>\n",
       "      <td>0.307744</td>\n",
       "      <td>0.052536</td>\n",
       "      <td>0.063575</td>\n",
       "      <td>1.472660</td>\n",
       "      <td>0.132315</td>\n",
       "      <td>0.093326</td>\n",
       "    </tr>\n",
       "    <tr>\n",
       "      <th>2</th>\n",
       "      <td>NaN</td>\n",
       "      <td>NaN</td>\n",
       "      <td>NaN</td>\n",
       "      <td>NaN</td>\n",
       "      <td>NaN</td>\n",
       "      <td>NaN</td>\n",
       "      <td>NaN</td>\n",
       "      <td>NaN</td>\n",
       "      <td>NaN</td>\n",
       "      <td>NaN</td>\n",
       "      <td>...</td>\n",
       "      <td>NaN</td>\n",
       "      <td>NaN</td>\n",
       "      <td>NaN</td>\n",
       "      <td>NaN</td>\n",
       "      <td>NaN</td>\n",
       "      <td>NaN</td>\n",
       "      <td>NaN</td>\n",
       "      <td>NaN</td>\n",
       "      <td>0.003860</td>\n",
       "      <td>NaN</td>\n",
       "    </tr>\n",
       "    <tr>\n",
       "      <th>4</th>\n",
       "      <td>2663099.0</td>\n",
       "      <td>205427.0</td>\n",
       "      <td>1017967.0</td>\n",
       "      <td>199689.0</td>\n",
       "      <td>15412143.0</td>\n",
       "      <td>161022.0</td>\n",
       "      <td>6301.0</td>\n",
       "      <td>5300.0</td>\n",
       "      <td>3363.0</td>\n",
       "      <td>7737700.0</td>\n",
       "      <td>...</td>\n",
       "      <td>1.104845</td>\n",
       "      <td>0.077046</td>\n",
       "      <td>0.465227</td>\n",
       "      <td>28.500888</td>\n",
       "      <td>0.623555</td>\n",
       "      <td>1.778177</td>\n",
       "      <td>0.209859</td>\n",
       "      <td>2.731000</td>\n",
       "      <td>0.003749</td>\n",
       "      <td>0.094793</td>\n",
       "    </tr>\n",
       "    <tr>\n",
       "      <th>6</th>\n",
       "      <td>NaN</td>\n",
       "      <td>NaN</td>\n",
       "      <td>NaN</td>\n",
       "      <td>NaN</td>\n",
       "      <td>NaN</td>\n",
       "      <td>NaN</td>\n",
       "      <td>NaN</td>\n",
       "      <td>NaN</td>\n",
       "      <td>NaN</td>\n",
       "      <td>NaN</td>\n",
       "      <td>...</td>\n",
       "      <td>NaN</td>\n",
       "      <td>NaN</td>\n",
       "      <td>0.888664</td>\n",
       "      <td>42.345613</td>\n",
       "      <td>NaN</td>\n",
       "      <td>NaN</td>\n",
       "      <td>NaN</td>\n",
       "      <td>NaN</td>\n",
       "      <td>0.003284</td>\n",
       "      <td>NaN</td>\n",
       "    </tr>\n",
       "    <tr>\n",
       "      <th>8</th>\n",
       "      <td>2530375.0</td>\n",
       "      <td>253650.0</td>\n",
       "      <td>1109560.0</td>\n",
       "      <td>227000.0</td>\n",
       "      <td>18259860.0</td>\n",
       "      <td>176889.0</td>\n",
       "      <td>6223.0</td>\n",
       "      <td>5123.0</td>\n",
       "      <td>3508.0</td>\n",
       "      <td>9257004.0</td>\n",
       "      <td>...</td>\n",
       "      <td>1.672045</td>\n",
       "      <td>0.231925</td>\n",
       "      <td>0.846481</td>\n",
       "      <td>63.337165</td>\n",
       "      <td>0.869716</td>\n",
       "      <td>NaN</td>\n",
       "      <td>NaN</td>\n",
       "      <td>3.436000</td>\n",
       "      <td>0.002152</td>\n",
       "      <td>0.108458</td>\n",
       "    </tr>\n",
       "    <tr>\n",
       "      <th>10</th>\n",
       "      <td>NaN</td>\n",
       "      <td>NaN</td>\n",
       "      <td>NaN</td>\n",
       "      <td>NaN</td>\n",
       "      <td>NaN</td>\n",
       "      <td>NaN</td>\n",
       "      <td>NaN</td>\n",
       "      <td>NaN</td>\n",
       "      <td>NaN</td>\n",
       "      <td>NaN</td>\n",
       "      <td>...</td>\n",
       "      <td>NaN</td>\n",
       "      <td>NaN</td>\n",
       "      <td>0.853880</td>\n",
       "      <td>80.112243</td>\n",
       "      <td>NaN</td>\n",
       "      <td>NaN</td>\n",
       "      <td>NaN</td>\n",
       "      <td>NaN</td>\n",
       "      <td>0.002652</td>\n",
       "      <td>NaN</td>\n",
       "    </tr>\n",
       "    <tr>\n",
       "      <th>12</th>\n",
       "      <td>2562264.0</td>\n",
       "      <td>209587.0</td>\n",
       "      <td>949897.0</td>\n",
       "      <td>218289.0</td>\n",
       "      <td>16952356.0</td>\n",
       "      <td>194116.0</td>\n",
       "      <td>7150.0</td>\n",
       "      <td>3139.0</td>\n",
       "      <td>988.0</td>\n",
       "      <td>9826814.0</td>\n",
       "      <td>...</td>\n",
       "      <td>1.764374</td>\n",
       "      <td>0.336582</td>\n",
       "      <td>0.775498</td>\n",
       "      <td>89.160964</td>\n",
       "      <td>1.283674</td>\n",
       "      <td>2.115674</td>\n",
       "      <td>0.244341</td>\n",
       "      <td>3.676000</td>\n",
       "      <td>0.001474</td>\n",
       "      <td>0.139962</td>\n",
       "    </tr>\n",
       "    <tr>\n",
       "      <th>16</th>\n",
       "      <td>NaN</td>\n",
       "      <td>NaN</td>\n",
       "      <td>NaN</td>\n",
       "      <td>NaN</td>\n",
       "      <td>NaN</td>\n",
       "      <td>NaN</td>\n",
       "      <td>NaN</td>\n",
       "      <td>NaN</td>\n",
       "      <td>NaN</td>\n",
       "      <td>NaN</td>\n",
       "      <td>...</td>\n",
       "      <td>NaN</td>\n",
       "      <td>NaN</td>\n",
       "      <td>1.000287</td>\n",
       "      <td>104.037460</td>\n",
       "      <td>NaN</td>\n",
       "      <td>NaN</td>\n",
       "      <td>NaN</td>\n",
       "      <td>NaN</td>\n",
       "      <td>0.001639</td>\n",
       "      <td>NaN</td>\n",
       "    </tr>\n",
       "    <tr>\n",
       "      <th>18</th>\n",
       "      <td>3303070.0</td>\n",
       "      <td>268929.0</td>\n",
       "      <td>1226232.0</td>\n",
       "      <td>300752.0</td>\n",
       "      <td>20400000.0</td>\n",
       "      <td>251856.0</td>\n",
       "      <td>8456.0</td>\n",
       "      <td>5954.0</td>\n",
       "      <td>1048.0</td>\n",
       "      <td>15204452.0</td>\n",
       "      <td>...</td>\n",
       "      <td>1.820366</td>\n",
       "      <td>0.644333</td>\n",
       "      <td>1.092036</td>\n",
       "      <td>113.870548</td>\n",
       "      <td>1.908672</td>\n",
       "      <td>2.400440</td>\n",
       "      <td>0.326856</td>\n",
       "      <td>3.522000</td>\n",
       "      <td>0.000723</td>\n",
       "      <td>0.199768</td>\n",
       "    </tr>\n",
       "    <tr>\n",
       "      <th>20</th>\n",
       "      <td>NaN</td>\n",
       "      <td>NaN</td>\n",
       "      <td>NaN</td>\n",
       "      <td>NaN</td>\n",
       "      <td>NaN</td>\n",
       "      <td>NaN</td>\n",
       "      <td>NaN</td>\n",
       "      <td>NaN</td>\n",
       "      <td>NaN</td>\n",
       "      <td>NaN</td>\n",
       "      <td>...</td>\n",
       "      <td>NaN</td>\n",
       "      <td>NaN</td>\n",
       "      <td>1.307875</td>\n",
       "      <td>116.717786</td>\n",
       "      <td>NaN</td>\n",
       "      <td>NaN</td>\n",
       "      <td>NaN</td>\n",
       "      <td>NaN</td>\n",
       "      <td>0.001177</td>\n",
       "      <td>NaN</td>\n",
       "    </tr>\n",
       "    <tr>\n",
       "      <th>24</th>\n",
       "      <td>3290972.0</td>\n",
       "      <td>273758.0</td>\n",
       "      <td>1112970.0</td>\n",
       "      <td>312762.0</td>\n",
       "      <td>19337520.0</td>\n",
       "      <td>243817.0</td>\n",
       "      <td>7280.0</td>\n",
       "      <td>4027.0</td>\n",
       "      <td>2607.0</td>\n",
       "      <td>15674525.0</td>\n",
       "      <td>...</td>\n",
       "      <td>2.130787</td>\n",
       "      <td>0.868716</td>\n",
       "      <td>1.498978</td>\n",
       "      <td>134.878959</td>\n",
       "      <td>1.601773</td>\n",
       "      <td>3.005993</td>\n",
       "      <td>0.358953</td>\n",
       "      <td>3.609000</td>\n",
       "      <td>0.000000</td>\n",
       "      <td>0.241985</td>\n",
       "    </tr>\n",
       "    <tr>\n",
       "      <th>36</th>\n",
       "      <td>3185590.0</td>\n",
       "      <td>242074.0</td>\n",
       "      <td>1041137.0</td>\n",
       "      <td>307282.0</td>\n",
       "      <td>19927044.0</td>\n",
       "      <td>246806.0</td>\n",
       "      <td>9594.0</td>\n",
       "      <td>4704.0</td>\n",
       "      <td>2883.0</td>\n",
       "      <td>14995967.0</td>\n",
       "      <td>...</td>\n",
       "      <td>2.086551</td>\n",
       "      <td>1.232061</td>\n",
       "      <td>1.987851</td>\n",
       "      <td>139.018506</td>\n",
       "      <td>0.648013</td>\n",
       "      <td>NaN</td>\n",
       "      <td>NaN</td>\n",
       "      <td>3.143000</td>\n",
       "      <td>0.000000</td>\n",
       "      <td>NaN</td>\n",
       "    </tr>\n",
       "    <tr>\n",
       "      <th>48</th>\n",
       "      <td>2969012.0</td>\n",
       "      <td>237745.0</td>\n",
       "      <td>1018029.0</td>\n",
       "      <td>304946.0</td>\n",
       "      <td>19781988.0</td>\n",
       "      <td>230316.0</td>\n",
       "      <td>8331.0</td>\n",
       "      <td>3847.0</td>\n",
       "      <td>971.0</td>\n",
       "      <td>15761658.0</td>\n",
       "      <td>...</td>\n",
       "      <td>1.986295</td>\n",
       "      <td>1.235810</td>\n",
       "      <td>1.718829</td>\n",
       "      <td>125.249513</td>\n",
       "      <td>0.763137</td>\n",
       "      <td>2.974407</td>\n",
       "      <td>0.470234</td>\n",
       "      <td>3.143000</td>\n",
       "      <td>0.000000</td>\n",
       "      <td>0.431173</td>\n",
       "    </tr>\n",
       "    <tr>\n",
       "      <th>72</th>\n",
       "      <td>3009723.0</td>\n",
       "      <td>243739.0</td>\n",
       "      <td>1046921.0</td>\n",
       "      <td>353697.0</td>\n",
       "      <td>22600000.0</td>\n",
       "      <td>213419.0</td>\n",
       "      <td>8919.0</td>\n",
       "      <td>3318.0</td>\n",
       "      <td>2334.0</td>\n",
       "      <td>15793095.0</td>\n",
       "      <td>...</td>\n",
       "      <td>2.204279</td>\n",
       "      <td>1.255362</td>\n",
       "      <td>2.629931</td>\n",
       "      <td>116.195927</td>\n",
       "      <td>1.105772</td>\n",
       "      <td>NaN</td>\n",
       "      <td>NaN</td>\n",
       "      <td>3.041000</td>\n",
       "      <td>0.000000</td>\n",
       "      <td>NaN</td>\n",
       "    </tr>\n",
       "  </tbody>\n",
       "</table>\n",
       "<p>28 rows × 32 columns</p>\n",
       "</div>"
      ],
      "text/plain": [
       "                  AtoB      HMGR       HMGS        MK         PMD       PMK  \\\n",
       "Strain Time                                                                   \n",
       "I1     0        7419.0  141338.0    17643.0   75815.0    389085.0   71808.0   \n",
       "       2           NaN       NaN        NaN       NaN         NaN       NaN   \n",
       "       4     2274423.0  141742.0   354612.0  114635.0  16988996.0  121497.0   \n",
       "       6           NaN       NaN        NaN       NaN         NaN       NaN   \n",
       "       8     2569281.0   93624.0   400406.0  130112.0  18636906.0  127708.0   \n",
       "       10          NaN       NaN        NaN       NaN         NaN       NaN   \n",
       "       12    2924101.0  126483.0   465989.0  152303.0  22200000.0  134870.0   \n",
       "       16          NaN       NaN        NaN       NaN         NaN       NaN   \n",
       "       18    2648967.0  111784.0   387501.0  122471.0  18586524.0  131392.0   \n",
       "       20          NaN       NaN        NaN       NaN         NaN       NaN   \n",
       "       24    2801056.0  108034.0   434153.0  123257.0  19867674.0  139603.0   \n",
       "       36    2986061.0  106361.0   457308.0  139122.0  22400000.0  139199.0   \n",
       "       48    2993954.0  121696.0   475405.0  136302.0  21800000.0  151537.0   \n",
       "       72    2764457.0  108521.0   462373.0  120807.0  22400000.0  135908.0   \n",
       "I3     0       17795.0   21408.0    44671.0   99246.0    374799.0   77713.0   \n",
       "       2           NaN       NaN        NaN       NaN         NaN       NaN   \n",
       "       4     2663099.0  205427.0  1017967.0  199689.0  15412143.0  161022.0   \n",
       "       6           NaN       NaN        NaN       NaN         NaN       NaN   \n",
       "       8     2530375.0  253650.0  1109560.0  227000.0  18259860.0  176889.0   \n",
       "       10          NaN       NaN        NaN       NaN         NaN       NaN   \n",
       "       12    2562264.0  209587.0   949897.0  218289.0  16952356.0  194116.0   \n",
       "       16          NaN       NaN        NaN       NaN         NaN       NaN   \n",
       "       18    3303070.0  268929.0  1226232.0  300752.0  20400000.0  251856.0   \n",
       "       20          NaN       NaN        NaN       NaN         NaN       NaN   \n",
       "       24    3290972.0  273758.0  1112970.0  312762.0  19337520.0  243817.0   \n",
       "       36    3185590.0  242074.0  1041137.0  307282.0  19927044.0  246806.0   \n",
       "       48    2969012.0  237745.0  1018029.0  304946.0  19781988.0  230316.0   \n",
       "       72    3009723.0  243739.0  1046921.0  353697.0  22600000.0  213419.0   \n",
       "\n",
       "                Idi    GPPS  Limonene Synthase        NudB      ...       \\\n",
       "Strain Time                                                     ...        \n",
       "I1     0     2726.0  3678.0             1956.0     91185.0      ...        \n",
       "       2        NaN     NaN                NaN         NaN      ...        \n",
       "       4     3246.0  3762.0             1611.0   6959635.0      ...        \n",
       "       6        NaN     NaN                NaN         NaN      ...        \n",
       "       8     4406.0  3065.0             1620.0   7959617.0      ...        \n",
       "       10       NaN     NaN                NaN         NaN      ...        \n",
       "       12    7202.0  3403.0             3956.0   8935320.0      ...        \n",
       "       16       NaN     NaN                NaN         NaN      ...        \n",
       "       18    3170.0  4371.0             1618.0   8294957.0      ...        \n",
       "       20       NaN     NaN                NaN         NaN      ...        \n",
       "       24    5511.0  3142.0             2560.0   8409057.0      ...        \n",
       "       36    5939.0  4699.0              821.0   8703974.0      ...        \n",
       "       48    6051.0  3998.0             2150.0   9535746.0      ...        \n",
       "       72    5752.0  5793.0             2290.0   8654013.0      ...        \n",
       "I3     0     3974.0  4248.0             1393.0     91047.0      ...        \n",
       "       2        NaN     NaN                NaN         NaN      ...        \n",
       "       4     6301.0  5300.0             3363.0   7737700.0      ...        \n",
       "       6        NaN     NaN                NaN         NaN      ...        \n",
       "       8     6223.0  5123.0             3508.0   9257004.0      ...        \n",
       "       10       NaN     NaN                NaN         NaN      ...        \n",
       "       12    7150.0  3139.0              988.0   9826814.0      ...        \n",
       "       16       NaN     NaN                NaN         NaN      ...        \n",
       "       18    8456.0  5954.0             1048.0  15204452.0      ...        \n",
       "       20       NaN     NaN                NaN         NaN      ...        \n",
       "       24    7280.0  4027.0             2607.0  15674525.0      ...        \n",
       "       36    9594.0  4704.0             2883.0  14995967.0      ...        \n",
       "       48    8331.0  3847.0              971.0  15761658.0      ...        \n",
       "       72    8919.0  3318.0             2334.0  15793095.0      ...        \n",
       "\n",
       "             Intracellular Mevalonate (uM)  Isopentenol g/L  \\\n",
       "Strain Time                                                   \n",
       "I1     0                          0.003485         0.000000   \n",
       "       2                               NaN              NaN   \n",
       "       4                          0.275343         0.059590   \n",
       "       6                               NaN              NaN   \n",
       "       8                          0.595143         0.109851   \n",
       "       10                              NaN              NaN   \n",
       "       12                         0.523027         0.114827   \n",
       "       16                              NaN              NaN   \n",
       "       18                         0.673320         0.123507   \n",
       "       20                              NaN              NaN   \n",
       "       24                         0.707041         0.134870   \n",
       "       36                         0.635780         0.140889   \n",
       "       48                         0.645384         0.153882   \n",
       "       72                         0.536147         0.173506   \n",
       "I3     0                          0.014375         0.000000   \n",
       "       2                               NaN              NaN   \n",
       "       4                          1.104845         0.077046   \n",
       "       6                               NaN              NaN   \n",
       "       8                          1.672045         0.231925   \n",
       "       10                              NaN              NaN   \n",
       "       12                         1.764374         0.336582   \n",
       "       16                              NaN              NaN   \n",
       "       18                         1.820366         0.644333   \n",
       "       20                              NaN              NaN   \n",
       "       24                         2.130787         0.868716   \n",
       "       36                         2.086551         1.232061   \n",
       "       48                         1.986295         1.235810   \n",
       "       72                         2.204279         1.255362   \n",
       "\n",
       "             MEV-P extracellular (uM)  MEVALONATE extracellular (uM)  \\\n",
       "Strain Time                                                            \n",
       "I1     0                     0.000000                       0.000000   \n",
       "       2                          NaN                            NaN   \n",
       "       4                     0.000000                       7.932096   \n",
       "       6                     0.000000                      11.936629   \n",
       "       8                     0.395195                      21.641651   \n",
       "       10                    0.772059                      27.004182   \n",
       "       12                    0.842228                      31.462418   \n",
       "       16                    0.893020                      34.659123   \n",
       "       18                    1.317083                      33.794735   \n",
       "       20                    1.732495                      35.217347   \n",
       "       24                    2.180754                      35.602554   \n",
       "       36                    2.707035                      37.314215   \n",
       "       48                    2.803551                      37.239523   \n",
       "       72                    2.754312                      34.849259   \n",
       "I3     0                     0.000000                       0.460018   \n",
       "       2                          NaN                            NaN   \n",
       "       4                     0.465227                      28.500888   \n",
       "       6                     0.888664                      42.345613   \n",
       "       8                     0.846481                      63.337165   \n",
       "       10                    0.853880                      80.112243   \n",
       "       12                    0.775498                      89.160964   \n",
       "       16                    1.000287                     104.037460   \n",
       "       18                    1.092036                     113.870548   \n",
       "       20                    1.307875                     116.717786   \n",
       "       24                    1.498978                     134.878959   \n",
       "       36                    1.987851                     139.018506   \n",
       "       48                    1.718829                     125.249513   \n",
       "       72                    2.629931                     116.195927   \n",
       "\n",
       "             Mev-P (uM)  NAD (uM)  NADP (uM)     OD600  Pyruvate g/L  \\\n",
       "Strain Time                                                            \n",
       "I1     0       0.016535  0.479329   0.060779  1.659609      0.049284   \n",
       "       2            NaN       NaN        NaN       NaN      0.005116   \n",
       "       4       0.938668  1.829253   0.221246  2.240000      0.003931   \n",
       "       6            NaN       NaN        NaN       NaN      0.009759   \n",
       "       8       1.215891       NaN        NaN  2.690000      0.063345   \n",
       "       10           NaN       NaN        NaN       NaN      0.076934   \n",
       "       12      2.646922  1.931034   0.264772  2.816000      0.076668   \n",
       "       16           NaN       NaN        NaN       NaN      0.073498   \n",
       "       18      1.759246  1.697476   0.182356  2.865000      0.068048   \n",
       "       20           NaN       NaN        NaN       NaN      0.056594   \n",
       "       24      1.240130  1.526813   0.160629  2.763000      0.051310   \n",
       "       36      0.722272       NaN        NaN  3.000000      0.040607   \n",
       "       48      0.743093  1.079693   0.095281  3.000000      0.038859   \n",
       "       72      0.528405       NaN        NaN  3.070000      0.021505   \n",
       "I3     0       0.307744  0.052536   0.063575  1.472660      0.132315   \n",
       "       2            NaN       NaN        NaN       NaN      0.003860   \n",
       "       4       0.623555  1.778177   0.209859  2.731000      0.003749   \n",
       "       6            NaN       NaN        NaN       NaN      0.003284   \n",
       "       8       0.869716       NaN        NaN  3.436000      0.002152   \n",
       "       10           NaN       NaN        NaN       NaN      0.002652   \n",
       "       12      1.283674  2.115674   0.244341  3.676000      0.001474   \n",
       "       16           NaN       NaN        NaN       NaN      0.001639   \n",
       "       18      1.908672  2.400440   0.326856  3.522000      0.000723   \n",
       "       20           NaN       NaN        NaN       NaN      0.001177   \n",
       "       24      1.601773  3.005993   0.358953  3.609000      0.000000   \n",
       "       36      0.648013       NaN        NaN  3.143000      0.000000   \n",
       "       48      0.763137  2.974407   0.470234  3.143000      0.000000   \n",
       "       72      1.105772       NaN        NaN  3.041000      0.000000   \n",
       "\n",
       "             citrate (uM)  \n",
       "Strain Time                \n",
       "I1     0         0.051545  \n",
       "       2              NaN  \n",
       "       4         0.076328  \n",
       "       6              NaN  \n",
       "       8         0.075237  \n",
       "       10             NaN  \n",
       "       12        0.047336  \n",
       "       16             NaN  \n",
       "       18        0.050818  \n",
       "       20             NaN  \n",
       "       24        0.049992  \n",
       "       36             NaN  \n",
       "       48        0.037400  \n",
       "       72             NaN  \n",
       "I3     0         0.093326  \n",
       "       2              NaN  \n",
       "       4         0.094793  \n",
       "       6              NaN  \n",
       "       8         0.108458  \n",
       "       10             NaN  \n",
       "       12        0.139962  \n",
       "       16             NaN  \n",
       "       18        0.199768  \n",
       "       20             NaN  \n",
       "       24        0.241985  \n",
       "       36             NaN  \n",
       "       48        0.431173  \n",
       "       72             NaN  \n",
       "\n",
       "[28 rows x 32 columns]"
      ]
     },
     "metadata": {},
     "output_type": "display_data"
    }
   ],
   "source": [
    "display(df)"
   ]
  },
  {
   "cell_type": "markdown",
   "metadata": {},
   "source": [
    "# 4. Construct Machine Learning Models\n",
    "First Do Feature Selection if Automatic features are selected."
   ]
  },
  {
   "cell_type": "code",
   "execution_count": 7,
   "metadata": {
    "collapsed": true
   },
   "outputs": [],
   "source": [
    "#Automatic Feature Selection using Recursive Feature Selection cross validated with a Random Forest Regressor\n",
    "if feature_selection == 'automatic':\n",
    "    estimator = RandomForestRegressor()\n",
    "    specific_features = {}\n",
    "    feature_list = [('feature',feature) for feature in features + targets]\n",
    "    for target in targets:\n",
    "        \n",
    "        #display(tsdf[feature_list].ix[:100])\n",
    "        if data_type == 'simulated':\n",
    "            X = tsdf[feature_list].ix[:2000].values.tolist()\n",
    "            y = tsdf[('target',target)].ix[:2000].values.tolist()        \n",
    "        else:\n",
    "            X = tsdf[feature_list].values.tolist()\n",
    "            y = tsdf[('target',target)].values.tolist()\n",
    "            \n",
    "        selector = RFECV(estimator,verbose=1)\n",
    "        selector.fit(X,y)\n",
    "        mask = selector.get_support()\n",
    "        specific_features[target] = [feature for i,feature in enumerate(features + targets) if mask[i]]\n",
    "        print(target,specific_features[target])"
   ]
  },
  {
   "cell_type": "markdown",
   "metadata": {},
   "source": [
    "Define all Possible Machine Learning Models that can be used in the analysis."
   ]
  },
  {
   "cell_type": "code",
   "execution_count": null,
   "metadata": {},
   "outputs": [
    {
     "name": "stdout",
     "output_type": "stream",
     "text": [
      "Warning: xgboost.XGBRegressor is not available and will not be used by TPOT.\n"
     ]
    }
   ],
   "source": [
    "from sklearn.pipeline import Pipeline\n",
    "from sklearn.model_selection import ShuffleSplit\n",
    "\n",
    "#Create Models for Each Target Column\n",
    "modelDict = {}\n",
    "\n",
    "#Pipeline Regressors\n",
    "from sklearn.svm import SVR\n",
    "from sklearn.preprocessing import StandardScaler\n",
    "supportVectorRegressor = Pipeline([('Scaler',StandardScaler()),\n",
    "                               ('SVR',SVR())])\n",
    "\n",
    "from sklearn.feature_selection import RFECV\n",
    "from sklearn.linear_model import Ridge\n",
    "from sklearn.preprocessing import PolynomialFeatures\n",
    "from sklearn.ensemble import BaggingRegressor, RandomForestRegressor\n",
    "polynomialRegressor = Pipeline([('Scaler',StandardScaler()),\n",
    "                                ('Polynomial Features',PolynomialFeatures(degree=3, include_bias=True, interaction_only=True)),\n",
    "                                ('Feature Reduction',RFECV(Ridge(),cv=None, scoring='r2')),\n",
    "                                ('Linear Regressor',BaggingRegressor(base_estimator=Ridge(),\n",
    "                                                                     n_estimators=100, max_samples=.8,\n",
    "                                                                     bootstrap=False,\n",
    "                                                                     bootstrap_features=False,\n",
    "                                                                     random_state=None))])\n",
    "\n",
    "from sklearn.feature_selection import SelectKBest\n",
    "from sklearn.feature_selection import mutual_info_regression\n",
    "featureReducingRF = Pipeline([('Feature Reduction',SelectKBest(mutual_info_regression, k=4)),\n",
    "                              ('Random Forest Regressor',RandomForestRegressor())])\n",
    "\n",
    "\n",
    "model_str = machine_learning_model\n",
    "featureReduction = False\n",
    "if model_str == 'SVR':\n",
    "    mlmodel = supportVectorRegressor\n",
    "elif model_str == 'RF':\n",
    "    mlmodel = RandomForestRegressor(n_estimators=20)\n",
    "elif model_str == 'Poly':\n",
    "    mlmodel = polynomialRegressor\n",
    "elif model_str == 'Bagging':\n",
    "    mlmodel = BaggingRegressor(base_estimator=supportVectorRegressor)\n",
    "elif model_str == 'FeatRF':\n",
    "    mlmodel = featureReducingRF \n",
    "    featureReduction = True\n",
    "elif model_str == 'Log':\n",
    "    LogScale = FunctionTransformer(np.log1p)\n",
    "    mlmodel = Pipeline([('Log Transform',LogScale),('Scaler',StandardScaler()),\n",
    "                        ('Linear',LassoLarsIC())])\n",
    "elif model_str == 'neural':\n",
    "    neural_model = Pipeline([('Scaler',StandardScaler()),\n",
    "                               ('neural_net',MLPRegressor(hidden_layer_sizes=(5,5,5),\n",
    "                                                          learning_rate_init=0.1,\n",
    "                                                          learning_rate='adaptive',\n",
    "                                                          solver='sgd',\n",
    "                                                          activation='tanh',\n",
    "                                                          max_iter=1000))])\n",
    "    #mlmodel = MLPRegressor(hidden_layer_sizes=(10,10),learning_rate_init=0.1,solver='lbfgs')\n",
    "    mlmodel= neural_model\n",
    "    \n",
    "elif model_str == 'gaussian':\n",
    "    mlmodel = Pipeline([('Scaler',StandardScaler()),\n",
    "                        ('gassian',GaussianProcessRegressor(normalize_y=True))])\n",
    "elif model_str == 'tpot':\n",
    "    from tpot import TPOTRegressor\n",
    "    #mlmodel = TPOTRegressor(generations=130, population_size=100, verbosity=2,max_time_mins=20,cv=ShuffleSplit(),scoring='r2',n_jobs=1)\n",
    "    mlmodel = TPOTRegressor(generations=130, population_size=130, verbosity=2,cv=ShuffleSplit(),n_jobs=1)\n",
    "    \n",
    "    "
   ]
  },
  {
   "cell_type": "markdown",
   "metadata": {},
   "source": [
    "## 5. Fitting & Evaluating Machine Learning Models\n",
    "\n",
    "For both simulated and real data we calculate the goodness of fit of the machine learning models. For Simulated Data we calculate the following Metrics which help us evaluate goodness of fit.\n",
    "\n",
    "Simulated Data Results:\n",
    "1. Learning Curves for Derivatives\n",
    "2. Error Distribution for Derivatives (Combined Vector Derivative Error RMSE)\n",
    "3. Goodness of Fit Plot For Simulated Curves\n",
    "4. RMSE for all simulated curves, Figure out the right one to report (Seperate and together -- Normalized / Percent / Regular)\n",
    "\n",
    "Experimental Data Results:\n",
    "1. Learning Curves for Derivatives\n",
    "2. Error Distribution for Derivatives, (Combined Vector)\n",
    "3. Comparison Plot between Real and Predicted Curves\n",
    "4. RMSE for Single Predicted Curve, (By Metabolite and Combined)"
   ]
  },
  {
   "cell_type": "code",
   "execution_count": null,
   "metadata": {
    "scrolled": true
   },
   "outputs": [
    {
     "name": "stdout",
     "output_type": "stream",
     "text": [
      "Acetyl-CoA (uM)\n",
      "Warning: xgboost.XGBRegressor is not available and will not be used by TPOT.\n"
     ]
    },
    {
     "name": "stderr",
     "output_type": "stream",
     "text": [
      "Optimization Progress:   1%|▏         | 232/17030 [00:58<54:53,  5.10pipeline/s]  "
     ]
    },
    {
     "name": "stdout",
     "output_type": "stream",
     "text": [
      "Generation 1 - Current best internal CV score: 9.103962894493346e-06\n"
     ]
    },
    {
     "name": "stderr",
     "output_type": "stream",
     "text": [
      "Optimization Progress:   2%|▏         | 342/17030 [01:22<51:15,  5.43pipeline/s]  "
     ]
    },
    {
     "name": "stdout",
     "output_type": "stream",
     "text": [
      "Generation 2 - Current best internal CV score: 9.103962894493346e-06\n"
     ]
    },
    {
     "name": "stderr",
     "output_type": "stream",
     "text": [
      "Optimization Progress:   3%|▎         | 451/17030 [01:54<1:00:55,  4.53pipeline/s]"
     ]
    },
    {
     "name": "stdout",
     "output_type": "stream",
     "text": [
      "Generation 3 - Current best internal CV score: 7.630741480071153e-06\n"
     ]
    },
    {
     "name": "stderr",
     "output_type": "stream",
     "text": [
      "Optimization Progress:   3%|▎         | 565/17030 [03:04<1:45:19,  2.61pipeline/s]"
     ]
    },
    {
     "name": "stdout",
     "output_type": "stream",
     "text": [
      "Generation 4 - Current best internal CV score: 6.755091661751757e-06\n"
     ]
    },
    {
     "name": "stderr",
     "output_type": "stream",
     "text": [
      "Optimization Progress:   4%|▍         | 689/17030 [04:14<1:20:09,  3.40pipeline/s]"
     ]
    },
    {
     "name": "stdout",
     "output_type": "stream",
     "text": [
      "Generation 5 - Current best internal CV score: 6.485731047309262e-06\n"
     ]
    },
    {
     "name": "stderr",
     "output_type": "stream",
     "text": [
      "Optimization Progress:   5%|▍         | 811/17030 [05:29<1:41:54,  2.65pipeline/s] "
     ]
    },
    {
     "name": "stdout",
     "output_type": "stream",
     "text": [
      "Generation 6 - Current best internal CV score: 4.735677666033896e-06\n"
     ]
    },
    {
     "name": "stderr",
     "output_type": "stream",
     "text": [
      "Optimization Progress:   5%|▌         | 933/17030 [06:38<1:53:44,  2.36pipeline/s] "
     ]
    },
    {
     "name": "stdout",
     "output_type": "stream",
     "text": [
      "Generation 7 - Current best internal CV score: 4.735677666033896e-06\n"
     ]
    },
    {
     "name": "stderr",
     "output_type": "stream",
     "text": [
      "Optimization Progress:   6%|▌         | 1052/17030 [07:43<2:34:41,  1.72pipeline/s]"
     ]
    },
    {
     "name": "stdout",
     "output_type": "stream",
     "text": [
      "Generation 8 - Current best internal CV score: 4.646912588882102e-06\n"
     ]
    },
    {
     "name": "stderr",
     "output_type": "stream",
     "text": [
      "                                                                                   \r"
     ]
    },
    {
     "name": "stdout",
     "output_type": "stream",
     "text": [
      "\n",
      "Best pipeline: RandomForestRegressor(input_matrix, RandomForestRegressor__bootstrap=False, RandomForestRegressor__max_features=0.9, RandomForestRegressor__min_samples_leaf=DEFAULT, RandomForestRegressor__min_samples_split=5, RandomForestRegressor__n_estimators=DEFAULT)\n",
      "Acetyl-CoA (uM)\n"
     ]
    },
    {
     "data": {
      "image/png": "[encoded data removed]",
      "text/plain": [
       "<matplotlib.figure.Figure at 0x10c80dc18>"
      ]
     },
     "metadata": {},
     "output_type": "display_data"
    },
    {
     "name": "stdout",
     "output_type": "stream",
     "text": [
      "HMG-CoA (uM)\n",
      "Warning: xgboost.XGBRegressor is not available and will not be used by TPOT.\n"
     ]
    },
    {
     "name": "stderr",
     "output_type": "stream",
     "text": [
      "Optimization Progress:   1%|▏         | 235/17030 [01:09<40:03,  6.99pipeline/s]  "
     ]
    },
    {
     "name": "stdout",
     "output_type": "stream",
     "text": [
      "Generation 1 - Current best internal CV score: 3.9812464347060915e-07\n"
     ]
    },
    {
     "name": "stderr",
     "output_type": "stream",
     "text": [
      "Optimization Progress:   2%|▏         | 346/17030 [01:49<1:26:05,  3.23pipeline/s]"
     ]
    },
    {
     "name": "stdout",
     "output_type": "stream",
     "text": [
      "Generation 2 - Current best internal CV score: 3.9812464347060915e-07\n"
     ]
    },
    {
     "name": "stderr",
     "output_type": "stream",
     "text": [
      "Optimization Progress:   3%|▎         | 464/17030 [02:38<1:05:54,  4.19pipeline/s]"
     ]
    },
    {
     "name": "stdout",
     "output_type": "stream",
     "text": [
      "Generation 3 - Current best internal CV score: 3.9812464347060915e-07\n"
     ]
    },
    {
     "name": "stderr",
     "output_type": "stream",
     "text": [
      "Optimization Progress:   3%|▎         | 583/17030 [03:22<1:22:16,  3.33pipeline/s]"
     ]
    },
    {
     "name": "stdout",
     "output_type": "stream",
     "text": [
      "Generation 4 - Current best internal CV score: 3.9812464347060915e-07\n"
     ]
    },
    {
     "name": "stderr",
     "output_type": "stream",
     "text": [
      "Optimization Progress:   4%|▍         | 702/17030 [04:09<1:03:28,  4.29pipeline/s]"
     ]
    },
    {
     "name": "stdout",
     "output_type": "stream",
     "text": [
      "Generation 5 - Current best internal CV score: 3.9812464347060915e-07\n"
     ]
    },
    {
     "name": "stderr",
     "output_type": "stream",
     "text": [
      "Optimization Progress:   5%|▍         | 822/17030 [04:50<1:15:11,  3.59pipeline/s] "
     ]
    },
    {
     "name": "stdout",
     "output_type": "stream",
     "text": [
      "Generation 6 - Current best internal CV score: 3.9812464347060915e-07\n"
     ]
    },
    {
     "name": "stderr",
     "output_type": "stream",
     "text": [
      "Optimization Progress:   6%|▌         | 942/17030 [05:33<1:08:42,  3.90pipeline/s]"
     ]
    },
    {
     "name": "stdout",
     "output_type": "stream",
     "text": [
      "Generation 7 - Current best internal CV score: 3.9812464347060915e-07\n"
     ]
    },
    {
     "name": "stderr",
     "output_type": "stream",
     "text": [
      "Optimization Progress:   6%|▋         | 1066/17030 [06:11<1:10:36,  3.77pipeline/s]"
     ]
    },
    {
     "name": "stdout",
     "output_type": "stream",
     "text": [
      "Generation 8 - Current best internal CV score: 3.9812464347060915e-07\n"
     ]
    },
    {
     "name": "stderr",
     "output_type": "stream",
     "text": [
      "Optimization Progress:   7%|▋         | 1189/17030 [06:49<59:27,  4.44pipeline/s]  "
     ]
    },
    {
     "name": "stdout",
     "output_type": "stream",
     "text": [
      "Generation 9 - Current best internal CV score: 3.9812464347060915e-07\n"
     ]
    },
    {
     "name": "stderr",
     "output_type": "stream",
     "text": [
      "Optimization Progress:   8%|▊         | 1312/17030 [07:30<1:11:40,  3.65pipeline/s] "
     ]
    },
    {
     "name": "stdout",
     "output_type": "stream",
     "text": [
      "Generation 10 - Current best internal CV score: 3.4056831018515875e-07\n"
     ]
    },
    {
     "name": "stderr",
     "output_type": "stream",
     "text": [
      "Optimization Progress:   8%|▊         | 1441/17030 [08:09<53:14,  4.88pipeline/s]   "
     ]
    },
    {
     "name": "stdout",
     "output_type": "stream",
     "text": [
      "Generation 11 - Current best internal CV score: 3.4056831018515875e-07\n"
     ]
    },
    {
     "name": "stderr",
     "output_type": "stream",
     "text": [
      "Optimization Progress:   9%|▉         | 1569/17030 [08:55<55:49,  4.62pipeline/s]   "
     ]
    },
    {
     "name": "stdout",
     "output_type": "stream",
     "text": [
      "Generation 12 - Current best internal CV score: 2.893786869439232e-07\n"
     ]
    },
    {
     "name": "stderr",
     "output_type": "stream",
     "text": [
      "Optimization Progress:  10%|▉         | 1698/17030 [09:38<1:04:51,  3.94pipeline/s]"
     ]
    },
    {
     "name": "stdout",
     "output_type": "stream",
     "text": [
      "Generation 13 - Current best internal CV score: 2.893786869439232e-07\n"
     ]
    },
    {
     "name": "stderr",
     "output_type": "stream",
     "text": [
      "Optimization Progress:  11%|█         | 1817/17030 [10:16<48:25,  5.24pipeline/s]  "
     ]
    },
    {
     "name": "stdout",
     "output_type": "stream",
     "text": [
      "Generation 14 - Current best internal CV score: 2.893786869439232e-07\n"
     ]
    },
    {
     "name": "stderr",
     "output_type": "stream",
     "text": [
      "Optimization Progress:  11%|█▏        | 1943/17030 [11:02<1:17:01,  3.26pipeline/s]"
     ]
    },
    {
     "name": "stdout",
     "output_type": "stream",
     "text": [
      "Generation 15 - Current best internal CV score: 2.893786869439232e-07\n"
     ]
    },
    {
     "name": "stderr",
     "output_type": "stream",
     "text": [
      "Optimization Progress:  12%|█▏        | 2065/17030 [11:40<51:57,  4.80pipeline/s]   "
     ]
    },
    {
     "name": "stdout",
     "output_type": "stream",
     "text": [
      "Generation 16 - Current best internal CV score: 2.893786869439232e-07\n"
     ]
    },
    {
     "name": "stderr",
     "output_type": "stream",
     "text": [
      "Optimization Progress:  13%|█▎        | 2185/17030 [12:21<1:00:46,  4.07pipeline/s] "
     ]
    },
    {
     "name": "stdout",
     "output_type": "stream",
     "text": [
      "Generation 17 - Current best internal CV score: 2.3264202101023644e-07\n"
     ]
    },
    {
     "name": "stderr",
     "output_type": "stream",
     "text": [
      "Optimization Progress:  14%|█▎        | 2305/17030 [13:07<1:00:50,  4.03pipeline/s] "
     ]
    },
    {
     "name": "stdout",
     "output_type": "stream",
     "text": [
      "Generation 18 - Current best internal CV score: 2.3264202101023644e-07\n"
     ]
    },
    {
     "name": "stderr",
     "output_type": "stream",
     "text": [
      "Optimization Progress:  14%|█▍        | 2433/17030 [13:52<1:16:15,  3.19pipeline/s] "
     ]
    },
    {
     "name": "stdout",
     "output_type": "stream",
     "text": [
      "Generation 19 - Current best internal CV score: 2.3264202101023644e-07\n"
     ]
    },
    {
     "name": "stderr",
     "output_type": "stream",
     "text": [
      "Optimization Progress:  15%|█▌        | 2559/17030 [14:27<1:06:46,  3.61pipeline/s]"
     ]
    },
    {
     "name": "stdout",
     "output_type": "stream",
     "text": [
      "Generation 20 - Current best internal CV score: 2.3264202101023644e-07\n"
     ]
    },
    {
     "name": "stderr",
     "output_type": "stream",
     "text": [
      "Optimization Progress:  16%|█▌        | 2676/17030 [15:06<54:19,  4.40pipeline/s]   "
     ]
    },
    {
     "name": "stdout",
     "output_type": "stream",
     "text": [
      "Generation 21 - Current best internal CV score: 2.3264202101023644e-07\n"
     ]
    },
    {
     "name": "stderr",
     "output_type": "stream",
     "text": [
      "Optimization Progress:  16%|█▋        | 2798/17030 [15:52<1:19:34,  2.98pipeline/s]"
     ]
    },
    {
     "name": "stdout",
     "output_type": "stream",
     "text": [
      "Generation 22 - Current best internal CV score: 2.3264202101023644e-07\n"
     ]
    },
    {
     "name": "stderr",
     "output_type": "stream",
     "text": [
      "Optimization Progress:  17%|█▋        | 2921/17030 [16:33<58:26,  4.02pipeline/s]  "
     ]
    },
    {
     "name": "stdout",
     "output_type": "stream",
     "text": [
      "Generation 23 - Current best internal CV score: 2.3264202101023644e-07\n"
     ]
    },
    {
     "name": "stderr",
     "output_type": "stream",
     "text": [
      "Optimization Progress:  18%|█▊        | 3043/17030 [17:14<51:25,  4.53pipeline/s]   "
     ]
    },
    {
     "name": "stdout",
     "output_type": "stream",
     "text": [
      "Generation 24 - Current best internal CV score: 2.3264202101023644e-07\n"
     ]
    },
    {
     "name": "stderr",
     "output_type": "stream",
     "text": [
      "Optimization Progress:  19%|█▊        | 3167/17030 [17:54<54:03,  4.27pipeline/s]   "
     ]
    },
    {
     "name": "stdout",
     "output_type": "stream",
     "text": [
      "Generation 25 - Current best internal CV score: 2.3264202101023644e-07\n"
     ]
    },
    {
     "name": "stderr",
     "output_type": "stream",
     "text": [
      "Optimization Progress:  19%|█▉        | 3291/17030 [18:38<47:25,  4.83pipeline/s]  "
     ]
    },
    {
     "name": "stdout",
     "output_type": "stream",
     "text": [
      "Generation 26 - Current best internal CV score: 2.3264202101023644e-07\n"
     ]
    },
    {
     "name": "stderr",
     "output_type": "stream",
     "text": [
      "Optimization Progress:  20%|██        | 3413/17030 [19:17<1:10:49,  3.20pipeline/s]"
     ]
    },
    {
     "name": "stdout",
     "output_type": "stream",
     "text": [
      "Generation 27 - Current best internal CV score: 2.3264202101023644e-07\n"
     ]
    },
    {
     "name": "stderr",
     "output_type": "stream",
     "text": [
      "Optimization Progress:  21%|██        | 3535/17030 [19:59<51:45,  4.34pipeline/s]  "
     ]
    },
    {
     "name": "stdout",
     "output_type": "stream",
     "text": [
      "Generation 28 - Current best internal CV score: 2.3264202101023644e-07\n"
     ]
    },
    {
     "name": "stderr",
     "output_type": "stream",
     "text": [
      "Optimization Progress:  21%|██▏       | 3656/17030 [20:38<1:23:44,  2.66pipeline/s]"
     ]
    },
    {
     "name": "stdout",
     "output_type": "stream",
     "text": [
      "Generation 29 - Current best internal CV score: 2.3264202101023644e-07\n"
     ]
    },
    {
     "name": "stderr",
     "output_type": "stream",
     "text": [
      "Optimization Progress:  22%|██▏       | 3777/17030 [21:16<49:24,  4.47pipeline/s]  "
     ]
    },
    {
     "name": "stdout",
     "output_type": "stream",
     "text": [
      "Generation 30 - Current best internal CV score: 2.3264202101023644e-07\n"
     ]
    },
    {
     "name": "stderr",
     "output_type": "stream",
     "text": [
      "Optimization Progress:  23%|██▎       | 3901/17030 [21:58<1:13:09,  2.99pipeline/s]"
     ]
    },
    {
     "name": "stdout",
     "output_type": "stream",
     "text": [
      "Generation 31 - Current best internal CV score: 2.3264202101023644e-07\n"
     ]
    },
    {
     "name": "stderr",
     "output_type": "stream",
     "text": [
      "Optimization Progress:  24%|██▎       | 4016/17030 [22:44<57:01,  3.80pipeline/s]  "
     ]
    },
    {
     "name": "stdout",
     "output_type": "stream",
     "text": [
      "Generation 32 - Current best internal CV score: 2.3264202101023644e-07\n"
     ]
    },
    {
     "name": "stderr",
     "output_type": "stream",
     "text": [
      "Optimization Progress:  24%|██▍       | 4128/17030 [23:17<52:00,  4.13pipeline/s]  "
     ]
    },
    {
     "name": "stdout",
     "output_type": "stream",
     "text": [
      "Generation 33 - Current best internal CV score: 2.3264202101023644e-07\n"
     ]
    },
    {
     "name": "stderr",
     "output_type": "stream",
     "text": [
      "Optimization Progress:  25%|██▍       | 4242/17030 [23:46<55:35,  3.83pipeline/s]  "
     ]
    },
    {
     "name": "stdout",
     "output_type": "stream",
     "text": [
      "Generation 34 - Current best internal CV score: 2.3264202101023644e-07\n"
     ]
    },
    {
     "name": "stderr",
     "output_type": "stream",
     "text": [
      "Optimization Progress:  26%|██▌       | 4359/17030 [24:17<48:44,  4.33pipeline/s]  "
     ]
    },
    {
     "name": "stdout",
     "output_type": "stream",
     "text": [
      "Generation 35 - Current best internal CV score: 2.3264202101023644e-07\n"
     ]
    },
    {
     "name": "stderr",
     "output_type": "stream",
     "text": [
      "Optimization Progress:  26%|██▋       | 4478/17030 [24:49<42:39,  4.90pipeline/s]  "
     ]
    },
    {
     "name": "stdout",
     "output_type": "stream",
     "text": [
      "Generation 36 - Current best internal CV score: 1.678423563210153e-07\n"
     ]
    },
    {
     "name": "stderr",
     "output_type": "stream",
     "text": [
      "Optimization Progress:  27%|██▋       | 4590/17030 [25:22<53:21,  3.89pipeline/s]  "
     ]
    },
    {
     "name": "stdout",
     "output_type": "stream",
     "text": [
      "Generation 37 - Current best internal CV score: 1.678423563210153e-07\n"
     ]
    },
    {
     "name": "stderr",
     "output_type": "stream",
     "text": [
      "Optimization Progress:  28%|██▊       | 4700/17030 [25:57<45:48,  4.49pipeline/s]  "
     ]
    },
    {
     "name": "stdout",
     "output_type": "stream",
     "text": [
      "Generation 38 - Current best internal CV score: 1.678423563210153e-07\n"
     ]
    },
    {
     "name": "stderr",
     "output_type": "stream",
     "text": [
      "Optimization Progress:  28%|██▊       | 4811/17030 [26:36<40:57,  4.97pipeline/s]  "
     ]
    },
    {
     "name": "stdout",
     "output_type": "stream",
     "text": [
      "Generation 39 - Current best internal CV score: 1.678423563210153e-07\n"
     ]
    },
    {
     "name": "stderr",
     "output_type": "stream",
     "text": [
      "Optimization Progress:  29%|██▉       | 4927/17030 [27:27<1:22:31,  2.44pipeline/s]"
     ]
    },
    {
     "name": "stdout",
     "output_type": "stream",
     "text": [
      "Generation 40 - Current best internal CV score: 1.678423563210153e-07\n"
     ]
    },
    {
     "name": "stderr",
     "output_type": "stream",
     "text": [
      "Optimization Progress:  30%|██▉       | 5038/17030 [28:16<1:10:33,  2.83pipeline/s]"
     ]
    },
    {
     "name": "stdout",
     "output_type": "stream",
     "text": [
      "Generation 41 - Current best internal CV score: 1.678423563210153e-07\n"
     ]
    },
    {
     "name": "stderr",
     "output_type": "stream",
     "text": [
      "Optimization Progress:  30%|███       | 5137/17030 [28:59<1:03:59,  3.10pipeline/s]"
     ]
    },
    {
     "name": "stdout",
     "output_type": "stream",
     "text": [
      "Generation 42 - Current best internal CV score: 1.678423563210153e-07\n"
     ]
    },
    {
     "name": "stderr",
     "output_type": "stream",
     "text": [
      "Optimization Progress:  31%|███       | 5241/17030 [29:41<50:33,  3.89pipeline/s]  "
     ]
    },
    {
     "name": "stdout",
     "output_type": "stream",
     "text": [
      "Generation 43 - Current best internal CV score: 1.678423563210153e-07\n"
     ]
    },
    {
     "name": "stderr",
     "output_type": "stream",
     "text": [
      "Optimization Progress:  31%|███▏      | 5348/17030 [30:31<1:16:17,  2.55pipeline/s]"
     ]
    },
    {
     "name": "stdout",
     "output_type": "stream",
     "text": [
      "Generation 44 - Current best internal CV score: 1.678423563210153e-07\n"
     ]
    },
    {
     "name": "stderr",
     "output_type": "stream",
     "text": [
      "Optimization Progress:  32%|███▏      | 5450/17030 [31:18<1:19:57,  2.41pipeline/s]"
     ]
    },
    {
     "name": "stdout",
     "output_type": "stream",
     "text": [
      "Generation 45 - Current best internal CV score: 1.678423563210153e-07\n"
     ]
    },
    {
     "name": "stderr",
     "output_type": "stream",
     "text": [
      "Optimization Progress:  33%|███▎      | 5555/17030 [31:57<1:05:15,  2.93pipeline/s]"
     ]
    },
    {
     "name": "stdout",
     "output_type": "stream",
     "text": [
      "Generation 46 - Current best internal CV score: 1.678423563210153e-07\n"
     ]
    },
    {
     "name": "stderr",
     "output_type": "stream",
     "text": [
      "Optimization Progress:  33%|███▎      | 5657/17030 [32:33<1:39:13,  1.91pipeline/s]"
     ]
    },
    {
     "name": "stdout",
     "output_type": "stream",
     "text": [
      "Generation 47 - Current best internal CV score: 1.678423563210153e-07\n"
     ]
    },
    {
     "name": "stderr",
     "output_type": "stream",
     "text": [
      "Optimization Progress:  34%|███▍      | 5759/17030 [33:23<1:31:40,  2.05pipeline/s]"
     ]
    },
    {
     "name": "stdout",
     "output_type": "stream",
     "text": [
      "Generation 48 - Current best internal CV score: 1.678423563210153e-07\n"
     ]
    },
    {
     "name": "stderr",
     "output_type": "stream",
     "text": [
      "Optimization Progress:  34%|███▍      | 5861/17030 [33:58<1:08:18,  2.73pipeline/s]"
     ]
    },
    {
     "name": "stdout",
     "output_type": "stream",
     "text": [
      "Generation 49 - Current best internal CV score: 1.678423563210153e-07\n"
     ]
    },
    {
     "name": "stderr",
     "output_type": "stream",
     "text": [
      "Optimization Progress:  35%|███▌      | 5969/17030 [34:50<1:11:09,  2.59pipeline/s]"
     ]
    },
    {
     "name": "stdout",
     "output_type": "stream",
     "text": [
      "Generation 50 - Current best internal CV score: 1.678423563210153e-07\n"
     ]
    },
    {
     "name": "stderr",
     "output_type": "stream",
     "text": [
      "Optimization Progress:  36%|███▌      | 6076/17030 [35:36<1:03:27,  2.88pipeline/s]"
     ]
    },
    {
     "name": "stdout",
     "output_type": "stream",
     "text": [
      "Generation 51 - Current best internal CV score: 1.678423563210153e-07\n"
     ]
    },
    {
     "name": "stderr",
     "output_type": "stream",
     "text": [
      "Optimization Progress:  36%|███▋      | 6177/17030 [36:16<1:17:19,  2.34pipeline/s]"
     ]
    },
    {
     "name": "stdout",
     "output_type": "stream",
     "text": [
      "Generation 52 - Current best internal CV score: 1.678423563210153e-07\n"
     ]
    },
    {
     "name": "stderr",
     "output_type": "stream",
     "text": [
      "Optimization Progress:  37%|███▋      | 6277/17030 [36:49<1:25:57,  2.08pipeline/s]"
     ]
    },
    {
     "name": "stdout",
     "output_type": "stream",
     "text": [
      "Generation 53 - Current best internal CV score: 1.678423563210153e-07\n"
     ]
    },
    {
     "name": "stderr",
     "output_type": "stream",
     "text": [
      "Optimization Progress:  37%|███▋      | 6380/17030 [37:28<53:56,  3.29pipeline/s]  "
     ]
    },
    {
     "name": "stdout",
     "output_type": "stream",
     "text": [
      "Generation 54 - Current best internal CV score: 1.678423563210153e-07\n"
     ]
    },
    {
     "name": "stderr",
     "output_type": "stream",
     "text": [
      "Optimization Progress:  38%|███▊      | 6488/17030 [38:07<1:22:32,  2.13pipeline/s]"
     ]
    },
    {
     "name": "stdout",
     "output_type": "stream",
     "text": [
      "Generation 55 - Current best internal CV score: 1.678423563210153e-07\n"
     ]
    },
    {
     "name": "stderr",
     "output_type": "stream",
     "text": [
      "Optimization Progress:  39%|███▊      | 6594/17030 [38:50<1:14:35,  2.33pipeline/s]"
     ]
    },
    {
     "name": "stdout",
     "output_type": "stream",
     "text": [
      "Generation 56 - Current best internal CV score: 1.4093707392817877e-07\n"
     ]
    },
    {
     "name": "stderr",
     "output_type": "stream",
     "text": [
      "Optimization Progress:  39%|███▉      | 6700/17030 [39:22<50:30,  3.41pipeline/s]  "
     ]
    },
    {
     "name": "stdout",
     "output_type": "stream",
     "text": [
      "Generation 57 - Current best internal CV score: 1.4093707392817877e-07\n"
     ]
    },
    {
     "name": "stderr",
     "output_type": "stream",
     "text": [
      "Optimization Progress:  40%|████      | 6816/17030 [39:57<1:11:30,  2.38pipeline/s]"
     ]
    },
    {
     "name": "stdout",
     "output_type": "stream",
     "text": [
      "Generation 58 - Current best internal CV score: 1.4093707392817877e-07\n"
     ]
    },
    {
     "name": "stderr",
     "output_type": "stream",
     "text": [
      "Optimization Progress:  41%|████      | 6923/17030 [40:34<1:11:21,  2.36pipeline/s]"
     ]
    },
    {
     "name": "stdout",
     "output_type": "stream",
     "text": [
      "Generation 59 - Current best internal CV score: 1.4093707392817877e-07\n"
     ]
    },
    {
     "name": "stderr",
     "output_type": "stream",
     "text": [
      "Optimization Progress:  41%|████▏     | 7032/17030 [41:12<1:09:27,  2.40pipeline/s]"
     ]
    },
    {
     "name": "stdout",
     "output_type": "stream",
     "text": [
      "Generation 60 - Current best internal CV score: 1.4093707392817877e-07\n"
     ]
    },
    {
     "name": "stderr",
     "output_type": "stream",
     "text": [
      "Optimization Progress:  42%|████▏     | 7140/17030 [42:01<1:25:36,  1.93pipeline/s]"
     ]
    },
    {
     "name": "stdout",
     "output_type": "stream",
     "text": [
      "Generation 61 - Current best internal CV score: 1.4093707392817877e-07\n"
     ]
    },
    {
     "name": "stderr",
     "output_type": "stream",
     "text": [
      "Optimization Progress:  43%|████▎     | 7246/17030 [42:38<1:23:22,  1.96pipeline/s]"
     ]
    },
    {
     "name": "stdout",
     "output_type": "stream",
     "text": [
      "Generation 62 - Current best internal CV score: 1.4093707392817877e-07\n"
     ]
    },
    {
     "name": "stderr",
     "output_type": "stream",
     "text": [
      "Optimization Progress:  43%|████▎     | 7355/17030 [43:28<1:13:01,  2.21pipeline/s] "
     ]
    },
    {
     "name": "stdout",
     "output_type": "stream",
     "text": [
      "Generation 63 - Current best internal CV score: 1.4093707392817877e-07\n"
     ]
    },
    {
     "name": "stderr",
     "output_type": "stream",
     "text": [
      "Optimization Progress:  44%|████▍     | 7465/17030 [44:13<1:28:08,  1.81pipeline/s]"
     ]
    },
    {
     "name": "stdout",
     "output_type": "stream",
     "text": [
      "Generation 64 - Current best internal CV score: 1.4093707392817877e-07\n"
     ]
    },
    {
     "name": "stderr",
     "output_type": "stream",
     "text": [
      "Optimization Progress:  44%|████▍     | 7577/17030 [44:58<54:42,  2.88pipeline/s]  "
     ]
    },
    {
     "name": "stdout",
     "output_type": "stream",
     "text": [
      "Generation 65 - Current best internal CV score: 1.4093707392817877e-07\n"
     ]
    },
    {
     "name": "stderr",
     "output_type": "stream",
     "text": [
      "Optimization Progress:  45%|████▌     | 7684/17030 [45:40<55:50,  2.79pipeline/s]  "
     ]
    },
    {
     "name": "stdout",
     "output_type": "stream",
     "text": [
      "Generation 66 - Current best internal CV score: 1.4093707392817877e-07\n"
     ]
    },
    {
     "name": "stderr",
     "output_type": "stream",
     "text": [
      "Optimization Progress:  46%|████▌     | 7792/17030 [46:19<1:14:06,  2.08pipeline/s]"
     ]
    },
    {
     "name": "stdout",
     "output_type": "stream",
     "text": [
      "Generation 67 - Current best internal CV score: 1.4093707392817877e-07\n"
     ]
    },
    {
     "name": "stderr",
     "output_type": "stream",
     "text": [
      "Optimization Progress:  46%|████▋     | 7903/17030 [48:16<2:15:18,  1.12pipeline/s] "
     ]
    },
    {
     "name": "stdout",
     "output_type": "stream",
     "text": [
      "Generation 68 - Current best internal CV score: 1.4093707392817877e-07\n"
     ]
    },
    {
     "name": "stderr",
     "output_type": "stream",
     "text": [
      "Optimization Progress:  47%|████▋     | 8006/17030 [55:31<1:41:22,  1.48pipeline/s]  "
     ]
    },
    {
     "name": "stdout",
     "output_type": "stream",
     "text": [
      "Generation 69 - Current best internal CV score: 1.4093707392817877e-07\n"
     ]
    },
    {
     "name": "stderr",
     "output_type": "stream",
     "text": [
      "Optimization Progress:  48%|████▊     | 8110/17030 [56:11<1:04:38,  2.30pipeline/s]"
     ]
    },
    {
     "name": "stdout",
     "output_type": "stream",
     "text": [
      "Generation 70 - Current best internal CV score: 1.4093707392817877e-07\n"
     ]
    },
    {
     "name": "stderr",
     "output_type": "stream",
     "text": [
      "Optimization Progress:  48%|████▊     | 8211/17030 [57:01<1:24:30,  1.74pipeline/s]"
     ]
    },
    {
     "name": "stdout",
     "output_type": "stream",
     "text": [
      "Generation 71 - Current best internal CV score: 1.4093707392817877e-07\n"
     ]
    },
    {
     "name": "stderr",
     "output_type": "stream",
     "text": [
      "Optimization Progress:  49%|████▉     | 8315/17030 [57:41<1:16:43,  1.89pipeline/s]"
     ]
    },
    {
     "name": "stdout",
     "output_type": "stream",
     "text": [
      "Generation 72 - Current best internal CV score: 1.4093707392817877e-07\n"
     ]
    },
    {
     "name": "stderr",
     "output_type": "stream",
     "text": [
      "Optimization Progress:  49%|████▉     | 8428/17030 [58:27<1:34:39,  1.51pipeline/s]"
     ]
    },
    {
     "name": "stdout",
     "output_type": "stream",
     "text": [
      "Generation 73 - Current best internal CV score: 1.4093707392817877e-07\n"
     ]
    },
    {
     "name": "stderr",
     "output_type": "stream",
     "text": [
      "Optimization Progress:  50%|█████     | 8539/17030 [59:14<1:20:51,  1.75pipeline/s]"
     ]
    },
    {
     "name": "stdout",
     "output_type": "stream",
     "text": [
      "Generation 74 - Current best internal CV score: 1.4093707392817877e-07\n"
     ]
    },
    {
     "name": "stderr",
     "output_type": "stream",
     "text": [
      "Optimization Progress:  51%|█████     | 8648/17030 [1:00:02<1:55:54,  1.21pipeline/s]"
     ]
    },
    {
     "name": "stdout",
     "output_type": "stream",
     "text": [
      "Generation 75 - Current best internal CV score: 1.4093707392817877e-07\n"
     ]
    },
    {
     "name": "stderr",
     "output_type": "stream",
     "text": [
      "Optimization Progress:  51%|█████▏    | 8760/17030 [1:00:56<1:03:08,  2.18pipeline/s]"
     ]
    },
    {
     "name": "stdout",
     "output_type": "stream",
     "text": [
      "Generation 76 - Current best internal CV score: 1.226939406243359e-07\n"
     ]
    },
    {
     "name": "stderr",
     "output_type": "stream",
     "text": [
      "Optimization Progress:  52%|█████▏    | 8871/17030 [1:01:52<1:49:33,  1.24pipeline/s]"
     ]
    },
    {
     "name": "stdout",
     "output_type": "stream",
     "text": [
      "Generation 77 - Current best internal CV score: 1.226939406243359e-07\n"
     ]
    },
    {
     "name": "stderr",
     "output_type": "stream",
     "text": [
      "Optimization Progress:  53%|█████▎    | 8979/17030 [1:02:44<1:20:24,  1.67pipeline/s]"
     ]
    },
    {
     "name": "stdout",
     "output_type": "stream",
     "text": [
      "Generation 78 - Current best internal CV score: 1.226939406243359e-07\n"
     ]
    },
    {
     "name": "stderr",
     "output_type": "stream",
     "text": [
      "Optimization Progress:  53%|█████▎    | 9094/17030 [1:03:40<57:32,  2.30pipeline/s]  "
     ]
    },
    {
     "name": "stdout",
     "output_type": "stream",
     "text": [
      "Generation 79 - Current best internal CV score: 7.45801103281328e-08\n"
     ]
    },
    {
     "name": "stderr",
     "output_type": "stream",
     "text": [
      "Optimization Progress:  54%|█████▍    | 9194/17030 [1:04:29<1:23:30,  1.56pipeline/s] "
     ]
    },
    {
     "name": "stdout",
     "output_type": "stream",
     "text": [
      "Generation 80 - Current best internal CV score: 7.45801103281328e-08\n"
     ]
    },
    {
     "name": "stderr",
     "output_type": "stream",
     "text": [
      "Optimization Progress:  55%|█████▍    | 9305/17030 [1:05:17<58:17,  2.21pipeline/s]  "
     ]
    },
    {
     "name": "stdout",
     "output_type": "stream",
     "text": [
      "Generation 81 - Current best internal CV score: 7.45801103281328e-08\n"
     ]
    },
    {
     "name": "stderr",
     "output_type": "stream",
     "text": [
      "Optimization Progress:  55%|█████▌    | 9412/17030 [1:06:09<2:05:21,  1.01pipeline/s] "
     ]
    },
    {
     "name": "stdout",
     "output_type": "stream",
     "text": [
      "Generation 82 - Current best internal CV score: 7.45801103281328e-08\n"
     ]
    },
    {
     "name": "stderr",
     "output_type": "stream",
     "text": [
      "Optimization Progress:  56%|█████▌    | 9513/17030 [1:07:07<1:51:24,  1.12pipeline/s]"
     ]
    },
    {
     "name": "stdout",
     "output_type": "stream",
     "text": [
      "Generation 83 - Current best internal CV score: 7.45801103281328e-08\n"
     ]
    },
    {
     "name": "stderr",
     "output_type": "stream",
     "text": [
      "Optimization Progress:  56%|█████▋    | 9614/17030 [1:08:00<1:36:40,  1.28pipeline/s]"
     ]
    },
    {
     "name": "stdout",
     "output_type": "stream",
     "text": [
      "Generation 84 - Current best internal CV score: 7.45801103281328e-08\n"
     ]
    },
    {
     "name": "stderr",
     "output_type": "stream",
     "text": [
      "Optimization Progress:  57%|█████▋    | 9719/17030 [1:08:46<1:11:33,  1.70pipeline/s]"
     ]
    },
    {
     "name": "stdout",
     "output_type": "stream",
     "text": [
      "Generation 85 - Current best internal CV score: 7.45801103281328e-08\n"
     ]
    },
    {
     "name": "stderr",
     "output_type": "stream",
     "text": [
      "Optimization Progress:  58%|█████▊    | 9830/17030 [1:09:40<1:15:22,  1.59pipeline/s]"
     ]
    },
    {
     "name": "stdout",
     "output_type": "stream",
     "text": [
      "Generation 86 - Current best internal CV score: 7.45801103281328e-08\n"
     ]
    },
    {
     "name": "stderr",
     "output_type": "stream",
     "text": [
      "Optimization Progress:  58%|█████▊    | 9930/17030 [1:10:31<1:14:16,  1.59pipeline/s] "
     ]
    },
    {
     "name": "stdout",
     "output_type": "stream",
     "text": [
      "Generation 87 - Current best internal CV score: 7.45801103281328e-08\n"
     ]
    },
    {
     "name": "stderr",
     "output_type": "stream",
     "text": [
      "Optimization Progress:  59%|█████▉    | 10036/17030 [1:11:28<1:23:14,  1.40pipeline/s]"
     ]
    },
    {
     "name": "stdout",
     "output_type": "stream",
     "text": [
      "Generation 88 - Current best internal CV score: 6.475946565548138e-08\n"
     ]
    },
    {
     "name": "stderr",
     "output_type": "stream",
     "text": [
      "Optimization Progress:  60%|█████▉    | 10143/17030 [1:12:23<1:24:27,  1.36pipeline/s]"
     ]
    },
    {
     "name": "stdout",
     "output_type": "stream",
     "text": [
      "Generation 89 - Current best internal CV score: 6.475946565548138e-08\n"
     ]
    },
    {
     "name": "stderr",
     "output_type": "stream",
     "text": [
      "Optimization Progress:  60%|██████    | 10253/17030 [1:13:25<1:34:34,  1.19pipeline/s]"
     ]
    },
    {
     "name": "stdout",
     "output_type": "stream",
     "text": [
      "Generation 90 - Current best internal CV score: 6.475946565548138e-08\n"
     ]
    },
    {
     "name": "stderr",
     "output_type": "stream",
     "text": [
      "Optimization Progress:  61%|██████    | 10358/17030 [1:14:12<1:10:13,  1.58pipeline/s]"
     ]
    },
    {
     "name": "stdout",
     "output_type": "stream",
     "text": [
      "Generation 91 - Current best internal CV score: 6.475946565548138e-08\n"
     ]
    },
    {
     "name": "stderr",
     "output_type": "stream",
     "text": [
      "                                                                                      \r"
     ]
    },
    {
     "name": "stdout",
     "output_type": "stream",
     "text": [
      "\n",
      "Best pipeline: LassoLarsCV(ExtraTreesRegressor(LassoLarsCV(PCA(input_matrix, PCA__iterated_power=DEFAULT, PCA__svd_solver=DEFAULT), LassoLarsCV__normalize=DEFAULT), ExtraTreesRegressor__bootstrap=DEFAULT, ExtraTreesRegressor__max_features=0.85, ExtraTreesRegressor__min_samples_leaf=1, ExtraTreesRegressor__min_samples_split=2, ExtraTreesRegressor__n_estimators=100), LassoLarsCV__normalize=True)\n"
     ]
    },
    {
     "name": "stderr",
     "output_type": "stream",
     "text": [
      "/Users/zakcostello/anaconda/lib/python3.6/site-packages/sklearn/linear_model/least_angle.py:334: ConvergenceWarning: Early stopping the lars path, as the residues are small and the current value of alpha is no longer well controlled. 15 iterations, alpha=2.405e-05, previous alpha=2.236e-07, with an active set of 8 regressors.\n",
      "  ConvergenceWarning)\n"
     ]
    },
    {
     "name": "stdout",
     "output_type": "stream",
     "text": [
      "HMG-CoA (uM)\n"
     ]
    },
    {
     "data": {
      "image/png": "[encoded data removed]",
      "text/plain": [
       "<matplotlib.figure.Figure at 0x1174454a8>"
      ]
     },
     "metadata": {},
     "output_type": "display_data"
    },
    {
     "name": "stdout",
     "output_type": "stream",
     "text": [
      "IPP/DMAPP (uM)\n",
      "Warning: xgboost.XGBRegressor is not available and will not be used by TPOT.\n"
     ]
    },
    {
     "name": "stderr",
     "output_type": "stream",
     "text": [
      "Optimization Progress:   1%|▏         | 228/17030 [01:02<1:13:43,  3.80pipeline/s]"
     ]
    },
    {
     "name": "stdout",
     "output_type": "stream",
     "text": [
      "Generation 1 - Current best internal CV score: 0.08634022117397429\n"
     ]
    },
    {
     "name": "stderr",
     "output_type": "stream",
     "text": [
      "Optimization Progress:   2%|▏         | 345/17030 [01:59<1:32:01,  3.02pipeline/s]"
     ]
    },
    {
     "name": "stdout",
     "output_type": "stream",
     "text": [
      "Generation 2 - Current best internal CV score: 0.0706173412191333\n"
     ]
    },
    {
     "name": "stderr",
     "output_type": "stream",
     "text": [
      "Optimization Progress:   3%|▎         | 460/17030 [02:48<1:07:47,  4.07pipeline/s]"
     ]
    },
    {
     "name": "stdout",
     "output_type": "stream",
     "text": [
      "Generation 3 - Current best internal CV score: 0.0706173412191333\n"
     ]
    },
    {
     "name": "stderr",
     "output_type": "stream",
     "text": [
      "Optimization Progress:   3%|▎         | 576/17030 [03:36<1:35:01,  2.89pipeline/s]"
     ]
    },
    {
     "name": "stdout",
     "output_type": "stream",
     "text": [
      "Generation 4 - Current best internal CV score: 0.0706173412191333\n"
     ]
    },
    {
     "name": "stderr",
     "output_type": "stream",
     "text": [
      "Optimization Progress:   4%|▍         | 696/17030 [04:31<1:24:36,  3.22pipeline/s]"
     ]
    },
    {
     "name": "stdout",
     "output_type": "stream",
     "text": [
      "Generation 5 - Current best internal CV score: 0.0587666194920813\n"
     ]
    },
    {
     "name": "stderr",
     "output_type": "stream",
     "text": [
      "Optimization Progress:   5%|▍         | 816/17030 [05:06<1:02:53,  4.30pipeline/s]"
     ]
    },
    {
     "name": "stdout",
     "output_type": "stream",
     "text": [
      "Generation 6 - Current best internal CV score: 0.0587666194920813\n"
     ]
    },
    {
     "name": "stderr",
     "output_type": "stream",
     "text": [
      "Optimization Progress:   6%|▌         | 939/17030 [06:06<1:37:58,  2.74pipeline/s]"
     ]
    },
    {
     "name": "stdout",
     "output_type": "stream",
     "text": [
      "Generation 7 - Current best internal CV score: 0.038492043220715526\n"
     ]
    },
    {
     "name": "stderr",
     "output_type": "stream",
     "text": [
      "Optimization Progress:   6%|▌         | 1055/17030 [07:20<2:18:22,  1.92pipeline/s]"
     ]
    },
    {
     "name": "stdout",
     "output_type": "stream",
     "text": [
      "Generation 8 - Current best internal CV score: 0.038492043220715526\n"
     ]
    },
    {
     "name": "stderr",
     "output_type": "stream",
     "text": [
      "Optimization Progress:   7%|▋         | 1181/17030 [08:37<2:05:05,  2.11pipeline/s]"
     ]
    },
    {
     "name": "stdout",
     "output_type": "stream",
     "text": [
      "Generation 9 - Current best internal CV score: 0.038492043220715526\n"
     ]
    },
    {
     "name": "stderr",
     "output_type": "stream",
     "text": [
      "Optimization Progress:   8%|▊         | 1300/17030 [09:56<1:19:14,  3.31pipeline/s] "
     ]
    },
    {
     "name": "stdout",
     "output_type": "stream",
     "text": [
      "Generation 10 - Current best internal CV score: 0.038492043220715526\n"
     ]
    },
    {
     "name": "stderr",
     "output_type": "stream",
     "text": [
      "Optimization Progress:   8%|▊         | 1418/17030 [11:14<2:02:20,  2.13pipeline/s] "
     ]
    },
    {
     "name": "stdout",
     "output_type": "stream",
     "text": [
      "Generation 11 - Current best internal CV score: 0.038492043220715526\n"
     ]
    },
    {
     "name": "stderr",
     "output_type": "stream",
     "text": [
      "Optimization Progress:   9%|▉         | 1541/17030 [12:16<1:44:56,  2.46pipeline/s] "
     ]
    },
    {
     "name": "stdout",
     "output_type": "stream",
     "text": [
      "Generation 12 - Current best internal CV score: 0.034858041229900424\n"
     ]
    },
    {
     "name": "stderr",
     "output_type": "stream",
     "text": [
      "Optimization Progress:  10%|▉         | 1665/17030 [13:27<1:17:10,  3.32pipeline/s]"
     ]
    },
    {
     "name": "stdout",
     "output_type": "stream",
     "text": [
      "Generation 13 - Current best internal CV score: 0.03211698006136242\n"
     ]
    },
    {
     "name": "stderr",
     "output_type": "stream",
     "text": [
      "Optimization Progress:  11%|█         | 1792/17030 [14:40<1:11:57,  3.53pipeline/s] "
     ]
    },
    {
     "name": "stdout",
     "output_type": "stream",
     "text": [
      "Generation 14 - Current best internal CV score: 0.03211698006136242\n"
     ]
    },
    {
     "name": "stderr",
     "output_type": "stream",
     "text": [
      "Optimization Progress:  11%|█         | 1914/17030 [15:40<1:10:46,  3.56pipeline/s] "
     ]
    },
    {
     "name": "stdout",
     "output_type": "stream",
     "text": [
      "Generation 15 - Current best internal CV score: 0.03211698006136242\n"
     ]
    },
    {
     "name": "stderr",
     "output_type": "stream",
     "text": [
      "Optimization Progress:  12%|█▏        | 2040/17030 [16:34<1:28:47,  2.81pipeline/s] "
     ]
    },
    {
     "name": "stdout",
     "output_type": "stream",
     "text": [
      "Generation 16 - Current best internal CV score: 0.03211698006136242\n"
     ]
    },
    {
     "name": "stderr",
     "output_type": "stream",
     "text": [
      "Optimization Progress:  13%|█▎        | 2160/17030 [17:15<1:00:45,  4.08pipeline/s]"
     ]
    },
    {
     "name": "stdout",
     "output_type": "stream",
     "text": [
      "Generation 17 - Current best internal CV score: 0.03211698006136242\n"
     ]
    },
    {
     "name": "stderr",
     "output_type": "stream",
     "text": [
      "Optimization Progress:  13%|█▎        | 2278/17030 [18:00<1:15:12,  3.27pipeline/s]"
     ]
    },
    {
     "name": "stdout",
     "output_type": "stream",
     "text": [
      "Generation 18 - Current best internal CV score: 0.03211698006136242\n"
     ]
    },
    {
     "name": "stderr",
     "output_type": "stream",
     "text": [
      "Optimization Progress:  14%|█▍        | 2402/17030 [18:42<1:07:27,  3.61pipeline/s] "
     ]
    },
    {
     "name": "stdout",
     "output_type": "stream",
     "text": [
      "Generation 19 - Current best internal CV score: 0.03195660430866014\n"
     ]
    },
    {
     "name": "stderr",
     "output_type": "stream",
     "text": [
      "Optimization Progress:  15%|█▍        | 2527/17030 [19:28<1:11:06,  3.40pipeline/s]"
     ]
    },
    {
     "name": "stdout",
     "output_type": "stream",
     "text": [
      "Generation 20 - Current best internal CV score: 0.03195660430866014\n"
     ]
    },
    {
     "name": "stderr",
     "output_type": "stream",
     "text": [
      "Optimization Progress:  16%|█▌        | 2655/17030 [20:12<1:06:53,  3.58pipeline/s] "
     ]
    },
    {
     "name": "stdout",
     "output_type": "stream",
     "text": [
      "Generation 21 - Current best internal CV score: 0.03195660430866014\n"
     ]
    },
    {
     "name": "stderr",
     "output_type": "stream",
     "text": [
      "Optimization Progress:  16%|█▋        | 2780/17030 [37:17<1:42:32,  2.32pipeline/s]  "
     ]
    },
    {
     "name": "stdout",
     "output_type": "stream",
     "text": [
      "Generation 22 - Current best internal CV score: 0.027456995841762165\n"
     ]
    },
    {
     "name": "stderr",
     "output_type": "stream",
     "text": [
      "Optimization Progress:  17%|█▋        | 2908/17030 [38:06<1:52:06,  2.10pipeline/s] "
     ]
    },
    {
     "name": "stdout",
     "output_type": "stream",
     "text": [
      "Generation 23 - Current best internal CV score: 0.0246938825190337\n"
     ]
    },
    {
     "name": "stderr",
     "output_type": "stream",
     "text": [
      "Optimization Progress:  18%|█▊        | 3034/17030 [38:52<1:16:00,  3.07pipeline/s]"
     ]
    },
    {
     "name": "stdout",
     "output_type": "stream",
     "text": [
      "Generation 24 - Current best internal CV score: 0.0246938825190337\n"
     ]
    },
    {
     "name": "stderr",
     "output_type": "stream",
     "text": [
      "Optimization Progress:  19%|█▊        | 3154/17030 [39:34<54:59,  4.21pipeline/s]  "
     ]
    },
    {
     "name": "stdout",
     "output_type": "stream",
     "text": [
      "Generation 25 - Current best internal CV score: 0.0246938825190337\n"
     ]
    },
    {
     "name": "stderr",
     "output_type": "stream",
     "text": [
      "Optimization Progress:  19%|█▉        | 3281/17030 [40:17<1:01:15,  3.74pipeline/s] "
     ]
    },
    {
     "name": "stdout",
     "output_type": "stream",
     "text": [
      "Generation 26 - Current best internal CV score: 0.0246938825190337\n"
     ]
    },
    {
     "name": "stderr",
     "output_type": "stream",
     "text": [
      "Optimization Progress:  20%|██        | 3409/17030 [41:04<1:15:55,  2.99pipeline/s] "
     ]
    },
    {
     "name": "stdout",
     "output_type": "stream",
     "text": [
      "Generation 27 - Current best internal CV score: 0.018021256115470875\n"
     ]
    },
    {
     "name": "stderr",
     "output_type": "stream",
     "text": [
      "Optimization Progress:  21%|██        | 3533/17030 [41:47<1:06:18,  3.39pipeline/s]"
     ]
    },
    {
     "name": "stdout",
     "output_type": "stream",
     "text": [
      "Generation 28 - Current best internal CV score: 0.018021256115470875\n"
     ]
    },
    {
     "name": "stderr",
     "output_type": "stream",
     "text": [
      "Optimization Progress:  21%|██▏       | 3658/17030 [42:23<51:56,  4.29pipeline/s]   "
     ]
    },
    {
     "name": "stdout",
     "output_type": "stream",
     "text": [
      "Generation 29 - Current best internal CV score: 0.018021256115470875\n"
     ]
    },
    {
     "name": "stderr",
     "output_type": "stream",
     "text": [
      "Optimization Progress:  22%|██▏       | 3784/17030 [45:32<1:06:14,  3.33pipeline/s]  "
     ]
    },
    {
     "name": "stdout",
     "output_type": "stream",
     "text": [
      "Generation 30 - Current best internal CV score: 0.018021256115470875\n"
     ]
    },
    {
     "name": "stderr",
     "output_type": "stream",
     "text": [
      "Optimization Progress:  23%|██▎       | 3909/17030 [46:10<1:14:29,  2.94pipeline/s]"
     ]
    },
    {
     "name": "stdout",
     "output_type": "stream",
     "text": [
      "Generation 31 - Current best internal CV score: 0.018021256115470875\n"
     ]
    },
    {
     "name": "stderr",
     "output_type": "stream",
     "text": [
      "Optimization Progress:  24%|██▎       | 4031/17030 [46:42<52:26,  4.13pipeline/s]  "
     ]
    },
    {
     "name": "stdout",
     "output_type": "stream",
     "text": [
      "Generation 32 - Current best internal CV score: 0.018021256115470875\n"
     ]
    },
    {
     "name": "stderr",
     "output_type": "stream",
     "text": [
      "Optimization Progress:  24%|██▍       | 4157/17030 [47:29<1:02:37,  3.43pipeline/s]"
     ]
    },
    {
     "name": "stdout",
     "output_type": "stream",
     "text": [
      "Generation 33 - Current best internal CV score: 0.018021256115470875\n"
     ]
    },
    {
     "name": "stderr",
     "output_type": "stream",
     "text": [
      "Optimization Progress:  25%|██▌       | 4284/17030 [48:08<49:41,  4.27pipeline/s]   "
     ]
    },
    {
     "name": "stdout",
     "output_type": "stream",
     "text": [
      "Generation 34 - Current best internal CV score: 0.018021256115470875\n"
     ]
    },
    {
     "name": "stderr",
     "output_type": "stream",
     "text": [
      "Optimization Progress:  26%|██▌       | 4409/17030 [48:49<59:22,  3.54pipeline/s]   "
     ]
    },
    {
     "name": "stdout",
     "output_type": "stream",
     "text": [
      "Generation 35 - Current best internal CV score: 0.018021256115470875\n"
     ]
    },
    {
     "name": "stderr",
     "output_type": "stream",
     "text": [
      "Optimization Progress:  27%|██▋       | 4536/17030 [49:40<1:51:24,  1.87pipeline/s]"
     ]
    },
    {
     "name": "stdout",
     "output_type": "stream",
     "text": [
      "Generation 36 - Current best internal CV score: 0.018021256115470875\n"
     ]
    },
    {
     "name": "stderr",
     "output_type": "stream",
     "text": [
      "Optimization Progress:  27%|██▋       | 4660/17030 [50:25<56:14,  3.67pipeline/s]  "
     ]
    },
    {
     "name": "stdout",
     "output_type": "stream",
     "text": [
      "Generation 37 - Current best internal CV score: 0.018021256115470875\n"
     ]
    },
    {
     "name": "stderr",
     "output_type": "stream",
     "text": [
      "Optimization Progress:  28%|██▊       | 4785/17030 [51:06<59:48,  3.41pipeline/s]   "
     ]
    },
    {
     "name": "stdout",
     "output_type": "stream",
     "text": [
      "Generation 38 - Current best internal CV score: 0.018021256115470875\n"
     ]
    },
    {
     "name": "stderr",
     "output_type": "stream",
     "text": [
      "Optimization Progress:  29%|██▉       | 4911/17030 [51:55<1:01:03,  3.31pipeline/s] "
     ]
    },
    {
     "name": "stdout",
     "output_type": "stream",
     "text": [
      "Generation 39 - Current best internal CV score: 0.018021256115470875\n"
     ]
    },
    {
     "name": "stderr",
     "output_type": "stream",
     "text": [
      "Optimization Progress:  30%|██▉       | 5037/17030 [52:38<1:07:07,  2.98pipeline/s]"
     ]
    },
    {
     "name": "stdout",
     "output_type": "stream",
     "text": [
      "Generation 40 - Current best internal CV score: 0.018021256115470875\n"
     ]
    },
    {
     "name": "stderr",
     "output_type": "stream",
     "text": [
      "Optimization Progress:  30%|███       | 5162/17030 [53:21<1:17:39,  2.55pipeline/s]"
     ]
    },
    {
     "name": "stdout",
     "output_type": "stream",
     "text": [
      "Generation 41 - Current best internal CV score: 0.018021256115470875\n"
     ]
    },
    {
     "name": "stderr",
     "output_type": "stream",
     "text": [
      "Optimization Progress:  31%|███       | 5284/17030 [54:06<51:49,  3.78pipeline/s]  "
     ]
    },
    {
     "name": "stdout",
     "output_type": "stream",
     "text": [
      "Generation 42 - Current best internal CV score: 0.018021256115470875\n"
     ]
    },
    {
     "name": "stderr",
     "output_type": "stream",
     "text": [
      "Optimization Progress:  32%|███▏      | 5409/17030 [54:52<1:11:15,  2.72pipeline/s] "
     ]
    },
    {
     "name": "stdout",
     "output_type": "stream",
     "text": [
      "Generation 43 - Current best internal CV score: 0.018021256115470875\n"
     ]
    },
    {
     "name": "stderr",
     "output_type": "stream",
     "text": [
      "Optimization Progress:  32%|███▏      | 5533/17030 [55:40<1:07:27,  2.84pipeline/s]"
     ]
    },
    {
     "name": "stdout",
     "output_type": "stream",
     "text": [
      "Generation 44 - Current best internal CV score: 0.018021256115470875\n"
     ]
    },
    {
     "name": "stderr",
     "output_type": "stream",
     "text": [
      "Optimization Progress:  33%|███▎      | 5658/17030 [56:22<56:25,  3.36pipeline/s]   "
     ]
    },
    {
     "name": "stdout",
     "output_type": "stream",
     "text": [
      "Generation 45 - Current best internal CV score: 0.018021256115470875\n"
     ]
    },
    {
     "name": "stderr",
     "output_type": "stream",
     "text": [
      "Optimization Progress:  34%|███▍      | 5782/17030 [57:08<1:41:33,  1.85pipeline/s]"
     ]
    },
    {
     "name": "stdout",
     "output_type": "stream",
     "text": [
      "Generation 46 - Current best internal CV score: 0.018021256115470875\n"
     ]
    },
    {
     "name": "stderr",
     "output_type": "stream",
     "text": [
      "Optimization Progress:  35%|███▍      | 5903/17030 [57:47<1:01:43,  3.00pipeline/s]"
     ]
    },
    {
     "name": "stdout",
     "output_type": "stream",
     "text": [
      "Generation 47 - Current best internal CV score: 0.018021256115470875\n"
     ]
    },
    {
     "name": "stderr",
     "output_type": "stream",
     "text": [
      "Optimization Progress:  35%|███▌      | 6023/17030 [58:33<1:23:13,  2.20pipeline/s]"
     ]
    },
    {
     "name": "stdout",
     "output_type": "stream",
     "text": [
      "Generation 48 - Current best internal CV score: 0.018021256115470875\n"
     ]
    },
    {
     "name": "stderr",
     "output_type": "stream",
     "text": [
      "Optimization Progress:  36%|███▌      | 6144/17030 [59:11<49:44,  3.65pipeline/s]  "
     ]
    },
    {
     "name": "stdout",
     "output_type": "stream",
     "text": [
      "Generation 49 - Current best internal CV score: 0.018021256115470875\n"
     ]
    },
    {
     "name": "stderr",
     "output_type": "stream",
     "text": [
      "Optimization Progress:  37%|███▋      | 6265/17030 [59:49<1:06:48,  2.69pipeline/s] "
     ]
    },
    {
     "name": "stdout",
     "output_type": "stream",
     "text": [
      "Generation 50 - Current best internal CV score: 0.018021256115470875\n"
     ]
    },
    {
     "name": "stderr",
     "output_type": "stream",
     "text": [
      "Optimization Progress:  38%|███▊      | 6387/17030 [1:00:28<1:08:02,  2.61pipeline/s] "
     ]
    },
    {
     "name": "stdout",
     "output_type": "stream",
     "text": [
      "Generation 51 - Current best internal CV score: 0.018021256115470875\n"
     ]
    },
    {
     "name": "stderr",
     "output_type": "stream",
     "text": [
      "Optimization Progress:  38%|███▊      | 6510/17030 [1:01:02<57:07,  3.07pipeline/s]  "
     ]
    },
    {
     "name": "stdout",
     "output_type": "stream",
     "text": [
      "Generation 52 - Current best internal CV score: 0.018021256115470875\n"
     ]
    },
    {
     "name": "stderr",
     "output_type": "stream",
     "text": [
      "Optimization Progress:  39%|███▉      | 6631/17030 [1:01:41<49:29,  3.50pipeline/s]  "
     ]
    },
    {
     "name": "stdout",
     "output_type": "stream",
     "text": [
      "Generation 53 - Current best internal CV score: 0.018021256115470875\n"
     ]
    },
    {
     "name": "stderr",
     "output_type": "stream",
     "text": [
      "Optimization Progress:  40%|███▉      | 6752/17030 [1:02:28<50:53,  3.37pipeline/s]   "
     ]
    },
    {
     "name": "stdout",
     "output_type": "stream",
     "text": [
      "Generation 54 - Current best internal CV score: 0.018021256115470875\n"
     ]
    },
    {
     "name": "stderr",
     "output_type": "stream",
     "text": [
      "Optimization Progress:  40%|████      | 6880/17030 [1:03:05<54:40,  3.09pipeline/s]   "
     ]
    },
    {
     "name": "stdout",
     "output_type": "stream",
     "text": [
      "Generation 55 - Current best internal CV score: 0.018021256115470875\n"
     ]
    },
    {
     "name": "stderr",
     "output_type": "stream",
     "text": [
      "Optimization Progress:  41%|████      | 7003/17030 [1:03:34<39:05,  4.27pipeline/s]  "
     ]
    },
    {
     "name": "stdout",
     "output_type": "stream",
     "text": [
      "Generation 56 - Current best internal CV score: 0.018021256115470875\n"
     ]
    },
    {
     "name": "stderr",
     "output_type": "stream",
     "text": [
      "Optimization Progress:  42%|████▏     | 7128/17030 [1:04:10<51:08,  3.23pipeline/s]   "
     ]
    },
    {
     "name": "stdout",
     "output_type": "stream",
     "text": [
      "Generation 57 - Current best internal CV score: 0.018021256115470875\n"
     ]
    },
    {
     "name": "stderr",
     "output_type": "stream",
     "text": [
      "Optimization Progress:  43%|████▎     | 7245/17030 [1:04:45<1:23:31,  1.95pipeline/s]"
     ]
    },
    {
     "name": "stdout",
     "output_type": "stream",
     "text": [
      "Generation 58 - Current best internal CV score: 0.018021256115470875\n"
     ]
    },
    {
     "name": "stderr",
     "output_type": "stream",
     "text": [
      "Optimization Progress:  43%|████▎     | 7365/17030 [1:05:28<52:48,  3.05pipeline/s]  "
     ]
    },
    {
     "name": "stdout",
     "output_type": "stream",
     "text": [
      "Generation 59 - Current best internal CV score: 0.018021256115470875\n"
     ]
    },
    {
     "name": "stderr",
     "output_type": "stream",
     "text": [
      "Optimization Progress:  44%|████▍     | 7483/17030 [1:06:09<47:41,  3.34pipeline/s]  "
     ]
    },
    {
     "name": "stdout",
     "output_type": "stream",
     "text": [
      "Generation 60 - Current best internal CV score: 0.018021256115470875\n"
     ]
    },
    {
     "name": "stderr",
     "output_type": "stream",
     "text": [
      "Optimization Progress:  45%|████▍     | 7603/17030 [1:06:42<38:57,  4.03pipeline/s]  "
     ]
    },
    {
     "name": "stdout",
     "output_type": "stream",
     "text": [
      "Generation 61 - Current best internal CV score: 0.018021256115470875\n"
     ]
    },
    {
     "name": "stderr",
     "output_type": "stream",
     "text": [
      "Optimization Progress:  45%|████▌     | 7727/17030 [1:07:20<56:26,  2.75pipeline/s]  "
     ]
    },
    {
     "name": "stdout",
     "output_type": "stream",
     "text": [
      "Generation 62 - Current best internal CV score: 0.018021256115470875\n"
     ]
    },
    {
     "name": "stderr",
     "output_type": "stream",
     "text": [
      "Optimization Progress:  46%|████▌     | 7850/17030 [1:07:52<42:52,  3.57pipeline/s]   "
     ]
    },
    {
     "name": "stdout",
     "output_type": "stream",
     "text": [
      "Generation 63 - Current best internal CV score: 0.018021256115470875\n"
     ]
    },
    {
     "name": "stderr",
     "output_type": "stream",
     "text": [
      "Optimization Progress:  47%|████▋     | 7971/17030 [1:08:23<50:45,  2.97pipeline/s]  "
     ]
    },
    {
     "name": "stdout",
     "output_type": "stream",
     "text": [
      "Generation 64 - Current best internal CV score: 0.018021256115470875\n"
     ]
    },
    {
     "name": "stderr",
     "output_type": "stream",
     "text": [
      "Optimization Progress:  48%|████▊     | 8094/17030 [1:08:59<1:04:56,  2.29pipeline/s]"
     ]
    },
    {
     "name": "stdout",
     "output_type": "stream",
     "text": [
      "Generation 65 - Current best internal CV score: 0.018021256115470875\n"
     ]
    },
    {
     "name": "stderr",
     "output_type": "stream",
     "text": [
      "Optimization Progress:  48%|████▊     | 8210/17030 [1:09:41<44:27,  3.31pipeline/s]  "
     ]
    },
    {
     "name": "stdout",
     "output_type": "stream",
     "text": [
      "Generation 66 - Current best internal CV score: 0.018021256115470875\n"
     ]
    },
    {
     "name": "stderr",
     "output_type": "stream",
     "text": [
      "Optimization Progress:  49%|████▉     | 8326/17030 [1:10:16<57:35,  2.52pipeline/s]  "
     ]
    },
    {
     "name": "stdout",
     "output_type": "stream",
     "text": [
      "Generation 67 - Current best internal CV score: 0.018021256115470875\n"
     ]
    },
    {
     "name": "stderr",
     "output_type": "stream",
     "text": [
      "Optimization Progress:  50%|████▉     | 8441/17030 [1:10:40<52:29,  2.73pipeline/s]  "
     ]
    },
    {
     "name": "stdout",
     "output_type": "stream",
     "text": [
      "Generation 68 - Current best internal CV score: 0.018021256115470875\n"
     ]
    },
    {
     "name": "stderr",
     "output_type": "stream",
     "text": [
      "Optimization Progress:  50%|█████     | 8559/17030 [1:11:22<49:03,  2.88pipeline/s]  "
     ]
    },
    {
     "name": "stdout",
     "output_type": "stream",
     "text": [
      "Generation 69 - Current best internal CV score: 0.018021256115470875\n"
     ]
    },
    {
     "name": "stderr",
     "output_type": "stream",
     "text": [
      "Optimization Progress:  51%|█████     | 8675/17030 [1:11:46<39:46,  3.50pipeline/s]  "
     ]
    },
    {
     "name": "stdout",
     "output_type": "stream",
     "text": [
      "Generation 70 - Current best internal CV score: 0.018021256115470875\n"
     ]
    },
    {
     "name": "stderr",
     "output_type": "stream",
     "text": [
      "Optimization Progress:  52%|█████▏    | 8793/17030 [1:12:18<1:00:36,  2.26pipeline/s] "
     ]
    },
    {
     "name": "stdout",
     "output_type": "stream",
     "text": [
      "Generation 71 - Current best internal CV score: 0.018021256115470875\n"
     ]
    },
    {
     "name": "stderr",
     "output_type": "stream",
     "text": [
      "Optimization Progress:  52%|█████▏    | 8911/17030 [1:12:46<43:58,  3.08pipeline/s]  "
     ]
    },
    {
     "name": "stdout",
     "output_type": "stream",
     "text": [
      "Generation 72 - Current best internal CV score: 0.018021256115470875\n"
     ]
    },
    {
     "name": "stderr",
     "output_type": "stream",
     "text": [
      "Optimization Progress:  53%|█████▎    | 9030/17030 [1:13:23<33:19,  4.00pipeline/s]  "
     ]
    },
    {
     "name": "stdout",
     "output_type": "stream",
     "text": [
      "Generation 73 - Current best internal CV score: 0.018021256115470875\n"
     ]
    },
    {
     "name": "stderr",
     "output_type": "stream",
     "text": [
      "Optimization Progress:  54%|█████▎    | 9148/17030 [1:13:57<59:37,  2.20pipeline/s]  "
     ]
    },
    {
     "name": "stdout",
     "output_type": "stream",
     "text": [
      "Generation 74 - Current best internal CV score: 0.018021256115470875\n"
     ]
    },
    {
     "name": "stderr",
     "output_type": "stream",
     "text": [
      "Optimization Progress:  54%|█████▍    | 9270/17030 [1:14:37<34:12,  3.78pipeline/s]  "
     ]
    },
    {
     "name": "stdout",
     "output_type": "stream",
     "text": [
      "Generation 75 - Current best internal CV score: 0.018021256115470875\n"
     ]
    },
    {
     "name": "stderr",
     "output_type": "stream",
     "text": [
      "Optimization Progress:  55%|█████▌    | 9387/17030 [1:15:00<50:46,  2.51pipeline/s]  "
     ]
    },
    {
     "name": "stdout",
     "output_type": "stream",
     "text": [
      "Generation 76 - Current best internal CV score: 0.018021256115470875\n"
     ]
    },
    {
     "name": "stderr",
     "output_type": "stream",
     "text": [
      "Optimization Progress:  56%|█████▌    | 9510/17030 [1:15:33<51:26,  2.44pipeline/s]  "
     ]
    },
    {
     "name": "stdout",
     "output_type": "stream",
     "text": [
      "Generation 77 - Current best internal CV score: 0.018021256115470875\n"
     ]
    },
    {
     "name": "stderr",
     "output_type": "stream",
     "text": [
      "Optimization Progress:  57%|█████▋    | 9630/17030 [1:16:02<1:00:05,  2.05pipeline/s]"
     ]
    },
    {
     "name": "stdout",
     "output_type": "stream",
     "text": [
      "Generation 78 - Current best internal CV score: 0.018021256115470875\n"
     ]
    },
    {
     "name": "stderr",
     "output_type": "stream",
     "text": [
      "Optimization Progress:  57%|█████▋    | 9750/17030 [1:16:40<49:37,  2.45pipeline/s]  "
     ]
    },
    {
     "name": "stdout",
     "output_type": "stream",
     "text": [
      "Generation 79 - Current best internal CV score: 0.018021256115470875\n"
     ]
    },
    {
     "name": "stderr",
     "output_type": "stream",
     "text": [
      "Optimization Progress:  58%|█████▊    | 9868/17030 [1:17:04<39:06,  3.05pipeline/s]  "
     ]
    },
    {
     "name": "stdout",
     "output_type": "stream",
     "text": [
      "Generation 80 - Current best internal CV score: 0.018021256115470875\n"
     ]
    },
    {
     "name": "stderr",
     "output_type": "stream",
     "text": [
      "Optimization Progress:  59%|█████▊    | 9985/17030 [1:17:37<51:29,  2.28pipeline/s]   "
     ]
    },
    {
     "name": "stdout",
     "output_type": "stream",
     "text": [
      "Generation 81 - Current best internal CV score: 0.016446099496323825\n"
     ]
    },
    {
     "name": "stderr",
     "output_type": "stream",
     "text": [
      "Optimization Progress:  59%|█████▉    | 10108/17030 [1:18:18<40:48,  2.83pipeline/s]  "
     ]
    },
    {
     "name": "stdout",
     "output_type": "stream",
     "text": [
      "Generation 82 - Current best internal CV score: 0.016446099496323825\n"
     ]
    },
    {
     "name": "stderr",
     "output_type": "stream",
     "text": [
      "Optimization Progress:  60%|██████    | 10226/17030 [1:18:56<32:48,  3.46pipeline/s]  "
     ]
    },
    {
     "name": "stdout",
     "output_type": "stream",
     "text": [
      "Generation 83 - Current best internal CV score: 0.016446099496323825\n"
     ]
    },
    {
     "name": "stderr",
     "output_type": "stream",
     "text": [
      "Optimization Progress:  61%|██████    | 10346/17030 [1:19:40<34:08,  3.26pipeline/s]  "
     ]
    },
    {
     "name": "stdout",
     "output_type": "stream",
     "text": [
      "Generation 84 - Current best internal CV score: 0.016446099496323825\n"
     ]
    },
    {
     "name": "stderr",
     "output_type": "stream",
     "text": [
      "Optimization Progress:  61%|██████▏   | 10464/17030 [1:20:15<1:12:25,  1.51pipeline/s] "
     ]
    },
    {
     "name": "stdout",
     "output_type": "stream",
     "text": [
      "Generation 85 - Current best internal CV score: 0.016446099496323825\n"
     ]
    },
    {
     "name": "stderr",
     "output_type": "stream",
     "text": [
      "Optimization Progress:  62%|██████▏   | 10581/17030 [1:20:56<31:26,  3.42pipeline/s]  "
     ]
    },
    {
     "name": "stdout",
     "output_type": "stream",
     "text": [
      "Generation 86 - Current best internal CV score: 0.016446099496323825\n"
     ]
    },
    {
     "name": "stderr",
     "output_type": "stream",
     "text": [
      "Optimization Progress:  63%|██████▎   | 10701/17030 [1:21:24<37:19,  2.83pipeline/s]  "
     ]
    },
    {
     "name": "stdout",
     "output_type": "stream",
     "text": [
      "Generation 87 - Current best internal CV score: 0.016446099496323825\n"
     ]
    },
    {
     "name": "stderr",
     "output_type": "stream",
     "text": [
      "Optimization Progress:  64%|██████▎   | 10816/17030 [1:21:54<57:22,  1.81pipeline/s]  "
     ]
    },
    {
     "name": "stdout",
     "output_type": "stream",
     "text": [
      "Generation 88 - Current best internal CV score: 0.016446099496323825\n"
     ]
    },
    {
     "name": "stderr",
     "output_type": "stream",
     "text": [
      "Optimization Progress:  64%|██████▍   | 10941/17030 [1:22:26<34:48,  2.92pipeline/s]  "
     ]
    },
    {
     "name": "stdout",
     "output_type": "stream",
     "text": [
      "Generation 89 - Current best internal CV score: 0.016446099496323825\n"
     ]
    },
    {
     "name": "stderr",
     "output_type": "stream",
     "text": [
      "Optimization Progress:  65%|██████▍   | 11063/17030 [1:23:08<41:21,  2.40pipeline/s]  "
     ]
    },
    {
     "name": "stdout",
     "output_type": "stream",
     "text": [
      "Generation 90 - Current best internal CV score: 0.016446099496323825\n"
     ]
    },
    {
     "name": "stderr",
     "output_type": "stream",
     "text": [
      "Optimization Progress:  66%|██████▌   | 11177/17030 [1:23:39<36:12,  2.69pipeline/s]  "
     ]
    },
    {
     "name": "stdout",
     "output_type": "stream",
     "text": [
      "Generation 91 - Current best internal CV score: 0.016446099496323825\n"
     ]
    },
    {
     "name": "stderr",
     "output_type": "stream",
     "text": [
      "Optimization Progress:  66%|██████▋   | 11290/17030 [1:24:20<34:47,  2.75pipeline/s]  "
     ]
    },
    {
     "name": "stdout",
     "output_type": "stream",
     "text": [
      "Generation 92 - Current best internal CV score: 0.016446099496323825\n"
     ]
    },
    {
     "name": "stderr",
     "output_type": "stream",
     "text": [
      "Optimization Progress:  67%|██████▋   | 11408/17030 [1:25:05<34:22,  2.73pipeline/s]  "
     ]
    },
    {
     "name": "stdout",
     "output_type": "stream",
     "text": [
      "Generation 93 - Current best internal CV score: 0.016446099496323825\n"
     ]
    },
    {
     "name": "stderr",
     "output_type": "stream",
     "text": [
      "Optimization Progress:  68%|██████▊   | 11518/17030 [1:25:35<47:56,  1.92pipeline/s]  "
     ]
    },
    {
     "name": "stdout",
     "output_type": "stream",
     "text": [
      "Generation 94 - Current best internal CV score: 0.016446099496323825\n"
     ]
    },
    {
     "name": "stderr",
     "output_type": "stream",
     "text": [
      "Optimization Progress:  68%|██████▊   | 11629/17030 [1:26:11<37:23,  2.41pipeline/s]   "
     ]
    },
    {
     "name": "stdout",
     "output_type": "stream",
     "text": [
      "Generation 95 - Current best internal CV score: 0.016446099496323825\n"
     ]
    },
    {
     "name": "stderr",
     "output_type": "stream",
     "text": [
      "Optimization Progress:  69%|██████▉   | 11742/17030 [1:26:51<30:56,  2.85pipeline/s]  "
     ]
    },
    {
     "name": "stdout",
     "output_type": "stream",
     "text": [
      "Generation 96 - Current best internal CV score: 0.016446099496323825\n"
     ]
    },
    {
     "name": "stderr",
     "output_type": "stream",
     "text": [
      "Optimization Progress:  70%|██████▉   | 11855/17030 [1:27:40<47:37,  1.81pipeline/s]  "
     ]
    },
    {
     "name": "stdout",
     "output_type": "stream",
     "text": [
      "Generation 97 - Current best internal CV score: 0.016446099496323825\n"
     ]
    },
    {
     "name": "stderr",
     "output_type": "stream",
     "text": [
      "Optimization Progress:  70%|███████   | 11973/17030 [1:28:13<39:24,  2.14pipeline/s]  "
     ]
    },
    {
     "name": "stdout",
     "output_type": "stream",
     "text": [
      "Generation 98 - Current best internal CV score: 0.016446099496323825\n"
     ]
    },
    {
     "name": "stderr",
     "output_type": "stream",
     "text": [
      "Optimization Progress:  71%|███████   | 12081/17030 [1:28:37<35:05,  2.35pipeline/s]  "
     ]
    },
    {
     "name": "stdout",
     "output_type": "stream",
     "text": [
      "Generation 99 - Current best internal CV score: 0.016446099496323825\n"
     ]
    },
    {
     "name": "stderr",
     "output_type": "stream",
     "text": [
      "Optimization Progress:  72%|███████▏  | 12192/17030 [1:29:18<55:49,  1.44pipeline/s]  "
     ]
    },
    {
     "name": "stdout",
     "output_type": "stream",
     "text": [
      "Generation 100 - Current best internal CV score: 0.016446099496323825\n"
     ]
    },
    {
     "name": "stderr",
     "output_type": "stream",
     "text": [
      "Optimization Progress:  72%|███████▏  | 12308/17030 [1:30:03<40:43,  1.93pipeline/s]  "
     ]
    },
    {
     "name": "stdout",
     "output_type": "stream",
     "text": [
      "Generation 101 - Current best internal CV score: 0.016446099496323825\n"
     ]
    },
    {
     "name": "stderr",
     "output_type": "stream",
     "text": [
      "Optimization Progress:  73%|███████▎  | 12421/17030 [1:30:39<33:06,  2.32pipeline/s]  "
     ]
    },
    {
     "name": "stdout",
     "output_type": "stream",
     "text": [
      "Generation 102 - Current best internal CV score: 0.016446099496323825\n"
     ]
    },
    {
     "name": "stderr",
     "output_type": "stream",
     "text": [
      "Optimization Progress:  74%|███████▎  | 12535/17030 [1:31:14<36:19,  2.06pipeline/s]  "
     ]
    },
    {
     "name": "stdout",
     "output_type": "stream",
     "text": [
      "Generation 103 - Current best internal CV score: 0.016446099496323825\n"
     ]
    },
    {
     "name": "stderr",
     "output_type": "stream",
     "text": [
      "Optimization Progress:  74%|███████▍  | 12651/17030 [1:31:46<29:53,  2.44pipeline/s]  "
     ]
    },
    {
     "name": "stdout",
     "output_type": "stream",
     "text": [
      "Generation 104 - Current best internal CV score: 0.016446099496323825\n"
     ]
    },
    {
     "name": "stderr",
     "output_type": "stream",
     "text": [
      "Optimization Progress:  75%|███████▍  | 12766/17030 [1:32:21<49:14,  1.44pipeline/s]  "
     ]
    },
    {
     "name": "stdout",
     "output_type": "stream",
     "text": [
      "Generation 105 - Current best internal CV score: 0.016446099496323825\n"
     ]
    },
    {
     "name": "stderr",
     "output_type": "stream",
     "text": [
      "Optimization Progress:  76%|███████▌  | 12876/17030 [1:33:06<35:08,  1.97pipeline/s]  "
     ]
    },
    {
     "name": "stdout",
     "output_type": "stream",
     "text": [
      "Generation 106 - Current best internal CV score: 0.016446099496323825\n"
     ]
    },
    {
     "name": "stderr",
     "output_type": "stream",
     "text": [
      "Optimization Progress:  76%|███████▋  | 12990/17030 [1:33:44<33:43,  2.00pipeline/s]  "
     ]
    },
    {
     "name": "stdout",
     "output_type": "stream",
     "text": [
      "Generation 107 - Current best internal CV score: 0.016446099496323825\n"
     ]
    },
    {
     "name": "stderr",
     "output_type": "stream",
     "text": [
      "Optimization Progress:  77%|███████▋  | 13108/17030 [1:34:16<27:46,  2.35pipeline/s]  "
     ]
    },
    {
     "name": "stdout",
     "output_type": "stream",
     "text": [
      "Generation 108 - Current best internal CV score: 0.016446099496323825\n"
     ]
    },
    {
     "name": "stderr",
     "output_type": "stream",
     "text": [
      "Optimization Progress:  78%|███████▊  | 13226/17030 [1:34:44<26:45,  2.37pipeline/s]  "
     ]
    },
    {
     "name": "stdout",
     "output_type": "stream",
     "text": [
      "Generation 109 - Current best internal CV score: 0.016446099496323825\n"
     ]
    },
    {
     "name": "stderr",
     "output_type": "stream",
     "text": [
      "Optimization Progress:  78%|███████▊  | 13343/17030 [1:35:18<39:37,  1.55pipeline/s]  "
     ]
    },
    {
     "name": "stdout",
     "output_type": "stream",
     "text": [
      "Generation 110 - Current best internal CV score: 0.016446099496323825\n"
     ]
    },
    {
     "name": "stderr",
     "output_type": "stream",
     "text": [
      "Optimization Progress:  79%|███████▉  | 13453/17030 [1:35:48<34:41,  1.72pipeline/s]  "
     ]
    },
    {
     "name": "stdout",
     "output_type": "stream",
     "text": [
      "Generation 111 - Current best internal CV score: 0.016446099496323825\n"
     ]
    },
    {
     "name": "stderr",
     "output_type": "stream",
     "text": [
      "Optimization Progress:  80%|███████▉  | 13569/17030 [1:36:19<21:27,  2.69pipeline/s]  "
     ]
    },
    {
     "name": "stdout",
     "output_type": "stream",
     "text": [
      "Generation 112 - Current best internal CV score: 0.016446099496323825\n"
     ]
    },
    {
     "name": "stderr",
     "output_type": "stream",
     "text": [
      "Optimization Progress:  80%|████████  | 13680/17030 [1:36:39<26:36,  2.10pipeline/s]  "
     ]
    },
    {
     "name": "stdout",
     "output_type": "stream",
     "text": [
      "Generation 113 - Current best internal CV score: 0.016446099496323825\n"
     ]
    },
    {
     "name": "stderr",
     "output_type": "stream",
     "text": [
      "Optimization Progress:  81%|████████  | 13794/17030 [1:37:03<29:02,  1.86pipeline/s]  "
     ]
    },
    {
     "name": "stdout",
     "output_type": "stream",
     "text": [
      "Generation 114 - Current best internal CV score: 0.016446099496323825\n"
     ]
    },
    {
     "name": "stderr",
     "output_type": "stream",
     "text": [
      "Optimization Progress:  82%|████████▏ | 13914/17030 [1:37:34<22:25,  2.32pipeline/s]  "
     ]
    },
    {
     "name": "stdout",
     "output_type": "stream",
     "text": [
      "Generation 115 - Current best internal CV score: 0.016446099496323825\n"
     ]
    },
    {
     "name": "stderr",
     "output_type": "stream",
     "text": [
      "Optimization Progress:  82%|████████▏ | 14035/17030 [1:38:04<25:43,  1.94pipeline/s]"
     ]
    },
    {
     "name": "stdout",
     "output_type": "stream",
     "text": [
      "Generation 116 - Current best internal CV score: 0.016446099496323825\n"
     ]
    },
    {
     "name": "stderr",
     "output_type": "stream",
     "text": [
      "Optimization Progress:  83%|████████▎ | 14150/17030 [1:38:24<19:53,  2.41pipeline/s]  "
     ]
    },
    {
     "name": "stdout",
     "output_type": "stream",
     "text": [
      "Generation 117 - Current best internal CV score: 0.016446099496323825\n"
     ]
    },
    {
     "name": "stderr",
     "output_type": "stream",
     "text": [
      "Optimization Progress:  84%|████████▍ | 14263/17030 [1:38:44<16:40,  2.77pipeline/s]  "
     ]
    },
    {
     "name": "stdout",
     "output_type": "stream",
     "text": [
      "Generation 118 - Current best internal CV score: 0.016446099496323825\n"
     ]
    },
    {
     "name": "stderr",
     "output_type": "stream",
     "text": [
      "Optimization Progress:  84%|████████▍ | 14386/17030 [1:39:02<28:17,  1.56pipeline/s]  "
     ]
    },
    {
     "name": "stdout",
     "output_type": "stream",
     "text": [
      "Generation 119 - Current best internal CV score: 0.016446099496323825\n"
     ]
    },
    {
     "name": "stderr",
     "output_type": "stream",
     "text": [
      "Optimization Progress:  85%|████████▌ | 14499/17030 [1:39:22<29:14,  1.44pipeline/s]  "
     ]
    },
    {
     "name": "stdout",
     "output_type": "stream",
     "text": [
      "Generation 120 - Current best internal CV score: 0.016446099496323825\n"
     ]
    },
    {
     "name": "stderr",
     "output_type": "stream",
     "text": [
      "Optimization Progress:  86%|████████▌ | 14614/17030 [1:39:46<15:51,  2.54pipeline/s]"
     ]
    },
    {
     "name": "stdout",
     "output_type": "stream",
     "text": [
      "Generation 121 - Current best internal CV score: 0.016446099496323825\n"
     ]
    },
    {
     "name": "stderr",
     "output_type": "stream",
     "text": [
      "Optimization Progress:  86%|████████▋ | 14729/17030 [1:40:09<16:24,  2.34pipeline/s]"
     ]
    },
    {
     "name": "stdout",
     "output_type": "stream",
     "text": [
      "Generation 122 - Current best internal CV score: 0.016446099496323825\n"
     ]
    },
    {
     "name": "stderr",
     "output_type": "stream",
     "text": [
      "Optimization Progress:  87%|████████▋ | 14838/17030 [1:40:24<11:44,  3.11pipeline/s]"
     ]
    },
    {
     "name": "stdout",
     "output_type": "stream",
     "text": [
      "Generation 123 - Current best internal CV score: 0.016446099496323825\n"
     ]
    },
    {
     "name": "stderr",
     "output_type": "stream",
     "text": [
      "Optimization Progress:  88%|████████▊ | 14956/17030 [1:40:50<09:35,  3.61pipeline/s]"
     ]
    },
    {
     "name": "stdout",
     "output_type": "stream",
     "text": [
      "Generation 124 - Current best internal CV score: 0.016446099496323825\n"
     ]
    },
    {
     "name": "stderr",
     "output_type": "stream",
     "text": [
      "Optimization Progress:  88%|████████▊ | 15067/17030 [1:41:08<10:44,  3.05pipeline/s]"
     ]
    },
    {
     "name": "stdout",
     "output_type": "stream",
     "text": [
      "Generation 125 - Current best internal CV score: 0.016446099496323825\n"
     ]
    },
    {
     "name": "stderr",
     "output_type": "stream",
     "text": [
      "Optimization Progress:  89%|████████▉ | 15183/17030 [1:41:24<13:04,  2.35pipeline/s]"
     ]
    },
    {
     "name": "stdout",
     "output_type": "stream",
     "text": [
      "Generation 126 - Current best internal CV score: 0.016446099496323825\n"
     ]
    },
    {
     "name": "stderr",
     "output_type": "stream",
     "text": [
      "Optimization Progress:  90%|████████▉ | 15298/17030 [1:41:45<09:46,  2.95pipeline/s]"
     ]
    },
    {
     "name": "stdout",
     "output_type": "stream",
     "text": [
      "Generation 127 - Current best internal CV score: 0.016446099496323825\n"
     ]
    },
    {
     "name": "stderr",
     "output_type": "stream",
     "text": [
      "Optimization Progress:  90%|█████████ | 15407/17030 [1:42:11<11:51,  2.28pipeline/s]"
     ]
    },
    {
     "name": "stdout",
     "output_type": "stream",
     "text": [
      "Generation 128 - Current best internal CV score: 0.016446099496323825\n"
     ]
    },
    {
     "name": "stderr",
     "output_type": "stream",
     "text": [
      "Optimization Progress:  91%|█████████ | 15518/17030 [1:42:30<12:32,  2.01pipeline/s]  "
     ]
    },
    {
     "name": "stdout",
     "output_type": "stream",
     "text": [
      "Generation 129 - Current best internal CV score: 0.016446099496323825\n"
     ]
    },
    {
     "name": "stderr",
     "output_type": "stream",
     "text": [
      "                                                                                      \r"
     ]
    },
    {
     "name": "stdout",
     "output_type": "stream",
     "text": [
      "Generation 130 - Current best internal CV score: 0.016446099496323825\n",
      "\n",
      "Best pipeline: GradientBoostingRegressor(input_matrix, GradientBoostingRegressor__alpha=0.8, GradientBoostingRegressor__learning_rate=0.1, GradientBoostingRegressor__loss=DEFAULT, GradientBoostingRegressor__max_depth=6, GradientBoostingRegressor__max_features=0.5, GradientBoostingRegressor__min_samples_leaf=3, GradientBoostingRegressor__min_samples_split=4, GradientBoostingRegressor__n_estimators=100, GradientBoostingRegressor__subsample=0.9)\n",
      "IPPDMAPP (uM)\n"
     ]
    },
    {
     "data": {
      "image/png": "[encoded data removed]",
      "text/plain": [
       "<matplotlib.figure.Figure at 0x119d8b908>"
      ]
     },
     "metadata": {},
     "output_type": "display_data"
    },
    {
     "name": "stdout",
     "output_type": "stream",
     "text": [
      "Intracellular Mevalonate (uM)\n",
      "Warning: xgboost.XGBRegressor is not available and will not be used by TPOT.\n"
     ]
    },
    {
     "name": "stderr",
     "output_type": "stream",
     "text": [
      "Optimization Progress:   1%|▏         | 227/17030 [00:55<41:17,  6.78pipeline/s]  "
     ]
    },
    {
     "name": "stdout",
     "output_type": "stream",
     "text": [
      "Generation 1 - Current best internal CV score: 8.497548703918752e-05\n"
     ]
    },
    {
     "name": "stderr",
     "output_type": "stream",
     "text": [
      "Optimization Progress:   2%|▏         | 336/17030 [01:25<54:12,  5.13pipeline/s]  "
     ]
    },
    {
     "name": "stdout",
     "output_type": "stream",
     "text": [
      "Generation 2 - Current best internal CV score: 8.497548703918752e-05\n"
     ]
    },
    {
     "name": "stderr",
     "output_type": "stream",
     "text": [
      "Optimization Progress:   3%|▎         | 452/17030 [02:02<38:32,  7.17pipeline/s]  "
     ]
    },
    {
     "name": "stdout",
     "output_type": "stream",
     "text": [
      "Generation 3 - Current best internal CV score: 8.497548703918752e-05\n"
     ]
    },
    {
     "name": "stderr",
     "output_type": "stream",
     "text": [
      "Optimization Progress:   3%|▎         | 566/17030 [02:41<1:10:27,  3.89pipeline/s]"
     ]
    },
    {
     "name": "stdout",
     "output_type": "stream",
     "text": [
      "Generation 4 - Current best internal CV score: 8.497548703918752e-05\n"
     ]
    },
    {
     "name": "stderr",
     "output_type": "stream",
     "text": [
      "Optimization Progress:   4%|▍         | 688/17030 [03:22<40:58,  6.65pipeline/s]  "
     ]
    },
    {
     "name": "stdout",
     "output_type": "stream",
     "text": [
      "Generation 5 - Current best internal CV score: 8.497548703918752e-05\n"
     ]
    },
    {
     "name": "stderr",
     "output_type": "stream",
     "text": [
      "Optimization Progress:   5%|▍         | 809/17030 [04:07<1:20:27,  3.36pipeline/s]"
     ]
    },
    {
     "name": "stdout",
     "output_type": "stream",
     "text": [
      "Generation 6 - Current best internal CV score: 8.497548703918752e-05\n"
     ]
    },
    {
     "name": "stderr",
     "output_type": "stream",
     "text": [
      "Optimization Progress:   5%|▌         | 930/17030 [04:45<1:17:00,  3.48pipeline/s]"
     ]
    },
    {
     "name": "stdout",
     "output_type": "stream",
     "text": [
      "Generation 7 - Current best internal CV score: 8.497548703918752e-05\n"
     ]
    },
    {
     "name": "stderr",
     "output_type": "stream",
     "text": [
      "Optimization Progress:   6%|▌         | 1044/17030 [05:35<1:35:11,  2.80pipeline/s]"
     ]
    },
    {
     "name": "stdout",
     "output_type": "stream",
     "text": [
      "Generation 8 - Current best internal CV score: 6.360083159841108e-05\n"
     ]
    },
    {
     "name": "stderr",
     "output_type": "stream",
     "text": [
      "Optimization Progress:   7%|▋         | 1165/17030 [06:21<1:19:32,  3.32pipeline/s]"
     ]
    },
    {
     "name": "stdout",
     "output_type": "stream",
     "text": [
      "Generation 9 - Current best internal CV score: 3.0216452091753502e-05\n"
     ]
    },
    {
     "name": "stderr",
     "output_type": "stream",
     "text": [
      "Optimization Progress:   7%|▋         | 1273/17030 [07:13<1:43:46,  2.53pipeline/s]"
     ]
    },
    {
     "name": "stdout",
     "output_type": "stream",
     "text": [
      "Generation 10 - Current best internal CV score: 3.0216452091753502e-05\n"
     ]
    },
    {
     "name": "stderr",
     "output_type": "stream",
     "text": [
      "Optimization Progress:   8%|▊         | 1389/17030 [08:08<53:20,  4.89pipeline/s]  "
     ]
    },
    {
     "name": "stdout",
     "output_type": "stream",
     "text": [
      "Generation 11 - Current best internal CV score: 3.0216452091753502e-05\n"
     ]
    },
    {
     "name": "stderr",
     "output_type": "stream",
     "text": [
      "Optimization Progress:   9%|▉         | 1499/17030 [08:54<1:16:05,  3.40pipeline/s] "
     ]
    },
    {
     "name": "stdout",
     "output_type": "stream",
     "text": [
      "Generation 12 - Current best internal CV score: 3.0216452091753502e-05\n"
     ]
    },
    {
     "name": "stderr",
     "output_type": "stream",
     "text": [
      "Optimization Progress:  10%|▉         | 1619/17030 [09:36<1:02:59,  4.08pipeline/s]"
     ]
    },
    {
     "name": "stdout",
     "output_type": "stream",
     "text": [
      "Generation 13 - Current best internal CV score: 2.9141015496307855e-05\n"
     ]
    },
    {
     "name": "stderr",
     "output_type": "stream",
     "text": [
      "Optimization Progress:  10%|█         | 1737/17030 [10:15<1:01:26,  4.15pipeline/s]"
     ]
    },
    {
     "name": "stdout",
     "output_type": "stream",
     "text": [
      "Generation 14 - Current best internal CV score: 2.9141015496307855e-05\n"
     ]
    },
    {
     "name": "stderr",
     "output_type": "stream",
     "text": [
      "Optimization Progress:  11%|█         | 1849/17030 [10:54<1:04:44,  3.91pipeline/s] "
     ]
    },
    {
     "name": "stdout",
     "output_type": "stream",
     "text": [
      "Generation 15 - Current best internal CV score: 2.9141015496307855e-05\n"
     ]
    },
    {
     "name": "stderr",
     "output_type": "stream",
     "text": [
      "Optimization Progress:  12%|█▏        | 1961/17030 [11:22<1:23:41,  3.00pipeline/s]"
     ]
    },
    {
     "name": "stdout",
     "output_type": "stream",
     "text": [
      "Generation 16 - Current best internal CV score: 2.864817454712235e-05\n"
     ]
    },
    {
     "name": "stderr",
     "output_type": "stream",
     "text": [
      "Optimization Progress:  12%|█▏        | 2069/17030 [11:49<1:21:13,  3.07pipeline/s]"
     ]
    },
    {
     "name": "stdout",
     "output_type": "stream",
     "text": [
      "Generation 17 - Current best internal CV score: 2.864817454712235e-05\n"
     ]
    },
    {
     "name": "stderr",
     "output_type": "stream",
     "text": [
      "Optimization Progress:  13%|█▎        | 2169/17030 [12:12<1:23:36,  2.96pipeline/s]"
     ]
    },
    {
     "name": "stdout",
     "output_type": "stream",
     "text": [
      "Generation 18 - Current best internal CV score: 2.864817454712235e-05\n"
     ]
    },
    {
     "name": "stderr",
     "output_type": "stream",
     "text": [
      "Optimization Progress:  13%|█▎        | 2267/17030 [12:34<1:17:55,  3.16pipeline/s]"
     ]
    },
    {
     "name": "stdout",
     "output_type": "stream",
     "text": [
      "Generation 19 - Current best internal CV score: 2.8510898976245187e-05\n"
     ]
    },
    {
     "name": "stderr",
     "output_type": "stream",
     "text": [
      "Optimization Progress:  14%|█▍        | 2363/17030 [12:51<58:58,  4.15pipeline/s]  "
     ]
    },
    {
     "name": "stdout",
     "output_type": "stream",
     "text": [
      "Generation 20 - Current best internal CV score: 2.8510898976245187e-05\n"
     ]
    },
    {
     "name": "stderr",
     "output_type": "stream",
     "text": [
      "Optimization Progress:  14%|█▍        | 2451/17030 [13:08<41:08,  5.91pipeline/s]  "
     ]
    },
    {
     "name": "stdout",
     "output_type": "stream",
     "text": [
      "Generation 21 - Current best internal CV score: 2.013750801860912e-05\n"
     ]
    },
    {
     "name": "stderr",
     "output_type": "stream",
     "text": [
      "Optimization Progress:  15%|█▍        | 2551/17030 [13:31<1:14:41,  3.23pipeline/s]"
     ]
    },
    {
     "name": "stdout",
     "output_type": "stream",
     "text": [
      "Generation 22 - Current best internal CV score: 2.013750801860912e-05\n"
     ]
    },
    {
     "name": "stderr",
     "output_type": "stream",
     "text": [
      "Optimization Progress:  16%|█▌        | 2640/17030 [13:48<46:32,  5.15pipeline/s]  "
     ]
    },
    {
     "name": "stdout",
     "output_type": "stream",
     "text": [
      "Generation 23 - Current best internal CV score: 2.013750801860912e-05\n"
     ]
    },
    {
     "name": "stderr",
     "output_type": "stream",
     "text": [
      "Optimization Progress:  16%|█▌        | 2726/17030 [14:05<56:43,  4.20pipeline/s]  "
     ]
    },
    {
     "name": "stdout",
     "output_type": "stream",
     "text": [
      "Generation 24 - Current best internal CV score: 2.013750801860912e-05\n"
     ]
    },
    {
     "name": "stderr",
     "output_type": "stream",
     "text": [
      "Optimization Progress:  17%|█▋        | 2818/17030 [14:16<38:57,  6.08pipeline/s]  "
     ]
    },
    {
     "name": "stdout",
     "output_type": "stream",
     "text": [
      "Generation 25 - Current best internal CV score: 1.9877011742817418e-05\n"
     ]
    },
    {
     "name": "stderr",
     "output_type": "stream",
     "text": [
      "Optimization Progress:  17%|█▋        | 2905/17030 [14:38<1:10:02,  3.36pipeline/s]"
     ]
    },
    {
     "name": "stdout",
     "output_type": "stream",
     "text": [
      "Generation 26 - Current best internal CV score: 1.9877011742817418e-05\n"
     ]
    },
    {
     "name": "stderr",
     "output_type": "stream",
     "text": [
      "Optimization Progress:  18%|█▊        | 2985/17030 [14:55<1:11:54,  3.25pipeline/s]"
     ]
    },
    {
     "name": "stdout",
     "output_type": "stream",
     "text": [
      "Generation 27 - Current best internal CV score: 1.9877011742817418e-05\n"
     ]
    },
    {
     "name": "stderr",
     "output_type": "stream",
     "text": [
      "Optimization Progress:  18%|█▊        | 3065/17030 [15:10<38:00,  6.12pipeline/s]  "
     ]
    },
    {
     "name": "stdout",
     "output_type": "stream",
     "text": [
      "Generation 28 - Current best internal CV score: 1.9877011742817418e-05\n"
     ]
    },
    {
     "name": "stderr",
     "output_type": "stream",
     "text": [
      "Optimization Progress:  18%|█▊        | 3149/17030 [15:22<38:30,  6.01pipeline/s]  "
     ]
    },
    {
     "name": "stdout",
     "output_type": "stream",
     "text": [
      "Generation 29 - Current best internal CV score: 1.9877011742817418e-05\n"
     ]
    },
    {
     "name": "stderr",
     "output_type": "stream",
     "text": [
      "Optimization Progress:  19%|█▉        | 3240/17030 [15:33<29:10,  7.88pipeline/s]  "
     ]
    },
    {
     "name": "stdout",
     "output_type": "stream",
     "text": [
      "Generation 30 - Current best internal CV score: 1.9877011742817418e-05\n"
     ]
    },
    {
     "name": "stderr",
     "output_type": "stream",
     "text": [
      "Optimization Progress:  20%|█▉        | 3327/17030 [15:56<1:38:57,  2.31pipeline/s]"
     ]
    },
    {
     "name": "stdout",
     "output_type": "stream",
     "text": [
      "Generation 31 - Current best internal CV score: 1.9877011742817418e-05\n"
     ]
    },
    {
     "name": "stderr",
     "output_type": "stream",
     "text": [
      "Optimization Progress:  20%|██        | 3417/17030 [16:16<1:07:48,  3.35pipeline/s]"
     ]
    },
    {
     "name": "stdout",
     "output_type": "stream",
     "text": [
      "Generation 32 - Current best internal CV score: 1.9877011742817418e-05\n"
     ]
    },
    {
     "name": "stderr",
     "output_type": "stream",
     "text": [
      "Optimization Progress:  21%|██        | 3517/17030 [16:37<58:58,  3.82pipeline/s]  "
     ]
    },
    {
     "name": "stdout",
     "output_type": "stream",
     "text": [
      "Generation 33 - Current best internal CV score: 1.9877011742817418e-05\n"
     ]
    },
    {
     "name": "stderr",
     "output_type": "stream",
     "text": [
      "Optimization Progress:  21%|██        | 3602/17030 [16:55<1:12:38,  3.08pipeline/s]"
     ]
    },
    {
     "name": "stdout",
     "output_type": "stream",
     "text": [
      "Generation 34 - Current best internal CV score: 1.9877011742817418e-05\n"
     ]
    },
    {
     "name": "stderr",
     "output_type": "stream",
     "text": [
      "Optimization Progress:  22%|██▏       | 3692/17030 [17:53<1:10:49,  3.14pipeline/s] "
     ]
    },
    {
     "name": "stdout",
     "output_type": "stream",
     "text": [
      "Generation 35 - Current best internal CV score: 1.9877011742817418e-05\n"
     ]
    },
    {
     "name": "stderr",
     "output_type": "stream",
     "text": [
      "Optimization Progress:  22%|██▏       | 3788/17030 [18:16<46:03,  4.79pipeline/s]  "
     ]
    },
    {
     "name": "stdout",
     "output_type": "stream",
     "text": [
      "Generation 36 - Current best internal CV score: 1.915619792440779e-05\n"
     ]
    },
    {
     "name": "stderr",
     "output_type": "stream",
     "text": [
      "Optimization Progress:  23%|██▎       | 3872/17030 [18:32<1:01:05,  3.59pipeline/s]"
     ]
    },
    {
     "name": "stdout",
     "output_type": "stream",
     "text": [
      "Generation 37 - Current best internal CV score: 1.915619792440779e-05\n"
     ]
    },
    {
     "name": "stderr",
     "output_type": "stream",
     "text": [
      "Optimization Progress:  23%|██▎       | 3966/17030 [18:52<46:26,  4.69pipeline/s]  "
     ]
    },
    {
     "name": "stdout",
     "output_type": "stream",
     "text": [
      "Generation 38 - Current best internal CV score: 1.915619792440779e-05\n"
     ]
    },
    {
     "name": "stderr",
     "output_type": "stream",
     "text": [
      "Optimization Progress:  24%|██▍       | 4049/17030 [19:13<44:42,  4.84pipeline/s]  "
     ]
    },
    {
     "name": "stdout",
     "output_type": "stream",
     "text": [
      "Generation 39 - Current best internal CV score: 1.915619792440779e-05\n"
     ]
    },
    {
     "name": "stderr",
     "output_type": "stream",
     "text": [
      "Optimization Progress:  24%|██▍       | 4130/17030 [19:34<1:08:48,  3.12pipeline/s]"
     ]
    },
    {
     "name": "stdout",
     "output_type": "stream",
     "text": [
      "Generation 40 - Current best internal CV score: 1.915619792440779e-05\n"
     ]
    },
    {
     "name": "stderr",
     "output_type": "stream",
     "text": [
      "Optimization Progress:  25%|██▍       | 4216/17030 [19:51<1:01:05,  3.50pipeline/s]"
     ]
    },
    {
     "name": "stdout",
     "output_type": "stream",
     "text": [
      "Generation 41 - Current best internal CV score: 1.915619792440779e-05\n"
     ]
    },
    {
     "name": "stderr",
     "output_type": "stream",
     "text": [
      "Optimization Progress:  25%|██▌       | 4305/17030 [20:10<1:09:52,  3.04pipeline/s]"
     ]
    },
    {
     "name": "stdout",
     "output_type": "stream",
     "text": [
      "Generation 42 - Current best internal CV score: 1.915619792440779e-05\n"
     ]
    },
    {
     "name": "stderr",
     "output_type": "stream",
     "text": [
      "Optimization Progress:  26%|██▌       | 4386/17030 [20:27<1:01:12,  3.44pipeline/s]"
     ]
    },
    {
     "name": "stdout",
     "output_type": "stream",
     "text": [
      "Generation 43 - Current best internal CV score: 1.915619792440779e-05\n"
     ]
    },
    {
     "name": "stderr",
     "output_type": "stream",
     "text": [
      "Optimization Progress:  26%|██▋       | 4475/17030 [20:46<1:03:28,  3.30pipeline/s]"
     ]
    },
    {
     "name": "stdout",
     "output_type": "stream",
     "text": [
      "Generation 44 - Current best internal CV score: 1.915619792440779e-05\n"
     ]
    },
    {
     "name": "stderr",
     "output_type": "stream",
     "text": [
      "Optimization Progress:  27%|██▋       | 4554/17030 [20:58<32:00,  6.49pipeline/s]  "
     ]
    },
    {
     "name": "stdout",
     "output_type": "stream",
     "text": [
      "Generation 45 - Current best internal CV score: 1.915619792440779e-05\n"
     ]
    },
    {
     "name": "stderr",
     "output_type": "stream",
     "text": [
      "Optimization Progress:  27%|██▋       | 4644/17030 [21:13<41:34,  4.97pipeline/s]  "
     ]
    },
    {
     "name": "stdout",
     "output_type": "stream",
     "text": [
      "Generation 46 - Current best internal CV score: 1.915619792440779e-05\n"
     ]
    },
    {
     "name": "stderr",
     "output_type": "stream",
     "text": [
      "Optimization Progress:  28%|██▊       | 4724/17030 [21:29<47:03,  4.36pipeline/s]  "
     ]
    },
    {
     "name": "stdout",
     "output_type": "stream",
     "text": [
      "Generation 47 - Current best internal CV score: 1.915619792440779e-05\n"
     ]
    },
    {
     "name": "stderr",
     "output_type": "stream",
     "text": [
      "Optimization Progress:  28%|██▊       | 4809/17030 [21:45<53:33,  3.80pipeline/s]  "
     ]
    },
    {
     "name": "stdout",
     "output_type": "stream",
     "text": [
      "Generation 48 - Current best internal CV score: 1.915619792440779e-05\n"
     ]
    },
    {
     "name": "stderr",
     "output_type": "stream",
     "text": [
      "Optimization Progress:  29%|██▉       | 4898/17030 [22:02<59:59,  3.37pipeline/s]s]"
     ]
    },
    {
     "name": "stdout",
     "output_type": "stream",
     "text": [
      "Generation 49 - Current best internal CV score: 1.915619792440779e-05\n"
     ]
    },
    {
     "name": "stderr",
     "output_type": "stream",
     "text": [
      "Optimization Progress:  29%|██▉       | 4978/17030 [22:18<37:39,  5.33pipeline/s]  "
     ]
    },
    {
     "name": "stdout",
     "output_type": "stream",
     "text": [
      "Generation 50 - Current best internal CV score: 1.915619792440779e-05\n"
     ]
    },
    {
     "name": "stderr",
     "output_type": "stream",
     "text": [
      "Optimization Progress:  30%|██▉       | 5062/17030 [22:33<47:32,  4.20pipeline/s]  "
     ]
    },
    {
     "name": "stdout",
     "output_type": "stream",
     "text": [
      "Generation 51 - Current best internal CV score: 1.915619792440779e-05\n"
     ]
    },
    {
     "name": "stderr",
     "output_type": "stream",
     "text": [
      "Optimization Progress:  30%|███       | 5137/17030 [22:41<34:19,  5.78pipeline/s]  "
     ]
    },
    {
     "name": "stdout",
     "output_type": "stream",
     "text": [
      "Generation 52 - Current best internal CV score: 1.915619792440779e-05\n"
     ]
    },
    {
     "name": "stderr",
     "output_type": "stream",
     "text": [
      "Optimization Progress:  31%|███       | 5214/17030 [22:59<1:13:24,  2.68pipeline/s]"
     ]
    },
    {
     "name": "stdout",
     "output_type": "stream",
     "text": [
      "Generation 53 - Current best internal CV score: 1.915619792440779e-05\n"
     ]
    },
    {
     "name": "stderr",
     "output_type": "stream",
     "text": [
      "Optimization Progress:  31%|███       | 5290/17030 [23:15<1:29:27,  2.19pipeline/s]"
     ]
    },
    {
     "name": "stdout",
     "output_type": "stream",
     "text": [
      "Generation 54 - Current best internal CV score: 1.915619792440779e-05\n"
     ]
    },
    {
     "name": "stderr",
     "output_type": "stream",
     "text": [
      "Optimization Progress:  31%|███▏      | 5358/17030 [23:27<33:26,  5.82pipeline/s]  "
     ]
    },
    {
     "name": "stdout",
     "output_type": "stream",
     "text": [
      "Generation 55 - Current best internal CV score: 1.915619792440779e-05\n"
     ]
    },
    {
     "name": "stderr",
     "output_type": "stream",
     "text": [
      "Optimization Progress:  32%|███▏      | 5431/17030 [23:37<43:28,  4.45pipeline/s]  "
     ]
    },
    {
     "name": "stdout",
     "output_type": "stream",
     "text": [
      "Generation 56 - Current best internal CV score: 1.915619792440779e-05\n"
     ]
    },
    {
     "name": "stderr",
     "output_type": "stream",
     "text": [
      "Optimization Progress:  32%|███▏      | 5492/17030 [23:46<48:10,  3.99pipeline/s]"
     ]
    },
    {
     "name": "stdout",
     "output_type": "stream",
     "text": [
      "Generation 57 - Current best internal CV score: 1.915619792440779e-05\n"
     ]
    },
    {
     "name": "stderr",
     "output_type": "stream",
     "text": [
      "Optimization Progress:  33%|███▎      | 5556/17030 [23:56<1:08:37,  2.79pipeline/s]"
     ]
    },
    {
     "name": "stdout",
     "output_type": "stream",
     "text": [
      "Generation 58 - Current best internal CV score: 1.915619792440779e-05\n"
     ]
    },
    {
     "name": "stderr",
     "output_type": "stream",
     "text": [
      "Optimization Progress:  33%|███▎      | 5626/17030 [24:01<25:51,  7.35pipeline/s]  "
     ]
    },
    {
     "name": "stdout",
     "output_type": "stream",
     "text": [
      "Generation 59 - Current best internal CV score: 1.915619792440779e-05\n"
     ]
    },
    {
     "name": "stderr",
     "output_type": "stream",
     "text": [
      "Optimization Progress:  33%|███▎      | 5697/17030 [24:17<46:48,  4.04pipeline/s]  "
     ]
    },
    {
     "name": "stdout",
     "output_type": "stream",
     "text": [
      "Generation 60 - Current best internal CV score: 1.915619792440779e-05\n"
     ]
    },
    {
     "name": "stderr",
     "output_type": "stream",
     "text": [
      "Optimization Progress:  34%|███▍      | 5774/17030 [24:29<1:02:45,  2.99pipeline/s]"
     ]
    },
    {
     "name": "stdout",
     "output_type": "stream",
     "text": [
      "Generation 61 - Current best internal CV score: 1.5897595985928923e-05\n"
     ]
    },
    {
     "name": "stderr",
     "output_type": "stream",
     "text": [
      "Optimization Progress:  34%|███▍      | 5837/17030 [24:43<53:06,  3.51pipeline/s]  "
     ]
    },
    {
     "name": "stdout",
     "output_type": "stream",
     "text": [
      "Generation 62 - Current best internal CV score: 1.5897595985928923e-05\n"
     ]
    },
    {
     "name": "stderr",
     "output_type": "stream",
     "text": [
      "Optimization Progress:  35%|███▍      | 5904/17030 [24:54<37:51,  4.90pipeline/s]  "
     ]
    },
    {
     "name": "stdout",
     "output_type": "stream",
     "text": [
      "Generation 63 - Current best internal CV score: 1.5897595985928923e-05\n"
     ]
    },
    {
     "name": "stderr",
     "output_type": "stream",
     "text": [
      "Optimization Progress:  35%|███▌      | 5971/17030 [25:06<1:06:57,  2.75pipeline/s]"
     ]
    },
    {
     "name": "stdout",
     "output_type": "stream",
     "text": [
      "Generation 64 - Current best internal CV score: 1.5897595985928923e-05\n"
     ]
    },
    {
     "name": "stderr",
     "output_type": "stream",
     "text": [
      "Optimization Progress:  35%|███▌      | 6042/17030 [25:17<39:43,  4.61pipeline/s]  "
     ]
    },
    {
     "name": "stdout",
     "output_type": "stream",
     "text": [
      "Generation 65 - Current best internal CV score: 1.5897595985928923e-05\n"
     ]
    },
    {
     "name": "stderr",
     "output_type": "stream",
     "text": [
      "Optimization Progress:  36%|███▌      | 6121/17030 [25:27<58:47,  3.09pipeline/s]  "
     ]
    },
    {
     "name": "stdout",
     "output_type": "stream",
     "text": [
      "Generation 66 - Current best internal CV score: 1.5897595985928923e-05\n"
     ]
    },
    {
     "name": "stderr",
     "output_type": "stream",
     "text": [
      "Optimization Progress:  36%|███▋      | 6194/17030 [25:45<54:29,  3.31pipeline/s]  "
     ]
    },
    {
     "name": "stdout",
     "output_type": "stream",
     "text": [
      "Generation 67 - Current best internal CV score: 1.5897595985928923e-05\n"
     ]
    },
    {
     "name": "stderr",
     "output_type": "stream",
     "text": [
      "Optimization Progress:  37%|███▋      | 6263/17030 [25:54<51:11,  3.51pipeline/s]  "
     ]
    },
    {
     "name": "stdout",
     "output_type": "stream",
     "text": [
      "Generation 68 - Current best internal CV score: 1.5897595985928923e-05\n"
     ]
    },
    {
     "name": "stderr",
     "output_type": "stream",
     "text": [
      "Optimization Progress:  37%|███▋      | 6336/17030 [26:28<5:44:32,  1.93s/pipeline]"
     ]
    },
    {
     "name": "stdout",
     "output_type": "stream",
     "text": [
      "Generation 69 - Current best internal CV score: 1.5897595985928923e-05\n"
     ]
    },
    {
     "name": "stderr",
     "output_type": "stream",
     "text": [
      "Optimization Progress:  38%|███▊      | 6404/17030 [26:38<1:01:47,  2.87pipeline/s]"
     ]
    },
    {
     "name": "stdout",
     "output_type": "stream",
     "text": [
      "Generation 70 - Current best internal CV score: 1.5897595985928923e-05\n"
     ]
    },
    {
     "name": "stderr",
     "output_type": "stream",
     "text": [
      "Optimization Progress:  38%|███▊      | 6472/17030 [26:49<30:52,  5.70pipeline/s]  "
     ]
    },
    {
     "name": "stdout",
     "output_type": "stream",
     "text": [
      "Generation 71 - Current best internal CV score: 1.5897595985928923e-05\n"
     ]
    },
    {
     "name": "stderr",
     "output_type": "stream",
     "text": [
      "Optimization Progress:  38%|███▊      | 6543/17030 [27:33<7:35:40,  2.61s/pipeline]"
     ]
    },
    {
     "name": "stdout",
     "output_type": "stream",
     "text": [
      "Generation 72 - Current best internal CV score: 1.5897595985928923e-05\n"
     ]
    },
    {
     "name": "stderr",
     "output_type": "stream",
     "text": [
      "Optimization Progress:  39%|███▉      | 6610/17030 [27:43<1:09:34,  2.50pipeline/s]"
     ]
    },
    {
     "name": "stdout",
     "output_type": "stream",
     "text": [
      "Generation 73 - Current best internal CV score: 1.5897595985928923e-05\n"
     ]
    },
    {
     "name": "stderr",
     "output_type": "stream",
     "text": [
      "Optimization Progress:  39%|███▉      | 6682/17030 [27:57<1:05:10,  2.65pipeline/s]"
     ]
    },
    {
     "name": "stdout",
     "output_type": "stream",
     "text": [
      "Generation 74 - Current best internal CV score: 1.5897595985928923e-05\n"
     ]
    },
    {
     "name": "stderr",
     "output_type": "stream",
     "text": [
      "Optimization Progress:  40%|███▉      | 6746/17030 [28:09<1:10:48,  2.42pipeline/s]"
     ]
    },
    {
     "name": "stdout",
     "output_type": "stream",
     "text": [
      "Generation 75 - Current best internal CV score: 1.5897595985928923e-05\n"
     ]
    },
    {
     "name": "stderr",
     "output_type": "stream",
     "text": [
      "Optimization Progress:  40%|████      | 6826/17030 [28:20<32:18,  5.26pipeline/s]  "
     ]
    },
    {
     "name": "stdout",
     "output_type": "stream",
     "text": [
      "Generation 76 - Current best internal CV score: 1.5897595985928923e-05\n"
     ]
    },
    {
     "name": "stderr",
     "output_type": "stream",
     "text": [
      "Optimization Progress:  41%|████      | 6899/17030 [28:29<28:05,  6.01pipeline/s]  "
     ]
    },
    {
     "name": "stdout",
     "output_type": "stream",
     "text": [
      "Generation 77 - Current best internal CV score: 1.5897595985928923e-05\n"
     ]
    },
    {
     "name": "stderr",
     "output_type": "stream",
     "text": [
      "Optimization Progress:  41%|████      | 6978/17030 [28:43<1:11:11,  2.35pipeline/s]"
     ]
    },
    {
     "name": "stdout",
     "output_type": "stream",
     "text": [
      "Generation 78 - Current best internal CV score: 1.5897595985928923e-05\n"
     ]
    },
    {
     "name": "stderr",
     "output_type": "stream",
     "text": [
      "Optimization Progress:  41%|████▏     | 7052/17030 [28:54<56:37,  2.94pipeline/s]  "
     ]
    },
    {
     "name": "stdout",
     "output_type": "stream",
     "text": [
      "Generation 79 - Current best internal CV score: 1.5897595985928923e-05\n"
     ]
    },
    {
     "name": "stderr",
     "output_type": "stream",
     "text": [
      "Optimization Progress:  42%|████▏     | 7122/17030 [29:01<43:55,  3.76pipeline/s]  "
     ]
    },
    {
     "name": "stdout",
     "output_type": "stream",
     "text": [
      "Generation 80 - Current best internal CV score: 1.5897595985928923e-05\n"
     ]
    },
    {
     "name": "stderr",
     "output_type": "stream",
     "text": [
      "Optimization Progress:  42%|████▏     | 7196/17030 [29:15<49:52,  3.29pipeline/s]  "
     ]
    },
    {
     "name": "stdout",
     "output_type": "stream",
     "text": [
      "Generation 81 - Current best internal CV score: 1.5897595985928923e-05\n"
     ]
    },
    {
     "name": "stderr",
     "output_type": "stream",
     "text": [
      "Optimization Progress:  43%|████▎     | 7266/17030 [29:28<56:08,  2.90pipeline/s]  "
     ]
    },
    {
     "name": "stdout",
     "output_type": "stream",
     "text": [
      "Generation 82 - Current best internal CV score: 1.5897595985928923e-05\n"
     ]
    },
    {
     "name": "stderr",
     "output_type": "stream",
     "text": [
      "Optimization Progress:  43%|████▎     | 7336/17030 [29:44<57:15,  2.82pipeline/s]  "
     ]
    },
    {
     "name": "stdout",
     "output_type": "stream",
     "text": [
      "Generation 83 - Current best internal CV score: 1.5897595985928923e-05\n"
     ]
    },
    {
     "name": "stderr",
     "output_type": "stream",
     "text": [
      "Optimization Progress:  43%|████▎     | 7402/17030 [30:29<2:57:24,  1.11s/pipeline]"
     ]
    },
    {
     "name": "stdout",
     "output_type": "stream",
     "text": [
      "Generation 84 - Current best internal CV score: 1.5897595985928923e-05\n"
     ]
    },
    {
     "name": "stderr",
     "output_type": "stream",
     "text": [
      "Optimization Progress:  44%|████▍     | 7476/17030 [30:44<1:02:28,  2.55pipeline/s]"
     ]
    },
    {
     "name": "stdout",
     "output_type": "stream",
     "text": [
      "Generation 85 - Current best internal CV score: 1.5897595985928923e-05\n"
     ]
    },
    {
     "name": "stderr",
     "output_type": "stream",
     "text": [
      "Optimization Progress:  44%|████▍     | 7552/17030 [30:54<35:49,  4.41pipeline/s]  "
     ]
    },
    {
     "name": "stdout",
     "output_type": "stream",
     "text": [
      "Generation 86 - Current best internal CV score: 1.5897595985928923e-05\n"
     ]
    },
    {
     "name": "stderr",
     "output_type": "stream",
     "text": [
      "Optimization Progress:  45%|████▍     | 7624/17030 [31:09<47:32,  3.30pipeline/s]  "
     ]
    },
    {
     "name": "stdout",
     "output_type": "stream",
     "text": [
      "Generation 87 - Current best internal CV score: 1.5897595985928923e-05\n"
     ]
    },
    {
     "name": "stderr",
     "output_type": "stream",
     "text": [
      "Optimization Progress:  45%|████▌     | 7694/17030 [31:15<30:49,  5.05pipeline/s]  "
     ]
    },
    {
     "name": "stdout",
     "output_type": "stream",
     "text": [
      "Generation 88 - Current best internal CV score: 1.5897595985928923e-05\n"
     ]
    },
    {
     "name": "stderr",
     "output_type": "stream",
     "text": [
      "Optimization Progress:  46%|████▌     | 7762/17030 [31:26<47:21,  3.26pipeline/s]  "
     ]
    },
    {
     "name": "stdout",
     "output_type": "stream",
     "text": [
      "Generation 89 - Current best internal CV score: 1.5897595985928923e-05\n"
     ]
    },
    {
     "name": "stderr",
     "output_type": "stream",
     "text": [
      "Optimization Progress:  46%|████▌     | 7829/17030 [31:34<45:09,  3.40pipeline/s]  "
     ]
    },
    {
     "name": "stdout",
     "output_type": "stream",
     "text": [
      "Generation 90 - Current best internal CV score: 1.5897595985928923e-05\n"
     ]
    },
    {
     "name": "stderr",
     "output_type": "stream",
     "text": [
      "Optimization Progress:  46%|████▋     | 7900/17030 [31:47<56:40,  2.68pipeline/s]  "
     ]
    },
    {
     "name": "stdout",
     "output_type": "stream",
     "text": [
      "Generation 91 - Current best internal CV score: 1.5897595985928923e-05\n"
     ]
    },
    {
     "name": "stderr",
     "output_type": "stream",
     "text": [
      "Optimization Progress:  47%|████▋     | 7966/17030 [32:00<50:24,  3.00pipeline/s]  "
     ]
    },
    {
     "name": "stdout",
     "output_type": "stream",
     "text": [
      "Generation 92 - Current best internal CV score: 1.5897595985928923e-05\n"
     ]
    },
    {
     "name": "stderr",
     "output_type": "stream",
     "text": [
      "Optimization Progress:  47%|████▋     | 8053/17030 [32:13<46:24,  3.22pipeline/s]  "
     ]
    },
    {
     "name": "stdout",
     "output_type": "stream",
     "text": [
      "Generation 93 - Current best internal CV score: 1.5897595985928923e-05\n"
     ]
    },
    {
     "name": "stderr",
     "output_type": "stream",
     "text": [
      "Optimization Progress:  48%|████▊     | 8125/17030 [32:25<1:10:21,  2.11pipeline/s]"
     ]
    },
    {
     "name": "stdout",
     "output_type": "stream",
     "text": [
      "Generation 94 - Current best internal CV score: 1.5897595985928923e-05\n"
     ]
    },
    {
     "name": "stderr",
     "output_type": "stream",
     "text": [
      "Optimization Progress:  48%|████▊     | 8195/17030 [32:43<55:34,  2.65pipeline/s]  "
     ]
    },
    {
     "name": "stdout",
     "output_type": "stream",
     "text": [
      "Generation 95 - Current best internal CV score: 1.5897595985928923e-05\n"
     ]
    },
    {
     "name": "stderr",
     "output_type": "stream",
     "text": [
      "Optimization Progress:  49%|████▊     | 8271/17030 [32:51<41:52,  3.49pipeline/s]  "
     ]
    },
    {
     "name": "stdout",
     "output_type": "stream",
     "text": [
      "Generation 96 - Current best internal CV score: 1.5897595985928923e-05\n"
     ]
    },
    {
     "name": "stderr",
     "output_type": "stream",
     "text": [
      "Optimization Progress:  49%|████▉     | 8334/17030 [32:56<22:16,  6.51pipeline/s]  "
     ]
    },
    {
     "name": "stdout",
     "output_type": "stream",
     "text": [
      "Generation 97 - Current best internal CV score: 1.5897595985928923e-05\n"
     ]
    },
    {
     "name": "stderr",
     "output_type": "stream",
     "text": [
      "Optimization Progress:  49%|████▉     | 8403/17030 [33:04<40:30,  3.55pipeline/s]"
     ]
    },
    {
     "name": "stdout",
     "output_type": "stream",
     "text": [
      "Generation 98 - Current best internal CV score: 1.5897595985928923e-05\n"
     ]
    },
    {
     "name": "stderr",
     "output_type": "stream",
     "text": [
      "Optimization Progress:  50%|████▉     | 8481/17030 [33:13<21:40,  6.57pipeline/s]  "
     ]
    },
    {
     "name": "stdout",
     "output_type": "stream",
     "text": [
      "Generation 99 - Current best internal CV score: 1.5897595985928923e-05\n"
     ]
    },
    {
     "name": "stderr",
     "output_type": "stream",
     "text": [
      "Optimization Progress:  50%|█████     | 8554/17030 [33:24<55:00,  2.57pipeline/s]"
     ]
    },
    {
     "name": "stdout",
     "output_type": "stream",
     "text": [
      "Generation 100 - Current best internal CV score: 1.5897595985928923e-05\n"
     ]
    },
    {
     "name": "stderr",
     "output_type": "stream",
     "text": [
      "Optimization Progress:  51%|█████     | 8620/17030 [33:32<34:58,  4.01pipeline/s]  "
     ]
    },
    {
     "name": "stdout",
     "output_type": "stream",
     "text": [
      "Generation 101 - Current best internal CV score: 1.5897595985928923e-05\n"
     ]
    },
    {
     "name": "stderr",
     "output_type": "stream",
     "text": [
      "Optimization Progress:  51%|█████     | 8691/17030 [33:47<50:43,  2.74pipeline/s]  "
     ]
    },
    {
     "name": "stdout",
     "output_type": "stream",
     "text": [
      "Generation 102 - Current best internal CV score: 1.5897595985928923e-05\n"
     ]
    },
    {
     "name": "stderr",
     "output_type": "stream",
     "text": [
      "Optimization Progress:  51%|█████▏    | 8761/17030 [33:54<36:17,  3.80pipeline/s]  "
     ]
    },
    {
     "name": "stdout",
     "output_type": "stream",
     "text": [
      "Generation 103 - Current best internal CV score: 1.5897595985928923e-05\n"
     ]
    },
    {
     "name": "stderr",
     "output_type": "stream",
     "text": [
      "Optimization Progress:  52%|█████▏    | 8836/17030 [34:02<48:29,  2.82pipeline/s]  "
     ]
    },
    {
     "name": "stdout",
     "output_type": "stream",
     "text": [
      "Generation 104 - Current best internal CV score: 1.5897595985928923e-05\n"
     ]
    },
    {
     "name": "stderr",
     "output_type": "stream",
     "text": [
      "Optimization Progress:  52%|█████▏    | 8901/17030 [34:07<25:26,  5.33pipeline/s]"
     ]
    },
    {
     "name": "stdout",
     "output_type": "stream",
     "text": [
      "Generation 105 - Current best internal CV score: 1.5897595985928923e-05\n"
     ]
    },
    {
     "name": "stderr",
     "output_type": "stream",
     "text": [
      "Optimization Progress:  53%|█████▎    | 8982/17030 [34:19<30:38,  4.38pipeline/s]"
     ]
    },
    {
     "name": "stdout",
     "output_type": "stream",
     "text": [
      "Generation 106 - Current best internal CV score: 1.5897595985928923e-05\n"
     ]
    },
    {
     "name": "stderr",
     "output_type": "stream",
     "text": [
      "Optimization Progress:  53%|█████▎    | 9058/17030 [34:30<26:31,  5.01pipeline/s]  "
     ]
    },
    {
     "name": "stdout",
     "output_type": "stream",
     "text": [
      "Generation 107 - Current best internal CV score: 1.5897595985928923e-05\n"
     ]
    },
    {
     "name": "stderr",
     "output_type": "stream",
     "text": [
      "Optimization Progress:  54%|█████▎    | 9125/17030 [34:37<35:54,  3.67pipeline/s]"
     ]
    },
    {
     "name": "stdout",
     "output_type": "stream",
     "text": [
      "Generation 108 - Current best internal CV score: 1.5897595985928923e-05\n"
     ]
    },
    {
     "name": "stderr",
     "output_type": "stream",
     "text": [
      "Optimization Progress:  54%|█████▍    | 9198/17030 [34:49<40:46,  3.20pipeline/s]  "
     ]
    },
    {
     "name": "stdout",
     "output_type": "stream",
     "text": [
      "Generation 109 - Current best internal CV score: 1.5897595985928923e-05\n"
     ]
    },
    {
     "name": "stderr",
     "output_type": "stream",
     "text": [
      "Optimization Progress:  54%|█████▍    | 9278/17030 [35:02<51:18,  2.52pipeline/s]  "
     ]
    },
    {
     "name": "stdout",
     "output_type": "stream",
     "text": [
      "Generation 110 - Current best internal CV score: 1.5897595985928923e-05\n"
     ]
    },
    {
     "name": "stderr",
     "output_type": "stream",
     "text": [
      "Optimization Progress:  55%|█████▍    | 9355/17030 [35:16<25:27,  5.02pipeline/s]  "
     ]
    },
    {
     "name": "stdout",
     "output_type": "stream",
     "text": [
      "Generation 111 - Current best internal CV score: 1.5897595985928923e-05\n"
     ]
    },
    {
     "name": "stderr",
     "output_type": "stream",
     "text": [
      "Optimization Progress:  55%|█████▌    | 9434/17030 [35:31<35:33,  3.56pipeline/s]  "
     ]
    },
    {
     "name": "stdout",
     "output_type": "stream",
     "text": [
      "Generation 112 - Current best internal CV score: 1.5897595985928923e-05\n"
     ]
    },
    {
     "name": "stderr",
     "output_type": "stream",
     "text": [
      "Optimization Progress:  56%|█████▌    | 9503/17030 [35:44<57:50,  2.17pipeline/s]  "
     ]
    },
    {
     "name": "stdout",
     "output_type": "stream",
     "text": [
      "Generation 113 - Current best internal CV score: 1.5897595985928923e-05\n"
     ]
    },
    {
     "name": "stderr",
     "output_type": "stream",
     "text": [
      "Optimization Progress:  56%|█████▌    | 9572/17030 [35:51<31:39,  3.93pipeline/s]  "
     ]
    },
    {
     "name": "stdout",
     "output_type": "stream",
     "text": [
      "Generation 114 - Current best internal CV score: 1.5897595985928923e-05\n"
     ]
    },
    {
     "name": "stderr",
     "output_type": "stream",
     "text": [
      "Optimization Progress:  57%|█████▋    | 9644/17030 [36:00<28:06,  4.38pipeline/s]"
     ]
    },
    {
     "name": "stdout",
     "output_type": "stream",
     "text": [
      "Generation 115 - Current best internal CV score: 1.5897595985928923e-05\n"
     ]
    },
    {
     "name": "stderr",
     "output_type": "stream",
     "text": [
      "Optimization Progress:  57%|█████▋    | 9705/17030 [36:09<20:37,  5.92pipeline/s]"
     ]
    },
    {
     "name": "stdout",
     "output_type": "stream",
     "text": [
      "Generation 116 - Current best internal CV score: 1.5897595985928923e-05\n"
     ]
    },
    {
     "name": "stderr",
     "output_type": "stream",
     "text": [
      "Optimization Progress:  57%|█████▋    | 9773/17030 [36:24<39:02,  3.10pipeline/s]  "
     ]
    },
    {
     "name": "stdout",
     "output_type": "stream",
     "text": [
      "Generation 117 - Current best internal CV score: 1.5897595985928923e-05\n"
     ]
    },
    {
     "name": "stderr",
     "output_type": "stream",
     "text": [
      "Optimization Progress:  58%|█████▊    | 9844/17030 [36:35<27:14,  4.40pipeline/s]  "
     ]
    },
    {
     "name": "stdout",
     "output_type": "stream",
     "text": [
      "Generation 118 - Current best internal CV score: 1.5897595985928923e-05\n"
     ]
    },
    {
     "name": "stderr",
     "output_type": "stream",
     "text": [
      "Optimization Progress:  58%|█████▊    | 9919/17030 [36:43<33:59,  3.49pipeline/s]  "
     ]
    },
    {
     "name": "stdout",
     "output_type": "stream",
     "text": [
      "Generation 119 - Current best internal CV score: 1.5897595985928923e-05\n"
     ]
    },
    {
     "name": "stderr",
     "output_type": "stream",
     "text": [
      "Optimization Progress:  59%|█████▊    | 9986/17030 [36:53<36:24,  3.22pipeline/s]"
     ]
    },
    {
     "name": "stdout",
     "output_type": "stream",
     "text": [
      "Generation 120 - Current best internal CV score: 1.5897595985928923e-05\n"
     ]
    },
    {
     "name": "stderr",
     "output_type": "stream",
     "text": [
      "Optimization Progress:  59%|█████▉    | 10049/17030 [36:59<32:04,  3.63pipeline/s]"
     ]
    },
    {
     "name": "stdout",
     "output_type": "stream",
     "text": [
      "Generation 121 - Current best internal CV score: 1.5897595985928923e-05\n"
     ]
    },
    {
     "name": "stderr",
     "output_type": "stream",
     "text": [
      "Optimization Progress:  59%|█████▉    | 10119/17030 [37:10<31:22,  3.67pipeline/s]"
     ]
    },
    {
     "name": "stdout",
     "output_type": "stream",
     "text": [
      "Generation 122 - Current best internal CV score: 1.5897595985928923e-05\n"
     ]
    },
    {
     "name": "stderr",
     "output_type": "stream",
     "text": [
      "Optimization Progress:  60%|█████▉    | 10187/17030 [37:18<22:28,  5.07pipeline/s]  "
     ]
    },
    {
     "name": "stdout",
     "output_type": "stream",
     "text": [
      "Generation 123 - Current best internal CV score: 1.5897595985928923e-05\n"
     ]
    },
    {
     "name": "stderr",
     "output_type": "stream",
     "text": [
      "Optimization Progress:  60%|██████    | 10259/17030 [37:29<28:18,  3.99pipeline/s]"
     ]
    },
    {
     "name": "stdout",
     "output_type": "stream",
     "text": [
      "Generation 124 - Current best internal CV score: 1.5897595985928923e-05\n"
     ]
    },
    {
     "name": "stderr",
     "output_type": "stream",
     "text": [
      "Optimization Progress:  61%|██████    | 10335/17030 [37:36<25:16,  4.41pipeline/s]  "
     ]
    },
    {
     "name": "stdout",
     "output_type": "stream",
     "text": [
      "Generation 125 - Current best internal CV score: 1.5897595985928923e-05\n"
     ]
    },
    {
     "name": "stderr",
     "output_type": "stream",
     "text": [
      "Optimization Progress:  61%|██████    | 10412/17030 [37:49<36:28,  3.02pipeline/s]  "
     ]
    },
    {
     "name": "stdout",
     "output_type": "stream",
     "text": [
      "Generation 126 - Current best internal CV score: 1.5897595985928923e-05\n"
     ]
    },
    {
     "name": "stderr",
     "output_type": "stream",
     "text": [
      "Optimization Progress:  62%|██████▏   | 10484/17030 [37:59<39:05,  2.79pipeline/s]  "
     ]
    },
    {
     "name": "stdout",
     "output_type": "stream",
     "text": [
      "Generation 127 - Current best internal CV score: 1.5897595985928923e-05\n"
     ]
    },
    {
     "name": "stderr",
     "output_type": "stream",
     "text": [
      "Optimization Progress:  62%|██████▏   | 10557/17030 [38:10<34:05,  3.16pipeline/s]"
     ]
    },
    {
     "name": "stdout",
     "output_type": "stream",
     "text": [
      "Generation 128 - Current best internal CV score: 1.5897595985928923e-05\n"
     ]
    },
    {
     "name": "stderr",
     "output_type": "stream",
     "text": [
      "Optimization Progress:  62%|██████▏   | 10623/17030 [38:17<27:33,  3.87pipeline/s]"
     ]
    },
    {
     "name": "stdout",
     "output_type": "stream",
     "text": [
      "Generation 129 - Current best internal CV score: 1.5897595985928923e-05\n"
     ]
    },
    {
     "name": "stderr",
     "output_type": "stream",
     "text": [
      "                                                                                    \r"
     ]
    },
    {
     "name": "stdout",
     "output_type": "stream",
     "text": [
      "Generation 130 - Current best internal CV score: 1.5897595985928923e-05\n",
      "\n",
      "Best pipeline: ElasticNetCV(StandardScaler(PCA(PolynomialFeatures(FastICA(RobustScaler(input_matrix), FastICA__tol=0.4), PolynomialFeatures__degree=DEFAULT, PolynomialFeatures__include_bias=False, PolynomialFeatures__interaction_only=False), PCA__iterated_power=DEFAULT, PCA__svd_solver=randomized)), ElasticNetCV__l1_ratio=0.65, ElasticNetCV__tol=DEFAULT)\n",
      "Intracellular Mevalonate (uM)\n"
     ]
    },
    {
     "data": {
      "image/png": "[encoded data removed]",
      "text/plain": [
       "<matplotlib.figure.Figure at 0x10a265080>"
      ]
     },
     "metadata": {},
     "output_type": "display_data"
    },
    {
     "name": "stdout",
     "output_type": "stream",
     "text": [
      "Isopentenol g/L\n",
      "Warning: xgboost.XGBRegressor is not available and will not be used by TPOT.\n"
     ]
    },
    {
     "name": "stderr",
     "output_type": "stream",
     "text": [
      "Optimization Progress:   1%|▏         | 239/17030 [01:18<1:08:52,  4.06pipeline/s]"
     ]
    },
    {
     "name": "stdout",
     "output_type": "stream",
     "text": [
      "Generation 1 - Current best internal CV score: 4.2903386058631024e-06\n"
     ]
    },
    {
     "name": "stderr",
     "output_type": "stream",
     "text": [
      "Optimization Progress:   2%|▏         | 354/17030 [02:07<1:35:53,  2.90pipeline/s]"
     ]
    },
    {
     "name": "stdout",
     "output_type": "stream",
     "text": [
      "Generation 2 - Current best internal CV score: 4.2903386058631024e-06\n"
     ]
    },
    {
     "name": "stderr",
     "output_type": "stream",
     "text": [
      "Optimization Progress:   3%|▎         | 475/17030 [03:16<1:17:36,  3.56pipeline/s]"
     ]
    },
    {
     "name": "stdout",
     "output_type": "stream",
     "text": [
      "Generation 3 - Current best internal CV score: 4.2903386058631024e-06\n"
     ]
    },
    {
     "name": "stderr",
     "output_type": "stream",
     "text": [
      "Optimization Progress:   3%|▎         | 595/17030 [04:06<1:10:32,  3.88pipeline/s]"
     ]
    },
    {
     "name": "stdout",
     "output_type": "stream",
     "text": [
      "Generation 4 - Current best internal CV score: 4.2903386058631024e-06\n"
     ]
    },
    {
     "name": "stderr",
     "output_type": "stream",
     "text": [
      "Optimization Progress:   4%|▍         | 717/17030 [05:22<1:26:11,  3.15pipeline/s]"
     ]
    },
    {
     "name": "stdout",
     "output_type": "stream",
     "text": [
      "Generation 5 - Current best internal CV score: 4.2903386058631024e-06\n"
     ]
    },
    {
     "name": "stderr",
     "output_type": "stream",
     "text": [
      "Optimization Progress:   5%|▍         | 835/17030 [06:37<1:22:33,  3.27pipeline/s]"
     ]
    },
    {
     "name": "stdout",
     "output_type": "stream",
     "text": [
      "Generation 6 - Current best internal CV score: 2.0345077139319777e-06\n"
     ]
    },
    {
     "name": "stderr",
     "output_type": "stream",
     "text": [
      "Optimization Progress:   6%|▌         | 959/17030 [07:59<2:01:10,  2.21pipeline/s]"
     ]
    },
    {
     "name": "stdout",
     "output_type": "stream",
     "text": [
      "Generation 7 - Current best internal CV score: 2.0345077139319777e-06\n"
     ]
    },
    {
     "name": "stderr",
     "output_type": "stream",
     "text": [
      "Optimization Progress:   6%|▋         | 1082/17030 [09:12<1:43:53,  2.56pipeline/s]"
     ]
    },
    {
     "name": "stdout",
     "output_type": "stream",
     "text": [
      "Generation 8 - Current best internal CV score: 2.0345077139319777e-06\n"
     ]
    },
    {
     "name": "stderr",
     "output_type": "stream",
     "text": [
      "Optimization Progress:   7%|▋         | 1203/17030 [10:01<1:21:41,  3.23pipeline/s]"
     ]
    },
    {
     "name": "stdout",
     "output_type": "stream",
     "text": [
      "Generation 9 - Current best internal CV score: 2.0345077139319777e-06\n"
     ]
    },
    {
     "name": "stderr",
     "output_type": "stream",
     "text": [
      "Optimization Progress:   8%|▊         | 1324/17030 [10:52<1:48:31,  2.41pipeline/s]"
     ]
    },
    {
     "name": "stdout",
     "output_type": "stream",
     "text": [
      "Generation 10 - Current best internal CV score: 1.5930961156935172e-06\n"
     ]
    },
    {
     "name": "stderr",
     "output_type": "stream",
     "text": [
      "Optimization Progress:   8%|▊         | 1444/17030 [11:57<1:42:37,  2.53pipeline/s] "
     ]
    },
    {
     "name": "stdout",
     "output_type": "stream",
     "text": [
      "Generation 11 - Current best internal CV score: 1.5930961156935172e-06\n"
     ]
    },
    {
     "name": "stderr",
     "output_type": "stream",
     "text": [
      "Optimization Progress:   9%|▉         | 1568/17030 [12:56<1:29:30,  2.88pipeline/s]"
     ]
    },
    {
     "name": "stdout",
     "output_type": "stream",
     "text": [
      "Generation 12 - Current best internal CV score: 1.5930961156935172e-06\n"
     ]
    },
    {
     "name": "stderr",
     "output_type": "stream",
     "text": [
      "Optimization Progress:  10%|▉         | 1687/17030 [13:58<1:55:09,  2.22pipeline/s]"
     ]
    },
    {
     "name": "stdout",
     "output_type": "stream",
     "text": [
      "Generation 13 - Current best internal CV score: 1.110483964611189e-06\n"
     ]
    },
    {
     "name": "stderr",
     "output_type": "stream",
     "text": [
      "Optimization Progress:  11%|█         | 1803/17030 [14:40<1:06:09,  3.84pipeline/s]"
     ]
    },
    {
     "name": "stdout",
     "output_type": "stream",
     "text": [
      "Generation 14 - Current best internal CV score: 1.110483964611189e-06\n"
     ]
    },
    {
     "name": "stderr",
     "output_type": "stream",
     "text": [
      "Optimization Progress:  11%|█         | 1914/17030 [15:34<1:30:34,  2.78pipeline/s]"
     ]
    },
    {
     "name": "stdout",
     "output_type": "stream",
     "text": [
      "Generation 15 - Current best internal CV score: 1.110483964611189e-06\n"
     ]
    },
    {
     "name": "stderr",
     "output_type": "stream",
     "text": [
      "Optimization Progress:  12%|█▏        | 2038/17030 [16:20<1:30:06,  2.77pipeline/s]"
     ]
    },
    {
     "name": "stdout",
     "output_type": "stream",
     "text": [
      "Generation 16 - Current best internal CV score: 1.110483964611189e-06\n"
     ]
    },
    {
     "name": "stderr",
     "output_type": "stream",
     "text": [
      "Optimization Progress:  13%|█▎        | 2153/17030 [17:22<1:52:08,  2.21pipeline/s] "
     ]
    },
    {
     "name": "stdout",
     "output_type": "stream",
     "text": [
      "Generation 17 - Current best internal CV score: 7.830124776028346e-07\n"
     ]
    },
    {
     "name": "stderr",
     "output_type": "stream",
     "text": [
      "Optimization Progress:  13%|█▎        | 2275/17030 [18:11<1:35:17,  2.58pipeline/s]"
     ]
    },
    {
     "name": "stdout",
     "output_type": "stream",
     "text": [
      "Generation 18 - Current best internal CV score: 7.830124776028346e-07\n"
     ]
    },
    {
     "name": "stderr",
     "output_type": "stream",
     "text": [
      "Optimization Progress:  14%|█▍        | 2389/17030 [19:02<1:24:32,  2.89pipeline/s] "
     ]
    },
    {
     "name": "stdout",
     "output_type": "stream",
     "text": [
      "Generation 19 - Current best internal CV score: 7.830124776028346e-07\n"
     ]
    },
    {
     "name": "stderr",
     "output_type": "stream",
     "text": [
      "Optimization Progress:  15%|█▍        | 2506/17030 [19:44<1:43:31,  2.34pipeline/s]"
     ]
    },
    {
     "name": "stdout",
     "output_type": "stream",
     "text": [
      "Generation 20 - Current best internal CV score: 7.830124776028346e-07\n"
     ]
    },
    {
     "name": "stderr",
     "output_type": "stream",
     "text": [
      "Optimization Progress:  15%|█▌        | 2617/17030 [20:23<1:28:10,  2.72pipeline/s]"
     ]
    },
    {
     "name": "stdout",
     "output_type": "stream",
     "text": [
      "Generation 21 - Current best internal CV score: 7.830124776028346e-07\n"
     ]
    },
    {
     "name": "stderr",
     "output_type": "stream",
     "text": [
      "Optimization Progress:  16%|█▌        | 2727/17030 [21:04<1:22:17,  2.90pipeline/s]"
     ]
    },
    {
     "name": "stdout",
     "output_type": "stream",
     "text": [
      "Generation 22 - Current best internal CV score: 7.830124776028346e-07\n"
     ]
    },
    {
     "name": "stderr",
     "output_type": "stream",
     "text": [
      "Optimization Progress:  17%|█▋        | 2838/17030 [21:55<1:23:29,  2.83pipeline/s] "
     ]
    },
    {
     "name": "stdout",
     "output_type": "stream",
     "text": [
      "Generation 23 - Current best internal CV score: 7.830124776028346e-07\n"
     ]
    },
    {
     "name": "stderr",
     "output_type": "stream",
     "text": [
      "Optimization Progress:  17%|█▋        | 2949/17030 [22:45<1:22:59,  2.83pipeline/s] "
     ]
    },
    {
     "name": "stdout",
     "output_type": "stream",
     "text": [
      "Generation 24 - Current best internal CV score: 7.830124776028346e-07\n"
     ]
    },
    {
     "name": "stderr",
     "output_type": "stream",
     "text": [
      "Optimization Progress:  18%|█▊        | 3057/17030 [23:32<1:51:34,  2.09pipeline/s] "
     ]
    },
    {
     "name": "stdout",
     "output_type": "stream",
     "text": [
      "Generation 25 - Current best internal CV score: 7.830124776028346e-07\n"
     ]
    },
    {
     "name": "stderr",
     "output_type": "stream",
     "text": [
      "Optimization Progress:  19%|█▊        | 3169/17030 [24:25<1:36:44,  2.39pipeline/s]"
     ]
    },
    {
     "name": "stdout",
     "output_type": "stream",
     "text": [
      "Generation 26 - Current best internal CV score: 7.830124776028346e-07\n"
     ]
    },
    {
     "name": "stderr",
     "output_type": "stream",
     "text": [
      "Optimization Progress:  19%|█▉        | 3275/17030 [25:13<1:37:21,  2.35pipeline/s] "
     ]
    },
    {
     "name": "stdout",
     "output_type": "stream",
     "text": [
      "Generation 27 - Current best internal CV score: 7.830124776028346e-07\n"
     ]
    },
    {
     "name": "stderr",
     "output_type": "stream",
     "text": [
      "Optimization Progress:  20%|█▉        | 3388/17030 [26:00<1:37:19,  2.34pipeline/s] "
     ]
    },
    {
     "name": "stdout",
     "output_type": "stream",
     "text": [
      "Generation 28 - Current best internal CV score: 7.830124776028346e-07\n"
     ]
    },
    {
     "name": "stderr",
     "output_type": "stream",
     "text": [
      "Optimization Progress:  21%|██        | 3493/17030 [26:58<2:02:24,  1.84pipeline/s]"
     ]
    },
    {
     "name": "stdout",
     "output_type": "stream",
     "text": [
      "Generation 29 - Current best internal CV score: 7.830124776028346e-07\n"
     ]
    },
    {
     "name": "stderr",
     "output_type": "stream",
     "text": [
      "Optimization Progress:  21%|██        | 3604/17030 [27:50<1:30:16,  2.48pipeline/s]"
     ]
    },
    {
     "name": "stdout",
     "output_type": "stream",
     "text": [
      "Generation 30 - Current best internal CV score: 7.830124776028346e-07\n"
     ]
    },
    {
     "name": "stderr",
     "output_type": "stream",
     "text": [
      "Optimization Progress:  22%|██▏       | 3717/17030 [28:48<1:40:29,  2.21pipeline/s] "
     ]
    },
    {
     "name": "stdout",
     "output_type": "stream",
     "text": [
      "Generation 31 - Current best internal CV score: 7.830124776028346e-07\n"
     ]
    },
    {
     "name": "stderr",
     "output_type": "stream",
     "text": [
      "Optimization Progress:  22%|██▏       | 3822/17030 [29:47<2:05:21,  1.76pipeline/s] "
     ]
    },
    {
     "name": "stdout",
     "output_type": "stream",
     "text": [
      "Generation 32 - Current best internal CV score: 7.830124776028346e-07\n"
     ]
    },
    {
     "name": "stderr",
     "output_type": "stream",
     "text": [
      "Optimization Progress:  23%|██▎       | 3933/17030 [30:47<2:10:14,  1.68pipeline/s] "
     ]
    },
    {
     "name": "stdout",
     "output_type": "stream",
     "text": [
      "Generation 33 - Current best internal CV score: 7.830124776028346e-07\n"
     ]
    },
    {
     "name": "stderr",
     "output_type": "stream",
     "text": [
      "Optimization Progress:  24%|██▎       | 4041/17030 [31:46<2:05:04,  1.73pipeline/s]"
     ]
    },
    {
     "name": "stdout",
     "output_type": "stream",
     "text": [
      "Generation 34 - Current best internal CV score: 7.830124776028346e-07\n"
     ]
    },
    {
     "name": "stderr",
     "output_type": "stream",
     "text": [
      "Optimization Progress:  24%|██▍       | 4154/17030 [32:53<1:37:33,  2.20pipeline/s]"
     ]
    },
    {
     "name": "stdout",
     "output_type": "stream",
     "text": [
      "Generation 35 - Current best internal CV score: 7.830124776028346e-07\n"
     ]
    },
    {
     "name": "stderr",
     "output_type": "stream",
     "text": [
      "Optimization Progress:  25%|██▌       | 4263/17030 [33:54<1:33:11,  2.28pipeline/s] "
     ]
    },
    {
     "name": "stdout",
     "output_type": "stream",
     "text": [
      "Generation 36 - Current best internal CV score: 7.830124776028346e-07\n"
     ]
    },
    {
     "name": "stderr",
     "output_type": "stream",
     "text": [
      "Optimization Progress:  26%|██▌       | 4359/17030 [35:13<1:49:18,  1.93pipeline/s]"
     ]
    },
    {
     "name": "stdout",
     "output_type": "stream",
     "text": [
      "Generation 37 - Current best internal CV score: 7.830124776028346e-07\n"
     ]
    },
    {
     "name": "stderr",
     "output_type": "stream",
     "text": [
      "Optimization Progress:  26%|██▌       | 4465/17030 [36:38<2:06:36,  1.65pipeline/s] "
     ]
    },
    {
     "name": "stdout",
     "output_type": "stream",
     "text": [
      "Generation 38 - Current best internal CV score: 7.830124776028346e-07\n"
     ]
    },
    {
     "name": "stderr",
     "output_type": "stream",
     "text": [
      "Optimization Progress:  27%|██▋       | 4573/17030 [37:41<1:33:28,  2.22pipeline/s]"
     ]
    },
    {
     "name": "stdout",
     "output_type": "stream",
     "text": [
      "Generation 39 - Current best internal CV score: 5.681078061790515e-07\n"
     ]
    },
    {
     "name": "stderr",
     "output_type": "stream",
     "text": [
      "Optimization Progress:  27%|██▋       | 4671/17030 [38:41<1:56:09,  1.77pipeline/s] "
     ]
    },
    {
     "name": "stdout",
     "output_type": "stream",
     "text": [
      "Generation 40 - Current best internal CV score: 5.681078061790515e-07\n"
     ]
    },
    {
     "name": "stderr",
     "output_type": "stream",
     "text": [
      "Optimization Progress:  28%|██▊       | 4782/17030 [40:10<1:59:42,  1.71pipeline/s] "
     ]
    },
    {
     "name": "stdout",
     "output_type": "stream",
     "text": [
      "Generation 41 - Current best internal CV score: 5.681078061790515e-07\n"
     ]
    },
    {
     "name": "stderr",
     "output_type": "stream",
     "text": [
      "Optimization Progress:  29%|██▉       | 4897/17030 [41:30<1:51:43,  1.81pipeline/s] "
     ]
    },
    {
     "name": "stdout",
     "output_type": "stream",
     "text": [
      "Generation 42 - Current best internal CV score: 5.681078061790515e-07\n"
     ]
    },
    {
     "name": "stderr",
     "output_type": "stream",
     "text": [
      "Optimization Progress:  29%|██▉       | 5003/17030 [42:50<2:32:37,  1.31pipeline/s] "
     ]
    },
    {
     "name": "stdout",
     "output_type": "stream",
     "text": [
      "Generation 43 - Current best internal CV score: 5.681078061790515e-07\n"
     ]
    },
    {
     "name": "stderr",
     "output_type": "stream",
     "text": [
      "Optimization Progress:  30%|███       | 5109/17030 [44:26<2:03:19,  1.61pipeline/s] "
     ]
    },
    {
     "name": "stdout",
     "output_type": "stream",
     "text": [
      "Generation 44 - Current best internal CV score: 5.681078061790515e-07\n"
     ]
    },
    {
     "name": "stderr",
     "output_type": "stream",
     "text": [
      "Optimization Progress:  31%|███       | 5215/17030 [45:56<2:19:21,  1.41pipeline/s]"
     ]
    },
    {
     "name": "stdout",
     "output_type": "stream",
     "text": [
      "Generation 45 - Current best internal CV score: 5.681078061790515e-07\n"
     ]
    },
    {
     "name": "stderr",
     "output_type": "stream",
     "text": [
      "Optimization Progress:  31%|███       | 5319/17030 [47:12<2:27:12,  1.33pipeline/s] "
     ]
    },
    {
     "name": "stdout",
     "output_type": "stream",
     "text": [
      "Generation 46 - Current best internal CV score: 5.681078061790515e-07\n"
     ]
    },
    {
     "name": "stderr",
     "output_type": "stream",
     "text": [
      "Optimization Progress:  32%|███▏      | 5436/17030 [48:44<3:05:23,  1.04pipeline/s] "
     ]
    },
    {
     "name": "stdout",
     "output_type": "stream",
     "text": [
      "Generation 47 - Current best internal CV score: 4.993389259505386e-07\n"
     ]
    },
    {
     "name": "stderr",
     "output_type": "stream",
     "text": [
      "Optimization Progress:  33%|███▎      | 5544/17030 [49:56<2:18:34,  1.38pipeline/s] "
     ]
    },
    {
     "name": "stdout",
     "output_type": "stream",
     "text": [
      "Generation 48 - Current best internal CV score: 4.993389259505386e-07\n"
     ]
    },
    {
     "name": "stderr",
     "output_type": "stream",
     "text": [
      "Optimization Progress:  33%|███▎      | 5656/17030 [51:27<3:18:21,  1.05s/pipeline] "
     ]
    },
    {
     "name": "stdout",
     "output_type": "stream",
     "text": [
      "Generation 49 - Current best internal CV score: 4.993389259505386e-07\n"
     ]
    },
    {
     "name": "stderr",
     "output_type": "stream",
     "text": [
      "Optimization Progress:  34%|███▍      | 5766/17030 [52:54<3:29:53,  1.12s/pipeline] "
     ]
    },
    {
     "name": "stdout",
     "output_type": "stream",
     "text": [
      "Generation 50 - Current best internal CV score: 4.993389259505386e-07\n"
     ]
    },
    {
     "name": "stderr",
     "output_type": "stream",
     "text": [
      "Optimization Progress:  35%|███▍      | 5885/17030 [54:14<1:48:23,  1.71pipeline/s]"
     ]
    },
    {
     "name": "stdout",
     "output_type": "stream",
     "text": [
      "Generation 51 - Current best internal CV score: 4.993389259505386e-07\n"
     ]
    },
    {
     "name": "stderr",
     "output_type": "stream",
     "text": [
      "Optimization Progress:  35%|███▌      | 6003/17030 [55:54<2:24:39,  1.27pipeline/s] "
     ]
    },
    {
     "name": "stdout",
     "output_type": "stream",
     "text": [
      "Generation 52 - Current best internal CV score: 4.993389259505386e-07\n"
     ]
    },
    {
     "name": "stderr",
     "output_type": "stream",
     "text": [
      "Optimization Progress:  36%|███▌      | 6117/17030 [57:31<2:23:17,  1.27pipeline/s] "
     ]
    },
    {
     "name": "stdout",
     "output_type": "stream",
     "text": [
      "Generation 53 - Current best internal CV score: 4.993389259505386e-07\n"
     ]
    },
    {
     "name": "stderr",
     "output_type": "stream",
     "text": [
      "Optimization Progress:  37%|███▋      | 6235/17030 [58:58<2:10:23,  1.38pipeline/s] "
     ]
    },
    {
     "name": "stdout",
     "output_type": "stream",
     "text": [
      "Generation 54 - Current best internal CV score: 4.993389259505386e-07\n"
     ]
    },
    {
     "name": "stderr",
     "output_type": "stream",
     "text": [
      "Optimization Progress:  37%|███▋      | 6353/17030 [1:00:20<3:01:35,  1.02s/pipeline]"
     ]
    },
    {
     "name": "stdout",
     "output_type": "stream",
     "text": [
      "Generation 55 - Current best internal CV score: 4.862884939260376e-07\n"
     ]
    },
    {
     "name": "stderr",
     "output_type": "stream",
     "text": [
      "Optimization Progress:  38%|███▊      | 6465/17030 [1:01:37<2:21:45,  1.24pipeline/s] "
     ]
    },
    {
     "name": "stdout",
     "output_type": "stream",
     "text": [
      "Generation 56 - Current best internal CV score: 4.862884939260376e-07\n"
     ]
    },
    {
     "name": "stderr",
     "output_type": "stream",
     "text": [
      "Optimization Progress:  39%|███▊      | 6585/17030 [1:02:52<2:21:57,  1.23pipeline/s] "
     ]
    },
    {
     "name": "stdout",
     "output_type": "stream",
     "text": [
      "Generation 57 - Current best internal CV score: 4.862884939260376e-07\n"
     ]
    },
    {
     "name": "stderr",
     "output_type": "stream",
     "text": [
      "Optimization Progress:  39%|███▉      | 6702/17030 [1:04:05<2:08:58,  1.33pipeline/s] "
     ]
    },
    {
     "name": "stdout",
     "output_type": "stream",
     "text": [
      "Generation 58 - Current best internal CV score: 4.862884939260376e-07\n"
     ]
    },
    {
     "name": "stderr",
     "output_type": "stream",
     "text": [
      "Optimization Progress:  40%|████      | 6818/17030 [1:05:28<2:14:25,  1.27pipeline/s] "
     ]
    },
    {
     "name": "stdout",
     "output_type": "stream",
     "text": [
      "Generation 59 - Current best internal CV score: 4.862884939260376e-07\n"
     ]
    },
    {
     "name": "stderr",
     "output_type": "stream",
     "text": [
      "Optimization Progress:  41%|████      | 6926/17030 [1:06:42<2:45:22,  1.02pipeline/s]"
     ]
    },
    {
     "name": "stdout",
     "output_type": "stream",
     "text": [
      "Generation 60 - Current best internal CV score: 4.862884939260376e-07\n"
     ]
    },
    {
     "name": "stderr",
     "output_type": "stream",
     "text": [
      "Optimization Progress:  41%|████▏     | 7043/17030 [1:07:52<2:01:36,  1.37pipeline/s] "
     ]
    },
    {
     "name": "stdout",
     "output_type": "stream",
     "text": [
      "Generation 61 - Current best internal CV score: 3.770196202209351e-07\n"
     ]
    },
    {
     "name": "stderr",
     "output_type": "stream",
     "text": [
      "Optimization Progress:  42%|████▏     | 7152/17030 [1:09:02<3:09:47,  1.15s/pipeline]"
     ]
    },
    {
     "name": "stdout",
     "output_type": "stream",
     "text": [
      "Generation 62 - Current best internal CV score: 3.770196202209351e-07\n"
     ]
    },
    {
     "name": "stderr",
     "output_type": "stream",
     "text": [
      "Optimization Progress:  43%|████▎     | 7270/17030 [1:10:25<2:29:05,  1.09pipeline/s]"
     ]
    },
    {
     "name": "stdout",
     "output_type": "stream",
     "text": [
      "Generation 63 - Current best internal CV score: 3.770196202209351e-07\n"
     ]
    },
    {
     "name": "stderr",
     "output_type": "stream",
     "text": [
      "Optimization Progress:  43%|████▎     | 7376/17030 [1:12:33<5:37:24,  2.10s/pipeline] "
     ]
    },
    {
     "name": "stdout",
     "output_type": "stream",
     "text": [
      "Generation 64 - Current best internal CV score: 3.770196202209351e-07\n"
     ]
    },
    {
     "name": "stderr",
     "output_type": "stream",
     "text": [
      "Optimization Progress:  44%|████▍     | 7480/17030 [1:13:41<1:59:27,  1.33pipeline/s] "
     ]
    },
    {
     "name": "stdout",
     "output_type": "stream",
     "text": [
      "Generation 65 - Current best internal CV score: 3.770196202209351e-07\n"
     ]
    },
    {
     "name": "stderr",
     "output_type": "stream",
     "text": [
      "Optimization Progress:  45%|████▍     | 7585/17030 [1:14:49<2:18:15,  1.14pipeline/s] "
     ]
    },
    {
     "name": "stdout",
     "output_type": "stream",
     "text": [
      "Generation 66 - Current best internal CV score: 3.770196202209351e-07\n"
     ]
    },
    {
     "name": "stderr",
     "output_type": "stream",
     "text": [
      "Optimization Progress:  45%|████▌     | 7694/17030 [1:16:05<2:38:35,  1.02s/pipeline] "
     ]
    },
    {
     "name": "stdout",
     "output_type": "stream",
     "text": [
      "Generation 67 - Current best internal CV score: 3.770196202209351e-07\n"
     ]
    },
    {
     "name": "stderr",
     "output_type": "stream",
     "text": [
      "Optimization Progress:  46%|████▌     | 7806/17030 [1:17:03<1:19:06,  1.94pipeline/s]"
     ]
    },
    {
     "name": "stdout",
     "output_type": "stream",
     "text": [
      "Generation 68 - Current best internal CV score: 3.770196202209351e-07\n"
     ]
    },
    {
     "name": "stderr",
     "output_type": "stream",
     "text": [
      "Optimization Progress:  46%|████▋     | 7905/17030 [1:18:03<2:16:34,  1.11pipeline/s] "
     ]
    },
    {
     "name": "stdout",
     "output_type": "stream",
     "text": [
      "Generation 69 - Current best internal CV score: 3.770196202209351e-07\n"
     ]
    },
    {
     "name": "stderr",
     "output_type": "stream",
     "text": [
      "Optimization Progress:  47%|████▋     | 8006/17030 [1:19:03<1:56:46,  1.29pipeline/s]"
     ]
    },
    {
     "name": "stdout",
     "output_type": "stream",
     "text": [
      "Generation 70 - Current best internal CV score: 3.770196202209351e-07\n"
     ]
    },
    {
     "name": "stderr",
     "output_type": "stream",
     "text": [
      "Optimization Progress:  48%|████▊     | 8112/17030 [1:20:27<2:01:13,  1.23pipeline/s]"
     ]
    },
    {
     "name": "stdout",
     "output_type": "stream",
     "text": [
      "Generation 71 - Current best internal CV score: 3.770196202209351e-07\n"
     ]
    },
    {
     "name": "stderr",
     "output_type": "stream",
     "text": [
      "Optimization Progress:  48%|████▊     | 8209/17030 [1:21:44<2:16:18,  1.08pipeline/s]"
     ]
    },
    {
     "name": "stdout",
     "output_type": "stream",
     "text": [
      "Generation 72 - Current best internal CV score: 3.770196202209351e-07\n"
     ]
    },
    {
     "name": "stderr",
     "output_type": "stream",
     "text": [
      "Optimization Progress:  49%|████▉     | 8314/17030 [1:23:03<1:40:59,  1.44pipeline/s]"
     ]
    },
    {
     "name": "stdout",
     "output_type": "stream",
     "text": [
      "Generation 73 - Current best internal CV score: 3.770196202209351e-07\n"
     ]
    },
    {
     "name": "stderr",
     "output_type": "stream",
     "text": [
      "Optimization Progress:  49%|████▉     | 8409/17030 [1:24:22<1:58:57,  1.21pipeline/s]"
     ]
    },
    {
     "name": "stdout",
     "output_type": "stream",
     "text": [
      "Generation 74 - Current best internal CV score: 3.770196202209351e-07\n"
     ]
    },
    {
     "name": "stderr",
     "output_type": "stream",
     "text": [
      "Optimization Progress:  50%|████▉     | 8506/17030 [1:25:43<1:57:53,  1.21pipeline/s]"
     ]
    },
    {
     "name": "stdout",
     "output_type": "stream",
     "text": [
      "Generation 75 - Current best internal CV score: 3.770196202209351e-07\n"
     ]
    },
    {
     "name": "stderr",
     "output_type": "stream",
     "text": [
      "Optimization Progress:  51%|█████     | 8607/17030 [1:27:36<2:01:28,  1.16pipeline/s]"
     ]
    },
    {
     "name": "stdout",
     "output_type": "stream",
     "text": [
      "Generation 76 - Current best internal CV score: 3.770196202209351e-07\n"
     ]
    },
    {
     "name": "stderr",
     "output_type": "stream",
     "text": [
      "Optimization Progress:  51%|█████     | 8691/17030 [1:28:58<2:32:25,  1.10s/pipeline]"
     ]
    },
    {
     "name": "stdout",
     "output_type": "stream",
     "text": [
      "Generation 77 - Current best internal CV score: 3.770196202209351e-07\n"
     ]
    },
    {
     "name": "stderr",
     "output_type": "stream",
     "text": [
      "Optimization Progress:  52%|█████▏    | 8787/17030 [1:30:56<1:40:46,  1.36pipeline/s]"
     ]
    },
    {
     "name": "stdout",
     "output_type": "stream",
     "text": [
      "Generation 78 - Current best internal CV score: 3.770196202209351e-07\n"
     ]
    },
    {
     "name": "stderr",
     "output_type": "stream",
     "text": [
      "Optimization Progress:  52%|█████▏    | 8872/17030 [1:32:08<4:09:38,  1.84s/pipeline] "
     ]
    },
    {
     "name": "stdout",
     "output_type": "stream",
     "text": [
      "Generation 79 - Current best internal CV score: 3.770196202209351e-07\n"
     ]
    },
    {
     "name": "stderr",
     "output_type": "stream",
     "text": [
      "Optimization Progress:  53%|█████▎    | 8954/17030 [1:33:32<2:34:01,  1.14s/pipeline]"
     ]
    },
    {
     "name": "stdout",
     "output_type": "stream",
     "text": [
      "Generation 80 - Current best internal CV score: 3.770196202209351e-07\n"
     ]
    },
    {
     "name": "stderr",
     "output_type": "stream",
     "text": [
      "Optimization Progress:  53%|█████▎    | 9046/17030 [1:35:28<1:54:00,  1.17pipeline/s]"
     ]
    },
    {
     "name": "stdout",
     "output_type": "stream",
     "text": [
      "Generation 81 - Current best internal CV score: 3.770196202209351e-07\n"
     ]
    },
    {
     "name": "stderr",
     "output_type": "stream",
     "text": [
      "Optimization Progress:  54%|█████▎    | 9138/17030 [1:37:27<1:27:54,  1.50pipeline/s]"
     ]
    },
    {
     "name": "stdout",
     "output_type": "stream",
     "text": [
      "Generation 82 - Current best internal CV score: 3.770196202209351e-07\n"
     ]
    },
    {
     "name": "stderr",
     "output_type": "stream",
     "text": [
      "Optimization Progress:  54%|█████▍    | 9227/17030 [1:39:35<1:54:57,  1.13pipeline/s]"
     ]
    },
    {
     "name": "stdout",
     "output_type": "stream",
     "text": [
      "Generation 83 - Current best internal CV score: 3.770196202209351e-07\n"
     ]
    },
    {
     "name": "stderr",
     "output_type": "stream",
     "text": [
      "Optimization Progress:  55%|█████▍    | 9317/17030 [1:42:09<2:04:50,  1.03pipeline/s]"
     ]
    },
    {
     "name": "stdout",
     "output_type": "stream",
     "text": [
      "Generation 84 - Current best internal CV score: 3.770196202209351e-07\n"
     ]
    },
    {
     "name": "stderr",
     "output_type": "stream",
     "text": [
      "Optimization Progress:  55%|█████▌    | 9405/17030 [1:43:35<1:36:43,  1.31pipeline/s]"
     ]
    },
    {
     "name": "stdout",
     "output_type": "stream",
     "text": [
      "Generation 85 - Current best internal CV score: 3.770196202209351e-07\n"
     ]
    },
    {
     "name": "stderr",
     "output_type": "stream",
     "text": [
      "Optimization Progress:  56%|█████▌    | 9500/17030 [1:45:51<1:27:49,  1.43pipeline/s]"
     ]
    },
    {
     "name": "stdout",
     "output_type": "stream",
     "text": [
      "Generation 86 - Current best internal CV score: 3.770196202209351e-07\n"
     ]
    },
    {
     "name": "stderr",
     "output_type": "stream",
     "text": [
      "Optimization Progress:  56%|█████▋    | 9591/17030 [1:48:16<2:05:16,  1.01s/pipeline]"
     ]
    },
    {
     "name": "stdout",
     "output_type": "stream",
     "text": [
      "Generation 87 - Current best internal CV score: 3.770196202209351e-07\n"
     ]
    },
    {
     "name": "stderr",
     "output_type": "stream",
     "text": [
      "Optimization Progress:  57%|█████▋    | 9675/17030 [1:50:07<2:02:11,  1.00pipeline/s]"
     ]
    },
    {
     "name": "stdout",
     "output_type": "stream",
     "text": [
      "Generation 88 - Current best internal CV score: 3.770196202209351e-07\n"
     ]
    },
    {
     "name": "stderr",
     "output_type": "stream",
     "text": [
      "Optimization Progress:  57%|█████▋    | 9757/17030 [1:51:57<2:00:45,  1.00pipeline/s]"
     ]
    },
    {
     "name": "stdout",
     "output_type": "stream",
     "text": [
      "Generation 89 - Current best internal CV score: 3.770196202209351e-07\n"
     ]
    },
    {
     "name": "stderr",
     "output_type": "stream",
     "text": [
      "Optimization Progress:  58%|█████▊    | 9842/17030 [1:53:23<2:00:08,  1.00s/pipeline] "
     ]
    },
    {
     "name": "stdout",
     "output_type": "stream",
     "text": [
      "Generation 90 - Current best internal CV score: 3.770196202209351e-07\n"
     ]
    },
    {
     "name": "stderr",
     "output_type": "stream",
     "text": [
      "Optimization Progress:  58%|█████▊    | 9934/17030 [1:55:31<2:24:59,  1.23s/pipeline]"
     ]
    },
    {
     "name": "stdout",
     "output_type": "stream",
     "text": [
      "Generation 91 - Current best internal CV score: 3.770196202209351e-07\n"
     ]
    },
    {
     "name": "stderr",
     "output_type": "stream",
     "text": [
      "Optimization Progress:  59%|█████▉    | 10015/17030 [1:56:41<1:23:34,  1.40pipeline/s]"
     ]
    },
    {
     "name": "stdout",
     "output_type": "stream",
     "text": [
      "Generation 92 - Current best internal CV score: 3.770196202209351e-07\n"
     ]
    },
    {
     "name": "stderr",
     "output_type": "stream",
     "text": [
      "Optimization Progress:  59%|█████▉    | 10102/17030 [1:58:28<1:40:44,  1.15pipeline/s]"
     ]
    },
    {
     "name": "stdout",
     "output_type": "stream",
     "text": [
      "Generation 93 - Current best internal CV score: 3.770196202209351e-07\n"
     ]
    },
    {
     "name": "stderr",
     "output_type": "stream",
     "text": [
      "Optimization Progress:  60%|█████▉    | 10190/17030 [2:00:33<2:20:33,  1.23s/pipeline]"
     ]
    },
    {
     "name": "stdout",
     "output_type": "stream",
     "text": [
      "Generation 94 - Current best internal CV score: 3.770196202209351e-07\n"
     ]
    },
    {
     "name": "stderr",
     "output_type": "stream",
     "text": [
      "Optimization Progress:  60%|██████    | 10276/17030 [2:02:43<1:54:07,  1.01s/pipeline]"
     ]
    },
    {
     "name": "stdout",
     "output_type": "stream",
     "text": [
      "Generation 95 - Current best internal CV score: 3.770196202209351e-07\n"
     ]
    },
    {
     "name": "stderr",
     "output_type": "stream",
     "text": [
      "Optimization Progress:  61%|██████    | 10359/17030 [2:04:18<1:34:39,  1.17pipeline/s]"
     ]
    },
    {
     "name": "stdout",
     "output_type": "stream",
     "text": [
      "Generation 96 - Current best internal CV score: 3.770196202209351e-07\n"
     ]
    },
    {
     "name": "stderr",
     "output_type": "stream",
     "text": [
      "Optimization Progress:  61%|██████▏   | 10441/17030 [2:05:52<1:55:12,  1.05s/pipeline]"
     ]
    },
    {
     "name": "stdout",
     "output_type": "stream",
     "text": [
      "Generation 97 - Current best internal CV score: 3.770196202209351e-07\n"
     ]
    },
    {
     "name": "stderr",
     "output_type": "stream",
     "text": [
      "Optimization Progress:  62%|██████▏   | 10537/17030 [2:07:49<1:37:37,  1.11pipeline/s]"
     ]
    },
    {
     "name": "stdout",
     "output_type": "stream",
     "text": [
      "Generation 98 - Current best internal CV score: 3.770196202209351e-07\n"
     ]
    },
    {
     "name": "stderr",
     "output_type": "stream",
     "text": [
      "Optimization Progress:  62%|██████▏   | 10618/17030 [2:09:59<6:28:52,  3.64s/pipeline]"
     ]
    },
    {
     "name": "stdout",
     "output_type": "stream",
     "text": [
      "Generation 99 - Current best internal CV score: 3.770196202209351e-07\n"
     ]
    },
    {
     "name": "stderr",
     "output_type": "stream",
     "text": [
      "Optimization Progress:  63%|██████▎   | 10698/17030 [2:11:55<2:25:11,  1.38s/pipeline]"
     ]
    },
    {
     "name": "stdout",
     "output_type": "stream",
     "text": [
      "Generation 100 - Current best internal CV score: 3.770196202209351e-07\n"
     ]
    },
    {
     "name": "stderr",
     "output_type": "stream",
     "text": [
      "Optimization Progress:  63%|██████▎   | 10784/17030 [2:13:35<1:35:38,  1.09pipeline/s]"
     ]
    },
    {
     "name": "stdout",
     "output_type": "stream",
     "text": [
      "Generation 101 - Current best internal CV score: 3.770196202209351e-07\n"
     ]
    },
    {
     "name": "stderr",
     "output_type": "stream",
     "text": [
      "Optimization Progress:  64%|██████▍   | 10859/17030 [2:14:42<1:12:40,  1.42pipeline/s]"
     ]
    },
    {
     "name": "stdout",
     "output_type": "stream",
     "text": [
      "Generation 102 - Current best internal CV score: 3.770196202209351e-07\n"
     ]
    },
    {
     "name": "stderr",
     "output_type": "stream",
     "text": [
      "Optimization Progress:  64%|██████▍   | 10947/17030 [2:15:49<3:05:37,  1.83s/pipeline] "
     ]
    },
    {
     "name": "stdout",
     "output_type": "stream",
     "text": [
      "Generation 103 - Current best internal CV score: 3.770196202209351e-07\n"
     ]
    },
    {
     "name": "stderr",
     "output_type": "stream",
     "text": [
      "Optimization Progress:  65%|██████▍   | 11023/17030 [2:17:44<1:55:34,  1.15s/pipeline]"
     ]
    },
    {
     "name": "stdout",
     "output_type": "stream",
     "text": [
      "Generation 104 - Current best internal CV score: 3.770196202209351e-07\n"
     ]
    },
    {
     "name": "stderr",
     "output_type": "stream",
     "text": [
      "Optimization Progress:  65%|██████▌   | 11098/17030 [2:18:54<2:38:09,  1.60s/pipeline]"
     ]
    },
    {
     "name": "stdout",
     "output_type": "stream",
     "text": [
      "Generation 105 - Current best internal CV score: 3.770196202209351e-07\n"
     ]
    },
    {
     "name": "stderr",
     "output_type": "stream",
     "text": [
      "Optimization Progress:  66%|██████▌   | 11173/17030 [2:20:16<1:39:56,  1.02s/pipeline]"
     ]
    },
    {
     "name": "stdout",
     "output_type": "stream",
     "text": [
      "Generation 106 - Current best internal CV score: 3.770196202209351e-07\n"
     ]
    },
    {
     "name": "stderr",
     "output_type": "stream",
     "text": [
      "Optimization Progress:  66%|██████▌   | 11256/17030 [2:21:52<1:10:34,  1.36pipeline/s]"
     ]
    },
    {
     "name": "stdout",
     "output_type": "stream",
     "text": [
      "Generation 107 - Current best internal CV score: 3.770196202209351e-07\n"
     ]
    },
    {
     "name": "stderr",
     "output_type": "stream",
     "text": [
      "Optimization Progress:  67%|██████▋   | 11338/17030 [2:23:24<1:50:32,  1.17s/pipeline]"
     ]
    },
    {
     "name": "stdout",
     "output_type": "stream",
     "text": [
      "Generation 108 - Current best internal CV score: 3.770196202209351e-07\n"
     ]
    },
    {
     "name": "stderr",
     "output_type": "stream",
     "text": [
      "Optimization Progress:  67%|██████▋   | 11418/17030 [2:24:21<1:44:32,  1.12s/pipeline]"
     ]
    },
    {
     "name": "stdout",
     "output_type": "stream",
     "text": [
      "Generation 109 - Current best internal CV score: 3.770196202209351e-07\n"
     ]
    },
    {
     "name": "stderr",
     "output_type": "stream",
     "text": [
      "Optimization Progress:  67%|██████▋   | 11490/17030 [2:25:41<1:54:00,  1.23s/pipeline]"
     ]
    },
    {
     "name": "stdout",
     "output_type": "stream",
     "text": [
      "Generation 110 - Current best internal CV score: 3.770196202209351e-07\n"
     ]
    },
    {
     "name": "stderr",
     "output_type": "stream",
     "text": [
      "Optimization Progress:  68%|██████▊   | 11570/17030 [2:26:47<2:35:36,  1.71s/pipeline]"
     ]
    },
    {
     "name": "stdout",
     "output_type": "stream",
     "text": [
      "Generation 111 - Current best internal CV score: 3.770196202209351e-07\n"
     ]
    },
    {
     "name": "stderr",
     "output_type": "stream",
     "text": [
      "Optimization Progress:  68%|██████▊   | 11644/17030 [2:27:46<2:20:24,  1.56s/pipeline]"
     ]
    },
    {
     "name": "stdout",
     "output_type": "stream",
     "text": [
      "Generation 112 - Current best internal CV score: 3.770196202209351e-07\n"
     ]
    },
    {
     "name": "stderr",
     "output_type": "stream",
     "text": [
      "Optimization Progress:  69%|██████▉   | 11724/17030 [2:29:12<1:10:53,  1.25pipeline/s]"
     ]
    },
    {
     "name": "stdout",
     "output_type": "stream",
     "text": [
      "Generation 113 - Current best internal CV score: 3.770196202209351e-07\n"
     ]
    },
    {
     "name": "stderr",
     "output_type": "stream",
     "text": [
      "Optimization Progress:  69%|██████▉   | 11798/17030 [2:30:42<2:23:55,  1.65s/pipeline]"
     ]
    },
    {
     "name": "stdout",
     "output_type": "stream",
     "text": [
      "Generation 114 - Current best internal CV score: 3.770196202209351e-07\n"
     ]
    },
    {
     "name": "stderr",
     "output_type": "stream",
     "text": [
      "Optimization Progress:  70%|██████▉   | 11875/17030 [2:31:49<1:48:19,  1.26s/pipeline]"
     ]
    },
    {
     "name": "stdout",
     "output_type": "stream",
     "text": [
      "Generation 115 - Current best internal CV score: 3.770196202209351e-07\n"
     ]
    },
    {
     "name": "stderr",
     "output_type": "stream",
     "text": [
      "Optimization Progress:  70%|███████   | 11951/17030 [2:32:47<2:56:12,  2.08s/pipeline] "
     ]
    },
    {
     "name": "stdout",
     "output_type": "stream",
     "text": [
      "Generation 116 - Current best internal CV score: 3.770196202209351e-07\n"
     ]
    },
    {
     "name": "stderr",
     "output_type": "stream",
     "text": [
      "Optimization Progress:  71%|███████   | 12022/17030 [2:34:07<1:35:16,  1.14s/pipeline]"
     ]
    },
    {
     "name": "stdout",
     "output_type": "stream",
     "text": [
      "Generation 117 - Current best internal CV score: 3.770196202209351e-07\n"
     ]
    },
    {
     "name": "stderr",
     "output_type": "stream",
     "text": [
      "Optimization Progress:  71%|███████   | 12100/17030 [2:35:06<1:47:42,  1.31s/pipeline]"
     ]
    },
    {
     "name": "stdout",
     "output_type": "stream",
     "text": [
      "Generation 118 - Current best internal CV score: 3.770196202209351e-07\n"
     ]
    },
    {
     "name": "stderr",
     "output_type": "stream",
     "text": [
      "Optimization Progress:  71%|███████▏  | 12164/17030 [2:35:53<3:09:25,  2.34s/pipeline] "
     ]
    },
    {
     "name": "stdout",
     "output_type": "stream",
     "text": [
      "Generation 119 - Current best internal CV score: 3.770196202209351e-07\n"
     ]
    },
    {
     "name": "stderr",
     "output_type": "stream",
     "text": [
      "Optimization Progress:  72%|███████▏  | 12224/17030 [2:36:36<2:33:08,  1.91s/pipeline]"
     ]
    },
    {
     "name": "stdout",
     "output_type": "stream",
     "text": [
      "Generation 120 - Current best internal CV score: 3.770196202209351e-07\n"
     ]
    },
    {
     "name": "stderr",
     "output_type": "stream",
     "text": [
      "Optimization Progress:  72%|███████▏  | 12287/17030 [2:37:35<5:21:42,  4.07s/pipeline] "
     ]
    },
    {
     "name": "stdout",
     "output_type": "stream",
     "text": [
      "Generation 121 - Current best internal CV score: 3.770196202209351e-07\n"
     ]
    },
    {
     "name": "stderr",
     "output_type": "stream",
     "text": [
      "Optimization Progress:  73%|███████▎  | 12358/17030 [2:38:22<3:10:18,  2.44s/pipeline] "
     ]
    },
    {
     "name": "stdout",
     "output_type": "stream",
     "text": [
      "Generation 122 - Current best internal CV score: 3.770196202209351e-07\n"
     ]
    },
    {
     "name": "stderr",
     "output_type": "stream",
     "text": [
      "Optimization Progress:  73%|███████▎  | 12424/17030 [2:39:16<2:22:51,  1.86s/pipeline]"
     ]
    },
    {
     "name": "stdout",
     "output_type": "stream",
     "text": [
      "Generation 123 - Current best internal CV score: 3.770196202209351e-07\n"
     ]
    },
    {
     "name": "stderr",
     "output_type": "stream",
     "text": [
      "Optimization Progress:  73%|███████▎  | 12487/17030 [2:40:17<4:09:11,  3.29s/pipeline] "
     ]
    },
    {
     "name": "stdout",
     "output_type": "stream",
     "text": [
      "Generation 124 - Current best internal CV score: 3.770196202209351e-07\n"
     ]
    },
    {
     "name": "stderr",
     "output_type": "stream",
     "text": [
      "Optimization Progress:  74%|███████▎  | 12550/17030 [2:41:12<2:37:24,  2.11s/pipeline] "
     ]
    },
    {
     "name": "stdout",
     "output_type": "stream",
     "text": [
      "Generation 125 - Current best internal CV score: 3.770196202209351e-07\n"
     ]
    },
    {
     "name": "stderr",
     "output_type": "stream",
     "text": [
      "Optimization Progress:  74%|███████▍  | 12609/17030 [2:42:12<3:47:43,  3.09s/pipeline] "
     ]
    },
    {
     "name": "stdout",
     "output_type": "stream",
     "text": [
      "Generation 126 - Current best internal CV score: 3.770196202209351e-07\n"
     ]
    },
    {
     "name": "stderr",
     "output_type": "stream",
     "text": [
      "Optimization Progress:  74%|███████▍  | 12672/17030 [2:43:05<2:48:54,  2.33s/pipeline]"
     ]
    },
    {
     "name": "stdout",
     "output_type": "stream",
     "text": [
      "Generation 127 - Current best internal CV score: 3.770196202209351e-07\n"
     ]
    },
    {
     "name": "stderr",
     "output_type": "stream",
     "text": [
      "Optimization Progress:  75%|███████▍  | 12739/17030 [2:43:54<1:20:17,  1.12s/pipeline]"
     ]
    },
    {
     "name": "stdout",
     "output_type": "stream",
     "text": [
      "Generation 128 - Current best internal CV score: 3.770196202209351e-07\n"
     ]
    },
    {
     "name": "stderr",
     "output_type": "stream",
     "text": [
      "Optimization Progress:  75%|███████▌  | 12797/17030 [2:44:45<4:03:16,  3.45s/pipeline] "
     ]
    },
    {
     "name": "stdout",
     "output_type": "stream",
     "text": [
      "Generation 129 - Current best internal CV score: 3.770196202209351e-07\n"
     ]
    },
    {
     "name": "stderr",
     "output_type": "stream",
     "text": [
      "                                                                                      \r"
     ]
    },
    {
     "name": "stdout",
     "output_type": "stream",
     "text": [
      "Generation 130 - Current best internal CV score: 3.770196202209351e-07\n",
      "\n",
      "Best pipeline: ExtraTreesRegressor(LassoLarsCV(RBFSampler(MaxAbsScaler(input_matrix), RBFSampler__gamma=0.15), LassoLarsCV__normalize=False), ExtraTreesRegressor__bootstrap=False, ExtraTreesRegressor__max_features=0.3, ExtraTreesRegressor__min_samples_leaf=1, ExtraTreesRegressor__min_samples_split=DEFAULT, ExtraTreesRegressor__n_estimators=100)\n",
      "Isopentenol gL\n"
     ]
    },
    {
     "data": {
      "image/png": "[encoded data removed]",
      "text/plain": [
       "<matplotlib.figure.Figure at 0x10f863908>"
      ]
     },
     "metadata": {},
     "output_type": "display_data"
    },
    {
     "name": "stdout",
     "output_type": "stream",
     "text": [
      "Mev-P (uM)\n",
      "Warning: xgboost.XGBRegressor is not available and will not be used by TPOT.\n"
     ]
    },
    {
     "name": "stderr",
     "output_type": "stream",
     "text": [
      "Optimization Progress:   1%|▏         | 235/17030 [01:00<1:09:04,  4.05pipeline/s]"
     ]
    },
    {
     "name": "stdout",
     "output_type": "stream",
     "text": [
      "Generation 1 - Current best internal CV score: 0.0009409310638981577\n"
     ]
    },
    {
     "name": "stderr",
     "output_type": "stream",
     "text": [
      "Optimization Progress:   2%|▏         | 351/17030 [01:48<59:49,  4.65pipeline/s]  "
     ]
    },
    {
     "name": "stdout",
     "output_type": "stream",
     "text": [
      "Generation 2 - Current best internal CV score: 0.0009409310638981577\n"
     ]
    },
    {
     "name": "stderr",
     "output_type": "stream",
     "text": [
      "Optimization Progress:   3%|▎         | 470/17030 [02:47<2:18:44,  1.99pipeline/s]"
     ]
    },
    {
     "name": "stdout",
     "output_type": "stream",
     "text": [
      "Generation 3 - Current best internal CV score: 0.0008365918029768287\n"
     ]
    },
    {
     "name": "stderr",
     "output_type": "stream",
     "text": [
      "Optimization Progress:   3%|▎         | 586/17030 [04:06<1:27:39,  3.13pipeline/s]"
     ]
    },
    {
     "name": "stdout",
     "output_type": "stream",
     "text": [
      "Generation 4 - Current best internal CV score: 0.0008129123326569447\n"
     ]
    },
    {
     "name": "stderr",
     "output_type": "stream",
     "text": [
      "Optimization Progress:   4%|▍         | 704/17030 [05:45<1:46:42,  2.55pipeline/s]"
     ]
    },
    {
     "name": "stdout",
     "output_type": "stream",
     "text": [
      "Generation 5 - Current best internal CV score: 0.0008129123326569447\n"
     ]
    },
    {
     "name": "stderr",
     "output_type": "stream",
     "text": [
      "Optimization Progress:   5%|▍         | 825/17030 [06:51<1:58:59,  2.27pipeline/s]"
     ]
    },
    {
     "name": "stdout",
     "output_type": "stream",
     "text": [
      "Generation 6 - Current best internal CV score: 0.0008003963255716793\n"
     ]
    },
    {
     "name": "stderr",
     "output_type": "stream",
     "text": [
      "Optimization Progress:   6%|▌         | 946/17030 [07:52<1:30:15,  2.97pipeline/s]"
     ]
    },
    {
     "name": "stdout",
     "output_type": "stream",
     "text": [
      "Generation 7 - Current best internal CV score: 0.0007034435737298284\n"
     ]
    },
    {
     "name": "stderr",
     "output_type": "stream",
     "text": [
      "Optimization Progress:   6%|▌         | 1063/17030 [09:06<1:38:48,  2.69pipeline/s]"
     ]
    },
    {
     "name": "stdout",
     "output_type": "stream",
     "text": [
      "Generation 8 - Current best internal CV score: 0.00023978487175866522\n"
     ]
    },
    {
     "name": "stderr",
     "output_type": "stream",
     "text": [
      "Optimization Progress:   7%|▋         | 1183/17030 [10:11<1:33:04,  2.84pipeline/s]"
     ]
    },
    {
     "name": "stdout",
     "output_type": "stream",
     "text": [
      "Generation 9 - Current best internal CV score: 0.00023978487175866522\n"
     ]
    },
    {
     "name": "stderr",
     "output_type": "stream",
     "text": [
      "Optimization Progress:   8%|▊         | 1308/17030 [11:12<1:26:04,  3.04pipeline/s]"
     ]
    },
    {
     "name": "stdout",
     "output_type": "stream",
     "text": [
      "Generation 10 - Current best internal CV score: 0.00023978487175866522\n"
     ]
    },
    {
     "name": "stderr",
     "output_type": "stream",
     "text": [
      "Optimization Progress:   8%|▊         | 1425/17030 [12:11<1:16:33,  3.40pipeline/s]"
     ]
    },
    {
     "name": "stdout",
     "output_type": "stream",
     "text": [
      "Generation 11 - Current best internal CV score: 0.00023978487175866522\n"
     ]
    },
    {
     "name": "stderr",
     "output_type": "stream",
     "text": [
      "Optimization Progress:   9%|▉         | 1540/17030 [13:12<1:40:16,  2.57pipeline/s]"
     ]
    },
    {
     "name": "stdout",
     "output_type": "stream",
     "text": [
      "Generation 12 - Current best internal CV score: 0.00023978487175866522\n"
     ]
    },
    {
     "name": "stderr",
     "output_type": "stream",
     "text": [
      "Optimization Progress:  10%|▉         | 1653/17030 [14:23<1:28:53,  2.88pipeline/s]"
     ]
    },
    {
     "name": "stdout",
     "output_type": "stream",
     "text": [
      "Generation 13 - Current best internal CV score: 0.00023978487175866522\n"
     ]
    },
    {
     "name": "stderr",
     "output_type": "stream",
     "text": [
      "Optimization Progress:  10%|█         | 1770/17030 [15:35<1:23:06,  3.06pipeline/s]"
     ]
    },
    {
     "name": "stdout",
     "output_type": "stream",
     "text": [
      "Generation 14 - Current best internal CV score: 0.00023978487175866522\n"
     ]
    },
    {
     "name": "stderr",
     "output_type": "stream",
     "text": [
      "Optimization Progress:  11%|█         | 1889/17030 [16:47<2:00:23,  2.10pipeline/s]"
     ]
    },
    {
     "name": "stdout",
     "output_type": "stream",
     "text": [
      "Generation 15 - Current best internal CV score: 0.00023978487175866522\n"
     ]
    },
    {
     "name": "stderr",
     "output_type": "stream",
     "text": [
      "Optimization Progress:  12%|█▏        | 2001/17030 [18:06<2:19:53,  1.79pipeline/s]"
     ]
    },
    {
     "name": "stdout",
     "output_type": "stream",
     "text": [
      "Generation 16 - Current best internal CV score: 0.00023978487175866522\n"
     ]
    },
    {
     "name": "stderr",
     "output_type": "stream",
     "text": [
      "Optimization Progress:  12%|█▏        | 2118/17030 [19:28<1:47:24,  2.31pipeline/s] "
     ]
    },
    {
     "name": "stdout",
     "output_type": "stream",
     "text": [
      "Generation 17 - Current best internal CV score: 0.00022541892436928195\n"
     ]
    },
    {
     "name": "stderr",
     "output_type": "stream",
     "text": [
      "Optimization Progress:  13%|█▎        | 2237/17030 [20:50<2:10:37,  1.89pipeline/s] "
     ]
    },
    {
     "name": "stdout",
     "output_type": "stream",
     "text": [
      "Generation 18 - Current best internal CV score: 0.00022541892436928195\n"
     ]
    },
    {
     "name": "stderr",
     "output_type": "stream",
     "text": [
      "Optimization Progress:  14%|█▍        | 2343/17030 [22:10<2:04:00,  1.97pipeline/s] "
     ]
    },
    {
     "name": "stdout",
     "output_type": "stream",
     "text": [
      "Generation 19 - Current best internal CV score: 0.00017918481276436583\n"
     ]
    },
    {
     "name": "stderr",
     "output_type": "stream",
     "text": [
      "Optimization Progress:  14%|█▍        | 2450/17030 [23:34<2:50:36,  1.42pipeline/s] "
     ]
    },
    {
     "name": "stdout",
     "output_type": "stream",
     "text": [
      "Generation 20 - Current best internal CV score: 0.00017918481276436583\n"
     ]
    },
    {
     "name": "stderr",
     "output_type": "stream",
     "text": [
      "Optimization Progress:  15%|█▍        | 2552/17030 [25:25<2:39:53,  1.51pipeline/s] "
     ]
    },
    {
     "name": "stdout",
     "output_type": "stream",
     "text": [
      "Generation 21 - Current best internal CV score: 0.00017918481276436583\n"
     ]
    },
    {
     "name": "stderr",
     "output_type": "stream",
     "text": [
      "Optimization Progress:  16%|█▌        | 2654/17030 [26:47<2:22:42,  1.68pipeline/s] "
     ]
    },
    {
     "name": "stdout",
     "output_type": "stream",
     "text": [
      "Generation 22 - Current best internal CV score: 0.00017918481276436583\n"
     ]
    },
    {
     "name": "stderr",
     "output_type": "stream",
     "text": [
      "Optimization Progress:  16%|█▌        | 2756/17030 [28:27<2:26:31,  1.62pipeline/s] "
     ]
    },
    {
     "name": "stdout",
     "output_type": "stream",
     "text": [
      "Generation 23 - Current best internal CV score: 0.00017918481276436583\n"
     ]
    },
    {
     "name": "stderr",
     "output_type": "stream",
     "text": [
      "Optimization Progress:  17%|█▋        | 2862/17030 [31:51<11:02:17,  2.80s/pipeline]"
     ]
    },
    {
     "name": "stdout",
     "output_type": "stream",
     "text": [
      "Generation 24 - Current best internal CV score: 0.00017918481276436583\n"
     ]
    },
    {
     "name": "stderr",
     "output_type": "stream",
     "text": [
      "Optimization Progress:  17%|█▋        | 2973/17030 [4:01:21<42:23:24, 10.86s/pipeline]   "
     ]
    },
    {
     "name": "stdout",
     "output_type": "stream",
     "text": [
      "Generation 25 - Current best internal CV score: 0.00017918481276436583\n"
     ]
    },
    {
     "name": "stderr",
     "output_type": "stream",
     "text": [
      "Optimization Progress:  18%|█▊        | 3076/17030 [4:02:44<3:22:03,  1.15pipeline/s] "
     ]
    },
    {
     "name": "stdout",
     "output_type": "stream",
     "text": [
      "Generation 26 - Current best internal CV score: 0.00017918481276436583\n"
     ]
    },
    {
     "name": "stderr",
     "output_type": "stream",
     "text": [
      "Optimization Progress:  19%|█▊        | 3181/17030 [4:04:11<3:06:37,  1.24pipeline/s] "
     ]
    },
    {
     "name": "stdout",
     "output_type": "stream",
     "text": [
      "Generation 27 - Current best internal CV score: 0.00017918481276436583\n"
     ]
    },
    {
     "name": "stderr",
     "output_type": "stream",
     "text": [
      "Optimization Progress:  19%|█▉        | 3286/17030 [4:05:43<2:06:54,  1.80pipeline/s] "
     ]
    },
    {
     "name": "stdout",
     "output_type": "stream",
     "text": [
      "Generation 28 - Current best internal CV score: 0.00017918481276436583\n"
     ]
    },
    {
     "name": "stderr",
     "output_type": "stream",
     "text": [
      "Optimization Progress:  20%|█▉        | 3393/17030 [4:07:26<2:22:08,  1.60pipeline/s] "
     ]
    },
    {
     "name": "stdout",
     "output_type": "stream",
     "text": [
      "Generation 29 - Current best internal CV score: 0.0001729987314003329\n"
     ]
    },
    {
     "name": "stderr",
     "output_type": "stream",
     "text": [
      "Optimization Progress:  20%|██        | 3490/17030 [4:08:46<2:09:13,  1.75pipeline/s] "
     ]
    },
    {
     "name": "stdout",
     "output_type": "stream",
     "text": [
      "Generation 30 - Current best internal CV score: 0.0001729987314003329\n"
     ]
    },
    {
     "name": "stderr",
     "output_type": "stream",
     "text": [
      "Optimization Progress:  21%|██        | 3583/17030 [4:10:29<3:09:01,  1.19pipeline/s] "
     ]
    },
    {
     "name": "stdout",
     "output_type": "stream",
     "text": [
      "Generation 31 - Current best internal CV score: 0.0001729987314003329\n"
     ]
    },
    {
     "name": "stderr",
     "output_type": "stream",
     "text": [
      "Optimization Progress:  22%|██▏       | 3671/17030 [4:11:41<4:30:11,  1.21s/pipeline] "
     ]
    },
    {
     "name": "stdout",
     "output_type": "stream",
     "text": [
      "Generation 32 - Current best internal CV score: 0.0001729987314003329\n"
     ]
    },
    {
     "name": "stderr",
     "output_type": "stream",
     "text": [
      "Optimization Progress:  22%|██▏       | 3771/17030 [4:13:30<2:53:36,  1.27pipeline/s] "
     ]
    },
    {
     "name": "stdout",
     "output_type": "stream",
     "text": [
      "Generation 33 - Current best internal CV score: 0.0001729987314003329\n"
     ]
    },
    {
     "name": "stderr",
     "output_type": "stream",
     "text": [
      "Optimization Progress:  23%|██▎       | 3862/17030 [4:14:50<2:07:37,  1.72pipeline/s] "
     ]
    },
    {
     "name": "stdout",
     "output_type": "stream",
     "text": [
      "Generation 34 - Current best internal CV score: 0.0001729987314003329\n"
     ]
    },
    {
     "name": "stderr",
     "output_type": "stream",
     "text": [
      "Optimization Progress:  23%|██▎       | 3956/17030 [4:16:25<2:30:46,  1.45pipeline/s] "
     ]
    },
    {
     "name": "stdout",
     "output_type": "stream",
     "text": [
      "Generation 35 - Current best internal CV score: 0.0001729987314003329\n"
     ]
    },
    {
     "name": "stderr",
     "output_type": "stream",
     "text": [
      "Optimization Progress:  24%|██▍       | 4048/17030 [4:17:59<2:46:33,  1.30pipeline/s] "
     ]
    },
    {
     "name": "stdout",
     "output_type": "stream",
     "text": [
      "Generation 36 - Current best internal CV score: 0.0001729987314003329\n"
     ]
    },
    {
     "name": "stderr",
     "output_type": "stream",
     "text": [
      "Optimization Progress:  24%|██▍       | 4141/17030 [4:19:45<2:47:49,  1.28pipeline/s] "
     ]
    },
    {
     "name": "stdout",
     "output_type": "stream",
     "text": [
      "Generation 37 - Current best internal CV score: 0.0001729987314003329\n"
     ]
    },
    {
     "name": "stderr",
     "output_type": "stream",
     "text": [
      "Optimization Progress:  25%|██▍       | 4229/17030 [4:21:59<2:54:36,  1.22pipeline/s] "
     ]
    },
    {
     "name": "stdout",
     "output_type": "stream",
     "text": [
      "Generation 38 - Current best internal CV score: 0.0001729987314003329\n"
     ]
    },
    {
     "name": "stderr",
     "output_type": "stream",
     "text": [
      "Optimization Progress:  25%|██▌       | 4319/17030 [4:23:26<2:54:28,  1.21pipeline/s] "
     ]
    },
    {
     "name": "stdout",
     "output_type": "stream",
     "text": [
      "Generation 39 - Current best internal CV score: 0.0001729987314003329\n"
     ]
    },
    {
     "name": "stderr",
     "output_type": "stream",
     "text": [
      "Optimization Progress:  26%|██▌       | 4408/17030 [4:25:16<2:29:36,  1.41pipeline/s] "
     ]
    },
    {
     "name": "stdout",
     "output_type": "stream",
     "text": [
      "Generation 40 - Current best internal CV score: 0.0001729987314003329\n"
     ]
    },
    {
     "name": "stderr",
     "output_type": "stream",
     "text": [
      "Optimization Progress:  26%|██▋       | 4497/17030 [4:26:51<3:06:41,  1.12pipeline/s] "
     ]
    },
    {
     "name": "stdout",
     "output_type": "stream",
     "text": [
      "Generation 41 - Current best internal CV score: 0.0001729987314003329\n"
     ]
    },
    {
     "name": "stderr",
     "output_type": "stream",
     "text": [
      "Optimization Progress:  27%|██▋       | 4592/17030 [4:29:18<2:08:43,  1.61pipeline/s]"
     ]
    },
    {
     "name": "stdout",
     "output_type": "stream",
     "text": [
      "Generation 42 - Current best internal CV score: 0.0001729987314003329\n"
     ]
    },
    {
     "name": "stderr",
     "output_type": "stream",
     "text": [
      "Optimization Progress:  28%|██▊       | 4685/17030 [4:31:14<2:33:43,  1.34pipeline/s]"
     ]
    },
    {
     "name": "stdout",
     "output_type": "stream",
     "text": [
      "Generation 43 - Current best internal CV score: 0.0001729987314003329\n"
     ]
    },
    {
     "name": "stderr",
     "output_type": "stream",
     "text": [
      "Optimization Progress:  28%|██▊       | 4773/17030 [4:32:48<3:08:41,  1.08pipeline/s] "
     ]
    },
    {
     "name": "stdout",
     "output_type": "stream",
     "text": [
      "Generation 44 - Current best internal CV score: 0.0001729987314003329\n"
     ]
    },
    {
     "name": "stderr",
     "output_type": "stream",
     "text": [
      "Optimization Progress:  29%|██▊       | 4860/17030 [4:34:36<3:06:48,  1.09pipeline/s] "
     ]
    },
    {
     "name": "stdout",
     "output_type": "stream",
     "text": [
      "Generation 45 - Current best internal CV score: 0.0001729987314003329\n"
     ]
    },
    {
     "name": "stderr",
     "output_type": "stream",
     "text": [
      "Optimization Progress:  29%|██▉       | 4950/17030 [4:36:11<2:32:29,  1.32pipeline/s] "
     ]
    },
    {
     "name": "stdout",
     "output_type": "stream",
     "text": [
      "Generation 46 - Current best internal CV score: 0.0001729987314003329\n"
     ]
    },
    {
     "name": "stderr",
     "output_type": "stream",
     "text": [
      "Optimization Progress:  30%|██▉       | 5040/17030 [4:37:44<2:43:41,  1.22pipeline/s] "
     ]
    },
    {
     "name": "stdout",
     "output_type": "stream",
     "text": [
      "Generation 47 - Current best internal CV score: 0.0001729987314003329\n"
     ]
    },
    {
     "name": "stderr",
     "output_type": "stream",
     "text": [
      "Optimization Progress:  30%|███       | 5137/17030 [4:39:35<2:09:31,  1.53pipeline/s]"
     ]
    },
    {
     "name": "stdout",
     "output_type": "stream",
     "text": [
      "Generation 48 - Current best internal CV score: 0.0001729987314003329\n"
     ]
    },
    {
     "name": "stderr",
     "output_type": "stream",
     "text": [
      "Optimization Progress:  31%|███       | 5231/17030 [4:41:28<3:09:58,  1.04pipeline/s] "
     ]
    },
    {
     "name": "stdout",
     "output_type": "stream",
     "text": [
      "Generation 49 - Current best internal CV score: 0.0001729987314003329\n"
     ]
    },
    {
     "name": "stderr",
     "output_type": "stream",
     "text": [
      "Optimization Progress:  31%|███       | 5317/17030 [4:43:24<3:01:15,  1.08pipeline/s] "
     ]
    },
    {
     "name": "stdout",
     "output_type": "stream",
     "text": [
      "Generation 50 - Current best internal CV score: 0.00013881674424089016\n"
     ]
    },
    {
     "name": "stderr",
     "output_type": "stream",
     "text": [
      "Optimization Progress:  32%|███▏      | 5410/17030 [4:45:31<3:38:52,  1.13s/pipeline] "
     ]
    },
    {
     "name": "stdout",
     "output_type": "stream",
     "text": [
      "Generation 51 - Current best internal CV score: 0.00013881674424089016\n"
     ]
    }
   ],
   "source": [
    "#1. Calculate Learning Curves for Derivatives\n",
    "\n",
    "#Pick number of strains so that the total number is equal to max tested strains...\n",
    "if data_type == 'simulated':\n",
    "    strains = tsdf.index.get_level_values(0).unique()\n",
    "    tsdf_max_strains = tsdf.loc[slice(strains[0],strains[max(strain_numbers)]),slice(None)]\n",
    "else:\n",
    "    tsdf_max_strains = tsdf\n",
    "\n",
    "average_training_score = 0\n",
    "n = 0\n",
    "for target_index in tsdf_max_strains.columns:\n",
    "    if target_index[0] == 'feature':\n",
    "        continue\n",
    "    n += 1\n",
    "    target = target_index[1]\n",
    "    print(target)\n",
    "\n",
    "\n",
    "    feature_indecies = [('feature', feature) for feature in specific_features[target]]\n",
    "    X = tsdf_max_strains[feature_indecies].values.tolist()\n",
    "    y = tsdf_max_strains[target_index].values.tolist()\n",
    "\n",
    "    #if fit_log_targets:\n",
    "    #    y = [math.log(val) for val in y]\n",
    "    \n",
    "    #print(X)\n",
    "    #print(y)\n",
    "    if model_str == 'tpot':\n",
    "        modelDict[target] = clone(mlmodel).fit(np.array(X),np.array(y)).fitted_pipeline_\n",
    "        try:\n",
    "            crossValPlot = plot_learning_curve(modelDict[target],target,X,y,cv=ShuffleSplit())\n",
    "        except:\n",
    "            pass\n",
    "    else:\n",
    "        modelDict[target] = clone(mlmodel)\n",
    "        crossValPlot = plot_learning_curve(modelDict[target],target,X,y,cv=ShuffleSplit())\n",
    "    \n",
    "    ax = plt.gca()\n",
    "    ax.set_ylim([-0.1, 1.1])\n",
    "    strip_target = ''.join([char for char in target if char != '/'])\n",
    "    print(strip_target)\n",
    "    crossValPlot.savefig('figures/' + strip_target + 'CrossValPlot.pdf',transparent=False)\n",
    "    plt.show()\n",
    "    \n",
    "    #Save out Cross Validation Plot\n",
    "    \n",
    "    modelDict[target] = modelDict[target].fit(X,y)\n",
    "    average_training_score +=  modelDict[target].score(X,y)\n",
    "    #print(modelDict[target_name].predict([reduced_features[2]]))\n",
    "    \n",
    "average_training_score /= n\n",
    "print('Average Training Score:',average_training_score,'n:',n)"
   ]
  },
  {
   "cell_type": "code",
   "execution_count": null,
   "metadata": {
    "scrolled": false
   },
   "outputs": [],
   "source": [
    "#2. Calculate Error Distribution and Plot + Report Moments\n",
    "ts_test_df = generateTSDataSet(test_df,features,targets)\n",
    "display(ts_test_df)\n",
    "errors = []\n",
    "for target in modelDict:\n",
    "    times,y_test = remove_NaN(ts_test_df.reset_index()['Time (h)'].values,ts_test_df[('target',target)].values)\n",
    "    \n",
    "    feature_list = [('feature',feature) for feature in specific_features[target]]\n",
    "    target_df = ts_test_df[feature_list]\n",
    "    target_df = target_df[ts_test_df.index.get_level_values('Time (h)').isin(times)]\n",
    "    \n",
    "    #Check to make sure there are no NaNs in each feature\n",
    "    for feature in target_df.columns:\n",
    "        if any([math.isnan(val) for val in target_df[feature].values]):\n",
    "            X,y = remove_NaN(target_df.reset_index()['Time'].values,target_df[feature].values)\n",
    "            fnc = interp1d(X,y)\n",
    "        index = 0\n",
    "        for time,val in zip(times,target_df[feature].values):\n",
    "            if math.isnan(val):\n",
    "                #print(feature,time,fnc(time))\n",
    "                target_df[feature].iloc[index] = fnc(time)\n",
    "            index += 1\n",
    "    #display(target_df)\n",
    "    \n",
    "    y_prediction = modelDict[target].predict(target_df.values)\n",
    "    \n",
    "    #print(y_prediction)\n",
    "    #print(y_test)\n",
    "    log_error = [math.log(max(y_p,0.0001)) - math.log(max(y_t,0.0001)) for y_p,y_t in zip(y_prediction,y_test)]\n",
    "    error = [y_p - y_t for y_p,y_t in zip(y_prediction,y_test)]\n",
    "    errors.append(error)\n",
    "    \n",
    "    mu = np.mean(error)\n",
    "    sigma = np.std(error)\n",
    "    print(target,'Mean Error:',mu,'Error Standard Deviation:',sigma)\n",
    "    \n",
    "    plt.figure(figsize=(13,4))\n",
    "    plt.subplot(121)\n",
    "    sns.distplot(error)\n",
    "    plt.title(target + ' Derivative '+ 'Error Residual Histagram')\n",
    "    plt.xlabel('Derivative Residual Error')\n",
    "    plt.ylabel('Probability Density')\n",
    "    \n",
    "    plt.subplot(122)\n",
    "    plot_model_fit(target,y_prediction,y_test)\n",
    "    \n",
    "    strip_target = ''.join([char for char in target if char != '/'])\n",
    "    plt.savefig('figures/' + strip_target + 'ErrorResiduals.pdf')\n",
    "    plt.show()\n",
    "    \n",
    "    #modelDict[target].predict()\n",
    "\n",
    "#Compute Net Error Magnitude\n",
    "error_magnitude = [0]*len(errors[0])\n",
    "for error in errors:\n",
    "    error_magnitude = [em + e**2 for em,e in zip(error_magnitude,error)]\n",
    "error_magnitude = [math.sqrt(e) for e in error_magnitude]\n",
    "mu = np.mean(error_magnitude)\n",
    "sigma = np.std(error_magnitude)\n",
    "print('Total Derivative','Mean Error:',mu,'Error Standard Deviation:',sigma)\n",
    "    \n",
    "sns.distplot(error_magnitude)\n",
    "plt.title('Total Derivative Error Risidual Histagram')\n",
    "plt.show()"
   ]
  },
  {
   "cell_type": "code",
   "execution_count": null,
   "metadata": {
    "collapsed": true
   },
   "outputs": [],
   "source": [
    "# If Experimental Limonene Results show that the Hand created \n",
    "# Kinetic Model Does not fit as well as the machine learning model\n",
    "\n",
    "def proteomicsData(t,k):\n",
    "    e = []\n",
    "    for i in range(int(len(k)/3)):\n",
    "        #Sorting the gains to ensure proteins only increase\n",
    "        gains = sorted(k[3*i:3*(i+1)],reverse=True)\n",
    "        e.append(leaky_hill_fcn(t,*gains)) \n",
    "    return e\n",
    "\n",
    "\n",
    "def kinetic_model(e1,e2,e3,e4,e5,e6,e7,e8,e9,\n",
    "                  s1,s2,s3,s4,s5,s6,s7,s8,s9,s10,\n",
    "                  k11,k12,k13,k21,k22,k23,k24,k31,k32,k33,k34,k35,\n",
    "                  k41,k42,k43,k44,k45,k51,k52,k61,k62,k63,k64,k65,\n",
    "                  k71,k72,k81,k82,k83,k84,k91,k92,Vin,ks3):\n",
    "    r1 = Vin - (k11*e1*s1)/(k12 + k13*s1) - k21*e2*s1*s2*ks3 / (k22*s2 + k23*s1 + k24*s1*s2)\n",
    "    r2 = (k11*e1*s1)/(k12 + k13*s1) - k21*e2*s1*s2*ks3 / (k22*s2 + k23*s1 + k24*s1*s2)\n",
    "    r3 = k21*e2*s1*s2*ks3 / (k22*s2 + k23*s1 + k24*s1*s2) - k31*e3*s3 / (k32*s1 + k33*s2 + k34*s3 + k35)\n",
    "    r4 = k31*e3*s3 / (k32*s1 + k33*s2 + k34*s3 + k35) - k41*e4*s4 / (k42*s9 + k43*s5 + k44*s4 + k45)\n",
    "    r5 = k41*e4*s4 / (k42*s9 + k43*s5 + k44*s4 + k45) - k51*e5*s5 / (k52 + s5)\n",
    "    r6 = k51*e5*s5 / (k52 + s5) - k61*e6*s6 / (k62*s5 + k63*s4 + k64*s6 + k65)\n",
    "    r7 = k61*e6*s6 / (k62*s5 + k63*s4 + k64*s6 + k65) - k71*e7*s7 / (k72 + s7) - k81*e8*s7*s8 / (k82 + k83*s7 + k84*s8 + s7*s8)\n",
    "    r8 = k71*e7*s7 / (k72 + s7) - k81*e8*s7*s8 / (k82 + k83*s7 + k84*s8 + s7*s8)\n",
    "    r9 = k81*e8*s7*s8 / (k82 + k83*s7 + k84*s8 + s7*s8) - k91*e9*s9 / (k92 + s9)\n",
    "    r10 = k91*e9*s9 / (k92 + s9)\n",
    "    return [r1,r2,r3,r4,r5,r6,r7,r8,r9,r10]\n",
    "    \n",
    "def solve_kinetic_ode(f,y0,times,k_fit):\n",
    "    sol = 1\n",
    "    return sol\n",
    "\n",
    "measured_substrates = ['Acetyl-CoA (uM)', 'HMG-CoA (uM)', 'Intracellular Mevalonate (uM)', 'Mev-P (uM)', 'IPP/DMAPP (uM)', 'Limonene g/L']\n",
    "measured_enzymes = ['AtoB', 'HMGS', 'HMGR', 'MK', 'PMK', 'PMD', 'Limonene Synthase']\n",
    "x_features = [('feature',val) for val in measured_enzymes+measured_substrates]\n",
    "y_targets = [('target',val) for val in measured_substrates]\n",
    "\n",
    "#print(x_features)\n",
    "#print(y_targets)\n",
    "\n",
    "if data_type == 'experimental' and  pathway == 'limonene':\n",
    "    [('feature', feature) for feature in specific_features[target]]\n",
    "    X = tsdf_max_strains[x_features].values.tolist()\n",
    "    y = tsdf_max_strains[y_targets].values.tolist()\n",
    "    \n",
    "    #Solve for Kinetic Coefficients from Training Set\n",
    "    def cost_fcn_gen(X,y):\n",
    "        def cost_fcn(free_params):\n",
    "            cost = 0\n",
    "            for x_val,y_vals in zip(X,y):\n",
    "                params = []\n",
    "                params.extend(x_val[0:6])       # AtoB to PMD Values\n",
    "                params.extend(free_params[0:2]) # Keep Constant GPPS and IDI levels as free parameters\n",
    "                params.extend(x_val[6:8])       # LS and Acetyl-CoA\n",
    "                params.append(free_params[2])   # AcetoAcetyl-CoA as a free Param\n",
    "                params.extend(x_val[8:11])      # HMG-CoA & Mev & MevP measured\n",
    "                params.append(free_params[3])   #MevPP \n",
    "                params.extend([x_val[11],x_val[11]]) #DMAPP & IDI Measured\n",
    "                params.extend([free_params[4],x_val[12]]) #GPP as a Free Parameter #Measured Limonene Synthase\n",
    "                params.extend(free_params[5:])  # Remaining Kinetic Free Parameters\n",
    "                \n",
    "                mp = kinetic_model(*params)\n",
    "                prediction = [mp[0],mp[2],mp[3],mp[4],mp[6]+mp[7],mp[9]]\n",
    "                cost += sum([(fx_val - y_val)**2  for fx_val,y_val in zip(prediction,y_vals)])\n",
    "            return cost\n",
    "        return cost_fcn\n",
    "\n",
    "    cost_fcn = cost_fcn_gen(X,y)\n",
    "    \n",
    "    #Call to check its working (num free params = 39)\n",
    "    print(cost_fcn([1,]*39))\n",
    "    \n",
    "    #Solve For Optimal Parameters\n",
    "    bounds = [(1*10**-12,10**9)]*39\n",
    "    sol = differential_evolution(cost_fcn,bounds,disp=True,maxiter=10000)\n",
    "    best_params = sol.x\n",
    "    print(best_params)"
   ]
  },
  {
   "cell_type": "code",
   "execution_count": null,
   "metadata": {
    "collapsed": true
   },
   "outputs": [],
   "source": [
    "import statistics\n",
    "\n",
    "def plot_species_curves(modelDict, title, df, targets, specific_features, ylim=None, cv=None,\n",
    "                        n_jobs=1, train_sizes=np.linspace(.1, 1.0, 3),training_sets=5):\n",
    "    \"\"\"\n",
    "    Generate a simple plot of the test and training learning curve. Returns Metrics for each predicted curve\n",
    "\n",
    "    Parameters\n",
    "    ----------\n",
    "    estimator : object type that implements the \"fit\" and \"predict\" methods\n",
    "        An object of that type which is cloned for each validation.\n",
    "\n",
    "    title : string\n",
    "        Title for the chart.\n",
    "\n",
    "    X : array-like, shape (n_samples, n_features)\n",
    "        Training vector, where n_samples is the number of samples and\n",
    "        n_features is the number of features.\n",
    "\n",
    "    y : array-like, shape (n_samples) or (n_samples, n_features), optional\n",
    "        Target relative to X for classification or regression;\n",
    "        None for unsupervised learning.\n",
    "\n",
    "    ylim : tuple, shape (ymin, ymax), optional\n",
    "        Defines minimum and maximum yvalues plotted.\n",
    "\n",
    "    cv : int, cross-validation generator or an iterable, optional\n",
    "        Determines the cross-validation splitting strategy.\n",
    "        Possible inputs for cv are:\n",
    "          - None, to use the default 3-fold cross-validation,\n",
    "          - integer, to specify the number of folds.\n",
    "          - An object to be used as a cross-validation generator.\n",
    "          - An iterable yielding train/test splits.\n",
    "\n",
    "        For integer/None inputs, if ``y`` is binary or multiclass,\n",
    "        :class:`StratifiedKFold` used. If the estimator is not a classifier\n",
    "        or if ``y`` is neither binary nor multiclass, :class:`KFold` is used.\n",
    "\n",
    "        Refer :ref:`User Guide <cross_validation>` for the various\n",
    "        cross-validators that can be used here.\n",
    "\n",
    "    n_jobs : integer, optional\n",
    "        Number of jobs to run in parallel (default 1).\n",
    "    \"\"\"\n",
    "    \n",
    "    #Set Random Seed For training\n",
    "    seed = 103\n",
    "    random.seed(seed)\n",
    "    \n",
    "    #Create figure / plots\n",
    "    fig = plt.figure(figsize=(12,16))\n",
    "    #fig.set_title(title)\n",
    "    #if ylim is not None:\n",
    "    #    plt.ylim(*ylim)\n",
    "    \n",
    "    #Create subplots for each target\n",
    "    ax = {}\n",
    "    for i,target in enumerate(targets):\n",
    "        ax[target] = plt.subplot(int(len(targets)/2), 2, i+1)\n",
    "    \n",
    "    #Get Randomized List of all Strains\n",
    "    strains = df.index.get_level_values(0).unique()\n",
    "    strains = list(strains.values)\n",
    "    #print(strains)\n",
    "    strains = random.sample(strains, len(strains))\n",
    "    \n",
    "    #Pick test strain\n",
    "    test_df = df.loc[(slice(strains[0],strains[0]),slice(None)),:]\n",
    "    strains = strains[1:]\n",
    "    \n",
    "    #Create Interpolation functions for each feature in the test strain\n",
    "    interpFun = {}\n",
    "    #display(test_df.reset_index())\n",
    "    for feature in df.columns:\n",
    "        X,y = remove_NaN(test_df.reset_index()['Time (h)'].tolist(),test_df[feature].tolist())\n",
    "        if isinstance(feature,tuple):\n",
    "            if feature[0] == 'feature':\n",
    "                feature = feature[1]\n",
    "            else:\n",
    "                continue\n",
    "\n",
    "        interpFun[feature] = interp1d(X,y)  \n",
    "\n",
    "    train_sizes = [int(len(strains)*size/training_sets)-1 for size in train_sizes]\n",
    "    for i,size in enumerate(train_sizes):\n",
    "        if size < 2:\n",
    "            train_sizes[i] = 2\n",
    "            \n",
    "    #Create Fits for each training set\n",
    "    fits = {}\n",
    "    for training_set in range(training_sets):        \n",
    "        fits[training_set] = {}\n",
    "\n",
    "        #Generate training strain data for this training set\n",
    "        training_strains = strains[0:(train_sizes[-1] + 1)]\n",
    "        #print(training_strains)\n",
    "        strains = strains[train_sizes[-1]:]\n",
    "        endSamples = train_sizes\n",
    "        #print('Strains:',strains)\n",
    "        #print('End Samples',endSamples)\n",
    "        sample_sets = [df.loc[(training_strains[0:endSample],slice(None)),:] for endSample in endSamples]\n",
    "\n",
    "        #For each set size in the training set fit the model and store it\n",
    "        for j,sample_set in enumerate(sample_sets):\n",
    "            \n",
    "            #print('Sample Set:',sample_set.index.get_level_values(0).unique().values)\n",
    "            \n",
    "            # Train Model\n",
    "            print('Training Models for Training Set',training_set,'In Sample set',j)\n",
    "            for target in targets:\n",
    "                feature_indecies = [('feature', feature) for feature in specific_features[target]]\n",
    "                X = sample_set[feature_indecies].values.tolist()\n",
    "\n",
    "                #print(feature_indecies)\n",
    "                #display(sample_set[feature_indecies])\n",
    "                target_index = ('target',target)\n",
    "                y = sample_set[target_index].values.tolist()\n",
    "                modelDict[target].fit(X,y)\n",
    "\n",
    "            print('Integrating ODEs!')\n",
    "            # Integrate Given Model Test Case\n",
    "            g = mlode(modelDict, test_df, targets, specific_features)\n",
    "            times = test_df.reset_index()['Time (h)'].tolist()\n",
    "\n",
    "            #Set Y0 initial condition\n",
    "            appended_targets = [('feature',target) for target in targets]\n",
    "            #display(test_df)\n",
    "            #display(test_df[appended_targets].iloc[0])\n",
    "            y0 = test_df[appended_targets].iloc[0].tolist()\n",
    "\n",
    "            #print('times:',times)\n",
    "            fit  = odeintz(g,y0,times)\n",
    "            fitT = list(map(list, zip(*fit)))\n",
    "            fits[training_set][train_sizes[j]] = fitT\n",
    "\n",
    "    \n",
    "    #Perform Statistics on Fits and generate plots\n",
    "    colors = ['b','g','k','y','m']\n",
    "    predictions = {}\n",
    "    lines =[]\n",
    "    labels = []\n",
    "    for k,target in enumerate(targets):\n",
    "        actual_data = [interpFun[target](t) for t in times]\n",
    "        predictions[target] = {'actual':actual_data}\n",
    "        predictions['Time'] = times\n",
    "        if k == 0:\n",
    "            lines.append(ax[target].plot(times,actual_data,'--', color='r')[0])\n",
    "            labels.append('Actual Dynamics')\n",
    "        else:\n",
    "            ax[target].plot(times,actual_data,'--', color='r')\n",
    "        ax[target].set_title(target)\n",
    "        \n",
    "        for j in range(len(sample_sets)):\n",
    "            upper = []\n",
    "            lower = []\n",
    "            aves = []\n",
    "            \n",
    "            predictions[target][train_sizes[j]] = []\n",
    "            for training_set in range(training_sets):\n",
    "                predictions[target][train_sizes[j]].append(fits[training_set][train_sizes[j]][k])\n",
    "            \n",
    "            for i,time in enumerate(times):\n",
    "                \n",
    "                values = []\n",
    "                for training_set in range(training_sets):\n",
    "                    #print(training_set,train_sizes[j],i)\n",
    "                    values.append(fits[training_set][train_sizes[j]][k][i])\n",
    "\n",
    "                #Compute Statistics of Values\n",
    "                #print(values)\n",
    "                ave = statistics.mean(values)\n",
    "                std = statistics.stdev(values)\n",
    "                aves += [ave,]\n",
    "                upper += [ave + std,]\n",
    "                lower += [ave - std,]\n",
    "                \n",
    "                #print(upper)\n",
    "                #print(times)\n",
    "                \n",
    "            #Compute upper and lower bounds for shading\n",
    "            ax[target].fill_between(times, lower,upper, alpha=0.1, color=colors[j])\n",
    "            if k == 0:\n",
    "                lines.append(ax[target].plot(times,aves,colors[j])[0])\n",
    "                labels.append(str(train_sizes[j]) + ' Strain Prediction')\n",
    "            else:\n",
    "                ax[target].plot(times,aves,colors[j])\n",
    "            print(colors[j],train_sizes[j])\n",
    "        plt.figlegend( lines, labels, loc = 'lower center', ncol=5, labelspacing=0. )       \n",
    "\n",
    "    return predictions"
   ]
  },
  {
   "cell_type": "code",
   "execution_count": null,
   "metadata": {
    "scrolled": false
   },
   "outputs": [],
   "source": [
    "#3. Plot Comparison between Actual and Predicted Results\n",
    "if data_type == 'simulated':\n",
    "    real_vs_predicted = plot_species_curves(modelDict, 'title', tsdf, targets, specific_features,train_sizes=train_sizes,training_sets=training_sets)\n",
    "    plt.savefig('figures/MainFigure.pdf')\n",
    "    \n",
    "    \n",
    "elif data_type == 'experimental':\n",
    "    #Fit each test strain by solving the differential equation\n",
    "\n",
    "    #Select Random Time Series\n",
    "    #test_df = df\n",
    "    #display(test_df)\n",
    "    strains = test_df.index.get_level_values(0).unique()\n",
    "    #print(strains)\n",
    "\n",
    "    random_strain = random.sample(tuple(strains), 1)\n",
    "    #print(random_strain)\n",
    "\n",
    "    random_strain = list(random_strain)[0]\n",
    "    #random_strain = 180\n",
    "    random_df = test_df.loc[(slice(random_strain,random_strain),slice(None)),:]\n",
    "    #print('The Chosen Random Strain is:', random_strain)\n",
    "\n",
    "    #Set Y0 initial condition\n",
    "    y0 = random_df[targets].iloc[0].tolist()\n",
    "    print('y0',y0)\n",
    "    \n",
    "    #Create Differential Equation to Solve\n",
    "    #print('Creating Differential Equation!')\n",
    "    if featureReduction:\n",
    "        target_features = [header[1:]]*len(targets[0])\n",
    "        g = mlode(modelDict, random_df, targets, specific_features)\n",
    "    else:\n",
    "        g = mlode(modelDict, random_df, targets, specific_features,time_index='Time')\n",
    "\n",
    "    #Solve Differential Equation numerically using a runge-kutta 4,5 implementation\n",
    "    #print('Solving Differential Equation')\n",
    "    times = random_df.reset_index()['Time'].tolist()\n",
    "    fit = odeintz(g,y0,times)\n",
    "    fitT = list(map(list, zip(*fit)))\n",
    "    \n",
    "    \n",
    "    #Create Interpolation functions for each feature\n",
    "    interpFun = {}\n",
    "    for feature in random_df.columns:\n",
    "        X,y = remove_NaN(random_df.reset_index()['Time'].tolist(),random_df[feature].tolist())\n",
    "        interpFun[feature] = interp1d(X,y)\n",
    "\n",
    "        \n",
    "    if pathway == 'limonene':\n",
    "        #print(random_df.columns)\n",
    "        proteins = ['AtoB', 'HMGR', 'HMGS', 'MK', 'PMD', 'PMK','Limonene Synthase']\n",
    "        protein_fcns= []\n",
    "        for feature in random_df.columns:\n",
    "            X,y = remove_NaN(random_df.reset_index()['Time'].tolist(),random_df[feature].tolist())\n",
    "            protein_fcns.append(interp1d(X,y))\n",
    "        \n",
    "        #Generate Fit Kinetic Model ODE\n",
    "        def kinetic_ode(x,t,proteomic_fcns):\n",
    "            \n",
    "            #proteomics \n",
    "            proteomic_data = [proteomic_fcn(t) for proteomic_fcn in proteomic_fcns]\n",
    "\n",
    "            params = []\n",
    "            params.extend(proteomic_data[0:6]) # AtoB to PMD Values\n",
    "            params.extend(best_params[0:2])     # Keep Constant GPPS and IDI levels as free parameters\n",
    "            params.append(proteomic_data[6])   # \n",
    "            params.append(x[0])                #Acetyl-CoA\n",
    "            params.append(best_params[2])       # AcetoAcetyl-CoA as a free Param\n",
    "            params.extend(x[1:4])               # HMG-CoA & Mev & MevP measured\n",
    "            params.append(best_params[3])       # MevPP \n",
    "            params.extend([x[4],x[4]])          # DMAPP & IDI Measured\n",
    "            params.extend([best_params[4],x[5]]) # GPP as a Free Parameter #Measured Limonene Synthase\n",
    "            params.extend(best_params[5:])      # Remaining Kinetic Free Parameters\n",
    "            \n",
    "            \n",
    "            dxdt = kinetic_model(*params)\n",
    "            dxdt_combined = [dxdt[0],dxdt[2],dxdt[3],dxdt[4],dxdt[6]+dxdt[7],dxdt[9]]\n",
    "            return dxdt_combined\n",
    "        \n",
    "        for protein in proteins:\n",
    "            protein_fcns.append(interpFun[protein])\n",
    "        \n",
    "        #Solve Kinetic ODE at initial Conditions\n",
    "        kinetic_ode_p = lambda x,t : kinetic_ode(x,t,protein_fcns)\n",
    "        kinetic_fit = odeintz(kinetic_ode_p,y0,times)\n",
    "        kinetic_fit = list(map(list, zip(*kinetic_fit)))\n",
    "        \n",
    "    real_vs_predicted = {}\n",
    "    plt.figure(figsize=(12,8))\n",
    "    for i,target in enumerate(targets):\n",
    "        plt.subplot(2,3,i+1)\n",
    "        if data_type == 'experimental':\n",
    "            #Plot both High and Low Strain values\n",
    "            for strain in training_strains:\n",
    "                strainInterpFun = {}\n",
    "                strain_df = df.loc[(strain,slice(None))]\n",
    "                X,y = remove_NaN(strain_df.reset_index()['Time'].tolist(),strain_df[target].tolist())\n",
    "                strainInterpFun[target] = interp1d(X,y)\n",
    "                actual_data = [strainInterpFun[target](t) for t in times]\n",
    "                train_line, = plt.plot(times,actual_data,'r--')\n",
    "            \n",
    "            #Plot Kinetic Model Fit\n",
    "            if pathway =='limonene':\n",
    "                kinetic_pred = [max(kinetic_fit[i][j],0) for j,t in enumerate(times)]\n",
    "                kinetic_line, = plt.plot(times,kinetic_pred,color='k')\n",
    "\n",
    "        actual_data = [interpFun[target](t) for t in times]\n",
    "        pos_pred = [max(fitT[i][j],0) for j,t in enumerate(times)]\n",
    "        prediction_line, = plt.plot(times,pos_pred)\n",
    "        #print(actual_data)\n",
    "        test_line, = plt.plot(times,actual_data,'g--')\n",
    "        plt.ylabel(target)\n",
    "        plt.xlabel('Time [h]')\n",
    "        plt.xlim([0,72])\n",
    "        \n",
    "        if i == 5 and pathway == 'limonene':\n",
    "            plt.ylim([0,0.6])\n",
    "        \n",
    "        #Create variable for processing error residuals\n",
    "        if pathway == 'limonene':\n",
    "            real_vs_predicted[target] = [times,actual_data,pos_pred,kinetic_pred]\n",
    "        else:\n",
    "            real_vs_predicted[target] = [times,actual_data,pos_pred]\n",
    "    #Add Legend\n",
    "    if set_num==2:\n",
    "        product = 'Isopentenol'\n",
    "    elif set_num==3:\n",
    "        product = 'Limonene'\n",
    "    \n",
    "    plt.tight_layout()\n",
    "    plt.subplots_adjust(top=0.90)\n",
    "    plt.subplots_adjust(bottom=0.12)\n",
    "    plt.suptitle('Prediction of ' + product + ' Strain Dynamics', fontsize=18)\n",
    "    if pathway == 'limonene':\n",
    "        plt.figlegend( (train_line,test_line,prediction_line,kinetic_line), ('Training Set Data','Test Data','Machine Learning Model Prediction','Kinetic Model Prediction'), loc = 'lower center', ncol=5, labelspacing=0. )  \n",
    "    else:\n",
    "        plt.figlegend( (train_line,test_line,prediction_line), ('Training Set Data','Test Data','Machine Learning Model Prediction'), loc = 'lower center', ncol=5, labelspacing=0. ) \n",
    "    plt.savefig('data/' + product + '_prediction.eps', format='eps', dpi=600)\n",
    "    plt.show()"
   ]
  },
  {
   "cell_type": "code",
   "execution_count": null,
   "metadata": {},
   "outputs": [],
   "source": [
    "#4. Error Residuals of Time Series Data + Key Moments Report\n",
    "\n",
    "#Not Quite Right... Need to Integrate over the \n",
    "if data_type == 'experimental':\n",
    "    #print(real_vs_predicted)\n",
    "\n",
    "    rmse_percent = []\n",
    "    rmse_average = []\n",
    "    rmse_percent_k = []\n",
    "    rmse_average_k = []\n",
    "    for metabolite in real_vs_predicted:\n",
    "        if pathway == 'limonene':\n",
    "            times,real,predicted,kinetic = real_vs_predicted[metabolite]\n",
    "        else:\n",
    "            times,real,predicted = real_vs_predicted[metabolite]\n",
    "        real_fcn = interp1d(times,real)\n",
    "        pred_fcn = interp1d(times,predicted)\n",
    "\n",
    "        integrand = lambda t: (real_fcn(t) - pred_fcn(t))**2\n",
    "        rmse = math.sqrt(quad(integrand,min(times),max(times))[0])\n",
    "        rmse_average.append(rmse)\n",
    "        percent_integrand = lambda t: abs(real_fcn(t) - pred_fcn(t))/(real_fcn(t)*max(times))\n",
    "        #print(metabolite,[percent_integrand(t) for t in times],[real_fcn(t) for t in times],[pred_fcn(t) for t in times])\n",
    "        \n",
    "        rmsep = math.sqrt(quad(percent_integrand,min(times),max(times))[0])\n",
    "        rmse_percent.append(rmsep)\n",
    "        print('ML Fit:',metabolite,rmse,'RMSE percent:',rmsep*100)\n",
    "        \n",
    "        if pathway == 'limonene':\n",
    "            kinetic_fcn = interp1d(times,kinetic)\n",
    "            integrand = lambda t: (real_fcn(t) - kinetic_fcn(t))**2\n",
    "            rmsek = math.sqrt(quad(integrand,min(times),max(times))[0])\n",
    "            percent_integrand = lambda t: abs(real_fcn(t) - kinetic_fcn(t))/(real_fcn(t)*max(times))\n",
    "            rmsepk = math.sqrt(quad(percent_integrand,min(times),max(times))[0])\n",
    "            rmse_percent_k.append(rmsepk)\n",
    "            rmse_average_k.append(rmsek)\n",
    "            print('Kinetic Fit:',metabolite,rmsek,'RMSE percent:',rmsepk*100)\n",
    "    \n",
    "    print('')\n",
    "    print('Machine Learning Model Agrigate Error')\n",
    "    print('Average RMSE:',sum(rmse_average)/len(rmse_average))\n",
    "    print('Total Percent Error:',sum(rmse_percent)/len(rmse_percent)*100)\n",
    "\n",
    "    if pathway == 'limonene':\n",
    "        print('')\n",
    "        print('Kinetic Model Agrigate Error')\n",
    "        print('Average RMSE:',sum(rmse_average_k)/len(rmse_average_k))\n",
    "        print('Total Percent Error:',sum(rmse_percent_k)/len(rmse_percent_k)*100)\n",
    "        \n",
    "elif data_type == 'simulated':\n",
    "    times = real_vs_predicted['Time']\n",
    "    rmse_dict = {}\n",
    "    for metabolite in real_vs_predicted:\n",
    "        if metabolite not in ['Time',]:\n",
    "            actual = real_vs_predicted[metabolite]['actual']\n",
    "            real_fcn = interp1d(times,actual)\n",
    "            rmse_dict[metabolite] = {}\n",
    "            for test_size in real_vs_predicted[metabolite]:\n",
    "                print(metabolite,'Test Size:',test_size)\n",
    "                total_rmse = []\n",
    "                if test_size not in ['Time','actual']:\n",
    "                    #For Each Test Size Produce Values + Moments Reporting...\n",
    "                    rmse = []\n",
    "                    for test_strain in enumerate(real_vs_predicted[metabolite][test_size]):\n",
    "                        #print(test_strain)\n",
    "                        pred_fcn = interp1d(times,test_strain[1])\n",
    "                        integrand = lambda t: (real_fcn(t) - pred_fcn(t))**2\n",
    "                        rmse.append(math.sqrt(quad(integrand,min(times),max(times))[0]))\n",
    "                        \n",
    "                    #Report Moments for each Test Size\n",
    "                    rmse_dict[metabolite][test_size] = rmse\n",
    "                    print('Mean RMSE:',np.mean(rmse),'Standard Deviation RMSE:',np.std(rmse))\n",
    "                    print('RMSEs:',rmse)\n",
    "                    print('')\n",
    "                    \n",
    "\n",
    "    #Calculate Mean Total Error + Mean Standard Deviation for Composite Error\n",
    "    size_dict = {}\n",
    "    for metabolite in rmse_dict:\n",
    "        for test_size in rmse_dict[metabolite]:\n",
    "            size_dict[test_size] = [0]*len(rmse_dict[metabolite][test_size])\n",
    "            size_dict[test_size] = [s + r for s,r in zip(rmse_dict[metabolite][test_size],size_dict[test_size])]\n",
    "\n",
    "    #Print out Agrigate Statistics\n",
    "    for test_size in size_dict:\n",
    "        rmse = size_dict[test_size]\n",
    "        print('Test Size for Agrigate Statistics:',test_size)\n",
    "        print('Mean RMSE:',np.mean(rmse),'Standard Deviation RMSE:',np.std(rmse))\n",
    "        print('RMSEs:',rmse)\n",
    "        print('')\n",
    "        \n",
    "        \n",
    "    "
   ]
  },
  {
   "cell_type": "code",
   "execution_count": null,
   "metadata": {},
   "outputs": [],
   "source": [
    "if data_type == 'simulated':\n",
    "    \n",
    "    \n",
    "    #Plot Agrigate Statistics in the form of a bar graph...\n",
    "    sizes = list(size_dict.keys())\n",
    "    means = [np.mean(size_dict[size]) for size in sizes]\n",
    "    stdevs = [np.std(size_dict[size]) for size in sizes]\n",
    "    y_pos = np.arange(len(sizes))\n",
    "\n",
    "    #Calculate Percent Errors              \n",
    "    #for size in sizes:\n",
    "    #    for training_set in training_sets:\n",
    "    #        percent_integrand = lambda t: abs(real_fcn(t) - kinetic_fcn(t))/(real_fcn(t)*max(times))\n",
    "    \n",
    "    \n",
    "    plt.bar(y_pos, means, align='center',yerr=stdevs)\n",
    "    plt.xticks(y_pos, sizes)\n",
    "    plt.ylabel('RMSE')\n",
    "    plt.xlabel('Training Set Size')\n",
    "    plt.title('RMSE vs Training Set Size')\n",
    "    plt.savefig('figures/RMSEvsSize.pdf')\n",
    "    \n",
    "    plt.show()"
   ]
  },
  {
   "cell_type": "code",
   "execution_count": null,
   "metadata": {
    "collapsed": true
   },
   "outputs": [],
   "source": []
  }
 ],
 "metadata": {
  "kernelspec": {
   "display_name": "Python 3",
   "language": "python",
   "name": "python3"
  },
  "language_info": {
   "codemirror_mode": {
    "name": "ipython",
    "version": 3
   },
   "file_extension": ".py",
   "mimetype": "text/x-python",
   "name": "python",
   "nbconvert_exporter": "python",
   "pygments_lexer": "ipython3",
   "version": "3.6.1"
  }
 },
 "nbformat": 4,
 "nbformat_minor": 2
}
